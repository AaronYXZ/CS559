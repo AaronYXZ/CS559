{
 "cells": [
  {
   "cell_type": "code",
   "execution_count": 26,
   "metadata": {
    "collapsed": true
   },
   "outputs": [],
   "source": [
    "import numpy as np\n",
    "import pandas as pd\n",
    "import scipy\n",
    "import sklearn"
   ]
  },
  {
   "cell_type": "code",
   "execution_count": 89,
   "metadata": {
    "collapsed": false
   },
   "outputs": [],
   "source": [
    "import warnings\n",
    "warnings.filterwarnings('ignore')"
   ]
  },
  {
   "cell_type": "markdown",
   "metadata": {},
   "source": [
    "## Read in data"
   ]
  },
  {
   "cell_type": "code",
   "execution_count": 231,
   "metadata": {
    "collapsed": true
   },
   "outputs": [],
   "source": [
    "train = pd.read_csv('../Data/data_NESARC_tr.csv', header = None)\n",
    "train.columns = [indices['indices'].values.tolist()]"
   ]
  },
  {
   "cell_type": "code",
   "execution_count": 232,
   "metadata": {
    "collapsed": false
   },
   "outputs": [],
   "source": [
    "indices = pd.read_csv('../Data/indices_NESARC.csv', header = None, names = ['start','end'])\n",
    "indices['indices'] = indices.start.astype(str).str.cat(indices.end.astype(str), sep='-')"
   ]
  },
  {
   "cell_type": "code",
   "execution_count": 233,
   "metadata": {
    "collapsed": false
   },
   "outputs": [],
   "source": [
    "target = train.ix[:,'313-313']\n",
    "target.name = 'DRANK AT LEAST 1 ALCOHOLIC DRINK IN LIFE'\n",
    "target = target.map({1:0,2:1})"
   ]
  },
  {
   "cell_type": "code",
   "execution_count": 234,
   "metadata": {
    "collapsed": false
   },
   "outputs": [],
   "source": [
    "useful_col = ['42-42', '48-49', '63-63', '64-64', '68-69', '79-79', '3673-3674', '114-114', '131-132', '136-136',\n",
    "              '144-144', '163-163', '196-197', '217-217', '226-226', '230-230', '232-232', '294-294', '306-307', '308-309'\n",
    "             ,'310-312']\n",
    "\n",
    "raw = train.ix[:, useful_col]"
   ]
  },
  {
   "cell_type": "markdown",
   "metadata": {},
   "source": [
    "## Clean the data"
   ]
  },
  {
   "cell_type": "code",
   "execution_count": 235,
   "metadata": {
    "collapsed": false
   },
   "outputs": [],
   "source": [
    "col_names = ['CENSUS DIVISION', 'NUMBER OF PERSONS IN HOUSEHOLD', 'FATHER OF RESPONDENT IN HOUSEHOLD', \n",
    "             'MOTHER OF RESPONDENT IN HOUSEHOLD', 'AGE', 'SEX', 'IMPUTED RACE/ETHNICITY', 'CURRENT MARITAL STATUS',\n",
    "            'HIGHEST GRADE OR YEAR OF SCHOOL COMPLETED', 'PRESENT SITUATION INCLUDES WORKING FULL TIME (35+ HOURS A WEEK)',\n",
    "            'PRESENT SITUATION INCLUDES RETIRED', 'WORK AT JOB OR BUSINESS IN LAST 12 MONTHS', \n",
    "             'TOTAL FAMILY INCOME IN LAST 12 MONTHS (INCLUDING ANY INCOME FROM FOOD STAMPS)',\n",
    "             'PERSONALLY RECEIVED FOOD STAMPS IN LAST 12 MONTHS', 'CURRENTLY COVERED BY MEDICAID',\n",
    "             'CURRENTLY COVERED BY PRIVATE HEALTH INSURANCE',\n",
    "            'SELF-PERCEIVED CURRENT HEALTH','ANY FAMILY MEMBERS OR CLOSE FRIENDS DIED IN LAST 12 MONTHS','HEIGHT: FEET', \n",
    "             'HEIGHT: INCHES', 'WEIGHT: POUNDS']"
   ]
  },
  {
   "cell_type": "code",
   "execution_count": 236,
   "metadata": {
    "collapsed": true
   },
   "outputs": [],
   "source": [
    "raw.columns = col_names"
   ]
  },
  {
   "cell_type": "code",
   "execution_count": 237,
   "metadata": {
    "collapsed": false
   },
   "outputs": [
    {
     "data": {
      "text/html": [
       "<div>\n",
       "<table border=\"1\" class=\"dataframe\">\n",
       "  <thead>\n",
       "    <tr style=\"text-align: right;\">\n",
       "      <th></th>\n",
       "      <th>CENSUS DIVISION</th>\n",
       "      <th>NUMBER OF PERSONS IN HOUSEHOLD</th>\n",
       "      <th>FATHER OF RESPONDENT IN HOUSEHOLD</th>\n",
       "      <th>MOTHER OF RESPONDENT IN HOUSEHOLD</th>\n",
       "      <th>AGE</th>\n",
       "      <th>SEX</th>\n",
       "      <th>IMPUTED RACE/ETHNICITY</th>\n",
       "      <th>CURRENT MARITAL STATUS</th>\n",
       "      <th>HIGHEST GRADE OR YEAR OF SCHOOL COMPLETED</th>\n",
       "      <th>PRESENT SITUATION INCLUDES WORKING FULL TIME (35+ HOURS A WEEK)</th>\n",
       "      <th>...</th>\n",
       "      <th>WORK AT JOB OR BUSINESS IN LAST 12 MONTHS</th>\n",
       "      <th>TOTAL FAMILY INCOME IN LAST 12 MONTHS (INCLUDING ANY INCOME FROM FOOD STAMPS)</th>\n",
       "      <th>PERSONALLY RECEIVED FOOD STAMPS IN LAST 12 MONTHS</th>\n",
       "      <th>CURRENTLY COVERED BY MEDICAID</th>\n",
       "      <th>CURRENTLY COVERED BY PRIVATE HEALTH INSURANCE</th>\n",
       "      <th>SELF-PERCEIVED CURRENT HEALTH</th>\n",
       "      <th>ANY FAMILY MEMBERS OR CLOSE FRIENDS DIED IN LAST 12 MONTHS</th>\n",
       "      <th>HEIGHT: FEET</th>\n",
       "      <th>HEIGHT: INCHES</th>\n",
       "      <th>WEIGHT: POUNDS</th>\n",
       "    </tr>\n",
       "  </thead>\n",
       "  <tbody>\n",
       "    <tr>\n",
       "      <th>0</th>\n",
       "      <td>3</td>\n",
       "      <td>2</td>\n",
       "      <td>2</td>\n",
       "      <td>2</td>\n",
       "      <td>41</td>\n",
       "      <td>1</td>\n",
       "      <td>5</td>\n",
       "      <td>4</td>\n",
       "      <td>10</td>\n",
       "      <td>1</td>\n",
       "      <td>...</td>\n",
       "      <td>1</td>\n",
       "      <td>10</td>\n",
       "      <td>2</td>\n",
       "      <td>2</td>\n",
       "      <td>1</td>\n",
       "      <td>2</td>\n",
       "      <td>2</td>\n",
       "      <td>5</td>\n",
       "      <td>7</td>\n",
       "      <td>185</td>\n",
       "    </tr>\n",
       "    <tr>\n",
       "      <th>1</th>\n",
       "      <td>5</td>\n",
       "      <td>2</td>\n",
       "      <td>2</td>\n",
       "      <td>2</td>\n",
       "      <td>65</td>\n",
       "      <td>2</td>\n",
       "      <td>1</td>\n",
       "      <td>1</td>\n",
       "      <td>8</td>\n",
       "      <td>2</td>\n",
       "      <td>...</td>\n",
       "      <td>2</td>\n",
       "      <td>13</td>\n",
       "      <td>2</td>\n",
       "      <td>2</td>\n",
       "      <td>1</td>\n",
       "      <td>2</td>\n",
       "      <td>2</td>\n",
       "      <td>5</td>\n",
       "      <td>3</td>\n",
       "      <td>130</td>\n",
       "    </tr>\n",
       "    <tr>\n",
       "      <th>2</th>\n",
       "      <td>9</td>\n",
       "      <td>3</td>\n",
       "      <td>2</td>\n",
       "      <td>2</td>\n",
       "      <td>39</td>\n",
       "      <td>1</td>\n",
       "      <td>1</td>\n",
       "      <td>1</td>\n",
       "      <td>8</td>\n",
       "      <td>1</td>\n",
       "      <td>...</td>\n",
       "      <td>1</td>\n",
       "      <td>11</td>\n",
       "      <td>2</td>\n",
       "      <td>2</td>\n",
       "      <td>1</td>\n",
       "      <td>2</td>\n",
       "      <td>1</td>\n",
       "      <td>5</td>\n",
       "      <td>11</td>\n",
       "      <td>195</td>\n",
       "    </tr>\n",
       "    <tr>\n",
       "      <th>3</th>\n",
       "      <td>1</td>\n",
       "      <td>2</td>\n",
       "      <td>2</td>\n",
       "      <td>2</td>\n",
       "      <td>49</td>\n",
       "      <td>1</td>\n",
       "      <td>1</td>\n",
       "      <td>4</td>\n",
       "      <td>10</td>\n",
       "      <td>1</td>\n",
       "      <td>...</td>\n",
       "      <td>1</td>\n",
       "      <td>12</td>\n",
       "      <td>2</td>\n",
       "      <td>2</td>\n",
       "      <td>1</td>\n",
       "      <td>2</td>\n",
       "      <td>2</td>\n",
       "      <td>6</td>\n",
       "      <td>0</td>\n",
       "      <td>200</td>\n",
       "    </tr>\n",
       "    <tr>\n",
       "      <th>4</th>\n",
       "      <td>2</td>\n",
       "      <td>5</td>\n",
       "      <td>2</td>\n",
       "      <td>1</td>\n",
       "      <td>25</td>\n",
       "      <td>1</td>\n",
       "      <td>1</td>\n",
       "      <td>6</td>\n",
       "      <td>8</td>\n",
       "      <td>1</td>\n",
       "      <td>...</td>\n",
       "      <td>1</td>\n",
       "      <td>10</td>\n",
       "      <td>2</td>\n",
       "      <td>2</td>\n",
       "      <td>2</td>\n",
       "      <td>1</td>\n",
       "      <td>1</td>\n",
       "      <td>5</td>\n",
       "      <td>9</td>\n",
       "      <td>180</td>\n",
       "    </tr>\n",
       "  </tbody>\n",
       "</table>\n",
       "<p>5 rows × 21 columns</p>\n",
       "</div>"
      ],
      "text/plain": [
       "   CENSUS DIVISION  NUMBER OF PERSONS IN HOUSEHOLD  \\\n",
       "0                3                               2   \n",
       "1                5                               2   \n",
       "2                9                               3   \n",
       "3                1                               2   \n",
       "4                2                               5   \n",
       "\n",
       "   FATHER OF RESPONDENT IN HOUSEHOLD  MOTHER OF RESPONDENT IN HOUSEHOLD  AGE  \\\n",
       "0                                  2                                  2   41   \n",
       "1                                  2                                  2   65   \n",
       "2                                  2                                  2   39   \n",
       "3                                  2                                  2   49   \n",
       "4                                  2                                  1   25   \n",
       "\n",
       "   SEX  IMPUTED RACE/ETHNICITY  CURRENT MARITAL STATUS  \\\n",
       "0    1                       5                       4   \n",
       "1    2                       1                       1   \n",
       "2    1                       1                       1   \n",
       "3    1                       1                       4   \n",
       "4    1                       1                       6   \n",
       "\n",
       "   HIGHEST GRADE OR YEAR OF SCHOOL COMPLETED  \\\n",
       "0                                         10   \n",
       "1                                          8   \n",
       "2                                          8   \n",
       "3                                         10   \n",
       "4                                          8   \n",
       "\n",
       "   PRESENT SITUATION INCLUDES WORKING FULL TIME (35+ HOURS A WEEK)  \\\n",
       "0                                                  1                 \n",
       "1                                                  2                 \n",
       "2                                                  1                 \n",
       "3                                                  1                 \n",
       "4                                                  1                 \n",
       "\n",
       "        ...        WORK AT JOB OR BUSINESS IN LAST 12 MONTHS  \\\n",
       "0       ...                                                1   \n",
       "1       ...                                                2   \n",
       "2       ...                                                1   \n",
       "3       ...                                                1   \n",
       "4       ...                                                1   \n",
       "\n",
       "   TOTAL FAMILY INCOME IN LAST 12 MONTHS (INCLUDING ANY INCOME FROM FOOD STAMPS)  \\\n",
       "0                                                 10                               \n",
       "1                                                 13                               \n",
       "2                                                 11                               \n",
       "3                                                 12                               \n",
       "4                                                 10                               \n",
       "\n",
       "   PERSONALLY RECEIVED FOOD STAMPS IN LAST 12 MONTHS  \\\n",
       "0                                                  2   \n",
       "1                                                  2   \n",
       "2                                                  2   \n",
       "3                                                  2   \n",
       "4                                                  2   \n",
       "\n",
       "   CURRENTLY COVERED BY MEDICAID  \\\n",
       "0                              2   \n",
       "1                              2   \n",
       "2                              2   \n",
       "3                              2   \n",
       "4                              2   \n",
       "\n",
       "   CURRENTLY COVERED BY PRIVATE HEALTH INSURANCE  \\\n",
       "0                                              1   \n",
       "1                                              1   \n",
       "2                                              1   \n",
       "3                                              1   \n",
       "4                                              2   \n",
       "\n",
       "   SELF-PERCEIVED CURRENT HEALTH  \\\n",
       "0                              2   \n",
       "1                              2   \n",
       "2                              2   \n",
       "3                              2   \n",
       "4                              1   \n",
       "\n",
       "   ANY FAMILY MEMBERS OR CLOSE FRIENDS DIED IN LAST 12 MONTHS  HEIGHT: FEET  \\\n",
       "0                                                  2                      5   \n",
       "1                                                  2                      5   \n",
       "2                                                  1                      5   \n",
       "3                                                  2                      6   \n",
       "4                                                  1                      5   \n",
       "\n",
       "   HEIGHT: INCHES  WEIGHT: POUNDS  \n",
       "0               7             185  \n",
       "1               3             130  \n",
       "2              11             195  \n",
       "3               0             200  \n",
       "4               9             180  \n",
       "\n",
       "[5 rows x 21 columns]"
      ]
     },
     "execution_count": 237,
     "metadata": {},
     "output_type": "execute_result"
    }
   ],
   "source": [
    "raw.head()"
   ]
  },
  {
   "cell_type": "code",
   "execution_count": 238,
   "metadata": {
    "collapsed": false
   },
   "outputs": [],
   "source": [
    "## Fill unknowns\n",
    "raw['ANY FAMILY MEMBERS OR CLOSE FRIENDS DIED IN LAST 12 MONTHS'] = raw['ANY FAMILY MEMBERS OR CLOSE FRIENDS DIED IN LAST 12 MONTHS'].replace(9,2)\n",
    "raw['SELF-PERCEIVED CURRENT HEALTH'] = raw['SELF-PERCEIVED CURRENT HEALTH'].replace(9,3)\n",
    "raw['HEIGHT: INCHES']  = raw['HEIGHT: INCHES'].replace(99,np.median(raw['HEIGHT: INCHES']))\n",
    "raw['HEIGHT: FEET']  = raw['HEIGHT: FEET'].replace(99,np.median(raw['HEIGHT: FEET']))\n",
    "\n",
    "## Combine Heights\n",
    "raw['HEIGHT'] = raw['HEIGHT: FEET']*12 + raw['HEIGHT: INCHES']"
   ]
  },
  {
   "cell_type": "code",
   "execution_count": 120,
   "metadata": {
    "collapsed": false
   },
   "outputs": [
    {
     "data": {
      "text/plain": [
       "2    20098\n",
       "1     9618\n",
       "9      284\n",
       "Name: 294-294, dtype: int64"
      ]
     },
     "execution_count": 120,
     "metadata": {},
     "output_type": "execute_result"
    }
   ],
   "source": [
    "train['294-294'].value_counts()"
   ]
  },
  {
   "cell_type": "code",
   "execution_count": 121,
   "metadata": {
    "collapsed": false
   },
   "outputs": [
    {
     "data": {
      "text/plain": [
       "2    20382\n",
       "1     9618\n",
       "Name: ANY FAMILY MEMBERS OR CLOSE FRIENDS DIED IN LAST 12 MONTHS, dtype: int64"
      ]
     },
     "execution_count": 121,
     "metadata": {},
     "output_type": "execute_result"
    }
   ],
   "source": [
    "raw['ANY FAMILY MEMBERS OR CLOSE FRIENDS DIED IN LAST 12 MONTHS'].value_counts()"
   ]
  },
  {
   "cell_type": "code",
   "execution_count": 124,
   "metadata": {
    "collapsed": false
   },
   "outputs": [
    {
     "data": {
      "text/plain": [
       "1    8612\n",
       "2    8605\n",
       "3    7427\n",
       "4    3647\n",
       "5    1541\n",
       "9     168\n",
       "Name: 232-232, dtype: int64"
      ]
     },
     "execution_count": 124,
     "metadata": {},
     "output_type": "execute_result"
    }
   ],
   "source": [
    "train['232-232'].value_counts()"
   ]
  },
  {
   "cell_type": "code",
   "execution_count": 123,
   "metadata": {
    "collapsed": false
   },
   "outputs": [
    {
     "data": {
      "text/plain": [
       "1    8612\n",
       "2    8605\n",
       "3    7595\n",
       "4    3647\n",
       "5    1541\n",
       "Name: SELF-PERCEIVED CURRENT HEALTH, dtype: int64"
      ]
     },
     "execution_count": 123,
     "metadata": {},
     "output_type": "execute_result"
    }
   ],
   "source": [
    "raw['SELF-PERCEIVED CURRENT HEALTH'].value_counts()"
   ]
  },
  {
   "cell_type": "code",
   "execution_count": 239,
   "metadata": {
    "collapsed": true
   },
   "outputs": [],
   "source": [
    "to_be_encoded = ['CENSUS DIVISION', 'IMPUTED RACE/ETHNICITY', 'CURRENT MARITAL STATUS',\n",
    "                 'HIGHEST GRADE OR YEAR OF SCHOOL COMPLETED', \n",
    "                 'TOTAL FAMILY INCOME IN LAST 12 MONTHS (INCLUDING ANY INCOME FROM FOOD STAMPS)'\n",
    "                ,'SELF-PERCEIVED CURRENT HEALTH', ]\n",
    "to_be_mapped = ['FATHER OF RESPONDENT IN HOUSEHOLD', 'MOTHER OF RESPONDENT IN HOUSEHOLD', 'SEX', \n",
    "               'PRESENT SITUATION INCLUDES WORKING FULL TIME (35+ HOURS A WEEK)','PRESENT SITUATION INCLUDES RETIRED'\n",
    "               , 'WORK AT JOB OR BUSINESS IN LAST 12 MONTHS', 'PERSONALLY RECEIVED FOOD STAMPS IN LAST 12 MONTHS'\n",
    "                ,'CURRENTLY COVERED BY MEDICAID', 'ANY FAMILY MEMBERS OR CLOSE FRIENDS DIED IN LAST 12 MONTHS'\n",
    "               ]\n",
    "to_be_normalized = ['NUMBER OF PERSONS IN HOUSEHOLD','AGE','HEIGHT', 'WEIGHT: POUNDS']"
   ]
  },
  {
   "cell_type": "code",
   "execution_count": 240,
   "metadata": {
    "collapsed": true
   },
   "outputs": [],
   "source": [
    "def col_encode(col):\n",
    "    return pd.get_dummies(raw[col], prefix = col)"
   ]
  },
  {
   "cell_type": "code",
   "execution_count": 241,
   "metadata": {
    "collapsed": false
   },
   "outputs": [],
   "source": [
    "for col in to_be_encoded:\n",
    "    raw = pd.concat([raw, col_encode(col)], axis = 1)"
   ]
  },
  {
   "cell_type": "code",
   "execution_count": 242,
   "metadata": {
    "collapsed": false
   },
   "outputs": [
    {
     "data": {
      "text/html": [
       "<div>\n",
       "<table border=\"1\" class=\"dataframe\">\n",
       "  <thead>\n",
       "    <tr style=\"text-align: right;\">\n",
       "      <th></th>\n",
       "      <th>CENSUS DIVISION</th>\n",
       "      <th>NUMBER OF PERSONS IN HOUSEHOLD</th>\n",
       "      <th>FATHER OF RESPONDENT IN HOUSEHOLD</th>\n",
       "      <th>MOTHER OF RESPONDENT IN HOUSEHOLD</th>\n",
       "      <th>AGE</th>\n",
       "      <th>SEX</th>\n",
       "      <th>IMPUTED RACE/ETHNICITY</th>\n",
       "      <th>CURRENT MARITAL STATUS</th>\n",
       "      <th>HIGHEST GRADE OR YEAR OF SCHOOL COMPLETED</th>\n",
       "      <th>PRESENT SITUATION INCLUDES WORKING FULL TIME (35+ HOURS A WEEK)</th>\n",
       "      <th>...</th>\n",
       "      <th>TOTAL FAMILY INCOME IN LAST 12 MONTHS (INCLUDING ANY INCOME FROM FOOD STAMPS)_17</th>\n",
       "      <th>TOTAL FAMILY INCOME IN LAST 12 MONTHS (INCLUDING ANY INCOME FROM FOOD STAMPS)_18</th>\n",
       "      <th>TOTAL FAMILY INCOME IN LAST 12 MONTHS (INCLUDING ANY INCOME FROM FOOD STAMPS)_19</th>\n",
       "      <th>TOTAL FAMILY INCOME IN LAST 12 MONTHS (INCLUDING ANY INCOME FROM FOOD STAMPS)_20</th>\n",
       "      <th>TOTAL FAMILY INCOME IN LAST 12 MONTHS (INCLUDING ANY INCOME FROM FOOD STAMPS)_21</th>\n",
       "      <th>SELF-PERCEIVED CURRENT HEALTH_1</th>\n",
       "      <th>SELF-PERCEIVED CURRENT HEALTH_2</th>\n",
       "      <th>SELF-PERCEIVED CURRENT HEALTH_3</th>\n",
       "      <th>SELF-PERCEIVED CURRENT HEALTH_4</th>\n",
       "      <th>SELF-PERCEIVED CURRENT HEALTH_5</th>\n",
       "    </tr>\n",
       "  </thead>\n",
       "  <tbody>\n",
       "    <tr>\n",
       "      <th>0</th>\n",
       "      <td>3</td>\n",
       "      <td>2</td>\n",
       "      <td>2</td>\n",
       "      <td>2</td>\n",
       "      <td>41</td>\n",
       "      <td>1</td>\n",
       "      <td>5</td>\n",
       "      <td>4</td>\n",
       "      <td>10</td>\n",
       "      <td>1</td>\n",
       "      <td>...</td>\n",
       "      <td>0</td>\n",
       "      <td>0</td>\n",
       "      <td>0</td>\n",
       "      <td>0</td>\n",
       "      <td>0</td>\n",
       "      <td>0</td>\n",
       "      <td>1</td>\n",
       "      <td>0</td>\n",
       "      <td>0</td>\n",
       "      <td>0</td>\n",
       "    </tr>\n",
       "    <tr>\n",
       "      <th>1</th>\n",
       "      <td>5</td>\n",
       "      <td>2</td>\n",
       "      <td>2</td>\n",
       "      <td>2</td>\n",
       "      <td>65</td>\n",
       "      <td>2</td>\n",
       "      <td>1</td>\n",
       "      <td>1</td>\n",
       "      <td>8</td>\n",
       "      <td>2</td>\n",
       "      <td>...</td>\n",
       "      <td>0</td>\n",
       "      <td>0</td>\n",
       "      <td>0</td>\n",
       "      <td>0</td>\n",
       "      <td>0</td>\n",
       "      <td>0</td>\n",
       "      <td>1</td>\n",
       "      <td>0</td>\n",
       "      <td>0</td>\n",
       "      <td>0</td>\n",
       "    </tr>\n",
       "    <tr>\n",
       "      <th>2</th>\n",
       "      <td>9</td>\n",
       "      <td>3</td>\n",
       "      <td>2</td>\n",
       "      <td>2</td>\n",
       "      <td>39</td>\n",
       "      <td>1</td>\n",
       "      <td>1</td>\n",
       "      <td>1</td>\n",
       "      <td>8</td>\n",
       "      <td>1</td>\n",
       "      <td>...</td>\n",
       "      <td>0</td>\n",
       "      <td>0</td>\n",
       "      <td>0</td>\n",
       "      <td>0</td>\n",
       "      <td>0</td>\n",
       "      <td>0</td>\n",
       "      <td>1</td>\n",
       "      <td>0</td>\n",
       "      <td>0</td>\n",
       "      <td>0</td>\n",
       "    </tr>\n",
       "    <tr>\n",
       "      <th>3</th>\n",
       "      <td>1</td>\n",
       "      <td>2</td>\n",
       "      <td>2</td>\n",
       "      <td>2</td>\n",
       "      <td>49</td>\n",
       "      <td>1</td>\n",
       "      <td>1</td>\n",
       "      <td>4</td>\n",
       "      <td>10</td>\n",
       "      <td>1</td>\n",
       "      <td>...</td>\n",
       "      <td>0</td>\n",
       "      <td>0</td>\n",
       "      <td>0</td>\n",
       "      <td>0</td>\n",
       "      <td>0</td>\n",
       "      <td>0</td>\n",
       "      <td>1</td>\n",
       "      <td>0</td>\n",
       "      <td>0</td>\n",
       "      <td>0</td>\n",
       "    </tr>\n",
       "    <tr>\n",
       "      <th>4</th>\n",
       "      <td>2</td>\n",
       "      <td>5</td>\n",
       "      <td>2</td>\n",
       "      <td>1</td>\n",
       "      <td>25</td>\n",
       "      <td>1</td>\n",
       "      <td>1</td>\n",
       "      <td>6</td>\n",
       "      <td>8</td>\n",
       "      <td>1</td>\n",
       "      <td>...</td>\n",
       "      <td>0</td>\n",
       "      <td>0</td>\n",
       "      <td>0</td>\n",
       "      <td>0</td>\n",
       "      <td>0</td>\n",
       "      <td>1</td>\n",
       "      <td>0</td>\n",
       "      <td>0</td>\n",
       "      <td>0</td>\n",
       "      <td>0</td>\n",
       "    </tr>\n",
       "  </tbody>\n",
       "</table>\n",
       "<p>5 rows × 82 columns</p>\n",
       "</div>"
      ],
      "text/plain": [
       "   CENSUS DIVISION  NUMBER OF PERSONS IN HOUSEHOLD  \\\n",
       "0                3                               2   \n",
       "1                5                               2   \n",
       "2                9                               3   \n",
       "3                1                               2   \n",
       "4                2                               5   \n",
       "\n",
       "   FATHER OF RESPONDENT IN HOUSEHOLD  MOTHER OF RESPONDENT IN HOUSEHOLD  AGE  \\\n",
       "0                                  2                                  2   41   \n",
       "1                                  2                                  2   65   \n",
       "2                                  2                                  2   39   \n",
       "3                                  2                                  2   49   \n",
       "4                                  2                                  1   25   \n",
       "\n",
       "   SEX  IMPUTED RACE/ETHNICITY  CURRENT MARITAL STATUS  \\\n",
       "0    1                       5                       4   \n",
       "1    2                       1                       1   \n",
       "2    1                       1                       1   \n",
       "3    1                       1                       4   \n",
       "4    1                       1                       6   \n",
       "\n",
       "   HIGHEST GRADE OR YEAR OF SCHOOL COMPLETED  \\\n",
       "0                                         10   \n",
       "1                                          8   \n",
       "2                                          8   \n",
       "3                                         10   \n",
       "4                                          8   \n",
       "\n",
       "   PRESENT SITUATION INCLUDES WORKING FULL TIME (35+ HOURS A WEEK)  \\\n",
       "0                                                  1                 \n",
       "1                                                  2                 \n",
       "2                                                  1                 \n",
       "3                                                  1                 \n",
       "4                                                  1                 \n",
       "\n",
       "                ...                 \\\n",
       "0               ...                  \n",
       "1               ...                  \n",
       "2               ...                  \n",
       "3               ...                  \n",
       "4               ...                  \n",
       "\n",
       "   TOTAL FAMILY INCOME IN LAST 12 MONTHS (INCLUDING ANY INCOME FROM FOOD STAMPS)_17  \\\n",
       "0                                                  0                                  \n",
       "1                                                  0                                  \n",
       "2                                                  0                                  \n",
       "3                                                  0                                  \n",
       "4                                                  0                                  \n",
       "\n",
       "   TOTAL FAMILY INCOME IN LAST 12 MONTHS (INCLUDING ANY INCOME FROM FOOD STAMPS)_18  \\\n",
       "0                                                  0                                  \n",
       "1                                                  0                                  \n",
       "2                                                  0                                  \n",
       "3                                                  0                                  \n",
       "4                                                  0                                  \n",
       "\n",
       "   TOTAL FAMILY INCOME IN LAST 12 MONTHS (INCLUDING ANY INCOME FROM FOOD STAMPS)_19  \\\n",
       "0                                                  0                                  \n",
       "1                                                  0                                  \n",
       "2                                                  0                                  \n",
       "3                                                  0                                  \n",
       "4                                                  0                                  \n",
       "\n",
       "   TOTAL FAMILY INCOME IN LAST 12 MONTHS (INCLUDING ANY INCOME FROM FOOD STAMPS)_20  \\\n",
       "0                                                  0                                  \n",
       "1                                                  0                                  \n",
       "2                                                  0                                  \n",
       "3                                                  0                                  \n",
       "4                                                  0                                  \n",
       "\n",
       "   TOTAL FAMILY INCOME IN LAST 12 MONTHS (INCLUDING ANY INCOME FROM FOOD STAMPS)_21  \\\n",
       "0                                                  0                                  \n",
       "1                                                  0                                  \n",
       "2                                                  0                                  \n",
       "3                                                  0                                  \n",
       "4                                                  0                                  \n",
       "\n",
       "   SELF-PERCEIVED CURRENT HEALTH_1  SELF-PERCEIVED CURRENT HEALTH_2  \\\n",
       "0                                0                                1   \n",
       "1                                0                                1   \n",
       "2                                0                                1   \n",
       "3                                0                                1   \n",
       "4                                1                                0   \n",
       "\n",
       "   SELF-PERCEIVED CURRENT HEALTH_3  SELF-PERCEIVED CURRENT HEALTH_4  \\\n",
       "0                                0                                0   \n",
       "1                                0                                0   \n",
       "2                                0                                0   \n",
       "3                                0                                0   \n",
       "4                                0                                0   \n",
       "\n",
       "   SELF-PERCEIVED CURRENT HEALTH_5  \n",
       "0                                0  \n",
       "1                                0  \n",
       "2                                0  \n",
       "3                                0  \n",
       "4                                0  \n",
       "\n",
       "[5 rows x 82 columns]"
      ]
     },
     "execution_count": 242,
     "metadata": {},
     "output_type": "execute_result"
    }
   ],
   "source": [
    "raw.head()"
   ]
  },
  {
   "cell_type": "code",
   "execution_count": 243,
   "metadata": {
    "collapsed": false
   },
   "outputs": [],
   "source": [
    "def col_mapped(col):\n",
    "    return raw[col].map({1:0,2:1})"
   ]
  },
  {
   "cell_type": "code",
   "execution_count": 244,
   "metadata": {
    "collapsed": true
   },
   "outputs": [],
   "source": [
    "for col in to_be_mapped:\n",
    "    raw[col] = col_mapped(col)"
   ]
  },
  {
   "cell_type": "code",
   "execution_count": 245,
   "metadata": {
    "collapsed": false
   },
   "outputs": [
    {
     "data": {
      "text/html": [
       "<div>\n",
       "<table border=\"1\" class=\"dataframe\">\n",
       "  <thead>\n",
       "    <tr style=\"text-align: right;\">\n",
       "      <th></th>\n",
       "      <th>CENSUS DIVISION</th>\n",
       "      <th>NUMBER OF PERSONS IN HOUSEHOLD</th>\n",
       "      <th>FATHER OF RESPONDENT IN HOUSEHOLD</th>\n",
       "      <th>MOTHER OF RESPONDENT IN HOUSEHOLD</th>\n",
       "      <th>AGE</th>\n",
       "      <th>SEX</th>\n",
       "      <th>IMPUTED RACE/ETHNICITY</th>\n",
       "      <th>CURRENT MARITAL STATUS</th>\n",
       "      <th>HIGHEST GRADE OR YEAR OF SCHOOL COMPLETED</th>\n",
       "      <th>PRESENT SITUATION INCLUDES WORKING FULL TIME (35+ HOURS A WEEK)</th>\n",
       "      <th>...</th>\n",
       "      <th>TOTAL FAMILY INCOME IN LAST 12 MONTHS (INCLUDING ANY INCOME FROM FOOD STAMPS)_17</th>\n",
       "      <th>TOTAL FAMILY INCOME IN LAST 12 MONTHS (INCLUDING ANY INCOME FROM FOOD STAMPS)_18</th>\n",
       "      <th>TOTAL FAMILY INCOME IN LAST 12 MONTHS (INCLUDING ANY INCOME FROM FOOD STAMPS)_19</th>\n",
       "      <th>TOTAL FAMILY INCOME IN LAST 12 MONTHS (INCLUDING ANY INCOME FROM FOOD STAMPS)_20</th>\n",
       "      <th>TOTAL FAMILY INCOME IN LAST 12 MONTHS (INCLUDING ANY INCOME FROM FOOD STAMPS)_21</th>\n",
       "      <th>SELF-PERCEIVED CURRENT HEALTH_1</th>\n",
       "      <th>SELF-PERCEIVED CURRENT HEALTH_2</th>\n",
       "      <th>SELF-PERCEIVED CURRENT HEALTH_3</th>\n",
       "      <th>SELF-PERCEIVED CURRENT HEALTH_4</th>\n",
       "      <th>SELF-PERCEIVED CURRENT HEALTH_5</th>\n",
       "    </tr>\n",
       "  </thead>\n",
       "  <tbody>\n",
       "    <tr>\n",
       "      <th>0</th>\n",
       "      <td>3</td>\n",
       "      <td>2</td>\n",
       "      <td>1</td>\n",
       "      <td>1</td>\n",
       "      <td>41</td>\n",
       "      <td>0</td>\n",
       "      <td>5</td>\n",
       "      <td>4</td>\n",
       "      <td>10</td>\n",
       "      <td>0</td>\n",
       "      <td>...</td>\n",
       "      <td>0</td>\n",
       "      <td>0</td>\n",
       "      <td>0</td>\n",
       "      <td>0</td>\n",
       "      <td>0</td>\n",
       "      <td>0</td>\n",
       "      <td>1</td>\n",
       "      <td>0</td>\n",
       "      <td>0</td>\n",
       "      <td>0</td>\n",
       "    </tr>\n",
       "    <tr>\n",
       "      <th>1</th>\n",
       "      <td>5</td>\n",
       "      <td>2</td>\n",
       "      <td>1</td>\n",
       "      <td>1</td>\n",
       "      <td>65</td>\n",
       "      <td>1</td>\n",
       "      <td>1</td>\n",
       "      <td>1</td>\n",
       "      <td>8</td>\n",
       "      <td>1</td>\n",
       "      <td>...</td>\n",
       "      <td>0</td>\n",
       "      <td>0</td>\n",
       "      <td>0</td>\n",
       "      <td>0</td>\n",
       "      <td>0</td>\n",
       "      <td>0</td>\n",
       "      <td>1</td>\n",
       "      <td>0</td>\n",
       "      <td>0</td>\n",
       "      <td>0</td>\n",
       "    </tr>\n",
       "    <tr>\n",
       "      <th>2</th>\n",
       "      <td>9</td>\n",
       "      <td>3</td>\n",
       "      <td>1</td>\n",
       "      <td>1</td>\n",
       "      <td>39</td>\n",
       "      <td>0</td>\n",
       "      <td>1</td>\n",
       "      <td>1</td>\n",
       "      <td>8</td>\n",
       "      <td>0</td>\n",
       "      <td>...</td>\n",
       "      <td>0</td>\n",
       "      <td>0</td>\n",
       "      <td>0</td>\n",
       "      <td>0</td>\n",
       "      <td>0</td>\n",
       "      <td>0</td>\n",
       "      <td>1</td>\n",
       "      <td>0</td>\n",
       "      <td>0</td>\n",
       "      <td>0</td>\n",
       "    </tr>\n",
       "    <tr>\n",
       "      <th>3</th>\n",
       "      <td>1</td>\n",
       "      <td>2</td>\n",
       "      <td>1</td>\n",
       "      <td>1</td>\n",
       "      <td>49</td>\n",
       "      <td>0</td>\n",
       "      <td>1</td>\n",
       "      <td>4</td>\n",
       "      <td>10</td>\n",
       "      <td>0</td>\n",
       "      <td>...</td>\n",
       "      <td>0</td>\n",
       "      <td>0</td>\n",
       "      <td>0</td>\n",
       "      <td>0</td>\n",
       "      <td>0</td>\n",
       "      <td>0</td>\n",
       "      <td>1</td>\n",
       "      <td>0</td>\n",
       "      <td>0</td>\n",
       "      <td>0</td>\n",
       "    </tr>\n",
       "    <tr>\n",
       "      <th>4</th>\n",
       "      <td>2</td>\n",
       "      <td>5</td>\n",
       "      <td>1</td>\n",
       "      <td>0</td>\n",
       "      <td>25</td>\n",
       "      <td>0</td>\n",
       "      <td>1</td>\n",
       "      <td>6</td>\n",
       "      <td>8</td>\n",
       "      <td>0</td>\n",
       "      <td>...</td>\n",
       "      <td>0</td>\n",
       "      <td>0</td>\n",
       "      <td>0</td>\n",
       "      <td>0</td>\n",
       "      <td>0</td>\n",
       "      <td>1</td>\n",
       "      <td>0</td>\n",
       "      <td>0</td>\n",
       "      <td>0</td>\n",
       "      <td>0</td>\n",
       "    </tr>\n",
       "  </tbody>\n",
       "</table>\n",
       "<p>5 rows × 82 columns</p>\n",
       "</div>"
      ],
      "text/plain": [
       "   CENSUS DIVISION  NUMBER OF PERSONS IN HOUSEHOLD  \\\n",
       "0                3                               2   \n",
       "1                5                               2   \n",
       "2                9                               3   \n",
       "3                1                               2   \n",
       "4                2                               5   \n",
       "\n",
       "   FATHER OF RESPONDENT IN HOUSEHOLD  MOTHER OF RESPONDENT IN HOUSEHOLD  AGE  \\\n",
       "0                                  1                                  1   41   \n",
       "1                                  1                                  1   65   \n",
       "2                                  1                                  1   39   \n",
       "3                                  1                                  1   49   \n",
       "4                                  1                                  0   25   \n",
       "\n",
       "   SEX  IMPUTED RACE/ETHNICITY  CURRENT MARITAL STATUS  \\\n",
       "0    0                       5                       4   \n",
       "1    1                       1                       1   \n",
       "2    0                       1                       1   \n",
       "3    0                       1                       4   \n",
       "4    0                       1                       6   \n",
       "\n",
       "   HIGHEST GRADE OR YEAR OF SCHOOL COMPLETED  \\\n",
       "0                                         10   \n",
       "1                                          8   \n",
       "2                                          8   \n",
       "3                                         10   \n",
       "4                                          8   \n",
       "\n",
       "   PRESENT SITUATION INCLUDES WORKING FULL TIME (35+ HOURS A WEEK)  \\\n",
       "0                                                  0                 \n",
       "1                                                  1                 \n",
       "2                                                  0                 \n",
       "3                                                  0                 \n",
       "4                                                  0                 \n",
       "\n",
       "                ...                 \\\n",
       "0               ...                  \n",
       "1               ...                  \n",
       "2               ...                  \n",
       "3               ...                  \n",
       "4               ...                  \n",
       "\n",
       "   TOTAL FAMILY INCOME IN LAST 12 MONTHS (INCLUDING ANY INCOME FROM FOOD STAMPS)_17  \\\n",
       "0                                                  0                                  \n",
       "1                                                  0                                  \n",
       "2                                                  0                                  \n",
       "3                                                  0                                  \n",
       "4                                                  0                                  \n",
       "\n",
       "   TOTAL FAMILY INCOME IN LAST 12 MONTHS (INCLUDING ANY INCOME FROM FOOD STAMPS)_18  \\\n",
       "0                                                  0                                  \n",
       "1                                                  0                                  \n",
       "2                                                  0                                  \n",
       "3                                                  0                                  \n",
       "4                                                  0                                  \n",
       "\n",
       "   TOTAL FAMILY INCOME IN LAST 12 MONTHS (INCLUDING ANY INCOME FROM FOOD STAMPS)_19  \\\n",
       "0                                                  0                                  \n",
       "1                                                  0                                  \n",
       "2                                                  0                                  \n",
       "3                                                  0                                  \n",
       "4                                                  0                                  \n",
       "\n",
       "   TOTAL FAMILY INCOME IN LAST 12 MONTHS (INCLUDING ANY INCOME FROM FOOD STAMPS)_20  \\\n",
       "0                                                  0                                  \n",
       "1                                                  0                                  \n",
       "2                                                  0                                  \n",
       "3                                                  0                                  \n",
       "4                                                  0                                  \n",
       "\n",
       "   TOTAL FAMILY INCOME IN LAST 12 MONTHS (INCLUDING ANY INCOME FROM FOOD STAMPS)_21  \\\n",
       "0                                                  0                                  \n",
       "1                                                  0                                  \n",
       "2                                                  0                                  \n",
       "3                                                  0                                  \n",
       "4                                                  0                                  \n",
       "\n",
       "   SELF-PERCEIVED CURRENT HEALTH_1  SELF-PERCEIVED CURRENT HEALTH_2  \\\n",
       "0                                0                                1   \n",
       "1                                0                                1   \n",
       "2                                0                                1   \n",
       "3                                0                                1   \n",
       "4                                1                                0   \n",
       "\n",
       "   SELF-PERCEIVED CURRENT HEALTH_3  SELF-PERCEIVED CURRENT HEALTH_4  \\\n",
       "0                                0                                0   \n",
       "1                                0                                0   \n",
       "2                                0                                0   \n",
       "3                                0                                0   \n",
       "4                                0                                0   \n",
       "\n",
       "   SELF-PERCEIVED CURRENT HEALTH_5  \n",
       "0                                0  \n",
       "1                                0  \n",
       "2                                0  \n",
       "3                                0  \n",
       "4                                0  \n",
       "\n",
       "[5 rows x 82 columns]"
      ]
     },
     "execution_count": 245,
     "metadata": {},
     "output_type": "execute_result"
    }
   ],
   "source": [
    "raw.head()"
   ]
  },
  {
   "cell_type": "code",
   "execution_count": 246,
   "metadata": {
    "collapsed": true
   },
   "outputs": [],
   "source": [
    "from sklearn.preprocessing import MinMaxScaler\n",
    "def col_normalized(col):\n",
    "    return MinMaxScaler().fit_transform(raw[col].values.reshape(-1,1))"
   ]
  },
  {
   "cell_type": "code",
   "execution_count": 247,
   "metadata": {
    "collapsed": false
   },
   "outputs": [],
   "source": [
    "raw['AGE'] = MinMaxScaler().fit_transform(raw['AGE'].values.reshape(-1,1))"
   ]
  },
  {
   "cell_type": "code",
   "execution_count": 248,
   "metadata": {
    "collapsed": false
   },
   "outputs": [],
   "source": [
    "for col in to_be_normalized:\n",
    "    raw[col]  = col_normalized(col)"
   ]
  },
  {
   "cell_type": "code",
   "execution_count": 249,
   "metadata": {
    "collapsed": false
   },
   "outputs": [],
   "source": [
    "raw = raw.drop(to_be_encoded, axis = 1)\n",
    "raw = raw.drop(['HEIGHT: FEET', 'HEIGHT: INCHES'], axis = 1)"
   ]
  },
  {
   "cell_type": "code",
   "execution_count": 250,
   "metadata": {
    "collapsed": false
   },
   "outputs": [
    {
     "data": {
      "text/html": [
       "<div>\n",
       "<table border=\"1\" class=\"dataframe\">\n",
       "  <thead>\n",
       "    <tr style=\"text-align: right;\">\n",
       "      <th></th>\n",
       "      <th>NUMBER OF PERSONS IN HOUSEHOLD</th>\n",
       "      <th>FATHER OF RESPONDENT IN HOUSEHOLD</th>\n",
       "      <th>MOTHER OF RESPONDENT IN HOUSEHOLD</th>\n",
       "      <th>AGE</th>\n",
       "      <th>SEX</th>\n",
       "      <th>PRESENT SITUATION INCLUDES WORKING FULL TIME (35+ HOURS A WEEK)</th>\n",
       "      <th>PRESENT SITUATION INCLUDES RETIRED</th>\n",
       "      <th>WORK AT JOB OR BUSINESS IN LAST 12 MONTHS</th>\n",
       "      <th>PERSONALLY RECEIVED FOOD STAMPS IN LAST 12 MONTHS</th>\n",
       "      <th>CURRENTLY COVERED BY MEDICAID</th>\n",
       "      <th>...</th>\n",
       "      <th>TOTAL FAMILY INCOME IN LAST 12 MONTHS (INCLUDING ANY INCOME FROM FOOD STAMPS)_17</th>\n",
       "      <th>TOTAL FAMILY INCOME IN LAST 12 MONTHS (INCLUDING ANY INCOME FROM FOOD STAMPS)_18</th>\n",
       "      <th>TOTAL FAMILY INCOME IN LAST 12 MONTHS (INCLUDING ANY INCOME FROM FOOD STAMPS)_19</th>\n",
       "      <th>TOTAL FAMILY INCOME IN LAST 12 MONTHS (INCLUDING ANY INCOME FROM FOOD STAMPS)_20</th>\n",
       "      <th>TOTAL FAMILY INCOME IN LAST 12 MONTHS (INCLUDING ANY INCOME FROM FOOD STAMPS)_21</th>\n",
       "      <th>SELF-PERCEIVED CURRENT HEALTH_1</th>\n",
       "      <th>SELF-PERCEIVED CURRENT HEALTH_2</th>\n",
       "      <th>SELF-PERCEIVED CURRENT HEALTH_3</th>\n",
       "      <th>SELF-PERCEIVED CURRENT HEALTH_4</th>\n",
       "      <th>SELF-PERCEIVED CURRENT HEALTH_5</th>\n",
       "    </tr>\n",
       "  </thead>\n",
       "  <tbody>\n",
       "    <tr>\n",
       "      <th>0</th>\n",
       "      <td>0.0625</td>\n",
       "      <td>1</td>\n",
       "      <td>1</td>\n",
       "      <td>0.2875</td>\n",
       "      <td>0</td>\n",
       "      <td>0</td>\n",
       "      <td>1</td>\n",
       "      <td>0</td>\n",
       "      <td>1</td>\n",
       "      <td>1</td>\n",
       "      <td>...</td>\n",
       "      <td>0</td>\n",
       "      <td>0</td>\n",
       "      <td>0</td>\n",
       "      <td>0</td>\n",
       "      <td>0</td>\n",
       "      <td>0</td>\n",
       "      <td>1</td>\n",
       "      <td>0</td>\n",
       "      <td>0</td>\n",
       "      <td>0</td>\n",
       "    </tr>\n",
       "    <tr>\n",
       "      <th>1</th>\n",
       "      <td>0.0625</td>\n",
       "      <td>1</td>\n",
       "      <td>1</td>\n",
       "      <td>0.5875</td>\n",
       "      <td>1</td>\n",
       "      <td>1</td>\n",
       "      <td>0</td>\n",
       "      <td>1</td>\n",
       "      <td>1</td>\n",
       "      <td>1</td>\n",
       "      <td>...</td>\n",
       "      <td>0</td>\n",
       "      <td>0</td>\n",
       "      <td>0</td>\n",
       "      <td>0</td>\n",
       "      <td>0</td>\n",
       "      <td>0</td>\n",
       "      <td>1</td>\n",
       "      <td>0</td>\n",
       "      <td>0</td>\n",
       "      <td>0</td>\n",
       "    </tr>\n",
       "    <tr>\n",
       "      <th>2</th>\n",
       "      <td>0.1250</td>\n",
       "      <td>1</td>\n",
       "      <td>1</td>\n",
       "      <td>0.2625</td>\n",
       "      <td>0</td>\n",
       "      <td>0</td>\n",
       "      <td>1</td>\n",
       "      <td>0</td>\n",
       "      <td>1</td>\n",
       "      <td>1</td>\n",
       "      <td>...</td>\n",
       "      <td>0</td>\n",
       "      <td>0</td>\n",
       "      <td>0</td>\n",
       "      <td>0</td>\n",
       "      <td>0</td>\n",
       "      <td>0</td>\n",
       "      <td>1</td>\n",
       "      <td>0</td>\n",
       "      <td>0</td>\n",
       "      <td>0</td>\n",
       "    </tr>\n",
       "    <tr>\n",
       "      <th>3</th>\n",
       "      <td>0.0625</td>\n",
       "      <td>1</td>\n",
       "      <td>1</td>\n",
       "      <td>0.3875</td>\n",
       "      <td>0</td>\n",
       "      <td>0</td>\n",
       "      <td>1</td>\n",
       "      <td>0</td>\n",
       "      <td>1</td>\n",
       "      <td>1</td>\n",
       "      <td>...</td>\n",
       "      <td>0</td>\n",
       "      <td>0</td>\n",
       "      <td>0</td>\n",
       "      <td>0</td>\n",
       "      <td>0</td>\n",
       "      <td>0</td>\n",
       "      <td>1</td>\n",
       "      <td>0</td>\n",
       "      <td>0</td>\n",
       "      <td>0</td>\n",
       "    </tr>\n",
       "    <tr>\n",
       "      <th>4</th>\n",
       "      <td>0.2500</td>\n",
       "      <td>1</td>\n",
       "      <td>0</td>\n",
       "      <td>0.0875</td>\n",
       "      <td>0</td>\n",
       "      <td>0</td>\n",
       "      <td>1</td>\n",
       "      <td>0</td>\n",
       "      <td>1</td>\n",
       "      <td>1</td>\n",
       "      <td>...</td>\n",
       "      <td>0</td>\n",
       "      <td>0</td>\n",
       "      <td>0</td>\n",
       "      <td>0</td>\n",
       "      <td>0</td>\n",
       "      <td>1</td>\n",
       "      <td>0</td>\n",
       "      <td>0</td>\n",
       "      <td>0</td>\n",
       "      <td>0</td>\n",
       "    </tr>\n",
       "  </tbody>\n",
       "</table>\n",
       "<p>5 rows × 74 columns</p>\n",
       "</div>"
      ],
      "text/plain": [
       "   NUMBER OF PERSONS IN HOUSEHOLD  FATHER OF RESPONDENT IN HOUSEHOLD  \\\n",
       "0                          0.0625                                  1   \n",
       "1                          0.0625                                  1   \n",
       "2                          0.1250                                  1   \n",
       "3                          0.0625                                  1   \n",
       "4                          0.2500                                  1   \n",
       "\n",
       "   MOTHER OF RESPONDENT IN HOUSEHOLD     AGE  SEX  \\\n",
       "0                                  1  0.2875    0   \n",
       "1                                  1  0.5875    1   \n",
       "2                                  1  0.2625    0   \n",
       "3                                  1  0.3875    0   \n",
       "4                                  0  0.0875    0   \n",
       "\n",
       "   PRESENT SITUATION INCLUDES WORKING FULL TIME (35+ HOURS A WEEK)  \\\n",
       "0                                                  0                 \n",
       "1                                                  1                 \n",
       "2                                                  0                 \n",
       "3                                                  0                 \n",
       "4                                                  0                 \n",
       "\n",
       "   PRESENT SITUATION INCLUDES RETIRED  \\\n",
       "0                                   1   \n",
       "1                                   0   \n",
       "2                                   1   \n",
       "3                                   1   \n",
       "4                                   1   \n",
       "\n",
       "   WORK AT JOB OR BUSINESS IN LAST 12 MONTHS  \\\n",
       "0                                          0   \n",
       "1                                          1   \n",
       "2                                          0   \n",
       "3                                          0   \n",
       "4                                          0   \n",
       "\n",
       "   PERSONALLY RECEIVED FOOD STAMPS IN LAST 12 MONTHS  \\\n",
       "0                                                  1   \n",
       "1                                                  1   \n",
       "2                                                  1   \n",
       "3                                                  1   \n",
       "4                                                  1   \n",
       "\n",
       "   CURRENTLY COVERED BY MEDICAID               ...                 \\\n",
       "0                              1               ...                  \n",
       "1                              1               ...                  \n",
       "2                              1               ...                  \n",
       "3                              1               ...                  \n",
       "4                              1               ...                  \n",
       "\n",
       "   TOTAL FAMILY INCOME IN LAST 12 MONTHS (INCLUDING ANY INCOME FROM FOOD STAMPS)_17  \\\n",
       "0                                                  0                                  \n",
       "1                                                  0                                  \n",
       "2                                                  0                                  \n",
       "3                                                  0                                  \n",
       "4                                                  0                                  \n",
       "\n",
       "   TOTAL FAMILY INCOME IN LAST 12 MONTHS (INCLUDING ANY INCOME FROM FOOD STAMPS)_18  \\\n",
       "0                                                  0                                  \n",
       "1                                                  0                                  \n",
       "2                                                  0                                  \n",
       "3                                                  0                                  \n",
       "4                                                  0                                  \n",
       "\n",
       "   TOTAL FAMILY INCOME IN LAST 12 MONTHS (INCLUDING ANY INCOME FROM FOOD STAMPS)_19  \\\n",
       "0                                                  0                                  \n",
       "1                                                  0                                  \n",
       "2                                                  0                                  \n",
       "3                                                  0                                  \n",
       "4                                                  0                                  \n",
       "\n",
       "   TOTAL FAMILY INCOME IN LAST 12 MONTHS (INCLUDING ANY INCOME FROM FOOD STAMPS)_20  \\\n",
       "0                                                  0                                  \n",
       "1                                                  0                                  \n",
       "2                                                  0                                  \n",
       "3                                                  0                                  \n",
       "4                                                  0                                  \n",
       "\n",
       "   TOTAL FAMILY INCOME IN LAST 12 MONTHS (INCLUDING ANY INCOME FROM FOOD STAMPS)_21  \\\n",
       "0                                                  0                                  \n",
       "1                                                  0                                  \n",
       "2                                                  0                                  \n",
       "3                                                  0                                  \n",
       "4                                                  0                                  \n",
       "\n",
       "   SELF-PERCEIVED CURRENT HEALTH_1  SELF-PERCEIVED CURRENT HEALTH_2  \\\n",
       "0                                0                                1   \n",
       "1                                0                                1   \n",
       "2                                0                                1   \n",
       "3                                0                                1   \n",
       "4                                1                                0   \n",
       "\n",
       "   SELF-PERCEIVED CURRENT HEALTH_3  SELF-PERCEIVED CURRENT HEALTH_4  \\\n",
       "0                                0                                0   \n",
       "1                                0                                0   \n",
       "2                                0                                0   \n",
       "3                                0                                0   \n",
       "4                                0                                0   \n",
       "\n",
       "   SELF-PERCEIVED CURRENT HEALTH_5  \n",
       "0                                0  \n",
       "1                                0  \n",
       "2                                0  \n",
       "3                                0  \n",
       "4                                0  \n",
       "\n",
       "[5 rows x 74 columns]"
      ]
     },
     "execution_count": 250,
     "metadata": {},
     "output_type": "execute_result"
    }
   ],
   "source": [
    "raw.head()"
   ]
  },
  {
   "cell_type": "code",
   "execution_count": 251,
   "metadata": {
    "collapsed": false
   },
   "outputs": [],
   "source": [
    "raw['ONES'] = np.ones(raw.shape[0])\n",
    "raw['TARGET'] = target"
   ]
  },
  {
   "cell_type": "code",
   "execution_count": 252,
   "metadata": {
    "collapsed": false
   },
   "outputs": [
    {
     "data": {
      "text/html": [
       "<div>\n",
       "<table border=\"1\" class=\"dataframe\">\n",
       "  <thead>\n",
       "    <tr style=\"text-align: right;\">\n",
       "      <th></th>\n",
       "      <th>NUMBER OF PERSONS IN HOUSEHOLD</th>\n",
       "      <th>FATHER OF RESPONDENT IN HOUSEHOLD</th>\n",
       "      <th>MOTHER OF RESPONDENT IN HOUSEHOLD</th>\n",
       "      <th>AGE</th>\n",
       "      <th>SEX</th>\n",
       "      <th>PRESENT SITUATION INCLUDES WORKING FULL TIME (35+ HOURS A WEEK)</th>\n",
       "      <th>PRESENT SITUATION INCLUDES RETIRED</th>\n",
       "      <th>WORK AT JOB OR BUSINESS IN LAST 12 MONTHS</th>\n",
       "      <th>PERSONALLY RECEIVED FOOD STAMPS IN LAST 12 MONTHS</th>\n",
       "      <th>CURRENTLY COVERED BY MEDICAID</th>\n",
       "      <th>...</th>\n",
       "      <th>TOTAL FAMILY INCOME IN LAST 12 MONTHS (INCLUDING ANY INCOME FROM FOOD STAMPS)_19</th>\n",
       "      <th>TOTAL FAMILY INCOME IN LAST 12 MONTHS (INCLUDING ANY INCOME FROM FOOD STAMPS)_20</th>\n",
       "      <th>TOTAL FAMILY INCOME IN LAST 12 MONTHS (INCLUDING ANY INCOME FROM FOOD STAMPS)_21</th>\n",
       "      <th>SELF-PERCEIVED CURRENT HEALTH_1</th>\n",
       "      <th>SELF-PERCEIVED CURRENT HEALTH_2</th>\n",
       "      <th>SELF-PERCEIVED CURRENT HEALTH_3</th>\n",
       "      <th>SELF-PERCEIVED CURRENT HEALTH_4</th>\n",
       "      <th>SELF-PERCEIVED CURRENT HEALTH_5</th>\n",
       "      <th>ONES</th>\n",
       "      <th>TARGET</th>\n",
       "    </tr>\n",
       "  </thead>\n",
       "  <tbody>\n",
       "    <tr>\n",
       "      <th>0</th>\n",
       "      <td>0.0625</td>\n",
       "      <td>1</td>\n",
       "      <td>1</td>\n",
       "      <td>0.2875</td>\n",
       "      <td>0</td>\n",
       "      <td>0</td>\n",
       "      <td>1</td>\n",
       "      <td>0</td>\n",
       "      <td>1</td>\n",
       "      <td>1</td>\n",
       "      <td>...</td>\n",
       "      <td>0</td>\n",
       "      <td>0</td>\n",
       "      <td>0</td>\n",
       "      <td>0</td>\n",
       "      <td>1</td>\n",
       "      <td>0</td>\n",
       "      <td>0</td>\n",
       "      <td>0</td>\n",
       "      <td>1.0</td>\n",
       "      <td>0</td>\n",
       "    </tr>\n",
       "    <tr>\n",
       "      <th>1</th>\n",
       "      <td>0.0625</td>\n",
       "      <td>1</td>\n",
       "      <td>1</td>\n",
       "      <td>0.5875</td>\n",
       "      <td>1</td>\n",
       "      <td>1</td>\n",
       "      <td>0</td>\n",
       "      <td>1</td>\n",
       "      <td>1</td>\n",
       "      <td>1</td>\n",
       "      <td>...</td>\n",
       "      <td>0</td>\n",
       "      <td>0</td>\n",
       "      <td>0</td>\n",
       "      <td>0</td>\n",
       "      <td>1</td>\n",
       "      <td>0</td>\n",
       "      <td>0</td>\n",
       "      <td>0</td>\n",
       "      <td>1.0</td>\n",
       "      <td>0</td>\n",
       "    </tr>\n",
       "    <tr>\n",
       "      <th>2</th>\n",
       "      <td>0.1250</td>\n",
       "      <td>1</td>\n",
       "      <td>1</td>\n",
       "      <td>0.2625</td>\n",
       "      <td>0</td>\n",
       "      <td>0</td>\n",
       "      <td>1</td>\n",
       "      <td>0</td>\n",
       "      <td>1</td>\n",
       "      <td>1</td>\n",
       "      <td>...</td>\n",
       "      <td>0</td>\n",
       "      <td>0</td>\n",
       "      <td>0</td>\n",
       "      <td>0</td>\n",
       "      <td>1</td>\n",
       "      <td>0</td>\n",
       "      <td>0</td>\n",
       "      <td>0</td>\n",
       "      <td>1.0</td>\n",
       "      <td>0</td>\n",
       "    </tr>\n",
       "    <tr>\n",
       "      <th>3</th>\n",
       "      <td>0.0625</td>\n",
       "      <td>1</td>\n",
       "      <td>1</td>\n",
       "      <td>0.3875</td>\n",
       "      <td>0</td>\n",
       "      <td>0</td>\n",
       "      <td>1</td>\n",
       "      <td>0</td>\n",
       "      <td>1</td>\n",
       "      <td>1</td>\n",
       "      <td>...</td>\n",
       "      <td>0</td>\n",
       "      <td>0</td>\n",
       "      <td>0</td>\n",
       "      <td>0</td>\n",
       "      <td>1</td>\n",
       "      <td>0</td>\n",
       "      <td>0</td>\n",
       "      <td>0</td>\n",
       "      <td>1.0</td>\n",
       "      <td>0</td>\n",
       "    </tr>\n",
       "    <tr>\n",
       "      <th>4</th>\n",
       "      <td>0.2500</td>\n",
       "      <td>1</td>\n",
       "      <td>0</td>\n",
       "      <td>0.0875</td>\n",
       "      <td>0</td>\n",
       "      <td>0</td>\n",
       "      <td>1</td>\n",
       "      <td>0</td>\n",
       "      <td>1</td>\n",
       "      <td>1</td>\n",
       "      <td>...</td>\n",
       "      <td>0</td>\n",
       "      <td>0</td>\n",
       "      <td>0</td>\n",
       "      <td>1</td>\n",
       "      <td>0</td>\n",
       "      <td>0</td>\n",
       "      <td>0</td>\n",
       "      <td>0</td>\n",
       "      <td>1.0</td>\n",
       "      <td>0</td>\n",
       "    </tr>\n",
       "  </tbody>\n",
       "</table>\n",
       "<p>5 rows × 76 columns</p>\n",
       "</div>"
      ],
      "text/plain": [
       "   NUMBER OF PERSONS IN HOUSEHOLD  FATHER OF RESPONDENT IN HOUSEHOLD  \\\n",
       "0                          0.0625                                  1   \n",
       "1                          0.0625                                  1   \n",
       "2                          0.1250                                  1   \n",
       "3                          0.0625                                  1   \n",
       "4                          0.2500                                  1   \n",
       "\n",
       "   MOTHER OF RESPONDENT IN HOUSEHOLD     AGE  SEX  \\\n",
       "0                                  1  0.2875    0   \n",
       "1                                  1  0.5875    1   \n",
       "2                                  1  0.2625    0   \n",
       "3                                  1  0.3875    0   \n",
       "4                                  0  0.0875    0   \n",
       "\n",
       "   PRESENT SITUATION INCLUDES WORKING FULL TIME (35+ HOURS A WEEK)  \\\n",
       "0                                                  0                 \n",
       "1                                                  1                 \n",
       "2                                                  0                 \n",
       "3                                                  0                 \n",
       "4                                                  0                 \n",
       "\n",
       "   PRESENT SITUATION INCLUDES RETIRED  \\\n",
       "0                                   1   \n",
       "1                                   0   \n",
       "2                                   1   \n",
       "3                                   1   \n",
       "4                                   1   \n",
       "\n",
       "   WORK AT JOB OR BUSINESS IN LAST 12 MONTHS  \\\n",
       "0                                          0   \n",
       "1                                          1   \n",
       "2                                          0   \n",
       "3                                          0   \n",
       "4                                          0   \n",
       "\n",
       "   PERSONALLY RECEIVED FOOD STAMPS IN LAST 12 MONTHS  \\\n",
       "0                                                  1   \n",
       "1                                                  1   \n",
       "2                                                  1   \n",
       "3                                                  1   \n",
       "4                                                  1   \n",
       "\n",
       "   CURRENTLY COVERED BY MEDICAID   ...    \\\n",
       "0                              1   ...     \n",
       "1                              1   ...     \n",
       "2                              1   ...     \n",
       "3                              1   ...     \n",
       "4                              1   ...     \n",
       "\n",
       "   TOTAL FAMILY INCOME IN LAST 12 MONTHS (INCLUDING ANY INCOME FROM FOOD STAMPS)_19  \\\n",
       "0                                                  0                                  \n",
       "1                                                  0                                  \n",
       "2                                                  0                                  \n",
       "3                                                  0                                  \n",
       "4                                                  0                                  \n",
       "\n",
       "   TOTAL FAMILY INCOME IN LAST 12 MONTHS (INCLUDING ANY INCOME FROM FOOD STAMPS)_20  \\\n",
       "0                                                  0                                  \n",
       "1                                                  0                                  \n",
       "2                                                  0                                  \n",
       "3                                                  0                                  \n",
       "4                                                  0                                  \n",
       "\n",
       "   TOTAL FAMILY INCOME IN LAST 12 MONTHS (INCLUDING ANY INCOME FROM FOOD STAMPS)_21  \\\n",
       "0                                                  0                                  \n",
       "1                                                  0                                  \n",
       "2                                                  0                                  \n",
       "3                                                  0                                  \n",
       "4                                                  0                                  \n",
       "\n",
       "   SELF-PERCEIVED CURRENT HEALTH_1  SELF-PERCEIVED CURRENT HEALTH_2  \\\n",
       "0                                0                                1   \n",
       "1                                0                                1   \n",
       "2                                0                                1   \n",
       "3                                0                                1   \n",
       "4                                1                                0   \n",
       "\n",
       "   SELF-PERCEIVED CURRENT HEALTH_3  SELF-PERCEIVED CURRENT HEALTH_4  \\\n",
       "0                                0                                0   \n",
       "1                                0                                0   \n",
       "2                                0                                0   \n",
       "3                                0                                0   \n",
       "4                                0                                0   \n",
       "\n",
       "   SELF-PERCEIVED CURRENT HEALTH_5  ONES  TARGET  \n",
       "0                                0   1.0       0  \n",
       "1                                0   1.0       0  \n",
       "2                                0   1.0       0  \n",
       "3                                0   1.0       0  \n",
       "4                                0   1.0       0  \n",
       "\n",
       "[5 rows x 76 columns]"
      ]
     },
     "execution_count": 252,
     "metadata": {},
     "output_type": "execute_result"
    }
   ],
   "source": [
    "raw.head()"
   ]
  },
  {
   "cell_type": "code",
   "execution_count": 253,
   "metadata": {
    "collapsed": false
   },
   "outputs": [],
   "source": [
    "raw.to_csv('hw1_train.csv')"
   ]
  },
  {
   "cell_type": "code",
   "execution_count": 293,
   "metadata": {
    "collapsed": true
   },
   "outputs": [],
   "source": [
    "test = pd.read_csv('../Data/data_NESARC_ts.csv', header = None)"
   ]
  },
  {
   "cell_type": "code",
   "execution_count": 296,
   "metadata": {
    "collapsed": false
   },
   "outputs": [
    {
     "data": {
      "text/plain": [
       "(13093, 2991)"
      ]
     },
     "execution_count": 296,
     "metadata": {},
     "output_type": "execute_result"
    }
   ],
   "source": [
    "test.columns = [indices['indices'].values.tolist()]\n",
    "test.shape"
   ]
  },
  {
   "cell_type": "code",
   "execution_count": 299,
   "metadata": {
    "collapsed": false
   },
   "outputs": [],
   "source": [
    "test.columns = [indices['indices'].values.tolist()]\n",
    "useful_col = ['42-42', '48-49', '63-63', '64-64', '68-69', '79-79', '3673-3674', '114-114', '131-132', '136-136','144-144', '163-163', '196-197', '217-217', '226-226', '230-230', '232-232', '294-294', '306-307', '308-309'\n",
    "             ,'310-312']\n",
    "\n",
    "rawt = test.ix[:, useful_col]\n",
    "\n",
    "targett = test.ix[:,'313-313']\n",
    "targett.name = 'DRANK AT LEAST 1 ALCOHOLIC DRINK IN LIFE'\n",
    "targett = targett.map({1:0,2:1})"
   ]
  },
  {
   "cell_type": "code",
   "execution_count": 300,
   "metadata": {
    "collapsed": false
   },
   "outputs": [
    {
     "data": {
      "text/plain": [
       "(13093, 21)"
      ]
     },
     "execution_count": 300,
     "metadata": {},
     "output_type": "execute_result"
    }
   ],
   "source": [
    "rawt.shape"
   ]
  },
  {
   "cell_type": "code",
   "execution_count": 301,
   "metadata": {
    "collapsed": false
   },
   "outputs": [
    {
     "data": {
      "text/html": [
       "<div>\n",
       "<table border=\"1\" class=\"dataframe\">\n",
       "  <thead>\n",
       "    <tr style=\"text-align: right;\">\n",
       "      <th></th>\n",
       "      <th>CENSUS DIVISION</th>\n",
       "      <th>NUMBER OF PERSONS IN HOUSEHOLD</th>\n",
       "      <th>FATHER OF RESPONDENT IN HOUSEHOLD</th>\n",
       "      <th>MOTHER OF RESPONDENT IN HOUSEHOLD</th>\n",
       "      <th>AGE</th>\n",
       "      <th>SEX</th>\n",
       "      <th>IMPUTED RACE/ETHNICITY</th>\n",
       "      <th>CURRENT MARITAL STATUS</th>\n",
       "      <th>HIGHEST GRADE OR YEAR OF SCHOOL COMPLETED</th>\n",
       "      <th>PRESENT SITUATION INCLUDES WORKING FULL TIME (35+ HOURS A WEEK)</th>\n",
       "      <th>...</th>\n",
       "      <th>WORK AT JOB OR BUSINESS IN LAST 12 MONTHS</th>\n",
       "      <th>TOTAL FAMILY INCOME IN LAST 12 MONTHS (INCLUDING ANY INCOME FROM FOOD STAMPS)</th>\n",
       "      <th>PERSONALLY RECEIVED FOOD STAMPS IN LAST 12 MONTHS</th>\n",
       "      <th>CURRENTLY COVERED BY MEDICAID</th>\n",
       "      <th>CURRENTLY COVERED BY PRIVATE HEALTH INSURANCE</th>\n",
       "      <th>SELF-PERCEIVED CURRENT HEALTH</th>\n",
       "      <th>ANY FAMILY MEMBERS OR CLOSE FRIENDS DIED IN LAST 12 MONTHS</th>\n",
       "      <th>HEIGHT: FEET</th>\n",
       "      <th>HEIGHT: INCHES</th>\n",
       "      <th>WEIGHT: POUNDS</th>\n",
       "    </tr>\n",
       "  </thead>\n",
       "  <tbody>\n",
       "    <tr>\n",
       "      <th>0</th>\n",
       "      <td>3</td>\n",
       "      <td>3</td>\n",
       "      <td>2</td>\n",
       "      <td>2</td>\n",
       "      <td>77</td>\n",
       "      <td>2</td>\n",
       "      <td>1</td>\n",
       "      <td>3</td>\n",
       "      <td>3</td>\n",
       "      <td>2</td>\n",
       "      <td>...</td>\n",
       "      <td>2</td>\n",
       "      <td>9</td>\n",
       "      <td>2</td>\n",
       "      <td>2</td>\n",
       "      <td>2</td>\n",
       "      <td>1</td>\n",
       "      <td>1</td>\n",
       "      <td>5</td>\n",
       "      <td>5</td>\n",
       "      <td>180</td>\n",
       "    </tr>\n",
       "    <tr>\n",
       "      <th>1</th>\n",
       "      <td>9</td>\n",
       "      <td>1</td>\n",
       "      <td>2</td>\n",
       "      <td>2</td>\n",
       "      <td>24</td>\n",
       "      <td>2</td>\n",
       "      <td>1</td>\n",
       "      <td>6</td>\n",
       "      <td>12</td>\n",
       "      <td>1</td>\n",
       "      <td>...</td>\n",
       "      <td>1</td>\n",
       "      <td>8</td>\n",
       "      <td>2</td>\n",
       "      <td>2</td>\n",
       "      <td>1</td>\n",
       "      <td>2</td>\n",
       "      <td>1</td>\n",
       "      <td>5</td>\n",
       "      <td>5</td>\n",
       "      <td>150</td>\n",
       "    </tr>\n",
       "    <tr>\n",
       "      <th>2</th>\n",
       "      <td>6</td>\n",
       "      <td>3</td>\n",
       "      <td>2</td>\n",
       "      <td>2</td>\n",
       "      <td>74</td>\n",
       "      <td>1</td>\n",
       "      <td>1</td>\n",
       "      <td>1</td>\n",
       "      <td>11</td>\n",
       "      <td>2</td>\n",
       "      <td>...</td>\n",
       "      <td>2</td>\n",
       "      <td>7</td>\n",
       "      <td>2</td>\n",
       "      <td>2</td>\n",
       "      <td>1</td>\n",
       "      <td>3</td>\n",
       "      <td>1</td>\n",
       "      <td>6</td>\n",
       "      <td>2</td>\n",
       "      <td>170</td>\n",
       "    </tr>\n",
       "    <tr>\n",
       "      <th>3</th>\n",
       "      <td>7</td>\n",
       "      <td>4</td>\n",
       "      <td>2</td>\n",
       "      <td>2</td>\n",
       "      <td>33</td>\n",
       "      <td>1</td>\n",
       "      <td>1</td>\n",
       "      <td>1</td>\n",
       "      <td>12</td>\n",
       "      <td>1</td>\n",
       "      <td>...</td>\n",
       "      <td>1</td>\n",
       "      <td>14</td>\n",
       "      <td>2</td>\n",
       "      <td>2</td>\n",
       "      <td>1</td>\n",
       "      <td>1</td>\n",
       "      <td>1</td>\n",
       "      <td>6</td>\n",
       "      <td>0</td>\n",
       "      <td>260</td>\n",
       "    </tr>\n",
       "    <tr>\n",
       "      <th>4</th>\n",
       "      <td>5</td>\n",
       "      <td>3</td>\n",
       "      <td>2</td>\n",
       "      <td>2</td>\n",
       "      <td>20</td>\n",
       "      <td>1</td>\n",
       "      <td>2</td>\n",
       "      <td>6</td>\n",
       "      <td>7</td>\n",
       "      <td>2</td>\n",
       "      <td>...</td>\n",
       "      <td>1</td>\n",
       "      <td>6</td>\n",
       "      <td>2</td>\n",
       "      <td>2</td>\n",
       "      <td>2</td>\n",
       "      <td>2</td>\n",
       "      <td>1</td>\n",
       "      <td>5</td>\n",
       "      <td>8</td>\n",
       "      <td>185</td>\n",
       "    </tr>\n",
       "  </tbody>\n",
       "</table>\n",
       "<p>5 rows × 21 columns</p>\n",
       "</div>"
      ],
      "text/plain": [
       "   CENSUS DIVISION  NUMBER OF PERSONS IN HOUSEHOLD  \\\n",
       "0                3                               3   \n",
       "1                9                               1   \n",
       "2                6                               3   \n",
       "3                7                               4   \n",
       "4                5                               3   \n",
       "\n",
       "   FATHER OF RESPONDENT IN HOUSEHOLD  MOTHER OF RESPONDENT IN HOUSEHOLD  AGE  \\\n",
       "0                                  2                                  2   77   \n",
       "1                                  2                                  2   24   \n",
       "2                                  2                                  2   74   \n",
       "3                                  2                                  2   33   \n",
       "4                                  2                                  2   20   \n",
       "\n",
       "   SEX  IMPUTED RACE/ETHNICITY  CURRENT MARITAL STATUS  \\\n",
       "0    2                       1                       3   \n",
       "1    2                       1                       6   \n",
       "2    1                       1                       1   \n",
       "3    1                       1                       1   \n",
       "4    1                       2                       6   \n",
       "\n",
       "   HIGHEST GRADE OR YEAR OF SCHOOL COMPLETED  \\\n",
       "0                                          3   \n",
       "1                                         12   \n",
       "2                                         11   \n",
       "3                                         12   \n",
       "4                                          7   \n",
       "\n",
       "   PRESENT SITUATION INCLUDES WORKING FULL TIME (35+ HOURS A WEEK)  \\\n",
       "0                                                  2                 \n",
       "1                                                  1                 \n",
       "2                                                  2                 \n",
       "3                                                  1                 \n",
       "4                                                  2                 \n",
       "\n",
       "        ...        WORK AT JOB OR BUSINESS IN LAST 12 MONTHS  \\\n",
       "0       ...                                                2   \n",
       "1       ...                                                1   \n",
       "2       ...                                                2   \n",
       "3       ...                                                1   \n",
       "4       ...                                                1   \n",
       "\n",
       "   TOTAL FAMILY INCOME IN LAST 12 MONTHS (INCLUDING ANY INCOME FROM FOOD STAMPS)  \\\n",
       "0                                                  9                               \n",
       "1                                                  8                               \n",
       "2                                                  7                               \n",
       "3                                                 14                               \n",
       "4                                                  6                               \n",
       "\n",
       "   PERSONALLY RECEIVED FOOD STAMPS IN LAST 12 MONTHS  \\\n",
       "0                                                  2   \n",
       "1                                                  2   \n",
       "2                                                  2   \n",
       "3                                                  2   \n",
       "4                                                  2   \n",
       "\n",
       "   CURRENTLY COVERED BY MEDICAID  \\\n",
       "0                              2   \n",
       "1                              2   \n",
       "2                              2   \n",
       "3                              2   \n",
       "4                              2   \n",
       "\n",
       "   CURRENTLY COVERED BY PRIVATE HEALTH INSURANCE  \\\n",
       "0                                              2   \n",
       "1                                              1   \n",
       "2                                              1   \n",
       "3                                              1   \n",
       "4                                              2   \n",
       "\n",
       "   SELF-PERCEIVED CURRENT HEALTH  \\\n",
       "0                              1   \n",
       "1                              2   \n",
       "2                              3   \n",
       "3                              1   \n",
       "4                              2   \n",
       "\n",
       "   ANY FAMILY MEMBERS OR CLOSE FRIENDS DIED IN LAST 12 MONTHS  HEIGHT: FEET  \\\n",
       "0                                                  1                      5   \n",
       "1                                                  1                      5   \n",
       "2                                                  1                      6   \n",
       "3                                                  1                      6   \n",
       "4                                                  1                      5   \n",
       "\n",
       "   HEIGHT: INCHES  WEIGHT: POUNDS  \n",
       "0               5             180  \n",
       "1               5             150  \n",
       "2               2             170  \n",
       "3               0             260  \n",
       "4               8             185  \n",
       "\n",
       "[5 rows x 21 columns]"
      ]
     },
     "execution_count": 301,
     "metadata": {},
     "output_type": "execute_result"
    }
   ],
   "source": [
    "rawt.columns = col_names\n",
    "rawt.head()"
   ]
  },
  {
   "cell_type": "code",
   "execution_count": 302,
   "metadata": {
    "collapsed": true
   },
   "outputs": [],
   "source": [
    "rawt['ANY FAMILY MEMBERS OR CLOSE FRIENDS DIED IN LAST 12 MONTHS'] = rawt['ANY FAMILY MEMBERS OR CLOSE FRIENDS DIED IN LAST 12 MONTHS'].replace(9,2)\n",
    "rawt['SELF-PERCEIVED CURRENT HEALTH'] = rawt['SELF-PERCEIVED CURRENT HEALTH'].replace(9,3)\n",
    "rawt['HEIGHT: INCHES']  = rawt['HEIGHT: INCHES'].replace(99,np.median(rawt['HEIGHT: INCHES']))\n",
    "rawt['HEIGHT: FEET']  = rawt['HEIGHT: FEET'].replace(99,np.median(rawt['HEIGHT: FEET']))\n",
    "\n",
    "## Combine Heights\n",
    "rawt['HEIGHT'] = rawt['HEIGHT: FEET']*12 + rawt['HEIGHT: INCHES']\n"
   ]
  },
  {
   "cell_type": "code",
   "execution_count": 303,
   "metadata": {
    "collapsed": true
   },
   "outputs": [],
   "source": [
    "def col_encode(col):\n",
    "    return pd.get_dummies(rawt[col], prefix = col)\n",
    "\n",
    "def col_mapped(col):\n",
    "    return rawt[col].map({1:0,2:1})\n",
    "\n",
    "def col_normalized(col):\n",
    "    return MinMaxScaler().fit_transform(rawt[col].values.reshape(-1,1))"
   ]
  },
  {
   "cell_type": "code",
   "execution_count": 304,
   "metadata": {
    "collapsed": true
   },
   "outputs": [],
   "source": [
    "rawt['AGE'] = MinMaxScaler().fit_transform(rawt['AGE'].values.reshape(-1,1))\n",
    "for col in to_be_encoded:\n",
    "    rawt = pd.concat([rawt, col_encode(col)], axis = 1)\n",
    "\n",
    "for col in to_be_mapped:\n",
    "    rawt[col] = col_mapped(col)\n",
    "    \n",
    "for col in to_be_normalized:\n",
    "    rawt[col]  = col_normalized(col)\n",
    "\n",
    "rawt = rawt.drop(to_be_encoded, axis = 1)\n",
    "rawt = rawt.drop(['HEIGHT: FEET', 'HEIGHT: INCHES'], axis = 1)"
   ]
  },
  {
   "cell_type": "code",
   "execution_count": 305,
   "metadata": {
    "collapsed": true
   },
   "outputs": [],
   "source": [
    "rawt['ONES'] = np.ones(rawt.shape[0])"
   ]
  },
  {
   "cell_type": "code",
   "execution_count": 306,
   "metadata": {
    "collapsed": false
   },
   "outputs": [
    {
     "data": {
      "text/html": [
       "<div>\n",
       "<table border=\"1\" class=\"dataframe\">\n",
       "  <thead>\n",
       "    <tr style=\"text-align: right;\">\n",
       "      <th></th>\n",
       "      <th>NUMBER OF PERSONS IN HOUSEHOLD</th>\n",
       "      <th>FATHER OF RESPONDENT IN HOUSEHOLD</th>\n",
       "      <th>MOTHER OF RESPONDENT IN HOUSEHOLD</th>\n",
       "      <th>AGE</th>\n",
       "      <th>SEX</th>\n",
       "      <th>PRESENT SITUATION INCLUDES WORKING FULL TIME (35+ HOURS A WEEK)</th>\n",
       "      <th>PRESENT SITUATION INCLUDES RETIRED</th>\n",
       "      <th>WORK AT JOB OR BUSINESS IN LAST 12 MONTHS</th>\n",
       "      <th>PERSONALLY RECEIVED FOOD STAMPS IN LAST 12 MONTHS</th>\n",
       "      <th>CURRENTLY COVERED BY MEDICAID</th>\n",
       "      <th>...</th>\n",
       "      <th>TOTAL FAMILY INCOME IN LAST 12 MONTHS (INCLUDING ANY INCOME FROM FOOD STAMPS)_18</th>\n",
       "      <th>TOTAL FAMILY INCOME IN LAST 12 MONTHS (INCLUDING ANY INCOME FROM FOOD STAMPS)_19</th>\n",
       "      <th>TOTAL FAMILY INCOME IN LAST 12 MONTHS (INCLUDING ANY INCOME FROM FOOD STAMPS)_20</th>\n",
       "      <th>TOTAL FAMILY INCOME IN LAST 12 MONTHS (INCLUDING ANY INCOME FROM FOOD STAMPS)_21</th>\n",
       "      <th>SELF-PERCEIVED CURRENT HEALTH_1</th>\n",
       "      <th>SELF-PERCEIVED CURRENT HEALTH_2</th>\n",
       "      <th>SELF-PERCEIVED CURRENT HEALTH_3</th>\n",
       "      <th>SELF-PERCEIVED CURRENT HEALTH_4</th>\n",
       "      <th>SELF-PERCEIVED CURRENT HEALTH_5</th>\n",
       "      <th>ONES</th>\n",
       "    </tr>\n",
       "  </thead>\n",
       "  <tbody>\n",
       "    <tr>\n",
       "      <th>0</th>\n",
       "      <td>0.1250</td>\n",
       "      <td>1</td>\n",
       "      <td>1</td>\n",
       "      <td>0.7375</td>\n",
       "      <td>1</td>\n",
       "      <td>1</td>\n",
       "      <td>0</td>\n",
       "      <td>1</td>\n",
       "      <td>1</td>\n",
       "      <td>1</td>\n",
       "      <td>...</td>\n",
       "      <td>0</td>\n",
       "      <td>0</td>\n",
       "      <td>0</td>\n",
       "      <td>0</td>\n",
       "      <td>1</td>\n",
       "      <td>0</td>\n",
       "      <td>0</td>\n",
       "      <td>0</td>\n",
       "      <td>0</td>\n",
       "      <td>1.0</td>\n",
       "    </tr>\n",
       "    <tr>\n",
       "      <th>1</th>\n",
       "      <td>0.0000</td>\n",
       "      <td>1</td>\n",
       "      <td>1</td>\n",
       "      <td>0.0750</td>\n",
       "      <td>1</td>\n",
       "      <td>0</td>\n",
       "      <td>1</td>\n",
       "      <td>0</td>\n",
       "      <td>1</td>\n",
       "      <td>1</td>\n",
       "      <td>...</td>\n",
       "      <td>0</td>\n",
       "      <td>0</td>\n",
       "      <td>0</td>\n",
       "      <td>0</td>\n",
       "      <td>0</td>\n",
       "      <td>1</td>\n",
       "      <td>0</td>\n",
       "      <td>0</td>\n",
       "      <td>0</td>\n",
       "      <td>1.0</td>\n",
       "    </tr>\n",
       "    <tr>\n",
       "      <th>2</th>\n",
       "      <td>0.1250</td>\n",
       "      <td>1</td>\n",
       "      <td>1</td>\n",
       "      <td>0.7000</td>\n",
       "      <td>0</td>\n",
       "      <td>1</td>\n",
       "      <td>0</td>\n",
       "      <td>1</td>\n",
       "      <td>1</td>\n",
       "      <td>1</td>\n",
       "      <td>...</td>\n",
       "      <td>0</td>\n",
       "      <td>0</td>\n",
       "      <td>0</td>\n",
       "      <td>0</td>\n",
       "      <td>0</td>\n",
       "      <td>0</td>\n",
       "      <td>1</td>\n",
       "      <td>0</td>\n",
       "      <td>0</td>\n",
       "      <td>1.0</td>\n",
       "    </tr>\n",
       "    <tr>\n",
       "      <th>3</th>\n",
       "      <td>0.1875</td>\n",
       "      <td>1</td>\n",
       "      <td>1</td>\n",
       "      <td>0.1875</td>\n",
       "      <td>0</td>\n",
       "      <td>0</td>\n",
       "      <td>1</td>\n",
       "      <td>0</td>\n",
       "      <td>1</td>\n",
       "      <td>1</td>\n",
       "      <td>...</td>\n",
       "      <td>0</td>\n",
       "      <td>0</td>\n",
       "      <td>0</td>\n",
       "      <td>0</td>\n",
       "      <td>1</td>\n",
       "      <td>0</td>\n",
       "      <td>0</td>\n",
       "      <td>0</td>\n",
       "      <td>0</td>\n",
       "      <td>1.0</td>\n",
       "    </tr>\n",
       "    <tr>\n",
       "      <th>4</th>\n",
       "      <td>0.1250</td>\n",
       "      <td>1</td>\n",
       "      <td>1</td>\n",
       "      <td>0.0250</td>\n",
       "      <td>0</td>\n",
       "      <td>1</td>\n",
       "      <td>1</td>\n",
       "      <td>0</td>\n",
       "      <td>1</td>\n",
       "      <td>1</td>\n",
       "      <td>...</td>\n",
       "      <td>0</td>\n",
       "      <td>0</td>\n",
       "      <td>0</td>\n",
       "      <td>0</td>\n",
       "      <td>0</td>\n",
       "      <td>1</td>\n",
       "      <td>0</td>\n",
       "      <td>0</td>\n",
       "      <td>0</td>\n",
       "      <td>1.0</td>\n",
       "    </tr>\n",
       "  </tbody>\n",
       "</table>\n",
       "<p>5 rows × 75 columns</p>\n",
       "</div>"
      ],
      "text/plain": [
       "   NUMBER OF PERSONS IN HOUSEHOLD  FATHER OF RESPONDENT IN HOUSEHOLD  \\\n",
       "0                          0.1250                                  1   \n",
       "1                          0.0000                                  1   \n",
       "2                          0.1250                                  1   \n",
       "3                          0.1875                                  1   \n",
       "4                          0.1250                                  1   \n",
       "\n",
       "   MOTHER OF RESPONDENT IN HOUSEHOLD     AGE  SEX  \\\n",
       "0                                  1  0.7375    1   \n",
       "1                                  1  0.0750    1   \n",
       "2                                  1  0.7000    0   \n",
       "3                                  1  0.1875    0   \n",
       "4                                  1  0.0250    0   \n",
       "\n",
       "   PRESENT SITUATION INCLUDES WORKING FULL TIME (35+ HOURS A WEEK)  \\\n",
       "0                                                  1                 \n",
       "1                                                  0                 \n",
       "2                                                  1                 \n",
       "3                                                  0                 \n",
       "4                                                  1                 \n",
       "\n",
       "   PRESENT SITUATION INCLUDES RETIRED  \\\n",
       "0                                   0   \n",
       "1                                   1   \n",
       "2                                   0   \n",
       "3                                   1   \n",
       "4                                   1   \n",
       "\n",
       "   WORK AT JOB OR BUSINESS IN LAST 12 MONTHS  \\\n",
       "0                                          1   \n",
       "1                                          0   \n",
       "2                                          1   \n",
       "3                                          0   \n",
       "4                                          0   \n",
       "\n",
       "   PERSONALLY RECEIVED FOOD STAMPS IN LAST 12 MONTHS  \\\n",
       "0                                                  1   \n",
       "1                                                  1   \n",
       "2                                                  1   \n",
       "3                                                  1   \n",
       "4                                                  1   \n",
       "\n",
       "   CURRENTLY COVERED BY MEDICAID  ...   \\\n",
       "0                              1  ...    \n",
       "1                              1  ...    \n",
       "2                              1  ...    \n",
       "3                              1  ...    \n",
       "4                              1  ...    \n",
       "\n",
       "   TOTAL FAMILY INCOME IN LAST 12 MONTHS (INCLUDING ANY INCOME FROM FOOD STAMPS)_18  \\\n",
       "0                                                  0                                  \n",
       "1                                                  0                                  \n",
       "2                                                  0                                  \n",
       "3                                                  0                                  \n",
       "4                                                  0                                  \n",
       "\n",
       "   TOTAL FAMILY INCOME IN LAST 12 MONTHS (INCLUDING ANY INCOME FROM FOOD STAMPS)_19  \\\n",
       "0                                                  0                                  \n",
       "1                                                  0                                  \n",
       "2                                                  0                                  \n",
       "3                                                  0                                  \n",
       "4                                                  0                                  \n",
       "\n",
       "   TOTAL FAMILY INCOME IN LAST 12 MONTHS (INCLUDING ANY INCOME FROM FOOD STAMPS)_20  \\\n",
       "0                                                  0                                  \n",
       "1                                                  0                                  \n",
       "2                                                  0                                  \n",
       "3                                                  0                                  \n",
       "4                                                  0                                  \n",
       "\n",
       "   TOTAL FAMILY INCOME IN LAST 12 MONTHS (INCLUDING ANY INCOME FROM FOOD STAMPS)_21  \\\n",
       "0                                                  0                                  \n",
       "1                                                  0                                  \n",
       "2                                                  0                                  \n",
       "3                                                  0                                  \n",
       "4                                                  0                                  \n",
       "\n",
       "   SELF-PERCEIVED CURRENT HEALTH_1  SELF-PERCEIVED CURRENT HEALTH_2  \\\n",
       "0                                1                                0   \n",
       "1                                0                                1   \n",
       "2                                0                                0   \n",
       "3                                1                                0   \n",
       "4                                0                                1   \n",
       "\n",
       "   SELF-PERCEIVED CURRENT HEALTH_3  SELF-PERCEIVED CURRENT HEALTH_4  \\\n",
       "0                                0                                0   \n",
       "1                                0                                0   \n",
       "2                                1                                0   \n",
       "3                                0                                0   \n",
       "4                                0                                0   \n",
       "\n",
       "   SELF-PERCEIVED CURRENT HEALTH_5  ONES  \n",
       "0                                0   1.0  \n",
       "1                                0   1.0  \n",
       "2                                0   1.0  \n",
       "3                                0   1.0  \n",
       "4                                0   1.0  \n",
       "\n",
       "[5 rows x 75 columns]"
      ]
     },
     "execution_count": 306,
     "metadata": {},
     "output_type": "execute_result"
    }
   ],
   "source": [
    "rawt.head()"
   ]
  },
  {
   "cell_type": "code",
   "execution_count": 308,
   "metadata": {
    "collapsed": true
   },
   "outputs": [],
   "source": [
    "rawt['TARGET'] = targett"
   ]
  },
  {
   "cell_type": "code",
   "execution_count": 309,
   "metadata": {
    "collapsed": false
   },
   "outputs": [
    {
     "data": {
      "text/plain": [
       "(13093, 76)"
      ]
     },
     "execution_count": 309,
     "metadata": {},
     "output_type": "execute_result"
    }
   ],
   "source": [
    "rawt.shape"
   ]
  },
  {
   "cell_type": "code",
   "execution_count": 310,
   "metadata": {
    "collapsed": false
   },
   "outputs": [],
   "source": [
    "rawt.to_csv('hw1_test.csv')"
   ]
  },
  {
   "cell_type": "markdown",
   "metadata": {},
   "source": [
    "## Machine Learning using sklearn"
   ]
  },
  {
   "cell_type": "code",
   "execution_count": 265,
   "metadata": {
    "collapsed": false
   },
   "outputs": [],
   "source": [
    "from sklearn.linear_model import LogisticRegression"
   ]
  },
  {
   "cell_type": "code",
   "execution_count": 275,
   "metadata": {
    "collapsed": true
   },
   "outputs": [],
   "source": [
    "lr = LogisticRegression('l2')"
   ]
  },
  {
   "cell_type": "code",
   "execution_count": 276,
   "metadata": {
    "collapsed": false
   },
   "outputs": [],
   "source": [
    "(m, n) = raw.shape\n",
    "X = raw.ix[:, :n-1]\n",
    "y = raw.ix[:, n-1] "
   ]
  },
  {
   "cell_type": "code",
   "execution_count": 277,
   "metadata": {
    "collapsed": false
   },
   "outputs": [],
   "source": [
    "X_train = X[:20000]\n",
    "y_train = y[:20000]\n",
    "X_test = X[20001:]\n",
    "y_test = y[20001:]"
   ]
  },
  {
   "cell_type": "code",
   "execution_count": 278,
   "metadata": {
    "collapsed": false
   },
   "outputs": [],
   "source": [
    "result = lr.fit(X_train, y_train).score(X_test, y_test)"
   ]
  },
  {
   "cell_type": "code",
   "execution_count": 279,
   "metadata": {
    "collapsed": false
   },
   "outputs": [
    {
     "data": {
      "text/plain": [
       "0.8160816081608161"
      ]
     },
     "execution_count": 279,
     "metadata": {},
     "output_type": "execute_result"
    }
   ],
   "source": [
    "result"
   ]
  },
  {
   "cell_type": "code",
   "execution_count": 280,
   "metadata": {
    "collapsed": false
   },
   "outputs": [
    {
     "data": {
      "text/plain": [
       "(30000, 75)"
      ]
     },
     "execution_count": 280,
     "metadata": {},
     "output_type": "execute_result"
    }
   ],
   "source": [
    "X.shape"
   ]
  },
  {
   "cell_type": "code",
   "execution_count": 281,
   "metadata": {
    "collapsed": true
   },
   "outputs": [],
   "source": [
    "y_pred = lr.fit(X_train, y_train).predict(X_test)"
   ]
  },
  {
   "cell_type": "code",
   "execution_count": 282,
   "metadata": {
    "collapsed": false
   },
   "outputs": [
    {
     "data": {
      "text/plain": [
       "442"
      ]
     },
     "execution_count": 282,
     "metadata": {},
     "output_type": "execute_result"
    }
   ],
   "source": [
    "y_pred[y_pred == 1].sum()"
   ]
  },
  {
   "cell_type": "code",
   "execution_count": 283,
   "metadata": {
    "collapsed": false
   },
   "outputs": [
    {
     "data": {
      "text/plain": [
       "1921"
      ]
     },
     "execution_count": 283,
     "metadata": {},
     "output_type": "execute_result"
    }
   ],
   "source": [
    "y_test.sum()"
   ]
  },
  {
   "cell_type": "code",
   "execution_count": 284,
   "metadata": {
    "collapsed": true
   },
   "outputs": [],
   "source": [
    "import a"
   ]
  },
  {
   "cell_type": "code",
   "execution_count": 285,
   "metadata": {
    "collapsed": true
   },
   "outputs": [],
   "source": [
    "model = a.Logistic_Regression(0.005, 1, 1000)\n",
    "score = model.score(X_train, y_train, X_test, y_test)"
   ]
  },
  {
   "cell_type": "code",
   "execution_count": 286,
   "metadata": {
    "collapsed": false
   },
   "outputs": [
    {
     "data": {
      "text/plain": [
       "0.80788078807880792"
      ]
     },
     "execution_count": 286,
     "metadata": {},
     "output_type": "execute_result"
    }
   ],
   "source": [
    "score"
   ]
  },
  {
   "cell_type": "code",
   "execution_count": 288,
   "metadata": {
    "collapsed": false
   },
   "outputs": [
    {
     "data": {
      "text/plain": [
       "0.8078807880788079"
      ]
     },
     "execution_count": 288,
     "metadata": {},
     "output_type": "execute_result"
    }
   ],
   "source": [
    "1- y_test.sum()/len(y_test)"
   ]
  },
  {
   "cell_type": "code",
   "execution_count": 289,
   "metadata": {
    "collapsed": true
   },
   "outputs": [],
   "source": [
    "from sklearn.metrics import f1_score"
   ]
  },
  {
   "cell_type": "code",
   "execution_count": 291,
   "metadata": {
    "collapsed": false
   },
   "outputs": [
    {
     "data": {
      "text/plain": [
       "0.22175201015658061"
      ]
     },
     "execution_count": 291,
     "metadata": {},
     "output_type": "execute_result"
    }
   ],
   "source": [
    "f1_score( y_test, y_pred)"
   ]
  },
  {
   "cell_type": "code",
   "execution_count": null,
   "metadata": {
    "collapsed": true
   },
   "outputs": [],
   "source": []
  }
 ],
 "metadata": {
  "anaconda-cloud": {},
  "kernelspec": {
   "display_name": "Python [Root]",
   "language": "python",
   "name": "Python [Root]"
  },
  "language_info": {
   "codemirror_mode": {
    "name": "ipython",
    "version": 3
   },
   "file_extension": ".py",
   "mimetype": "text/x-python",
   "name": "python",
   "nbconvert_exporter": "python",
   "pygments_lexer": "ipython3",
   "version": "3.5.2"
  }
 },
 "nbformat": 4,
 "nbformat_minor": 0
}
