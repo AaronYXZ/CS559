{
 "cells": [
  {
   "cell_type": "code",
   "execution_count": 401,
   "metadata": {
    "collapsed": true
   },
   "outputs": [],
   "source": [
    "import pandas as pd \n",
    "import numpy as np\n",
    "import seaborn as sns; sns.set(font_scale=1.7) \n",
    "import matplotlib.pyplot as plt\n",
    "import sklearn\n",
    "import statsmodels.api as sm\n",
    "import math\n",
    "import json\n",
    "from sklearn.model_selection import train_test_split\n",
    "from sklearn.ensemble import BaggingClassifier, RandomForestClassifier, GradientBoostingClassifier \n",
    "import xgboost as xgb\n",
    "import re\n",
    "from sklearn.metrics import log_loss\n",
    "%matplotlib inline"
   ]
  },
  {
   "cell_type": "markdown",
   "metadata": {},
   "source": [
    "# Data Cleaning & Feature Engineering"
   ]
  },
  {
   "cell_type": "markdown",
   "metadata": {},
   "source": [
    "### Read in JSON data, combine into one dataframe total"
   ]
  },
  {
   "cell_type": "code",
   "execution_count": 402,
   "metadata": {
    "collapsed": false
   },
   "outputs": [
    {
     "data": {
      "text/plain": [
       "dict_keys(['display_address', 'photos', 'created', 'description', 'interest_level', 'street_address', 'building_id', 'bathrooms', 'listing_id', 'price', 'longitude', 'features', 'latitude', 'bedrooms', 'manager_id'])"
      ]
     },
     "execution_count": 402,
     "metadata": {},
     "output_type": "execute_result"
    }
   ],
   "source": [
    "json_obj = json.load(open('../Data/train.json'))\n",
    "json_obj.keys()"
   ]
  },
  {
   "cell_type": "code",
   "execution_count": 403,
   "metadata": {
    "collapsed": true
   },
   "outputs": [],
   "source": [
    "train =pd.DataFrame()\n",
    "for key in json_obj.keys():\n",
    "    train[key] = pd.Series(json_obj[key])"
   ]
  },
  {
   "cell_type": "code",
   "execution_count": 404,
   "metadata": {
    "collapsed": true
   },
   "outputs": [],
   "source": [
    "json_obj2 = json.load(open('../Data/test.json'))\n",
    "test = pd.DataFrame()\n",
    "for key in json_obj2.keys():\n",
    "    test[key] = pd.Series(json_obj2[key])"
   ]
  },
  {
   "cell_type": "code",
   "execution_count": 405,
   "metadata": {
    "collapsed": true
   },
   "outputs": [],
   "source": [
    "train_ori_index = train.index\n",
    "test_ori_index = test.index"
   ]
  },
  {
   "cell_type": "code",
   "execution_count": 406,
   "metadata": {
    "collapsed": true
   },
   "outputs": [],
   "source": [
    "train['label'] = 'Train'\n",
    "test['label'] = 'Test'\n",
    "total = pd.concat([train, test], axis = 0)"
   ]
  },
  {
   "cell_type": "code",
   "execution_count": 407,
   "metadata": {
    "collapsed": false
   },
   "outputs": [],
   "source": [
    "listing_image = pd.read_csv('listing_image_time.csv')"
   ]
  },
  {
   "cell_type": "code",
   "execution_count": 408,
   "metadata": {
    "collapsed": false
   },
   "outputs": [
    {
     "data": {
      "text/html": [
       "<div>\n",
       "<table border=\"1\" class=\"dataframe\">\n",
       "  <thead>\n",
       "    <tr style=\"text-align: right;\">\n",
       "      <th></th>\n",
       "      <th>Listing_Id</th>\n",
       "      <th>time_stamp</th>\n",
       "    </tr>\n",
       "  </thead>\n",
       "  <tbody>\n",
       "    <tr>\n",
       "      <th>0</th>\n",
       "      <td>6811957</td>\n",
       "      <td>1479785186</td>\n",
       "    </tr>\n",
       "    <tr>\n",
       "      <th>1</th>\n",
       "      <td>6811958</td>\n",
       "      <td>1479786880</td>\n",
       "    </tr>\n",
       "    <tr>\n",
       "      <th>2</th>\n",
       "      <td>6811960</td>\n",
       "      <td>1479780964</td>\n",
       "    </tr>\n",
       "    <tr>\n",
       "      <th>3</th>\n",
       "      <td>6811964</td>\n",
       "      <td>1479783510</td>\n",
       "    </tr>\n",
       "    <tr>\n",
       "      <th>4</th>\n",
       "      <td>6811965</td>\n",
       "      <td>1479786168</td>\n",
       "    </tr>\n",
       "  </tbody>\n",
       "</table>\n",
       "</div>"
      ],
      "text/plain": [
       "   Listing_Id  time_stamp\n",
       "0     6811957  1479785186\n",
       "1     6811958  1479786880\n",
       "2     6811960  1479780964\n",
       "3     6811964  1479783510\n",
       "4     6811965  1479786168"
      ]
     },
     "execution_count": 408,
     "metadata": {},
     "output_type": "execute_result"
    }
   ],
   "source": [
    "listing_image.head()"
   ]
  },
  {
   "cell_type": "code",
   "execution_count": 409,
   "metadata": {
    "collapsed": true
   },
   "outputs": [],
   "source": [
    "total = pd.merge(total, listing_image, left_on = 'listing_id', right_on = 'Listing_Id', how = 'left')"
   ]
  },
  {
   "cell_type": "code",
   "execution_count": 410,
   "metadata": {
    "collapsed": true
   },
   "outputs": [],
   "source": [
    "total = total.drop('Listing_Id', axis = 1)"
   ]
  },
  {
   "cell_type": "code",
   "execution_count": 411,
   "metadata": {
    "collapsed": false
   },
   "outputs": [
    {
     "data": {
      "text/html": [
       "<div>\n",
       "<table border=\"1\" class=\"dataframe\">\n",
       "  <thead>\n",
       "    <tr style=\"text-align: right;\">\n",
       "      <th></th>\n",
       "      <th>bathrooms</th>\n",
       "      <th>bedrooms</th>\n",
       "      <th>building_id</th>\n",
       "      <th>created</th>\n",
       "      <th>description</th>\n",
       "      <th>display_address</th>\n",
       "      <th>features</th>\n",
       "      <th>interest_level</th>\n",
       "      <th>label</th>\n",
       "      <th>latitude</th>\n",
       "      <th>listing_id</th>\n",
       "      <th>longitude</th>\n",
       "      <th>manager_id</th>\n",
       "      <th>photos</th>\n",
       "      <th>price</th>\n",
       "      <th>street_address</th>\n",
       "      <th>time_stamp</th>\n",
       "    </tr>\n",
       "  </thead>\n",
       "  <tbody>\n",
       "    <tr>\n",
       "      <th>0</th>\n",
       "      <td>1.5</td>\n",
       "      <td>3</td>\n",
       "      <td>53a5b119ba8f7b61d4e010512e0dfc85</td>\n",
       "      <td>2016-06-24 07:54:24</td>\n",
       "      <td>A Brand New 3 Bedroom 1.5 bath ApartmentEnjoy ...</td>\n",
       "      <td>Metropolitan Avenue</td>\n",
       "      <td>[]</td>\n",
       "      <td>medium</td>\n",
       "      <td>Train</td>\n",
       "      <td>40.7145</td>\n",
       "      <td>7211212</td>\n",
       "      <td>-73.9425</td>\n",
       "      <td>5ba989232d0489da1b5f2c45f6688adc</td>\n",
       "      <td>[https://photos.renthop.com/2/7211212_1ed4542e...</td>\n",
       "      <td>3000</td>\n",
       "      <td>792 Metropolitan Avenue</td>\n",
       "      <td>1478091590</td>\n",
       "    </tr>\n",
       "    <tr>\n",
       "      <th>1</th>\n",
       "      <td>1.0</td>\n",
       "      <td>2</td>\n",
       "      <td>c5c8a357cba207596b04d1afd1e4f130</td>\n",
       "      <td>2016-06-12 12:19:27</td>\n",
       "      <td></td>\n",
       "      <td>Columbus Avenue</td>\n",
       "      <td>[Doorman, Elevator, Fitness Center, Cats Allow...</td>\n",
       "      <td>low</td>\n",
       "      <td>Train</td>\n",
       "      <td>40.7947</td>\n",
       "      <td>7150865</td>\n",
       "      <td>-73.9667</td>\n",
       "      <td>7533621a882f71e25173b27e3139d83d</td>\n",
       "      <td>[https://photos.renthop.com/2/7150865_be3306c5...</td>\n",
       "      <td>5465</td>\n",
       "      <td>808 Columbus Avenue</td>\n",
       "      <td>1478129766</td>\n",
       "    </tr>\n",
       "    <tr>\n",
       "      <th>2</th>\n",
       "      <td>1.0</td>\n",
       "      <td>1</td>\n",
       "      <td>c3ba40552e2120b0acfc3cb5730bb2aa</td>\n",
       "      <td>2016-04-17 03:26:41</td>\n",
       "      <td>Top Top West Village location, beautiful Pre-w...</td>\n",
       "      <td>W 13 Street</td>\n",
       "      <td>[Laundry In Building, Dishwasher, Hardwood Flo...</td>\n",
       "      <td>high</td>\n",
       "      <td>Train</td>\n",
       "      <td>40.7388</td>\n",
       "      <td>6887163</td>\n",
       "      <td>-74.0018</td>\n",
       "      <td>d9039c43983f6e564b1482b273bd7b01</td>\n",
       "      <td>[https://photos.renthop.com/2/6887163_de85c427...</td>\n",
       "      <td>2850</td>\n",
       "      <td>241 W 13 Street</td>\n",
       "      <td>1478714436</td>\n",
       "    </tr>\n",
       "    <tr>\n",
       "      <th>3</th>\n",
       "      <td>1.0</td>\n",
       "      <td>1</td>\n",
       "      <td>28d9ad350afeaab8027513a3e52ac8d5</td>\n",
       "      <td>2016-04-18 02:22:02</td>\n",
       "      <td>Building Amenities - Garage - Garden - fitness...</td>\n",
       "      <td>East 49th Street</td>\n",
       "      <td>[Hardwood Floors, No Fee]</td>\n",
       "      <td>low</td>\n",
       "      <td>Train</td>\n",
       "      <td>40.7539</td>\n",
       "      <td>6888711</td>\n",
       "      <td>-73.9677</td>\n",
       "      <td>1067e078446a7897d2da493d2f741316</td>\n",
       "      <td>[https://photos.renthop.com/2/6888711_6e660cee...</td>\n",
       "      <td>3275</td>\n",
       "      <td>333 East 49th Street</td>\n",
       "      <td>1478714444</td>\n",
       "    </tr>\n",
       "    <tr>\n",
       "      <th>4</th>\n",
       "      <td>1.0</td>\n",
       "      <td>4</td>\n",
       "      <td>0</td>\n",
       "      <td>2016-04-28 01:32:41</td>\n",
       "      <td>Beautifully renovated 3 bedroom flex 4 bedroom...</td>\n",
       "      <td>West 143rd Street</td>\n",
       "      <td>[Pre-War]</td>\n",
       "      <td>low</td>\n",
       "      <td>Train</td>\n",
       "      <td>40.8241</td>\n",
       "      <td>6934781</td>\n",
       "      <td>-73.9493</td>\n",
       "      <td>98e13ad4b495b9613cef886d79a6291f</td>\n",
       "      <td>[https://photos.renthop.com/2/6934781_1fa4b41a...</td>\n",
       "      <td>3350</td>\n",
       "      <td>500 West 143rd Street</td>\n",
       "      <td>1478714464</td>\n",
       "    </tr>\n",
       "  </tbody>\n",
       "</table>\n",
       "</div>"
      ],
      "text/plain": [
       "   bathrooms  bedrooms                       building_id              created  \\\n",
       "0        1.5         3  53a5b119ba8f7b61d4e010512e0dfc85  2016-06-24 07:54:24   \n",
       "1        1.0         2  c5c8a357cba207596b04d1afd1e4f130  2016-06-12 12:19:27   \n",
       "2        1.0         1  c3ba40552e2120b0acfc3cb5730bb2aa  2016-04-17 03:26:41   \n",
       "3        1.0         1  28d9ad350afeaab8027513a3e52ac8d5  2016-04-18 02:22:02   \n",
       "4        1.0         4                                 0  2016-04-28 01:32:41   \n",
       "\n",
       "                                         description      display_address  \\\n",
       "0  A Brand New 3 Bedroom 1.5 bath ApartmentEnjoy ...  Metropolitan Avenue   \n",
       "1                                                         Columbus Avenue   \n",
       "2  Top Top West Village location, beautiful Pre-w...          W 13 Street   \n",
       "3  Building Amenities - Garage - Garden - fitness...     East 49th Street   \n",
       "4  Beautifully renovated 3 bedroom flex 4 bedroom...    West 143rd Street   \n",
       "\n",
       "                                            features interest_level  label  \\\n",
       "0                                                 []         medium  Train   \n",
       "1  [Doorman, Elevator, Fitness Center, Cats Allow...            low  Train   \n",
       "2  [Laundry In Building, Dishwasher, Hardwood Flo...           high  Train   \n",
       "3                          [Hardwood Floors, No Fee]            low  Train   \n",
       "4                                          [Pre-War]            low  Train   \n",
       "\n",
       "   latitude  listing_id  longitude                        manager_id  \\\n",
       "0   40.7145     7211212   -73.9425  5ba989232d0489da1b5f2c45f6688adc   \n",
       "1   40.7947     7150865   -73.9667  7533621a882f71e25173b27e3139d83d   \n",
       "2   40.7388     6887163   -74.0018  d9039c43983f6e564b1482b273bd7b01   \n",
       "3   40.7539     6888711   -73.9677  1067e078446a7897d2da493d2f741316   \n",
       "4   40.8241     6934781   -73.9493  98e13ad4b495b9613cef886d79a6291f   \n",
       "\n",
       "                                              photos  price  \\\n",
       "0  [https://photos.renthop.com/2/7211212_1ed4542e...   3000   \n",
       "1  [https://photos.renthop.com/2/7150865_be3306c5...   5465   \n",
       "2  [https://photos.renthop.com/2/6887163_de85c427...   2850   \n",
       "3  [https://photos.renthop.com/2/6888711_6e660cee...   3275   \n",
       "4  [https://photos.renthop.com/2/6934781_1fa4b41a...   3350   \n",
       "\n",
       "            street_address  time_stamp  \n",
       "0  792 Metropolitan Avenue  1478091590  \n",
       "1      808 Columbus Avenue  1478129766  \n",
       "2          241 W 13 Street  1478714436  \n",
       "3     333 East 49th Street  1478714444  \n",
       "4    500 West 143rd Street  1478714464  "
      ]
     },
     "execution_count": 411,
     "metadata": {},
     "output_type": "execute_result"
    }
   ],
   "source": [
    "total.head()"
   ]
  },
  {
   "cell_type": "markdown",
   "metadata": {},
   "source": [
    "### Covert 'Created' to 'Date' datetime format"
   ]
  },
  {
   "cell_type": "code",
   "execution_count": 412,
   "metadata": {
    "collapsed": true
   },
   "outputs": [],
   "source": [
    "import datetime as dt\n",
    "def get_datetime(strings):\n",
    "    try:\n",
    "        date = dt.datetime.strptime(strings, '%Y-%m-%d %H:%M:%S')\n",
    "        return date\n",
    "    except:\n",
    "        return None"
   ]
  },
  {
   "cell_type": "code",
   "execution_count": 413,
   "metadata": {
    "collapsed": true
   },
   "outputs": [],
   "source": [
    "total['date'] = total['created'].apply(get_datetime)"
   ]
  },
  {
   "cell_type": "code",
   "execution_count": 414,
   "metadata": {
    "collapsed": true
   },
   "outputs": [],
   "source": [
    "def get_month(dt):\n",
    "    try:\n",
    "        return dt.month\n",
    "    except:\n",
    "        return None"
   ]
  },
  {
   "cell_type": "code",
   "execution_count": 415,
   "metadata": {
    "collapsed": false
   },
   "outputs": [],
   "source": [
    "total['month'] = total['date'].apply(get_month)"
   ]
  },
  {
   "cell_type": "code",
   "execution_count": 416,
   "metadata": {
    "collapsed": true
   },
   "outputs": [],
   "source": [
    "day_min = total['date'].min()"
   ]
  },
  {
   "cell_type": "code",
   "execution_count": 417,
   "metadata": {
    "collapsed": true
   },
   "outputs": [],
   "source": [
    "def get_timediff(date):\n",
    "    return (date - day_min).days"
   ]
  },
  {
   "cell_type": "code",
   "execution_count": 418,
   "metadata": {
    "collapsed": true
   },
   "outputs": [],
   "source": [
    "total['day_diff'] = total['date'].apply(get_timediff)"
   ]
  },
  {
   "cell_type": "markdown",
   "metadata": {},
   "source": [
    "### Deal with 'photos', 'descriptions'"
   ]
  },
  {
   "cell_type": "code",
   "execution_count": 419,
   "metadata": {
    "collapsed": true
   },
   "outputs": [],
   "source": [
    "total['photos_counts'] = total['photos'].apply(len)"
   ]
  },
  {
   "cell_type": "code",
   "execution_count": 420,
   "metadata": {
    "collapsed": false
   },
   "outputs": [],
   "source": [
    "total['description_word_count'] = total['description'].apply(lambda x:len(x.split(\" \")))"
   ]
  },
  {
   "cell_type": "markdown",
   "metadata": {},
   "source": [
    "### Deal with Categorical Features: "
   ]
  },
  {
   "cell_type": "code",
   "execution_count": 421,
   "metadata": {
    "collapsed": true
   },
   "outputs": [],
   "source": [
    "from sklearn import preprocessing"
   ]
  },
  {
   "cell_type": "code",
   "execution_count": 422,
   "metadata": {
    "collapsed": false
   },
   "outputs": [],
   "source": [
    "categorical = [\"display_address\", \"manager_id\", \"building_id\", \"street_address\"]\n",
    "for f in categorical:\n",
    "        if total[f].dtype=='object':\n",
    "            #print(f)\n",
    "            lbl = preprocessing.LabelEncoder()\n",
    "            total[f] = lbl.fit_transform(total[f])"
   ]
  },
  {
   "cell_type": "markdown",
   "metadata": {},
   "source": [
    "### Deal with features"
   ]
  },
  {
   "cell_type": "code",
   "execution_count": 423,
   "metadata": {
    "collapsed": true
   },
   "outputs": [],
   "source": [
    "from sklearn.feature_extraction.text import TfidfVectorizer\n",
    "from sklearn.feature_extraction.text import CountVectorizer"
   ]
  },
  {
   "cell_type": "code",
   "execution_count": 424,
   "metadata": {
    "collapsed": false
   },
   "outputs": [
    {
     "data": {
      "text/plain": [
       "['Swimming Pool',\n",
       " 'Roof Deck',\n",
       " 'Doorman',\n",
       " 'Elevator',\n",
       " 'Fitness Center',\n",
       " 'Laundry in Building',\n",
       " 'High Speed Internet',\n",
       " 'Dishwasher',\n",
       " 'Hardwood Floors',\n",
       " 'No Fee',\n",
       " 'Dogs Allowed',\n",
       " 'Cats Allowed']"
      ]
     },
     "execution_count": 424,
     "metadata": {},
     "output_type": "execute_result"
    }
   ],
   "source": [
    "total.ix[1000,'features']"
   ]
  },
  {
   "cell_type": "code",
   "execution_count": 425,
   "metadata": {
    "collapsed": true
   },
   "outputs": [],
   "source": [
    "total['features2'] = total['features'].apply(lambda x:' '.join(['_'.join(i.split(\" \")) for i in x]))"
   ]
  },
  {
   "cell_type": "code",
   "execution_count": 426,
   "metadata": {
    "collapsed": false
   },
   "outputs": [],
   "source": [
    "cv = CountVectorizer(stop_words='english', max_features=200)"
   ]
  },
  {
   "cell_type": "code",
   "execution_count": 427,
   "metadata": {
    "collapsed": false
   },
   "outputs": [],
   "source": [
    "total_cvfeatures = pd.DataFrame(cv.fit_transform(total['features2']).toarray())\n",
    "total_cvfeatures.index = total.index"
   ]
  },
  {
   "cell_type": "code",
   "execution_count": 428,
   "metadata": {
    "collapsed": false
   },
   "outputs": [],
   "source": [
    "total = pd.concat([total, total_cvfeatures], axis = 1)"
   ]
  },
  {
   "cell_type": "code",
   "execution_count": 184,
   "metadata": {
    "collapsed": false
   },
   "outputs": [],
   "source": [
    "#  def clean(text):\n",
    "#     clean1 = re.sub('[^a-zA-Z0-9]',' ',text)\n",
    "#     clean2 = re.sub(' +', ' ', clean1)\n",
    "#     clean3 = clean2.lower()\n",
    "#     return clean3\n"
   ]
  },
  {
   "cell_type": "code",
   "execution_count": 185,
   "metadata": {
    "collapsed": false
   },
   "outputs": [],
   "source": [
    "## tfidf = TfidfVectorizer(max_features= 500, stop_words= 'english')\n",
    "\n",
    "#  total['features2'] = total['features'].apply(' '.join)\n",
    "\n",
    "# # total_features = tfidf.fit_transform(total['features2'])\n",
    "\n",
    "# total_features = pd.DataFrame(total_features.toarray())\n",
    "# total_features.index = total.index\n",
    "\n",
    "# total = pd.concat([total, total_features], axis = 1)\n",
    "\n"
   ]
  },
  {
   "cell_type": "markdown",
   "metadata": {},
   "source": [
    "### Deal with price"
   ]
  },
  {
   "cell_type": "code",
   "execution_count": 429,
   "metadata": {
    "collapsed": true
   },
   "outputs": [],
   "source": [
    "total['total_room'] = total['bedrooms'] + total['bathrooms']"
   ]
  },
  {
   "cell_type": "code",
   "execution_count": 430,
   "metadata": {
    "collapsed": true
   },
   "outputs": [],
   "source": [
    "total['price_per_room'] = total['price'] / total['total_room']"
   ]
  },
  {
   "cell_type": "markdown",
   "metadata": {},
   "source": [
    "### Deal with manager_id"
   ]
  },
  {
   "cell_type": "code",
   "execution_count": 431,
   "metadata": {
    "collapsed": false
   },
   "outputs": [],
   "source": [
    "for month in [4,5,6]:\n",
    "    month_count = total.ix[total['month'] == month, ['manager_id','listing_id']].groupby('manager_id').count()\n",
    "    month_count.columns = month_count.columns.str.replace('listing_id', 'listings_by_month_'+str(month))\n",
    "    total = pd.merge(total, month_count, left_on = 'manager_id', right_index = True, how = 'left')"
   ]
  },
  {
   "cell_type": "code",
   "execution_count": 432,
   "metadata": {
    "collapsed": true
   },
   "outputs": [],
   "source": [
    "total['manager_listings'] = total.groupby('manager_id')['listing_id'].transform('count')"
   ]
  },
  {
   "cell_type": "code",
   "execution_count": 433,
   "metadata": {
    "collapsed": false
   },
   "outputs": [
    {
     "data": {
      "text/plain": [
       "(124011, 229)"
      ]
     },
     "execution_count": 433,
     "metadata": {},
     "output_type": "execute_result"
    }
   ],
   "source": [
    "total.shape"
   ]
  },
  {
   "cell_type": "code",
   "execution_count": 434,
   "metadata": {
    "collapsed": false
   },
   "outputs": [],
   "source": [
    "total['listings_by_month_4_perc'] = total['listings_by_month_4'] / total['manager_listings']\n",
    "total['listings_by_month_5_perc'] = total['listings_by_month_5'] / total['manager_listings']\n",
    "total['listings_by_month_6_perc'] = total['listings_by_month_6'] / total['manager_listings']"
   ]
  },
  {
   "cell_type": "code",
   "execution_count": 435,
   "metadata": {
    "collapsed": true
   },
   "outputs": [],
   "source": [
    "total_2 = total.copy()"
   ]
  },
  {
   "cell_type": "code",
   "execution_count": 436,
   "metadata": {
    "collapsed": false
   },
   "outputs": [
    {
     "data": {
      "text/plain": [
       "(124011, 232)"
      ]
     },
     "execution_count": 436,
     "metadata": {},
     "output_type": "execute_result"
    }
   ],
   "source": [
    "total_2.shape"
   ]
  },
  {
   "cell_type": "code",
   "execution_count": 437,
   "metadata": {
    "collapsed": true
   },
   "outputs": [],
   "source": [
    "total = total_2"
   ]
  },
  {
   "cell_type": "code",
   "execution_count": 438,
   "metadata": {
    "collapsed": false
   },
   "outputs": [
    {
     "data": {
      "text/plain": [
       "(124011, 232)"
      ]
     },
     "execution_count": 438,
     "metadata": {},
     "output_type": "execute_result"
    }
   ],
   "source": [
    "total.shape"
   ]
  },
  {
   "cell_type": "code",
   "execution_count": 439,
   "metadata": {
    "collapsed": true
   },
   "outputs": [],
   "source": [
    "total['average_price_by_manager'] = total.groupby('manager_id')['price'].transform('mean')"
   ]
  },
  {
   "cell_type": "code",
   "execution_count": 440,
   "metadata": {
    "collapsed": true
   },
   "outputs": [],
   "source": [
    "for month in [4,5,6]:\n",
    "    month_price = total.ix[total['month'] == month, ['manager_id','price']].groupby('manager_id').mean()\n",
    "    month_price.columns = month_price.columns.str.replace('price', 'price_by_month_'+str(month))\n",
    "    total = pd.merge(total, month_price, left_on = 'manager_id', right_index = True, how = 'left')"
   ]
  },
  {
   "cell_type": "code",
   "execution_count": 441,
   "metadata": {
    "collapsed": false
   },
   "outputs": [
    {
     "data": {
      "text/plain": [
       "(124011, 236)"
      ]
     },
     "execution_count": 441,
     "metadata": {},
     "output_type": "execute_result"
    }
   ],
   "source": [
    "total.shape"
   ]
  },
  {
   "cell_type": "markdown",
   "metadata": {},
   "source": [
    "### Add listings count by interest level"
   ]
  },
  {
   "cell_type": "code",
   "execution_count": 442,
   "metadata": {
    "collapsed": true
   },
   "outputs": [],
   "source": [
    "from sklearn.model_selection import KFold"
   ]
  },
  {
   "cell_type": "code",
   "execution_count": 443,
   "metadata": {
    "collapsed": true
   },
   "outputs": [],
   "source": [
    "kfold = KFold(n_splits=5, shuffle=True)"
   ]
  },
  {
   "cell_type": "code",
   "execution_count": 444,
   "metadata": {
    "collapsed": true
   },
   "outputs": [],
   "source": [
    "train = total[total['label'] == 'Train']\n",
    "test = total[total['label'] == 'Test']"
   ]
  },
  {
   "cell_type": "code",
   "execution_count": 445,
   "metadata": {
    "collapsed": false
   },
   "outputs": [],
   "source": [
    "for count, (tr_index, te_index) in enumerate(kfold.split(train)):\n",
    "    train_tr = train.iloc[tr_index]\n",
    "    train_val = train.iloc[te_index]\n",
    "    for level in train['interest_level'].unique():\n",
    "        listing_count = train_tr.ix[train_tr['interest_level'] == level, ['manager_id','listing_id']].groupby('manager_id').count()\n",
    "        listing_count.columns = listing_count.columns.str.replace('listing_id', 'listing_count_'+ str(level))\n",
    "        train_val= pd.merge(train_val,  listing_count, left_on = 'manager_id', right_index = True, how = 'left')\n",
    "    listing_count_alllevel = train_tr.ix[:,['manager_id','listing_id']].groupby('manager_id').count()\n",
    "    listing_count_alllevel.columns = listing_count_alllevel.columns.str.replace('listing_id', 'listing_count')\n",
    "    train_val= pd.merge(train_val,  listing_count_alllevel, left_on = 'manager_id', right_index = True, how = 'left')\n",
    "    if count == 0:\n",
    "        train_new = train_val\n",
    "    else:\n",
    "        train_new = pd.concat((train_new, train_val), axis = 0)\n"
   ]
  },
  {
   "cell_type": "code",
   "execution_count": 446,
   "metadata": {
    "collapsed": false
   },
   "outputs": [
    {
     "data": {
      "text/plain": [
       "(49352, 240)"
      ]
     },
     "execution_count": 446,
     "metadata": {},
     "output_type": "execute_result"
    }
   ],
   "source": [
    "train_new.shape"
   ]
  },
  {
   "cell_type": "code",
   "execution_count": 447,
   "metadata": {
    "collapsed": false
   },
   "outputs": [],
   "source": [
    "for level in train['interest_level'].unique():\n",
    "        listing_count = train.ix[train['interest_level'] == level, ['manager_id','listing_id']].groupby('manager_id').count()\n",
    "        listing_count.columns = listing_count.columns.str.replace('listing_id', 'listing_count_'+ str(level))\n",
    "        test= pd.merge(test,  listing_count, left_on = 'manager_id', right_index = True, how = 'left')\n",
    "listing_count_alllevel = train.ix[:, ['manager_id','listing_id']].groupby('manager_id').count()\n",
    "listing_count_alllevel.columns = listing_count_alllevel.columns.str.replace('listing_id', 'listing_count')\n",
    "test = pd.merge(test,  listing_count_alllevel, left_on = 'manager_id', right_index = True, how = 'left')"
   ]
  },
  {
   "cell_type": "code",
   "execution_count": 448,
   "metadata": {
    "collapsed": false
   },
   "outputs": [
    {
     "data": {
      "text/plain": [
       "(74659, 240)"
      ]
     },
     "execution_count": 448,
     "metadata": {},
     "output_type": "execute_result"
    }
   ],
   "source": [
    "test.shape"
   ]
  },
  {
   "cell_type": "code",
   "execution_count": 449,
   "metadata": {
    "collapsed": false
   },
   "outputs": [],
   "source": [
    "train_new['listing_count_high_perc'] = train_new['listing_count_high'] / train_new['listing_count']\n",
    "train_new['listing_count_medium_perc'] = train_new['listing_count_medium'] / train_new['listing_count']\n",
    "train_new['listing_count_low_perc'] = train_new['listing_count_low'] / train_new['listing_count']\n"
   ]
  },
  {
   "cell_type": "code",
   "execution_count": 450,
   "metadata": {
    "collapsed": false
   },
   "outputs": [],
   "source": [
    "test['listing_count_high_perc'] = test['listing_count_high'] / test['listing_count']\n",
    "test['listing_count_medium_perc'] = test['listing_count_medium'] / test['listing_count']\n",
    "test['listing_count_low_perc'] = test['listing_count_low'] / test['listing_count']\n"
   ]
  },
  {
   "cell_type": "code",
   "execution_count": 451,
   "metadata": {
    "collapsed": true
   },
   "outputs": [],
   "source": [
    "total = pd.concat([train_new, test], axis = 0)"
   ]
  },
  {
   "cell_type": "code",
   "execution_count": 452,
   "metadata": {
    "collapsed": false
   },
   "outputs": [
    {
     "data": {
      "text/plain": [
       "(124011, 243)"
      ]
     },
     "execution_count": 452,
     "metadata": {},
     "output_type": "execute_result"
    }
   ],
   "source": [
    "total.shape"
   ]
  },
  {
   "cell_type": "code",
   "execution_count": 453,
   "metadata": {
    "collapsed": true
   },
   "outputs": [],
   "source": [
    "train = total[total['label'] == 'Train']\n",
    "test = total[total['label'] == 'Test']\n",
    "\n",
    "for count, (tr_index, te_index) in enumerate(kfold.split(total[total['label'] == 'Train'])):\n",
    "    train_tr = train.iloc[tr_index]\n",
    "    train_val = train.iloc[te_index]\n",
    "    for level in train['interest_level'].unique():\n",
    "        price = train_tr.ix[train_tr['interest_level'] == level, ['manager_id','price']].groupby('manager_id').mean()\n",
    "        price.columns = price.columns.str.replace('price', 'price_average_'+ str(level))\n",
    "        train_val= pd.merge(train_val,  price, left_on = 'manager_id', right_index = True, how = 'left')  \n",
    "    if count == 0:\n",
    "        train_new = train_val\n",
    "    else:\n",
    "        train_new = pd.concat((train_new, train_val), axis = 0)\n"
   ]
  },
  {
   "cell_type": "code",
   "execution_count": 454,
   "metadata": {
    "collapsed": true
   },
   "outputs": [],
   "source": [
    "for level in train['interest_level'].unique():\n",
    "        price = train.ix[train['interest_level'] == level, ['manager_id','price']].groupby('manager_id').mean()\n",
    "        price.columns = price.columns.str.replace('price', 'price_average_'+ str(level))\n",
    "        test= pd.merge(test,  price, left_on = 'manager_id', right_index = True, how = 'left')"
   ]
  },
  {
   "cell_type": "code",
   "execution_count": 455,
   "metadata": {
    "collapsed": false
   },
   "outputs": [],
   "source": [
    "total = pd.concat([train_new, test], axis = 0)"
   ]
  },
  {
   "cell_type": "code",
   "execution_count": 456,
   "metadata": {
    "collapsed": true
   },
   "outputs": [],
   "source": [
    "train = total[total['label'] == 'Train']\n",
    "test = total[total['label'] == 'Test']\n",
    "\n",
    "for count, (tr_index, te_index) in enumerate(kfold.split(total[total['label'] == 'Train'])):\n",
    "    train_tr = train.iloc[tr_index]\n",
    "    train_val = train.iloc[te_index]\n",
    "    for level in train['interest_level'].unique():\n",
    "        price = train_tr.ix[train_tr['interest_level'] == level, ['manager_id','price']].groupby('manager_id').median()\n",
    "        price.columns = price.columns.str.replace('price', 'price_median_'+ str(level))\n",
    "        train_val= pd.merge(train_val,  price, left_on = 'manager_id', right_index = True, how = 'left')  \n",
    "    if count == 0:\n",
    "        train_new = train_val\n",
    "    else:\n",
    "        train_new = pd.concat((train_new, train_val), axis = 0)\n"
   ]
  },
  {
   "cell_type": "code",
   "execution_count": 457,
   "metadata": {
    "collapsed": true
   },
   "outputs": [],
   "source": [
    "for level in train['interest_level'].unique():\n",
    "        price = train.ix[train['interest_level'] == level, ['manager_id','price']].groupby('manager_id').median()\n",
    "        price.columns = price.columns.str.replace('price', 'price_median_'+ str(level))\n",
    "        test= pd.merge(test,  price, left_on = 'manager_id', right_index = True, how = 'left')"
   ]
  },
  {
   "cell_type": "code",
   "execution_count": 458,
   "metadata": {
    "collapsed": true
   },
   "outputs": [],
   "source": [
    "total = pd.concat([train_new, test], axis = 0)"
   ]
  },
  {
   "cell_type": "code",
   "execution_count": 459,
   "metadata": {
    "collapsed": false
   },
   "outputs": [
    {
     "data": {
      "text/plain": [
       "['bathrooms',\n",
       " 'bedrooms',\n",
       " 'building_id',\n",
       " 'created',\n",
       " 'description',\n",
       " 'display_address',\n",
       " 'features',\n",
       " 'interest_level',\n",
       " 'label',\n",
       " 'latitude',\n",
       " 'listing_id',\n",
       " 'longitude',\n",
       " 'manager_id',\n",
       " 'photos',\n",
       " 'price',\n",
       " 'street_address',\n",
       " 'time_stamp',\n",
       " 'date',\n",
       " 'month',\n",
       " 'day_diff',\n",
       " 'photos_counts',\n",
       " 'description_word_count',\n",
       " 'features2',\n",
       " 0,\n",
       " 1,\n",
       " 2,\n",
       " 3,\n",
       " 4,\n",
       " 5,\n",
       " 6,\n",
       " 7,\n",
       " 8,\n",
       " 9,\n",
       " 10,\n",
       " 11,\n",
       " 12,\n",
       " 13,\n",
       " 14,\n",
       " 15,\n",
       " 16,\n",
       " 17,\n",
       " 18,\n",
       " 19,\n",
       " 20,\n",
       " 21,\n",
       " 22,\n",
       " 23,\n",
       " 24,\n",
       " 25,\n",
       " 26,\n",
       " 27,\n",
       " 28,\n",
       " 29,\n",
       " 30,\n",
       " 31,\n",
       " 32,\n",
       " 33,\n",
       " 34,\n",
       " 35,\n",
       " 36,\n",
       " 37,\n",
       " 38,\n",
       " 39,\n",
       " 40,\n",
       " 41,\n",
       " 42,\n",
       " 43,\n",
       " 44,\n",
       " 45,\n",
       " 46,\n",
       " 47,\n",
       " 48,\n",
       " 49,\n",
       " 50,\n",
       " 51,\n",
       " 52,\n",
       " 53,\n",
       " 54,\n",
       " 55,\n",
       " 56,\n",
       " 57,\n",
       " 58,\n",
       " 59,\n",
       " 60,\n",
       " 61,\n",
       " 62,\n",
       " 63,\n",
       " 64,\n",
       " 65,\n",
       " 66,\n",
       " 67,\n",
       " 68,\n",
       " 69,\n",
       " 70,\n",
       " 71,\n",
       " 72,\n",
       " 73,\n",
       " 74,\n",
       " 75,\n",
       " 76,\n",
       " 77,\n",
       " 78,\n",
       " 79,\n",
       " 80,\n",
       " 81,\n",
       " 82,\n",
       " 83,\n",
       " 84,\n",
       " 85,\n",
       " 86,\n",
       " 87,\n",
       " 88,\n",
       " 89,\n",
       " 90,\n",
       " 91,\n",
       " 92,\n",
       " 93,\n",
       " 94,\n",
       " 95,\n",
       " 96,\n",
       " 97,\n",
       " 98,\n",
       " 99,\n",
       " 100,\n",
       " 101,\n",
       " 102,\n",
       " 103,\n",
       " 104,\n",
       " 105,\n",
       " 106,\n",
       " 107,\n",
       " 108,\n",
       " 109,\n",
       " 110,\n",
       " 111,\n",
       " 112,\n",
       " 113,\n",
       " 114,\n",
       " 115,\n",
       " 116,\n",
       " 117,\n",
       " 118,\n",
       " 119,\n",
       " 120,\n",
       " 121,\n",
       " 122,\n",
       " 123,\n",
       " 124,\n",
       " 125,\n",
       " 126,\n",
       " 127,\n",
       " 128,\n",
       " 129,\n",
       " 130,\n",
       " 131,\n",
       " 132,\n",
       " 133,\n",
       " 134,\n",
       " 135,\n",
       " 136,\n",
       " 137,\n",
       " 138,\n",
       " 139,\n",
       " 140,\n",
       " 141,\n",
       " 142,\n",
       " 143,\n",
       " 144,\n",
       " 145,\n",
       " 146,\n",
       " 147,\n",
       " 148,\n",
       " 149,\n",
       " 150,\n",
       " 151,\n",
       " 152,\n",
       " 153,\n",
       " 154,\n",
       " 155,\n",
       " 156,\n",
       " 157,\n",
       " 158,\n",
       " 159,\n",
       " 160,\n",
       " 161,\n",
       " 162,\n",
       " 163,\n",
       " 164,\n",
       " 165,\n",
       " 166,\n",
       " 167,\n",
       " 168,\n",
       " 169,\n",
       " 170,\n",
       " 171,\n",
       " 172,\n",
       " 173,\n",
       " 174,\n",
       " 175,\n",
       " 176,\n",
       " 177,\n",
       " 178,\n",
       " 179,\n",
       " 180,\n",
       " 181,\n",
       " 182,\n",
       " 183,\n",
       " 184,\n",
       " 185,\n",
       " 186,\n",
       " 187,\n",
       " 188,\n",
       " 189,\n",
       " 190,\n",
       " 191,\n",
       " 192,\n",
       " 193,\n",
       " 194,\n",
       " 195,\n",
       " 196,\n",
       " 197,\n",
       " 198,\n",
       " 199,\n",
       " 'total_room',\n",
       " 'price_per_room',\n",
       " 'listings_by_month_4',\n",
       " 'listings_by_month_5',\n",
       " 'listings_by_month_6',\n",
       " 'manager_listings',\n",
       " 'listings_by_month_4_perc',\n",
       " 'listings_by_month_5_perc',\n",
       " 'listings_by_month_6_perc',\n",
       " 'average_price_by_manager',\n",
       " 'price_by_month_4',\n",
       " 'price_by_month_5',\n",
       " 'price_by_month_6',\n",
       " 'listing_count_medium',\n",
       " 'listing_count_low',\n",
       " 'listing_count_high',\n",
       " 'listing_count',\n",
       " 'listing_count_high_perc',\n",
       " 'listing_count_medium_perc',\n",
       " 'listing_count_low_perc',\n",
       " 'price_average_low',\n",
       " 'price_average_medium',\n",
       " 'price_average_high',\n",
       " 'price_median_low',\n",
       " 'price_median_medium',\n",
       " 'price_median_high']"
      ]
     },
     "execution_count": 459,
     "metadata": {},
     "output_type": "execute_result"
    }
   ],
   "source": [
    "total.columns.tolist()"
   ]
  },
  {
   "cell_type": "code",
   "execution_count": 460,
   "metadata": {
    "collapsed": false
   },
   "outputs": [
    {
     "data": {
      "text/plain": [
       "(124011, 249)"
      ]
     },
     "execution_count": 460,
     "metadata": {},
     "output_type": "execute_result"
    }
   ],
   "source": [
    "total.shape"
   ]
  },
  {
   "cell_type": "code",
   "execution_count": 461,
   "metadata": {
    "collapsed": true
   },
   "outputs": [],
   "source": [
    "## make a copy of the total df after data cleaning\n",
    "total_copy = total.copy()"
   ]
  },
  {
   "cell_type": "markdown",
   "metadata": {},
   "source": [
    "### Deal with street_address, display_address, building_id"
   ]
  },
  {
   "cell_type": "markdown",
   "metadata": {},
   "source": [
    "# Modeling"
   ]
  },
  {
   "cell_type": "code",
   "execution_count": 462,
   "metadata": {
    "collapsed": true
   },
   "outputs": [],
   "source": [
    "fe =  ['bathrooms', 'bedrooms', 'latitude', 'longitude', 'price', 'day_diff', 'photos_counts', 'description_word_count'\n",
    "      , \"display_address\", \"manager_id\", \"building_id\", \"street_address\", 'listing_id', 'time_stamp']"
   ]
  },
  {
   "cell_type": "code",
   "execution_count": 463,
   "metadata": {
    "collapsed": false
   },
   "outputs": [],
   "source": [
    "fe2 = list(range(200))"
   ]
  },
  {
   "cell_type": "code",
   "execution_count": 464,
   "metadata": {
    "collapsed": true
   },
   "outputs": [],
   "source": [
    "fe3 = ['total_room','price_per_room', 'manager_listings','listings_by_month_4_perc',\n",
    "       'listings_by_month_5_perc','listings_by_month_6_perc','average_price_by_manager',\n",
    "       'price_by_month_4','price_by_month_5','price_by_month_6', 'listing_count_high_perc',\n",
    "      'listing_count_medium_perc','listing_count_low_perc', 'listing_count',\n",
    "       'price_average_low','price_average_medium','price_average_high','price_median_low',\n",
    "       'price_median_medium','price_median_high']"
   ]
  },
  {
   "cell_type": "code",
   "execution_count": 465,
   "metadata": {
    "collapsed": false
   },
   "outputs": [],
   "source": [
    "col = fe + fe2 + fe3"
   ]
  },
  {
   "cell_type": "code",
   "execution_count": 466,
   "metadata": {
    "collapsed": false
   },
   "outputs": [],
   "source": [
    "col.append('interest_level')"
   ]
  },
  {
   "cell_type": "code",
   "execution_count": 467,
   "metadata": {
    "collapsed": false
   },
   "outputs": [],
   "source": [
    "train_x = train_new[col]\n",
    "test_x = test[col]"
   ]
  },
  {
   "cell_type": "code",
   "execution_count": 468,
   "metadata": {
    "collapsed": false
   },
   "outputs": [],
   "source": [
    "train_x = train_x.drop([ 'interest_level'], axis = 1)\n",
    "test_x = test_x.drop([ 'interest_level'], axis = 1)\n"
   ]
  },
  {
   "cell_type": "code",
   "execution_count": 469,
   "metadata": {
    "collapsed": true
   },
   "outputs": [],
   "source": [
    "train_y = train_new['interest_level'].map({'low':2, 'medium':1, 'high':0})"
   ]
  },
  {
   "cell_type": "code",
   "execution_count": 472,
   "metadata": {
    "collapsed": false
   },
   "outputs": [
    {
     "name": "stdout",
     "output_type": "stream",
     "text": [
      "Stored 'total' (DataFrame)\n"
     ]
    }
   ],
   "source": [
    "%store total"
   ]
  },
  {
   "cell_type": "code",
   "execution_count": 474,
   "metadata": {
    "collapsed": false
   },
   "outputs": [],
   "source": [
    "total.to_csv('total.csv')"
   ]
  },
  {
   "cell_type": "markdown",
   "metadata": {},
   "source": [
    "## XGBoost"
   ]
  },
  {
   "cell_type": "code",
   "execution_count": 475,
   "metadata": {
    "collapsed": false
   },
   "outputs": [],
   "source": [
    "def runXGB(train_X, train_y, test_X, test_y=None, feature_names=None, seed_val=0, num_rounds=1000):\n",
    "    param = {}\n",
    "    param['objective'] = 'multi:softprob'\n",
    "    param['eta'] = 0.03\n",
    "    param['max_depth'] = 6\n",
    "    param['silent'] = 1\n",
    "    param['num_class'] = 3\n",
    "    param['eval_metric'] = \"mlogloss\"\n",
    "    param['min_child_weight'] = 1\n",
    "    param['subsample'] = 0.7\n",
    "    param['colsample_bytree'] = 0.7\n",
    "    param['seed'] = seed_val\n",
    "    num_rounds = num_rounds\n",
    "\n",
    "    plst = list(param.items())\n",
    "    xgtrain = xgb.DMatrix(train_X, label=train_y)\n",
    "\n",
    "    if test_y is not None:\n",
    "        xgtest = xgb.DMatrix(test_X, label=test_y)\n",
    "        watchlist = [ (xgtrain,'train'), (xgtest, 'test') ]\n",
    "        model = xgb.train(plst, xgtrain, num_rounds, watchlist, early_stopping_rounds=20)\n",
    "    else:\n",
    "        xgtest = xgb.DMatrix(test_X)\n",
    "        model = xgb.train(plst, xgtrain, num_rounds)\n",
    "\n",
    "    pred_test_y = model.predict(xgtest)\n",
    "    return pred_test_y, model\n"
   ]
  },
  {
   "cell_type": "code",
   "execution_count": 78,
   "metadata": {
    "collapsed": false
   },
   "outputs": [
    {
     "ename": "ValueError",
     "evalue": "list.remove(x): x not in list",
     "output_type": "error",
     "traceback": [
      "\u001b[0;31m---------------------------------------------------------------------------\u001b[0m",
      "\u001b[0;31mValueError\u001b[0m                                Traceback (most recent call last)",
      "\u001b[0;32m<ipython-input-78-c99614f3784a>\u001b[0m in \u001b[0;36m<module>\u001b[0;34m()\u001b[0m\n\u001b[1;32m     14\u001b[0m  \u001b[0;34m'price_median_high'\u001b[0m\u001b[0;34m,\u001b[0m\u001b[0;34m\u001b[0m\u001b[0m\n\u001b[1;32m     15\u001b[0m  'interest_level']:\n\u001b[0;32m---> 16\u001b[0;31m     \u001b[0mcol\u001b[0m\u001b[0;34m.\u001b[0m\u001b[0mremove\u001b[0m\u001b[0;34m(\u001b[0m\u001b[0mx\u001b[0m\u001b[0;34m)\u001b[0m\u001b[0;34m\u001b[0m\u001b[0m\n\u001b[0m",
      "\u001b[0;31mValueError\u001b[0m: list.remove(x): x not in list"
     ]
    }
   ],
   "source": [
    "for x in ['manager_listings',\n",
    " 'listings_by_month_4_perc',\n",
    " 'listings_by_month_5_perc',\n",
    " 'listings_by_month_6_perc',\n",
    " 'average_price_by_manager',\n",
    " 'price_by_month_4',\n",
    " 'price_by_month_5',\n",
    " 'price_by_month_6','listing_count_alllevel',\n",
    " 'price_average_low',\n",
    " 'price_average_medium',\n",
    " 'price_average_high',\n",
    " 'price_median_low',\n",
    " 'price_median_medium',\n",
    " 'price_median_high',\n",
    " 'interest_level']:\n",
    "    col.remove(x)\n"
   ]
  },
  {
   "cell_type": "code",
   "execution_count": 471,
   "metadata": {
    "collapsed": false
   },
   "outputs": [
    {
     "ename": "KeyboardInterrupt",
     "evalue": "",
     "output_type": "error",
     "traceback": [
      "\u001b[0;31m---------------------------------------------------------------------------\u001b[0m",
      "\u001b[0;31mKeyboardInterrupt\u001b[0m                         Traceback (most recent call last)",
      "\u001b[0;32m<ipython-input-471-15c01e98edd5>\u001b[0m in \u001b[0;36m<module>\u001b[0;34m()\u001b[0m\n\u001b[0;32m----> 1\u001b[0;31m \u001b[0mget_ipython\u001b[0m\u001b[0;34m(\u001b[0m\u001b[0;34m)\u001b[0m\u001b[0;34m.\u001b[0m\u001b[0mrun_cell_magic\u001b[0m\u001b[0;34m(\u001b[0m\u001b[0;34m'time'\u001b[0m\u001b[0;34m,\u001b[0m \u001b[0;34m''\u001b[0m\u001b[0;34m,\u001b[0m \u001b[0;34m'##Round 3\\np, model = runXGB(train_x, train_y, test_x, num_rounds=2000)\\nout_df = pd.DataFrame(p)\\nout_df.columns = [\"high\", \"medium\", \"low\"]\\nout_df[\"listing_id\"] = test.listing_id.values\\nout_df.to_csv(\"xgb_3.csv\", index=False)'\u001b[0m\u001b[0;34m)\u001b[0m\u001b[0;34m\u001b[0m\u001b[0m\n\u001b[0m",
      "\u001b[0;32m/Users/Aaron/anaconda/lib/python3.5/site-packages/IPython/core/interactiveshell.py\u001b[0m in \u001b[0;36mrun_cell_magic\u001b[0;34m(self, magic_name, line, cell)\u001b[0m\n\u001b[1;32m   2118\u001b[0m             \u001b[0mmagic_arg_s\u001b[0m \u001b[0;34m=\u001b[0m \u001b[0mself\u001b[0m\u001b[0;34m.\u001b[0m\u001b[0mvar_expand\u001b[0m\u001b[0;34m(\u001b[0m\u001b[0mline\u001b[0m\u001b[0;34m,\u001b[0m \u001b[0mstack_depth\u001b[0m\u001b[0;34m)\u001b[0m\u001b[0;34m\u001b[0m\u001b[0m\n\u001b[1;32m   2119\u001b[0m             \u001b[0;32mwith\u001b[0m \u001b[0mself\u001b[0m\u001b[0;34m.\u001b[0m\u001b[0mbuiltin_trap\u001b[0m\u001b[0;34m:\u001b[0m\u001b[0;34m\u001b[0m\u001b[0m\n\u001b[0;32m-> 2120\u001b[0;31m                 \u001b[0mresult\u001b[0m \u001b[0;34m=\u001b[0m \u001b[0mfn\u001b[0m\u001b[0;34m(\u001b[0m\u001b[0mmagic_arg_s\u001b[0m\u001b[0;34m,\u001b[0m \u001b[0mcell\u001b[0m\u001b[0;34m)\u001b[0m\u001b[0;34m\u001b[0m\u001b[0m\n\u001b[0m\u001b[1;32m   2121\u001b[0m             \u001b[0;32mreturn\u001b[0m \u001b[0mresult\u001b[0m\u001b[0;34m\u001b[0m\u001b[0m\n\u001b[1;32m   2122\u001b[0m \u001b[0;34m\u001b[0m\u001b[0m\n",
      "\u001b[0;32m<decorator-gen-60>\u001b[0m in \u001b[0;36mtime\u001b[0;34m(self, line, cell, local_ns)\u001b[0m\n",
      "\u001b[0;32m/Users/Aaron/anaconda/lib/python3.5/site-packages/IPython/core/magic.py\u001b[0m in \u001b[0;36m<lambda>\u001b[0;34m(f, *a, **k)\u001b[0m\n\u001b[1;32m    191\u001b[0m     \u001b[0;31m# but it's overkill for just that one bit of state.\u001b[0m\u001b[0;34m\u001b[0m\u001b[0;34m\u001b[0m\u001b[0m\n\u001b[1;32m    192\u001b[0m     \u001b[0;32mdef\u001b[0m \u001b[0mmagic_deco\u001b[0m\u001b[0;34m(\u001b[0m\u001b[0marg\u001b[0m\u001b[0;34m)\u001b[0m\u001b[0;34m:\u001b[0m\u001b[0;34m\u001b[0m\u001b[0m\n\u001b[0;32m--> 193\u001b[0;31m         \u001b[0mcall\u001b[0m \u001b[0;34m=\u001b[0m \u001b[0;32mlambda\u001b[0m \u001b[0mf\u001b[0m\u001b[0;34m,\u001b[0m \u001b[0;34m*\u001b[0m\u001b[0ma\u001b[0m\u001b[0;34m,\u001b[0m \u001b[0;34m**\u001b[0m\u001b[0mk\u001b[0m\u001b[0;34m:\u001b[0m \u001b[0mf\u001b[0m\u001b[0;34m(\u001b[0m\u001b[0;34m*\u001b[0m\u001b[0ma\u001b[0m\u001b[0;34m,\u001b[0m \u001b[0;34m**\u001b[0m\u001b[0mk\u001b[0m\u001b[0;34m)\u001b[0m\u001b[0;34m\u001b[0m\u001b[0m\n\u001b[0m\u001b[1;32m    194\u001b[0m \u001b[0;34m\u001b[0m\u001b[0m\n\u001b[1;32m    195\u001b[0m         \u001b[0;32mif\u001b[0m \u001b[0mcallable\u001b[0m\u001b[0;34m(\u001b[0m\u001b[0marg\u001b[0m\u001b[0;34m)\u001b[0m\u001b[0;34m:\u001b[0m\u001b[0;34m\u001b[0m\u001b[0m\n",
      "\u001b[0;32m/Users/Aaron/anaconda/lib/python3.5/site-packages/IPython/core/magics/execution.py\u001b[0m in \u001b[0;36mtime\u001b[0;34m(self, line, cell, local_ns)\u001b[0m\n\u001b[1;32m   1175\u001b[0m         \u001b[0;32melse\u001b[0m\u001b[0;34m:\u001b[0m\u001b[0;34m\u001b[0m\u001b[0m\n\u001b[1;32m   1176\u001b[0m             \u001b[0mst\u001b[0m \u001b[0;34m=\u001b[0m \u001b[0mclock2\u001b[0m\u001b[0;34m(\u001b[0m\u001b[0;34m)\u001b[0m\u001b[0;34m\u001b[0m\u001b[0m\n\u001b[0;32m-> 1177\u001b[0;31m             \u001b[0mexec\u001b[0m\u001b[0;34m(\u001b[0m\u001b[0mcode\u001b[0m\u001b[0;34m,\u001b[0m \u001b[0mglob\u001b[0m\u001b[0;34m,\u001b[0m \u001b[0mlocal_ns\u001b[0m\u001b[0;34m)\u001b[0m\u001b[0;34m\u001b[0m\u001b[0m\n\u001b[0m\u001b[1;32m   1178\u001b[0m             \u001b[0mend\u001b[0m \u001b[0;34m=\u001b[0m \u001b[0mclock2\u001b[0m\u001b[0;34m(\u001b[0m\u001b[0;34m)\u001b[0m\u001b[0;34m\u001b[0m\u001b[0m\n\u001b[1;32m   1179\u001b[0m             \u001b[0mout\u001b[0m \u001b[0;34m=\u001b[0m \u001b[0;32mNone\u001b[0m\u001b[0;34m\u001b[0m\u001b[0m\n",
      "\u001b[0;32m<timed exec>\u001b[0m in \u001b[0;36m<module>\u001b[0;34m()\u001b[0m\n",
      "\u001b[0;32m<ipython-input-470-34da4e964c2a>\u001b[0m in \u001b[0;36mrunXGB\u001b[0;34m(train_X, train_y, test_X, test_y, feature_names, seed_val, num_rounds)\u001b[0m\n\u001b[1;32m     22\u001b[0m     \u001b[0;32melse\u001b[0m\u001b[0;34m:\u001b[0m\u001b[0;34m\u001b[0m\u001b[0m\n\u001b[1;32m     23\u001b[0m         \u001b[0mxgtest\u001b[0m \u001b[0;34m=\u001b[0m \u001b[0mxgb\u001b[0m\u001b[0;34m.\u001b[0m\u001b[0mDMatrix\u001b[0m\u001b[0;34m(\u001b[0m\u001b[0mtest_X\u001b[0m\u001b[0;34m)\u001b[0m\u001b[0;34m\u001b[0m\u001b[0m\n\u001b[0;32m---> 24\u001b[0;31m         \u001b[0mmodel\u001b[0m \u001b[0;34m=\u001b[0m \u001b[0mxgb\u001b[0m\u001b[0;34m.\u001b[0m\u001b[0mtrain\u001b[0m\u001b[0;34m(\u001b[0m\u001b[0mplst\u001b[0m\u001b[0;34m,\u001b[0m \u001b[0mxgtrain\u001b[0m\u001b[0;34m,\u001b[0m \u001b[0mnum_rounds\u001b[0m\u001b[0;34m)\u001b[0m\u001b[0;34m\u001b[0m\u001b[0m\n\u001b[0m\u001b[1;32m     25\u001b[0m \u001b[0;34m\u001b[0m\u001b[0m\n\u001b[1;32m     26\u001b[0m     \u001b[0mpred_test_y\u001b[0m \u001b[0;34m=\u001b[0m \u001b[0mmodel\u001b[0m\u001b[0;34m.\u001b[0m\u001b[0mpredict\u001b[0m\u001b[0;34m(\u001b[0m\u001b[0mxgtest\u001b[0m\u001b[0;34m)\u001b[0m\u001b[0;34m\u001b[0m\u001b[0m\n",
      "\u001b[0;32m/Users/Aaron/anaconda/lib/python3.5/site-packages/xgboost-0.6-py3.5.egg/xgboost/training.py\u001b[0m in \u001b[0;36mtrain\u001b[0;34m(params, dtrain, num_boost_round, evals, obj, feval, maximize, early_stopping_rounds, evals_result, verbose_eval, learning_rates, xgb_model, callbacks)\u001b[0m\n\u001b[1;32m    201\u001b[0m                            \u001b[0mevals\u001b[0m\u001b[0;34m=\u001b[0m\u001b[0mevals\u001b[0m\u001b[0;34m,\u001b[0m\u001b[0;34m\u001b[0m\u001b[0m\n\u001b[1;32m    202\u001b[0m                            \u001b[0mobj\u001b[0m\u001b[0;34m=\u001b[0m\u001b[0mobj\u001b[0m\u001b[0;34m,\u001b[0m \u001b[0mfeval\u001b[0m\u001b[0;34m=\u001b[0m\u001b[0mfeval\u001b[0m\u001b[0;34m,\u001b[0m\u001b[0;34m\u001b[0m\u001b[0m\n\u001b[0;32m--> 203\u001b[0;31m                            xgb_model=xgb_model, callbacks=callbacks)\n\u001b[0m\u001b[1;32m    204\u001b[0m \u001b[0;34m\u001b[0m\u001b[0m\n\u001b[1;32m    205\u001b[0m \u001b[0;34m\u001b[0m\u001b[0m\n",
      "\u001b[0;32m/Users/Aaron/anaconda/lib/python3.5/site-packages/xgboost-0.6-py3.5.egg/xgboost/training.py\u001b[0m in \u001b[0;36m_train_internal\u001b[0;34m(params, dtrain, num_boost_round, evals, obj, feval, xgb_model, callbacks)\u001b[0m\n\u001b[1;32m     72\u001b[0m         \u001b[0;31m# Skip the first update if it is a recovery step.\u001b[0m\u001b[0;34m\u001b[0m\u001b[0;34m\u001b[0m\u001b[0m\n\u001b[1;32m     73\u001b[0m         \u001b[0;32mif\u001b[0m \u001b[0mversion\u001b[0m \u001b[0;34m%\u001b[0m \u001b[0;36m2\u001b[0m \u001b[0;34m==\u001b[0m \u001b[0;36m0\u001b[0m\u001b[0;34m:\u001b[0m\u001b[0;34m\u001b[0m\u001b[0m\n\u001b[0;32m---> 74\u001b[0;31m             \u001b[0mbst\u001b[0m\u001b[0;34m.\u001b[0m\u001b[0mupdate\u001b[0m\u001b[0;34m(\u001b[0m\u001b[0mdtrain\u001b[0m\u001b[0;34m,\u001b[0m \u001b[0mi\u001b[0m\u001b[0;34m,\u001b[0m \u001b[0mobj\u001b[0m\u001b[0;34m)\u001b[0m\u001b[0;34m\u001b[0m\u001b[0m\n\u001b[0m\u001b[1;32m     75\u001b[0m             \u001b[0mbst\u001b[0m\u001b[0;34m.\u001b[0m\u001b[0msave_rabit_checkpoint\u001b[0m\u001b[0;34m(\u001b[0m\u001b[0;34m)\u001b[0m\u001b[0;34m\u001b[0m\u001b[0m\n\u001b[1;32m     76\u001b[0m             \u001b[0mversion\u001b[0m \u001b[0;34m+=\u001b[0m \u001b[0;36m1\u001b[0m\u001b[0;34m\u001b[0m\u001b[0m\n",
      "\u001b[0;32m/Users/Aaron/anaconda/lib/python3.5/site-packages/xgboost-0.6-py3.5.egg/xgboost/core.py\u001b[0m in \u001b[0;36mupdate\u001b[0;34m(self, dtrain, iteration, fobj)\u001b[0m\n\u001b[1;32m    817\u001b[0m \u001b[0;34m\u001b[0m\u001b[0m\n\u001b[1;32m    818\u001b[0m         \u001b[0;32mif\u001b[0m \u001b[0mfobj\u001b[0m \u001b[0;32mis\u001b[0m \u001b[0;32mNone\u001b[0m\u001b[0;34m:\u001b[0m\u001b[0;34m\u001b[0m\u001b[0m\n\u001b[0;32m--> 819\u001b[0;31m             \u001b[0m_check_call\u001b[0m\u001b[0;34m(\u001b[0m\u001b[0m_LIB\u001b[0m\u001b[0;34m.\u001b[0m\u001b[0mXGBoosterUpdateOneIter\u001b[0m\u001b[0;34m(\u001b[0m\u001b[0mself\u001b[0m\u001b[0;34m.\u001b[0m\u001b[0mhandle\u001b[0m\u001b[0;34m,\u001b[0m \u001b[0miteration\u001b[0m\u001b[0;34m,\u001b[0m \u001b[0mdtrain\u001b[0m\u001b[0;34m.\u001b[0m\u001b[0mhandle\u001b[0m\u001b[0;34m)\u001b[0m\u001b[0;34m)\u001b[0m\u001b[0;34m\u001b[0m\u001b[0m\n\u001b[0m\u001b[1;32m    820\u001b[0m         \u001b[0;32melse\u001b[0m\u001b[0;34m:\u001b[0m\u001b[0;34m\u001b[0m\u001b[0m\n\u001b[1;32m    821\u001b[0m             \u001b[0mpred\u001b[0m \u001b[0;34m=\u001b[0m \u001b[0mself\u001b[0m\u001b[0;34m.\u001b[0m\u001b[0mpredict\u001b[0m\u001b[0;34m(\u001b[0m\u001b[0mdtrain\u001b[0m\u001b[0;34m)\u001b[0m\u001b[0;34m\u001b[0m\u001b[0m\n",
      "\u001b[0;31mKeyboardInterrupt\u001b[0m: "
     ]
    }
   ],
   "source": [
    "%%time\n",
    "##Round 3\n",
    "p, model = runXGB(train_x, train_y, test_x, num_rounds=2000)\n",
    "out_df = pd.DataFrame(p)\n",
    "out_df.columns = [\"high\", \"medium\", \"low\"]\n",
    "out_df[\"listing_id\"] = test.listing_id.values\n",
    "out_df.to_csv(\"xgb_3.csv\", index=False)"
   ]
  },
  {
   "cell_type": "code",
   "execution_count": 337,
   "metadata": {
    "collapsed": false
   },
   "outputs": [
    {
     "name": "stdout",
     "output_type": "stream",
     "text": [
      "CPU times: user 38min 37s, sys: 13.3 s, total: 38min 50s\n",
      "Wall time: 39min 47s\n"
     ]
    }
   ],
   "source": [
    "%%time\n",
    "p, model = runXGB(train_x, train_y, test_x, num_rounds=2000)"
   ]
  },
  {
   "cell_type": "code",
   "execution_count": null,
   "metadata": {
    "collapsed": true
   },
   "outputs": [],
   "source": [
    "out_df = pd.DataFrame(p)\n",
    "out_df.columns = [\"high\", \"medium\", \"low\"]\n",
    "out_df[\"listing_id\"] = test.listing_id.values\n",
    "out_df.to_csv(\"xgb_1.csv\", index=False)"
   ]
  },
  {
   "cell_type": "code",
   "execution_count": 79,
   "metadata": {
    "collapsed": true
   },
   "outputs": [],
   "source": [
    "## rounds = 1000, step = 0.03"
   ]
  },
  {
   "cell_type": "code",
   "execution_count": 83,
   "metadata": {
    "collapsed": false
   },
   "outputs": [
    {
     "name": "stdout",
     "output_type": "stream",
     "text": [
      "CPU times: user 18min 39s, sys: 2.83 s, total: 18min 41s\n",
      "Wall time: 18min 44s\n"
     ]
    }
   ],
   "source": [
    "%%time\n",
    "p, model = runXGB(train_x, train_y, test_x, num_rounds=1000)"
   ]
  },
  {
   "cell_type": "code",
   "execution_count": 84,
   "metadata": {
    "collapsed": false
   },
   "outputs": [],
   "source": [
    "out_df = pd.DataFrame(p)\n",
    "out_df.columns = [\"high\", \"medium\", \"low\"]\n",
    "out_df[\"listing_id\"] = test.listing_id.values\n",
    "out_df.to_csv(\"xgb_2.csv\", index=False)"
   ]
  },
  {
   "cell_type": "code",
   "execution_count": 359,
   "metadata": {
    "collapsed": true
   },
   "outputs": [],
   "source": [
    "### rounds = 1000, step = 0.03"
   ]
  },
  {
   "cell_type": "code",
   "execution_count": 82,
   "metadata": {
    "collapsed": false
   },
   "outputs": [
    {
     "name": "stdout",
     "output_type": "stream",
     "text": [
      "[0]\ttrain-mlogloss:1.07802\ttest-mlogloss:1.07876\n",
      "Multiple eval metrics have been passed: 'test-mlogloss' will be used for early stopping.\n",
      "\n",
      "Will train until test-mlogloss hasn't improved in 20 rounds.\n",
      "[1]\ttrain-mlogloss:1.05839\ttest-mlogloss:1.05986\n",
      "[2]\ttrain-mlogloss:1.03985\ttest-mlogloss:1.04183\n",
      "[3]\ttrain-mlogloss:1.02209\ttest-mlogloss:1.02482\n",
      "[4]\ttrain-mlogloss:1.00511\ttest-mlogloss:1.00858\n",
      "[5]\ttrain-mlogloss:0.988978\ttest-mlogloss:0.993057\n",
      "[6]\ttrain-mlogloss:0.974028\ttest-mlogloss:0.978841\n",
      "[7]\ttrain-mlogloss:0.959208\ttest-mlogloss:0.964617\n",
      "[8]\ttrain-mlogloss:0.944819\ttest-mlogloss:0.950804\n",
      "[9]\ttrain-mlogloss:0.93107\ttest-mlogloss:0.937631\n",
      "[10]\ttrain-mlogloss:0.917863\ttest-mlogloss:0.925031\n",
      "[11]\ttrain-mlogloss:0.905299\ttest-mlogloss:0.913034\n",
      "[12]\ttrain-mlogloss:0.893312\ttest-mlogloss:0.901642\n",
      "[13]\ttrain-mlogloss:0.882428\ttest-mlogloss:0.891333\n",
      "[14]\ttrain-mlogloss:0.871185\ttest-mlogloss:0.880658\n",
      "[15]\ttrain-mlogloss:0.860473\ttest-mlogloss:0.870427\n",
      "[16]\ttrain-mlogloss:0.850462\ttest-mlogloss:0.861021\n",
      "[17]\ttrain-mlogloss:0.841156\ttest-mlogloss:0.852172\n",
      "[18]\ttrain-mlogloss:0.831608\ttest-mlogloss:0.84311\n",
      "[19]\ttrain-mlogloss:0.822502\ttest-mlogloss:0.834631\n",
      "[20]\ttrain-mlogloss:0.813944\ttest-mlogloss:0.826442\n",
      "[21]\ttrain-mlogloss:0.805667\ttest-mlogloss:0.818608\n",
      "[22]\ttrain-mlogloss:0.79732\ttest-mlogloss:0.810811\n",
      "[23]\ttrain-mlogloss:0.789343\ttest-mlogloss:0.803317\n",
      "[24]\ttrain-mlogloss:0.781594\ttest-mlogloss:0.796012\n",
      "[25]\ttrain-mlogloss:0.774279\ttest-mlogloss:0.78914\n",
      "[26]\ttrain-mlogloss:0.767153\ttest-mlogloss:0.782438\n",
      "[27]\ttrain-mlogloss:0.760661\ttest-mlogloss:0.776352\n",
      "[28]\ttrain-mlogloss:0.754216\ttest-mlogloss:0.770266\n",
      "[29]\ttrain-mlogloss:0.747979\ttest-mlogloss:0.764521\n",
      "[30]\ttrain-mlogloss:0.741685\ttest-mlogloss:0.758681\n",
      "[31]\ttrain-mlogloss:0.73572\ttest-mlogloss:0.753127\n",
      "[32]\ttrain-mlogloss:0.729968\ttest-mlogloss:0.747845\n",
      "[33]\ttrain-mlogloss:0.724425\ttest-mlogloss:0.742713\n",
      "[34]\ttrain-mlogloss:0.719037\ttest-mlogloss:0.737831\n",
      "[35]\ttrain-mlogloss:0.713869\ttest-mlogloss:0.733087\n",
      "[36]\ttrain-mlogloss:0.708683\ttest-mlogloss:0.728283\n",
      "[37]\ttrain-mlogloss:0.703835\ttest-mlogloss:0.723754\n",
      "[38]\ttrain-mlogloss:0.699186\ttest-mlogloss:0.719516\n",
      "[39]\ttrain-mlogloss:0.694585\ttest-mlogloss:0.715314\n",
      "[40]\ttrain-mlogloss:0.690287\ttest-mlogloss:0.711348\n",
      "[41]\ttrain-mlogloss:0.685912\ttest-mlogloss:0.707279\n",
      "[42]\ttrain-mlogloss:0.681728\ttest-mlogloss:0.703428\n",
      "[43]\ttrain-mlogloss:0.677646\ttest-mlogloss:0.69972\n",
      "[44]\ttrain-mlogloss:0.673743\ttest-mlogloss:0.696151\n",
      "[45]\ttrain-mlogloss:0.669948\ttest-mlogloss:0.692704\n",
      "[46]\ttrain-mlogloss:0.666221\ttest-mlogloss:0.689399\n",
      "[47]\ttrain-mlogloss:0.662884\ttest-mlogloss:0.686488\n",
      "[48]\ttrain-mlogloss:0.659277\ttest-mlogloss:0.683319\n",
      "[49]\ttrain-mlogloss:0.656194\ttest-mlogloss:0.680559\n",
      "[50]\ttrain-mlogloss:0.65312\ttest-mlogloss:0.677785\n",
      "[51]\ttrain-mlogloss:0.650067\ttest-mlogloss:0.674986\n",
      "[52]\ttrain-mlogloss:0.647085\ttest-mlogloss:0.672297\n",
      "[53]\ttrain-mlogloss:0.644229\ttest-mlogloss:0.669824\n",
      "[54]\ttrain-mlogloss:0.641387\ttest-mlogloss:0.667292\n",
      "[55]\ttrain-mlogloss:0.638496\ttest-mlogloss:0.664788\n",
      "[56]\ttrain-mlogloss:0.63577\ttest-mlogloss:0.662374\n",
      "[57]\ttrain-mlogloss:0.632972\ttest-mlogloss:0.659894\n",
      "[58]\ttrain-mlogloss:0.630583\ttest-mlogloss:0.657766\n",
      "[59]\ttrain-mlogloss:0.628072\ttest-mlogloss:0.655588\n",
      "[60]\ttrain-mlogloss:0.625526\ttest-mlogloss:0.653342\n",
      "[61]\ttrain-mlogloss:0.623068\ttest-mlogloss:0.651236\n",
      "[62]\ttrain-mlogloss:0.620592\ttest-mlogloss:0.649064\n",
      "[63]\ttrain-mlogloss:0.618378\ttest-mlogloss:0.647174\n",
      "[64]\ttrain-mlogloss:0.616153\ttest-mlogloss:0.645278\n",
      "[65]\ttrain-mlogloss:0.613916\ttest-mlogloss:0.643468\n",
      "[66]\ttrain-mlogloss:0.611927\ttest-mlogloss:0.64175\n",
      "[67]\ttrain-mlogloss:0.609769\ttest-mlogloss:0.63989\n",
      "[68]\ttrain-mlogloss:0.607698\ttest-mlogloss:0.638035\n",
      "[69]\ttrain-mlogloss:0.605854\ttest-mlogloss:0.636455\n",
      "[70]\ttrain-mlogloss:0.603868\ttest-mlogloss:0.634767\n",
      "[71]\ttrain-mlogloss:0.601934\ttest-mlogloss:0.63316\n",
      "[72]\ttrain-mlogloss:0.600036\ttest-mlogloss:0.631553\n",
      "[73]\ttrain-mlogloss:0.598145\ttest-mlogloss:0.629985\n",
      "[74]\ttrain-mlogloss:0.596303\ttest-mlogloss:0.628422\n",
      "[75]\ttrain-mlogloss:0.594646\ttest-mlogloss:0.627097\n",
      "[76]\ttrain-mlogloss:0.592977\ttest-mlogloss:0.625718\n",
      "[77]\ttrain-mlogloss:0.591327\ttest-mlogloss:0.624443\n",
      "[78]\ttrain-mlogloss:0.589656\ttest-mlogloss:0.623013\n",
      "[79]\ttrain-mlogloss:0.588126\ttest-mlogloss:0.62174\n",
      "[80]\ttrain-mlogloss:0.58656\ttest-mlogloss:0.620519\n",
      "[81]\ttrain-mlogloss:0.585013\ttest-mlogloss:0.619291\n",
      "[82]\ttrain-mlogloss:0.583356\ttest-mlogloss:0.617945\n",
      "[83]\ttrain-mlogloss:0.581917\ttest-mlogloss:0.616887\n",
      "[84]\ttrain-mlogloss:0.580584\ttest-mlogloss:0.615818\n",
      "[85]\ttrain-mlogloss:0.579179\ttest-mlogloss:0.614731\n",
      "[86]\ttrain-mlogloss:0.577726\ttest-mlogloss:0.613524\n",
      "[87]\ttrain-mlogloss:0.576374\ttest-mlogloss:0.612491\n",
      "[88]\ttrain-mlogloss:0.575117\ttest-mlogloss:0.611544\n",
      "[89]\ttrain-mlogloss:0.57384\ttest-mlogloss:0.61062\n",
      "[90]\ttrain-mlogloss:0.572583\ttest-mlogloss:0.609614\n",
      "[91]\ttrain-mlogloss:0.571244\ttest-mlogloss:0.608586\n",
      "[92]\ttrain-mlogloss:0.570033\ttest-mlogloss:0.607625\n",
      "[93]\ttrain-mlogloss:0.568901\ttest-mlogloss:0.606761\n",
      "[94]\ttrain-mlogloss:0.567681\ttest-mlogloss:0.605901\n",
      "[95]\ttrain-mlogloss:0.566485\ttest-mlogloss:0.604945\n",
      "[96]\ttrain-mlogloss:0.56525\ttest-mlogloss:0.603977\n",
      "[97]\ttrain-mlogloss:0.564192\ttest-mlogloss:0.603146\n",
      "[98]\ttrain-mlogloss:0.563125\ttest-mlogloss:0.60235\n",
      "[99]\ttrain-mlogloss:0.56199\ttest-mlogloss:0.601547\n",
      "[100]\ttrain-mlogloss:0.560896\ttest-mlogloss:0.600729\n",
      "[101]\ttrain-mlogloss:0.559996\ttest-mlogloss:0.600019\n",
      "[102]\ttrain-mlogloss:0.55896\ttest-mlogloss:0.599266\n",
      "[103]\ttrain-mlogloss:0.557967\ttest-mlogloss:0.59856\n",
      "[104]\ttrain-mlogloss:0.556999\ttest-mlogloss:0.597849\n",
      "[105]\ttrain-mlogloss:0.55595\ttest-mlogloss:0.597061\n",
      "[106]\ttrain-mlogloss:0.555051\ttest-mlogloss:0.596447\n",
      "[107]\ttrain-mlogloss:0.554189\ttest-mlogloss:0.595781\n",
      "[108]\ttrain-mlogloss:0.553326\ttest-mlogloss:0.595191\n",
      "[109]\ttrain-mlogloss:0.552404\ttest-mlogloss:0.594472\n",
      "[110]\ttrain-mlogloss:0.551477\ttest-mlogloss:0.593738\n",
      "[111]\ttrain-mlogloss:0.550615\ttest-mlogloss:0.593065\n",
      "[112]\ttrain-mlogloss:0.549569\ttest-mlogloss:0.592337\n",
      "[113]\ttrain-mlogloss:0.548694\ttest-mlogloss:0.59173\n",
      "[114]\ttrain-mlogloss:0.547888\ttest-mlogloss:0.591164\n",
      "[115]\ttrain-mlogloss:0.547114\ttest-mlogloss:0.590618\n",
      "[116]\ttrain-mlogloss:0.546224\ttest-mlogloss:0.589939\n",
      "[117]\ttrain-mlogloss:0.545354\ttest-mlogloss:0.589278\n",
      "[118]\ttrain-mlogloss:0.544587\ttest-mlogloss:0.588769\n",
      "[119]\ttrain-mlogloss:0.543844\ttest-mlogloss:0.588289\n",
      "[120]\ttrain-mlogloss:0.543066\ttest-mlogloss:0.587772\n",
      "[121]\ttrain-mlogloss:0.542334\ttest-mlogloss:0.587311\n",
      "[122]\ttrain-mlogloss:0.541703\ttest-mlogloss:0.586917\n",
      "[123]\ttrain-mlogloss:0.540909\ttest-mlogloss:0.586396\n",
      "[124]\ttrain-mlogloss:0.540231\ttest-mlogloss:0.585897\n",
      "[125]\ttrain-mlogloss:0.539485\ttest-mlogloss:0.585425\n",
      "[126]\ttrain-mlogloss:0.538774\ttest-mlogloss:0.584906\n",
      "[127]\ttrain-mlogloss:0.538084\ttest-mlogloss:0.584464\n",
      "[128]\ttrain-mlogloss:0.537202\ttest-mlogloss:0.583876\n",
      "[129]\ttrain-mlogloss:0.536529\ttest-mlogloss:0.583414\n",
      "[130]\ttrain-mlogloss:0.535839\ttest-mlogloss:0.582981\n",
      "[131]\ttrain-mlogloss:0.535154\ttest-mlogloss:0.58252\n",
      "[132]\ttrain-mlogloss:0.534431\ttest-mlogloss:0.582107\n",
      "[133]\ttrain-mlogloss:0.53363\ttest-mlogloss:0.581553\n",
      "[134]\ttrain-mlogloss:0.532864\ttest-mlogloss:0.58113\n",
      "[135]\ttrain-mlogloss:0.532095\ttest-mlogloss:0.580695\n",
      "[136]\ttrain-mlogloss:0.531412\ttest-mlogloss:0.580234\n",
      "[137]\ttrain-mlogloss:0.530835\ttest-mlogloss:0.579872\n",
      "[138]\ttrain-mlogloss:0.530349\ttest-mlogloss:0.579551\n",
      "[139]\ttrain-mlogloss:0.529744\ttest-mlogloss:0.579175\n",
      "[140]\ttrain-mlogloss:0.529138\ttest-mlogloss:0.578861\n",
      "[141]\ttrain-mlogloss:0.528435\ttest-mlogloss:0.578504\n",
      "[142]\ttrain-mlogloss:0.527744\ttest-mlogloss:0.578075\n",
      "[143]\ttrain-mlogloss:0.527116\ttest-mlogloss:0.577728\n",
      "[144]\ttrain-mlogloss:0.526503\ttest-mlogloss:0.577373\n",
      "[145]\ttrain-mlogloss:0.525925\ttest-mlogloss:0.576999\n",
      "[146]\ttrain-mlogloss:0.525186\ttest-mlogloss:0.576633\n",
      "[147]\ttrain-mlogloss:0.524574\ttest-mlogloss:0.57632\n",
      "[148]\ttrain-mlogloss:0.524071\ttest-mlogloss:0.575997\n",
      "[149]\ttrain-mlogloss:0.523575\ttest-mlogloss:0.575726\n",
      "[150]\ttrain-mlogloss:0.523061\ttest-mlogloss:0.575377\n",
      "[151]\ttrain-mlogloss:0.522426\ttest-mlogloss:0.575075\n",
      "[152]\ttrain-mlogloss:0.521799\ttest-mlogloss:0.574746\n",
      "[153]\ttrain-mlogloss:0.521207\ttest-mlogloss:0.574475\n",
      "[154]\ttrain-mlogloss:0.520671\ttest-mlogloss:0.574163\n",
      "[155]\ttrain-mlogloss:0.520085\ttest-mlogloss:0.573821\n",
      "[156]\ttrain-mlogloss:0.519422\ttest-mlogloss:0.573466\n",
      "[157]\ttrain-mlogloss:0.518862\ttest-mlogloss:0.573112\n",
      "[158]\ttrain-mlogloss:0.518353\ttest-mlogloss:0.572777\n",
      "[159]\ttrain-mlogloss:0.517868\ttest-mlogloss:0.572462\n",
      "[160]\ttrain-mlogloss:0.517415\ttest-mlogloss:0.572153\n",
      "[161]\ttrain-mlogloss:0.516878\ttest-mlogloss:0.571912\n",
      "[162]\ttrain-mlogloss:0.516363\ttest-mlogloss:0.571639\n",
      "[163]\ttrain-mlogloss:0.515877\ttest-mlogloss:0.571383\n",
      "[164]\ttrain-mlogloss:0.515371\ttest-mlogloss:0.571126\n",
      "[165]\ttrain-mlogloss:0.514804\ttest-mlogloss:0.570826\n",
      "[166]\ttrain-mlogloss:0.514208\ttest-mlogloss:0.570434\n",
      "[167]\ttrain-mlogloss:0.513703\ttest-mlogloss:0.570145\n",
      "[168]\ttrain-mlogloss:0.513306\ttest-mlogloss:0.569905\n",
      "[169]\ttrain-mlogloss:0.512746\ttest-mlogloss:0.569676\n",
      "[170]\ttrain-mlogloss:0.512339\ttest-mlogloss:0.569438\n",
      "[171]\ttrain-mlogloss:0.511795\ttest-mlogloss:0.56923\n",
      "[172]\ttrain-mlogloss:0.51141\ttest-mlogloss:0.568993\n",
      "[173]\ttrain-mlogloss:0.510917\ttest-mlogloss:0.5687\n",
      "[174]\ttrain-mlogloss:0.510476\ttest-mlogloss:0.568478\n",
      "[175]\ttrain-mlogloss:0.510053\ttest-mlogloss:0.568307\n",
      "[176]\ttrain-mlogloss:0.509547\ttest-mlogloss:0.568051\n",
      "[177]\ttrain-mlogloss:0.509089\ttest-mlogloss:0.567832\n",
      "[178]\ttrain-mlogloss:0.508623\ttest-mlogloss:0.56757\n",
      "[179]\ttrain-mlogloss:0.50811\ttest-mlogloss:0.567414\n",
      "[180]\ttrain-mlogloss:0.507679\ttest-mlogloss:0.567184\n",
      "[181]\ttrain-mlogloss:0.507188\ttest-mlogloss:0.566892\n",
      "[182]\ttrain-mlogloss:0.506682\ttest-mlogloss:0.566595\n",
      "[183]\ttrain-mlogloss:0.506229\ttest-mlogloss:0.566396\n",
      "[184]\ttrain-mlogloss:0.505744\ttest-mlogloss:0.566225\n",
      "[185]\ttrain-mlogloss:0.505201\ttest-mlogloss:0.566013\n",
      "[186]\ttrain-mlogloss:0.504854\ttest-mlogloss:0.56581\n",
      "[187]\ttrain-mlogloss:0.504433\ttest-mlogloss:0.56561\n",
      "[188]\ttrain-mlogloss:0.503991\ttest-mlogloss:0.565484\n",
      "[189]\ttrain-mlogloss:0.503528\ttest-mlogloss:0.565347\n",
      "[190]\ttrain-mlogloss:0.503074\ttest-mlogloss:0.56509\n",
      "[191]\ttrain-mlogloss:0.50264\ttest-mlogloss:0.564953\n",
      "[192]\ttrain-mlogloss:0.502293\ttest-mlogloss:0.564742\n",
      "[193]\ttrain-mlogloss:0.501744\ttest-mlogloss:0.564503\n",
      "[194]\ttrain-mlogloss:0.501369\ttest-mlogloss:0.564315\n",
      "[195]\ttrain-mlogloss:0.500983\ttest-mlogloss:0.564106\n",
      "[196]\ttrain-mlogloss:0.500523\ttest-mlogloss:0.563879\n",
      "[197]\ttrain-mlogloss:0.500092\ttest-mlogloss:0.563656\n",
      "[198]\ttrain-mlogloss:0.499628\ttest-mlogloss:0.563463\n",
      "[199]\ttrain-mlogloss:0.499211\ttest-mlogloss:0.563292\n",
      "[200]\ttrain-mlogloss:0.49881\ttest-mlogloss:0.563107\n",
      "[201]\ttrain-mlogloss:0.498503\ttest-mlogloss:0.562965\n",
      "[202]\ttrain-mlogloss:0.498082\ttest-mlogloss:0.562798\n",
      "[203]\ttrain-mlogloss:0.497728\ttest-mlogloss:0.562624\n",
      "[204]\ttrain-mlogloss:0.497341\ttest-mlogloss:0.562456\n",
      "[205]\ttrain-mlogloss:0.497006\ttest-mlogloss:0.562286\n",
      "[206]\ttrain-mlogloss:0.496542\ttest-mlogloss:0.562045\n",
      "[207]\ttrain-mlogloss:0.49607\ttest-mlogloss:0.561898\n",
      "[208]\ttrain-mlogloss:0.495632\ttest-mlogloss:0.561654\n",
      "[209]\ttrain-mlogloss:0.495289\ttest-mlogloss:0.56154\n",
      "[210]\ttrain-mlogloss:0.494865\ttest-mlogloss:0.561313\n",
      "[211]\ttrain-mlogloss:0.49437\ttest-mlogloss:0.561145\n",
      "[212]\ttrain-mlogloss:0.49403\ttest-mlogloss:0.56095\n",
      "[213]\ttrain-mlogloss:0.493528\ttest-mlogloss:0.560697\n",
      "[214]\ttrain-mlogloss:0.493072\ttest-mlogloss:0.560454\n",
      "[215]\ttrain-mlogloss:0.492699\ttest-mlogloss:0.560269\n",
      "[216]\ttrain-mlogloss:0.492265\ttest-mlogloss:0.56008\n",
      "[217]\ttrain-mlogloss:0.491912\ttest-mlogloss:0.559954\n",
      "[218]\ttrain-mlogloss:0.491536\ttest-mlogloss:0.559766\n",
      "[219]\ttrain-mlogloss:0.491141\ttest-mlogloss:0.559592\n",
      "[220]\ttrain-mlogloss:0.490642\ttest-mlogloss:0.55945\n",
      "[221]\ttrain-mlogloss:0.490188\ttest-mlogloss:0.559251\n",
      "[222]\ttrain-mlogloss:0.489692\ttest-mlogloss:0.559023\n",
      "[223]\ttrain-mlogloss:0.48934\ttest-mlogloss:0.558896\n",
      "[224]\ttrain-mlogloss:0.489022\ttest-mlogloss:0.558769\n",
      "[225]\ttrain-mlogloss:0.488684\ttest-mlogloss:0.55865\n",
      "[226]\ttrain-mlogloss:0.488333\ttest-mlogloss:0.558462\n",
      "[227]\ttrain-mlogloss:0.487948\ttest-mlogloss:0.558321\n",
      "[228]\ttrain-mlogloss:0.487593\ttest-mlogloss:0.558159\n",
      "[229]\ttrain-mlogloss:0.487092\ttest-mlogloss:0.55801\n",
      "[230]\ttrain-mlogloss:0.486625\ttest-mlogloss:0.557896\n",
      "[231]\ttrain-mlogloss:0.486329\ttest-mlogloss:0.557765\n",
      "[232]\ttrain-mlogloss:0.485935\ttest-mlogloss:0.557643\n",
      "[233]\ttrain-mlogloss:0.485568\ttest-mlogloss:0.557477\n",
      "[234]\ttrain-mlogloss:0.485332\ttest-mlogloss:0.557341\n",
      "[235]\ttrain-mlogloss:0.485037\ttest-mlogloss:0.557266\n",
      "[236]\ttrain-mlogloss:0.484498\ttest-mlogloss:0.557059\n",
      "[237]\ttrain-mlogloss:0.484159\ttest-mlogloss:0.5569\n",
      "[238]\ttrain-mlogloss:0.483722\ttest-mlogloss:0.556651\n",
      "[239]\ttrain-mlogloss:0.483373\ttest-mlogloss:0.556521\n",
      "[240]\ttrain-mlogloss:0.482912\ttest-mlogloss:0.556366\n",
      "[241]\ttrain-mlogloss:0.48255\ttest-mlogloss:0.556198\n",
      "[242]\ttrain-mlogloss:0.482155\ttest-mlogloss:0.556019\n",
      "[243]\ttrain-mlogloss:0.481822\ttest-mlogloss:0.555924\n",
      "[244]\ttrain-mlogloss:0.481472\ttest-mlogloss:0.555787\n",
      "[245]\ttrain-mlogloss:0.481192\ttest-mlogloss:0.555623\n",
      "[246]\ttrain-mlogloss:0.480851\ttest-mlogloss:0.555461\n",
      "[247]\ttrain-mlogloss:0.480489\ttest-mlogloss:0.555279\n",
      "[248]\ttrain-mlogloss:0.480134\ttest-mlogloss:0.555172\n",
      "[249]\ttrain-mlogloss:0.47974\ttest-mlogloss:0.555024\n",
      "[250]\ttrain-mlogloss:0.479481\ttest-mlogloss:0.554911\n",
      "[251]\ttrain-mlogloss:0.479082\ttest-mlogloss:0.554742\n",
      "[252]\ttrain-mlogloss:0.478679\ttest-mlogloss:0.554592\n",
      "[253]\ttrain-mlogloss:0.478294\ttest-mlogloss:0.554441\n",
      "[254]\ttrain-mlogloss:0.477919\ttest-mlogloss:0.554298\n",
      "[255]\ttrain-mlogloss:0.47755\ttest-mlogloss:0.554168\n",
      "[256]\ttrain-mlogloss:0.477227\ttest-mlogloss:0.554058\n",
      "[257]\ttrain-mlogloss:0.476907\ttest-mlogloss:0.553938\n",
      "[258]\ttrain-mlogloss:0.476516\ttest-mlogloss:0.553745\n",
      "[259]\ttrain-mlogloss:0.47622\ttest-mlogloss:0.553633\n",
      "[260]\ttrain-mlogloss:0.475885\ttest-mlogloss:0.553459\n",
      "[261]\ttrain-mlogloss:0.475544\ttest-mlogloss:0.55337\n",
      "[262]\ttrain-mlogloss:0.475192\ttest-mlogloss:0.553227\n",
      "[263]\ttrain-mlogloss:0.474893\ttest-mlogloss:0.553126\n",
      "[264]\ttrain-mlogloss:0.474547\ttest-mlogloss:0.553012\n",
      "[265]\ttrain-mlogloss:0.474306\ttest-mlogloss:0.552912\n",
      "[266]\ttrain-mlogloss:0.474046\ttest-mlogloss:0.552805\n",
      "[267]\ttrain-mlogloss:0.473738\ttest-mlogloss:0.552729\n",
      "[268]\ttrain-mlogloss:0.47351\ttest-mlogloss:0.552602\n",
      "[269]\ttrain-mlogloss:0.473202\ttest-mlogloss:0.552472\n",
      "[270]\ttrain-mlogloss:0.472898\ttest-mlogloss:0.552399\n",
      "[271]\ttrain-mlogloss:0.472522\ttest-mlogloss:0.552274\n",
      "[272]\ttrain-mlogloss:0.472191\ttest-mlogloss:0.552148\n",
      "[273]\ttrain-mlogloss:0.471753\ttest-mlogloss:0.551984\n",
      "[274]\ttrain-mlogloss:0.471358\ttest-mlogloss:0.551897\n",
      "[275]\ttrain-mlogloss:0.470946\ttest-mlogloss:0.551812\n",
      "[276]\ttrain-mlogloss:0.470673\ttest-mlogloss:0.551701\n",
      "[277]\ttrain-mlogloss:0.470345\ttest-mlogloss:0.551598\n",
      "[278]\ttrain-mlogloss:0.470051\ttest-mlogloss:0.55154\n",
      "[279]\ttrain-mlogloss:0.469664\ttest-mlogloss:0.55144\n",
      "[280]\ttrain-mlogloss:0.4694\ttest-mlogloss:0.551368\n",
      "[281]\ttrain-mlogloss:0.469038\ttest-mlogloss:0.551271\n",
      "[282]\ttrain-mlogloss:0.468735\ttest-mlogloss:0.551164\n",
      "[283]\ttrain-mlogloss:0.468339\ttest-mlogloss:0.551\n",
      "[284]\ttrain-mlogloss:0.467932\ttest-mlogloss:0.550911\n",
      "[285]\ttrain-mlogloss:0.467552\ttest-mlogloss:0.550858\n",
      "[286]\ttrain-mlogloss:0.467231\ttest-mlogloss:0.550743\n",
      "[287]\ttrain-mlogloss:0.466907\ttest-mlogloss:0.550632\n",
      "[288]\ttrain-mlogloss:0.46663\ttest-mlogloss:0.550579\n",
      "[289]\ttrain-mlogloss:0.466393\ttest-mlogloss:0.550474\n",
      "[290]\ttrain-mlogloss:0.466089\ttest-mlogloss:0.550385\n",
      "[291]\ttrain-mlogloss:0.465727\ttest-mlogloss:0.550316\n",
      "[292]\ttrain-mlogloss:0.465486\ttest-mlogloss:0.550278\n",
      "[293]\ttrain-mlogloss:0.465095\ttest-mlogloss:0.550195\n",
      "[294]\ttrain-mlogloss:0.464793\ttest-mlogloss:0.550083\n",
      "[295]\ttrain-mlogloss:0.464457\ttest-mlogloss:0.549949\n",
      "[296]\ttrain-mlogloss:0.464156\ttest-mlogloss:0.549856\n",
      "[297]\ttrain-mlogloss:0.463792\ttest-mlogloss:0.549806\n",
      "[298]\ttrain-mlogloss:0.463568\ttest-mlogloss:0.54969\n",
      "[299]\ttrain-mlogloss:0.463363\ttest-mlogloss:0.549631\n",
      "[300]\ttrain-mlogloss:0.46312\ttest-mlogloss:0.549518\n",
      "[301]\ttrain-mlogloss:0.462889\ttest-mlogloss:0.549453\n",
      "[302]\ttrain-mlogloss:0.462658\ttest-mlogloss:0.549379\n",
      "[303]\ttrain-mlogloss:0.462266\ttest-mlogloss:0.549258\n",
      "[304]\ttrain-mlogloss:0.461949\ttest-mlogloss:0.549102\n",
      "[305]\ttrain-mlogloss:0.461618\ttest-mlogloss:0.549015\n",
      "[306]\ttrain-mlogloss:0.461441\ttest-mlogloss:0.548933\n",
      "[307]\ttrain-mlogloss:0.461234\ttest-mlogloss:0.548868\n",
      "[308]\ttrain-mlogloss:0.460893\ttest-mlogloss:0.548782\n",
      "[309]\ttrain-mlogloss:0.460588\ttest-mlogloss:0.548715\n",
      "[310]\ttrain-mlogloss:0.460328\ttest-mlogloss:0.548633\n",
      "[311]\ttrain-mlogloss:0.460056\ttest-mlogloss:0.548587\n",
      "[312]\ttrain-mlogloss:0.459715\ttest-mlogloss:0.548505\n",
      "[313]\ttrain-mlogloss:0.459459\ttest-mlogloss:0.54843\n",
      "[314]\ttrain-mlogloss:0.459241\ttest-mlogloss:0.548357\n",
      "[315]\ttrain-mlogloss:0.458958\ttest-mlogloss:0.548287\n",
      "[316]\ttrain-mlogloss:0.458706\ttest-mlogloss:0.548205\n",
      "[317]\ttrain-mlogloss:0.458292\ttest-mlogloss:0.548123\n",
      "[318]\ttrain-mlogloss:0.457996\ttest-mlogloss:0.548003\n",
      "[319]\ttrain-mlogloss:0.457728\ttest-mlogloss:0.547973\n",
      "[320]\ttrain-mlogloss:0.457368\ttest-mlogloss:0.547832\n",
      "[321]\ttrain-mlogloss:0.45704\ttest-mlogloss:0.547741\n",
      "[322]\ttrain-mlogloss:0.456742\ttest-mlogloss:0.547683\n",
      "[323]\ttrain-mlogloss:0.456376\ttest-mlogloss:0.547607\n",
      "[324]\ttrain-mlogloss:0.456134\ttest-mlogloss:0.54753\n",
      "[325]\ttrain-mlogloss:0.455906\ttest-mlogloss:0.547503\n",
      "[326]\ttrain-mlogloss:0.455653\ttest-mlogloss:0.547449\n",
      "[327]\ttrain-mlogloss:0.45536\ttest-mlogloss:0.547389\n",
      "[328]\ttrain-mlogloss:0.455042\ttest-mlogloss:0.547304\n",
      "[329]\ttrain-mlogloss:0.454669\ttest-mlogloss:0.547229\n",
      "[330]\ttrain-mlogloss:0.454478\ttest-mlogloss:0.547157\n",
      "[331]\ttrain-mlogloss:0.454236\ttest-mlogloss:0.547091\n",
      "[332]\ttrain-mlogloss:0.453948\ttest-mlogloss:0.547024\n",
      "[333]\ttrain-mlogloss:0.453741\ttest-mlogloss:0.5469\n",
      "[334]\ttrain-mlogloss:0.453571\ttest-mlogloss:0.546843\n",
      "[335]\ttrain-mlogloss:0.453337\ttest-mlogloss:0.546788\n",
      "[336]\ttrain-mlogloss:0.453046\ttest-mlogloss:0.546667\n",
      "[337]\ttrain-mlogloss:0.452757\ttest-mlogloss:0.546627\n",
      "[338]\ttrain-mlogloss:0.452476\ttest-mlogloss:0.546527\n",
      "[339]\ttrain-mlogloss:0.452233\ttest-mlogloss:0.546524\n",
      "[340]\ttrain-mlogloss:0.451889\ttest-mlogloss:0.546465\n",
      "[341]\ttrain-mlogloss:0.451659\ttest-mlogloss:0.546429\n",
      "[342]\ttrain-mlogloss:0.451345\ttest-mlogloss:0.546314\n",
      "[343]\ttrain-mlogloss:0.451072\ttest-mlogloss:0.54624\n",
      "[344]\ttrain-mlogloss:0.450791\ttest-mlogloss:0.546177\n",
      "[345]\ttrain-mlogloss:0.450511\ttest-mlogloss:0.546121\n",
      "[346]\ttrain-mlogloss:0.450225\ttest-mlogloss:0.546048\n",
      "[347]\ttrain-mlogloss:0.449925\ttest-mlogloss:0.546011\n",
      "[348]\ttrain-mlogloss:0.449614\ttest-mlogloss:0.545919\n",
      "[349]\ttrain-mlogloss:0.449343\ttest-mlogloss:0.545896\n",
      "[350]\ttrain-mlogloss:0.449047\ttest-mlogloss:0.545846\n",
      "[351]\ttrain-mlogloss:0.448824\ttest-mlogloss:0.545786\n",
      "[352]\ttrain-mlogloss:0.44856\ttest-mlogloss:0.545701\n",
      "[353]\ttrain-mlogloss:0.448268\ttest-mlogloss:0.545647\n",
      "[354]\ttrain-mlogloss:0.44799\ttest-mlogloss:0.545521\n",
      "[355]\ttrain-mlogloss:0.447759\ttest-mlogloss:0.545418\n",
      "[356]\ttrain-mlogloss:0.447503\ttest-mlogloss:0.545292\n",
      "[357]\ttrain-mlogloss:0.447174\ttest-mlogloss:0.545244\n",
      "[358]\ttrain-mlogloss:0.446915\ttest-mlogloss:0.545147\n",
      "[359]\ttrain-mlogloss:0.44663\ttest-mlogloss:0.545117\n",
      "[360]\ttrain-mlogloss:0.446366\ttest-mlogloss:0.545013\n",
      "[361]\ttrain-mlogloss:0.446024\ttest-mlogloss:0.544905\n",
      "[362]\ttrain-mlogloss:0.445787\ttest-mlogloss:0.544831\n",
      "[363]\ttrain-mlogloss:0.445604\ttest-mlogloss:0.544767\n",
      "[364]\ttrain-mlogloss:0.445335\ttest-mlogloss:0.544711\n",
      "[365]\ttrain-mlogloss:0.445106\ttest-mlogloss:0.544657\n",
      "[366]\ttrain-mlogloss:0.444869\ttest-mlogloss:0.544627\n",
      "[367]\ttrain-mlogloss:0.444588\ttest-mlogloss:0.544595\n",
      "[368]\ttrain-mlogloss:0.444396\ttest-mlogloss:0.54454\n",
      "[369]\ttrain-mlogloss:0.444154\ttest-mlogloss:0.544502\n",
      "[370]\ttrain-mlogloss:0.443845\ttest-mlogloss:0.544438\n",
      "[371]\ttrain-mlogloss:0.44355\ttest-mlogloss:0.544408\n",
      "[372]\ttrain-mlogloss:0.443267\ttest-mlogloss:0.544361\n",
      "[373]\ttrain-mlogloss:0.443076\ttest-mlogloss:0.544311\n",
      "[374]\ttrain-mlogloss:0.442746\ttest-mlogloss:0.544209\n",
      "[375]\ttrain-mlogloss:0.442409\ttest-mlogloss:0.544151\n",
      "[376]\ttrain-mlogloss:0.442066\ttest-mlogloss:0.5441\n",
      "[377]\ttrain-mlogloss:0.441779\ttest-mlogloss:0.544032\n",
      "[378]\ttrain-mlogloss:0.441529\ttest-mlogloss:0.543956\n",
      "[379]\ttrain-mlogloss:0.441259\ttest-mlogloss:0.543884\n",
      "[380]\ttrain-mlogloss:0.441001\ttest-mlogloss:0.543799\n",
      "[381]\ttrain-mlogloss:0.440695\ttest-mlogloss:0.543717\n",
      "[382]\ttrain-mlogloss:0.440368\ttest-mlogloss:0.543651\n",
      "[383]\ttrain-mlogloss:0.440044\ttest-mlogloss:0.543602\n",
      "[384]\ttrain-mlogloss:0.439823\ttest-mlogloss:0.543564\n",
      "[385]\ttrain-mlogloss:0.439625\ttest-mlogloss:0.543519\n",
      "[386]\ttrain-mlogloss:0.439419\ttest-mlogloss:0.543456\n",
      "[387]\ttrain-mlogloss:0.439234\ttest-mlogloss:0.543394\n",
      "[388]\ttrain-mlogloss:0.438994\ttest-mlogloss:0.543341\n",
      "[389]\ttrain-mlogloss:0.438765\ttest-mlogloss:0.543296\n",
      "[390]\ttrain-mlogloss:0.438479\ttest-mlogloss:0.543306\n",
      "[391]\ttrain-mlogloss:0.438242\ttest-mlogloss:0.543258\n",
      "[392]\ttrain-mlogloss:0.43797\ttest-mlogloss:0.543194\n",
      "[393]\ttrain-mlogloss:0.437755\ttest-mlogloss:0.54316\n",
      "[394]\ttrain-mlogloss:0.437505\ttest-mlogloss:0.543069\n",
      "[395]\ttrain-mlogloss:0.437266\ttest-mlogloss:0.54302\n",
      "[396]\ttrain-mlogloss:0.436963\ttest-mlogloss:0.542962\n",
      "[397]\ttrain-mlogloss:0.436634\ttest-mlogloss:0.542895\n",
      "[398]\ttrain-mlogloss:0.436321\ttest-mlogloss:0.542845\n",
      "[399]\ttrain-mlogloss:0.436045\ttest-mlogloss:0.542765\n",
      "[400]\ttrain-mlogloss:0.435829\ttest-mlogloss:0.542709\n",
      "[401]\ttrain-mlogloss:0.4357\ttest-mlogloss:0.54267\n",
      "[402]\ttrain-mlogloss:0.435394\ttest-mlogloss:0.542654\n",
      "[403]\ttrain-mlogloss:0.435105\ttest-mlogloss:0.542594\n",
      "[404]\ttrain-mlogloss:0.434795\ttest-mlogloss:0.542575\n",
      "[405]\ttrain-mlogloss:0.434541\ttest-mlogloss:0.542538\n",
      "[406]\ttrain-mlogloss:0.434251\ttest-mlogloss:0.542546\n",
      "[407]\ttrain-mlogloss:0.434023\ttest-mlogloss:0.54246\n",
      "[408]\ttrain-mlogloss:0.433766\ttest-mlogloss:0.542454\n",
      "[409]\ttrain-mlogloss:0.433525\ttest-mlogloss:0.542399\n",
      "[410]\ttrain-mlogloss:0.433232\ttest-mlogloss:0.542369\n",
      "[411]\ttrain-mlogloss:0.432983\ttest-mlogloss:0.542312\n",
      "[412]\ttrain-mlogloss:0.432762\ttest-mlogloss:0.542249\n",
      "[413]\ttrain-mlogloss:0.432468\ttest-mlogloss:0.542195\n",
      "[414]\ttrain-mlogloss:0.432249\ttest-mlogloss:0.542137\n",
      "[415]\ttrain-mlogloss:0.431974\ttest-mlogloss:0.542058\n",
      "[416]\ttrain-mlogloss:0.431774\ttest-mlogloss:0.542016\n",
      "[417]\ttrain-mlogloss:0.431526\ttest-mlogloss:0.541938\n",
      "[418]\ttrain-mlogloss:0.431229\ttest-mlogloss:0.541884\n",
      "[419]\ttrain-mlogloss:0.430949\ttest-mlogloss:0.541838\n",
      "[420]\ttrain-mlogloss:0.430665\ttest-mlogloss:0.541791\n",
      "[421]\ttrain-mlogloss:0.430417\ttest-mlogloss:0.54175\n",
      "[422]\ttrain-mlogloss:0.430125\ttest-mlogloss:0.541708\n",
      "[423]\ttrain-mlogloss:0.429885\ttest-mlogloss:0.541686\n",
      "[424]\ttrain-mlogloss:0.42958\ttest-mlogloss:0.541697\n",
      "[425]\ttrain-mlogloss:0.429311\ttest-mlogloss:0.541661\n",
      "[426]\ttrain-mlogloss:0.429082\ttest-mlogloss:0.541632\n",
      "[427]\ttrain-mlogloss:0.428849\ttest-mlogloss:0.54155\n",
      "[428]\ttrain-mlogloss:0.428643\ttest-mlogloss:0.541502\n",
      "[429]\ttrain-mlogloss:0.428414\ttest-mlogloss:0.541456\n",
      "[430]\ttrain-mlogloss:0.428117\ttest-mlogloss:0.541371\n",
      "[431]\ttrain-mlogloss:0.427838\ttest-mlogloss:0.541299\n",
      "[432]\ttrain-mlogloss:0.427636\ttest-mlogloss:0.541227\n",
      "[433]\ttrain-mlogloss:0.427362\ttest-mlogloss:0.541239\n",
      "[434]\ttrain-mlogloss:0.427121\ttest-mlogloss:0.541196\n",
      "[435]\ttrain-mlogloss:0.426918\ttest-mlogloss:0.541125\n",
      "[436]\ttrain-mlogloss:0.426651\ttest-mlogloss:0.541062\n",
      "[437]\ttrain-mlogloss:0.426392\ttest-mlogloss:0.541049\n",
      "[438]\ttrain-mlogloss:0.426126\ttest-mlogloss:0.54103\n",
      "[439]\ttrain-mlogloss:0.425894\ttest-mlogloss:0.541023\n",
      "[440]\ttrain-mlogloss:0.425701\ttest-mlogloss:0.540994\n",
      "[441]\ttrain-mlogloss:0.425475\ttest-mlogloss:0.540985\n",
      "[442]\ttrain-mlogloss:0.425272\ttest-mlogloss:0.540889\n",
      "[443]\ttrain-mlogloss:0.425032\ttest-mlogloss:0.540881\n",
      "[444]\ttrain-mlogloss:0.424734\ttest-mlogloss:0.540832\n",
      "[445]\ttrain-mlogloss:0.424444\ttest-mlogloss:0.540773\n",
      "[446]\ttrain-mlogloss:0.424149\ttest-mlogloss:0.540752\n",
      "[447]\ttrain-mlogloss:0.423941\ttest-mlogloss:0.540704\n",
      "[448]\ttrain-mlogloss:0.423661\ttest-mlogloss:0.540645\n",
      "[449]\ttrain-mlogloss:0.423413\ttest-mlogloss:0.540601\n",
      "[450]\ttrain-mlogloss:0.423179\ttest-mlogloss:0.540589\n",
      "[451]\ttrain-mlogloss:0.422914\ttest-mlogloss:0.540555\n",
      "[452]\ttrain-mlogloss:0.422688\ttest-mlogloss:0.540515\n",
      "[453]\ttrain-mlogloss:0.422428\ttest-mlogloss:0.540455\n",
      "[454]\ttrain-mlogloss:0.422198\ttest-mlogloss:0.540414\n",
      "[455]\ttrain-mlogloss:0.421939\ttest-mlogloss:0.540355\n",
      "[456]\ttrain-mlogloss:0.421752\ttest-mlogloss:0.540309\n",
      "[457]\ttrain-mlogloss:0.421537\ttest-mlogloss:0.540275\n",
      "[458]\ttrain-mlogloss:0.421351\ttest-mlogloss:0.540234\n",
      "[459]\ttrain-mlogloss:0.421143\ttest-mlogloss:0.5402\n",
      "[460]\ttrain-mlogloss:0.420913\ttest-mlogloss:0.540112\n",
      "[461]\ttrain-mlogloss:0.420609\ttest-mlogloss:0.540065\n",
      "[462]\ttrain-mlogloss:0.420416\ttest-mlogloss:0.540007\n",
      "[463]\ttrain-mlogloss:0.420205\ttest-mlogloss:0.540003\n",
      "[464]\ttrain-mlogloss:0.419983\ttest-mlogloss:0.539956\n",
      "[465]\ttrain-mlogloss:0.419764\ttest-mlogloss:0.539921\n",
      "[466]\ttrain-mlogloss:0.419584\ttest-mlogloss:0.539937\n",
      "[467]\ttrain-mlogloss:0.419312\ttest-mlogloss:0.539883\n",
      "[468]\ttrain-mlogloss:0.419099\ttest-mlogloss:0.539823\n",
      "[469]\ttrain-mlogloss:0.418901\ttest-mlogloss:0.539819\n",
      "[470]\ttrain-mlogloss:0.418751\ttest-mlogloss:0.539759\n",
      "[471]\ttrain-mlogloss:0.418487\ttest-mlogloss:0.53972\n",
      "[472]\ttrain-mlogloss:0.41827\ttest-mlogloss:0.539669\n",
      "[473]\ttrain-mlogloss:0.418003\ttest-mlogloss:0.53964\n",
      "[474]\ttrain-mlogloss:0.417857\ttest-mlogloss:0.539609\n",
      "[475]\ttrain-mlogloss:0.417587\ttest-mlogloss:0.539521\n",
      "[476]\ttrain-mlogloss:0.417413\ttest-mlogloss:0.539501\n",
      "[477]\ttrain-mlogloss:0.417141\ttest-mlogloss:0.539475\n",
      "[478]\ttrain-mlogloss:0.416936\ttest-mlogloss:0.539438\n",
      "[479]\ttrain-mlogloss:0.416598\ttest-mlogloss:0.539382\n",
      "[480]\ttrain-mlogloss:0.416308\ttest-mlogloss:0.539394\n",
      "[481]\ttrain-mlogloss:0.416053\ttest-mlogloss:0.539333\n",
      "[482]\ttrain-mlogloss:0.415795\ttest-mlogloss:0.53931\n",
      "[483]\ttrain-mlogloss:0.415543\ttest-mlogloss:0.539232\n",
      "[484]\ttrain-mlogloss:0.415278\ttest-mlogloss:0.539205\n",
      "[485]\ttrain-mlogloss:0.415048\ttest-mlogloss:0.539137\n",
      "[486]\ttrain-mlogloss:0.414795\ttest-mlogloss:0.539091\n",
      "[487]\ttrain-mlogloss:0.414516\ttest-mlogloss:0.539054\n",
      "[488]\ttrain-mlogloss:0.414328\ttest-mlogloss:0.538982\n",
      "[489]\ttrain-mlogloss:0.414153\ttest-mlogloss:0.53893\n",
      "[490]\ttrain-mlogloss:0.413902\ttest-mlogloss:0.538872\n",
      "[491]\ttrain-mlogloss:0.413651\ttest-mlogloss:0.538879\n",
      "[492]\ttrain-mlogloss:0.413394\ttest-mlogloss:0.538862\n",
      "[493]\ttrain-mlogloss:0.413196\ttest-mlogloss:0.538806\n",
      "[494]\ttrain-mlogloss:0.412974\ttest-mlogloss:0.538755\n",
      "[495]\ttrain-mlogloss:0.412821\ttest-mlogloss:0.538725\n",
      "[496]\ttrain-mlogloss:0.412602\ttest-mlogloss:0.538698\n",
      "[497]\ttrain-mlogloss:0.412389\ttest-mlogloss:0.538619\n",
      "[498]\ttrain-mlogloss:0.412215\ttest-mlogloss:0.538576\n",
      "[499]\ttrain-mlogloss:0.412008\ttest-mlogloss:0.538542\n",
      "[500]\ttrain-mlogloss:0.411827\ttest-mlogloss:0.538503\n",
      "[501]\ttrain-mlogloss:0.41161\ttest-mlogloss:0.538493\n",
      "[502]\ttrain-mlogloss:0.411378\ttest-mlogloss:0.538471\n",
      "[503]\ttrain-mlogloss:0.411166\ttest-mlogloss:0.538427\n",
      "[504]\ttrain-mlogloss:0.410909\ttest-mlogloss:0.538387\n",
      "[505]\ttrain-mlogloss:0.410686\ttest-mlogloss:0.538339\n",
      "[506]\ttrain-mlogloss:0.410424\ttest-mlogloss:0.538285\n",
      "[507]\ttrain-mlogloss:0.410261\ttest-mlogloss:0.538262\n",
      "[508]\ttrain-mlogloss:0.409992\ttest-mlogloss:0.538248\n",
      "[509]\ttrain-mlogloss:0.409795\ttest-mlogloss:0.538216\n",
      "[510]\ttrain-mlogloss:0.4096\ttest-mlogloss:0.538196\n",
      "[511]\ttrain-mlogloss:0.409383\ttest-mlogloss:0.538199\n",
      "[512]\ttrain-mlogloss:0.409182\ttest-mlogloss:0.538217\n",
      "[513]\ttrain-mlogloss:0.409001\ttest-mlogloss:0.538199\n",
      "[514]\ttrain-mlogloss:0.408809\ttest-mlogloss:0.538205\n",
      "[515]\ttrain-mlogloss:0.40862\ttest-mlogloss:0.538141\n",
      "[516]\ttrain-mlogloss:0.408403\ttest-mlogloss:0.538127\n",
      "[517]\ttrain-mlogloss:0.408173\ttest-mlogloss:0.538062\n",
      "[518]\ttrain-mlogloss:0.407963\ttest-mlogloss:0.538\n",
      "[519]\ttrain-mlogloss:0.407782\ttest-mlogloss:0.537963\n",
      "[520]\ttrain-mlogloss:0.407587\ttest-mlogloss:0.53797\n",
      "[521]\ttrain-mlogloss:0.407308\ttest-mlogloss:0.537936\n",
      "[522]\ttrain-mlogloss:0.407071\ttest-mlogloss:0.537905\n",
      "[523]\ttrain-mlogloss:0.406906\ttest-mlogloss:0.537895\n",
      "[524]\ttrain-mlogloss:0.406694\ttest-mlogloss:0.537883\n",
      "[525]\ttrain-mlogloss:0.406528\ttest-mlogloss:0.537844\n",
      "[526]\ttrain-mlogloss:0.406275\ttest-mlogloss:0.537807\n",
      "[527]\ttrain-mlogloss:0.406065\ttest-mlogloss:0.537809\n",
      "[528]\ttrain-mlogloss:0.405838\ttest-mlogloss:0.537816\n",
      "[529]\ttrain-mlogloss:0.405588\ttest-mlogloss:0.537774\n",
      "[530]\ttrain-mlogloss:0.405342\ttest-mlogloss:0.537796\n",
      "[531]\ttrain-mlogloss:0.40514\ttest-mlogloss:0.537751\n",
      "[532]\ttrain-mlogloss:0.40494\ttest-mlogloss:0.53772\n",
      "[533]\ttrain-mlogloss:0.404805\ttest-mlogloss:0.537699\n",
      "[534]\ttrain-mlogloss:0.404625\ttest-mlogloss:0.537681\n",
      "[535]\ttrain-mlogloss:0.404475\ttest-mlogloss:0.537652\n",
      "[536]\ttrain-mlogloss:0.404216\ttest-mlogloss:0.537595\n",
      "[537]\ttrain-mlogloss:0.403946\ttest-mlogloss:0.537569\n",
      "[538]\ttrain-mlogloss:0.403703\ttest-mlogloss:0.537567\n",
      "[539]\ttrain-mlogloss:0.403406\ttest-mlogloss:0.537559\n",
      "[540]\ttrain-mlogloss:0.40315\ttest-mlogloss:0.537503\n",
      "[541]\ttrain-mlogloss:0.402925\ttest-mlogloss:0.537449\n",
      "[542]\ttrain-mlogloss:0.402704\ttest-mlogloss:0.537442\n",
      "[543]\ttrain-mlogloss:0.402439\ttest-mlogloss:0.537432\n",
      "[544]\ttrain-mlogloss:0.402286\ttest-mlogloss:0.537429\n",
      "[545]\ttrain-mlogloss:0.402034\ttest-mlogloss:0.53739\n",
      "[546]\ttrain-mlogloss:0.401802\ttest-mlogloss:0.537377\n",
      "[547]\ttrain-mlogloss:0.401633\ttest-mlogloss:0.537356\n",
      "[548]\ttrain-mlogloss:0.401431\ttest-mlogloss:0.537333\n",
      "[549]\ttrain-mlogloss:0.401265\ttest-mlogloss:0.537299\n",
      "[550]\ttrain-mlogloss:0.401133\ttest-mlogloss:0.537259\n",
      "[551]\ttrain-mlogloss:0.400943\ttest-mlogloss:0.537251\n",
      "[552]\ttrain-mlogloss:0.400735\ttest-mlogloss:0.537196\n",
      "[553]\ttrain-mlogloss:0.400596\ttest-mlogloss:0.537158\n",
      "[554]\ttrain-mlogloss:0.400327\ttest-mlogloss:0.537144\n",
      "[555]\ttrain-mlogloss:0.400152\ttest-mlogloss:0.537104\n",
      "[556]\ttrain-mlogloss:0.399943\ttest-mlogloss:0.537125\n",
      "[557]\ttrain-mlogloss:0.39973\ttest-mlogloss:0.537102\n",
      "[558]\ttrain-mlogloss:0.399564\ttest-mlogloss:0.537116\n",
      "[559]\ttrain-mlogloss:0.399347\ttest-mlogloss:0.537085\n",
      "[560]\ttrain-mlogloss:0.399074\ttest-mlogloss:0.53709\n",
      "[561]\ttrain-mlogloss:0.398836\ttest-mlogloss:0.537082\n",
      "[562]\ttrain-mlogloss:0.398585\ttest-mlogloss:0.537007\n",
      "[563]\ttrain-mlogloss:0.398389\ttest-mlogloss:0.536981\n",
      "[564]\ttrain-mlogloss:0.398207\ttest-mlogloss:0.536962\n",
      "[565]\ttrain-mlogloss:0.398055\ttest-mlogloss:0.536981\n",
      "[566]\ttrain-mlogloss:0.397842\ttest-mlogloss:0.536978\n",
      "[567]\ttrain-mlogloss:0.397635\ttest-mlogloss:0.536955\n",
      "[568]\ttrain-mlogloss:0.39748\ttest-mlogloss:0.536926\n",
      "[569]\ttrain-mlogloss:0.39733\ttest-mlogloss:0.536941\n",
      "[570]\ttrain-mlogloss:0.397102\ttest-mlogloss:0.53694\n",
      "[571]\ttrain-mlogloss:0.396843\ttest-mlogloss:0.536901\n",
      "[572]\ttrain-mlogloss:0.396639\ttest-mlogloss:0.536875\n",
      "[573]\ttrain-mlogloss:0.396433\ttest-mlogloss:0.536856\n",
      "[574]\ttrain-mlogloss:0.396317\ttest-mlogloss:0.536854\n",
      "[575]\ttrain-mlogloss:0.396142\ttest-mlogloss:0.536806\n",
      "[576]\ttrain-mlogloss:0.395948\ttest-mlogloss:0.536783\n",
      "[577]\ttrain-mlogloss:0.395704\ttest-mlogloss:0.536725\n",
      "[578]\ttrain-mlogloss:0.395595\ttest-mlogloss:0.536693\n",
      "[579]\ttrain-mlogloss:0.395445\ttest-mlogloss:0.536663\n",
      "[580]\ttrain-mlogloss:0.395249\ttest-mlogloss:0.536648\n",
      "[581]\ttrain-mlogloss:0.395075\ttest-mlogloss:0.536666\n",
      "[582]\ttrain-mlogloss:0.394849\ttest-mlogloss:0.536666\n",
      "[583]\ttrain-mlogloss:0.39462\ttest-mlogloss:0.536599\n",
      "[584]\ttrain-mlogloss:0.394433\ttest-mlogloss:0.53656\n",
      "[585]\ttrain-mlogloss:0.394277\ttest-mlogloss:0.53654\n",
      "[586]\ttrain-mlogloss:0.393997\ttest-mlogloss:0.536549\n",
      "[587]\ttrain-mlogloss:0.393829\ttest-mlogloss:0.536532\n",
      "[588]\ttrain-mlogloss:0.393574\ttest-mlogloss:0.536528\n",
      "[589]\ttrain-mlogloss:0.393389\ttest-mlogloss:0.536516\n",
      "[590]\ttrain-mlogloss:0.393158\ttest-mlogloss:0.536468\n",
      "[591]\ttrain-mlogloss:0.392937\ttest-mlogloss:0.536439\n",
      "[592]\ttrain-mlogloss:0.39275\ttest-mlogloss:0.536441\n",
      "[593]\ttrain-mlogloss:0.392455\ttest-mlogloss:0.536404\n",
      "[594]\ttrain-mlogloss:0.392244\ttest-mlogloss:0.536387\n",
      "[595]\ttrain-mlogloss:0.392074\ttest-mlogloss:0.536383\n",
      "[596]\ttrain-mlogloss:0.391814\ttest-mlogloss:0.536381\n",
      "[597]\ttrain-mlogloss:0.391615\ttest-mlogloss:0.536353\n",
      "[598]\ttrain-mlogloss:0.391397\ttest-mlogloss:0.536311\n",
      "[599]\ttrain-mlogloss:0.391259\ttest-mlogloss:0.536304\n",
      "[600]\ttrain-mlogloss:0.391101\ttest-mlogloss:0.536277\n",
      "[601]\ttrain-mlogloss:0.39093\ttest-mlogloss:0.536252\n",
      "[602]\ttrain-mlogloss:0.390661\ttest-mlogloss:0.536257\n",
      "[603]\ttrain-mlogloss:0.390493\ttest-mlogloss:0.536231\n",
      "[604]\ttrain-mlogloss:0.390313\ttest-mlogloss:0.536222\n",
      "[605]\ttrain-mlogloss:0.390142\ttest-mlogloss:0.53618\n",
      "[606]\ttrain-mlogloss:0.389943\ttest-mlogloss:0.536136\n",
      "[607]\ttrain-mlogloss:0.389765\ttest-mlogloss:0.536118\n",
      "[608]\ttrain-mlogloss:0.389578\ttest-mlogloss:0.536135\n",
      "[609]\ttrain-mlogloss:0.389365\ttest-mlogloss:0.536104\n",
      "[610]\ttrain-mlogloss:0.38917\ttest-mlogloss:0.536071\n",
      "[611]\ttrain-mlogloss:0.388922\ttest-mlogloss:0.536042\n",
      "[612]\ttrain-mlogloss:0.388745\ttest-mlogloss:0.536015\n",
      "[613]\ttrain-mlogloss:0.388512\ttest-mlogloss:0.535992\n",
      "[614]\ttrain-mlogloss:0.388295\ttest-mlogloss:0.535966\n",
      "[615]\ttrain-mlogloss:0.388122\ttest-mlogloss:0.535904\n",
      "[616]\ttrain-mlogloss:0.387914\ttest-mlogloss:0.535895\n",
      "[617]\ttrain-mlogloss:0.387702\ttest-mlogloss:0.535824\n",
      "[618]\ttrain-mlogloss:0.387549\ttest-mlogloss:0.535771\n",
      "[619]\ttrain-mlogloss:0.38738\ttest-mlogloss:0.53577\n",
      "[620]\ttrain-mlogloss:0.387225\ttest-mlogloss:0.535755\n",
      "[621]\ttrain-mlogloss:0.387044\ttest-mlogloss:0.535743\n",
      "[622]\ttrain-mlogloss:0.386802\ttest-mlogloss:0.535715\n",
      "[623]\ttrain-mlogloss:0.386588\ttest-mlogloss:0.535673\n",
      "[624]\ttrain-mlogloss:0.386399\ttest-mlogloss:0.535673\n",
      "[625]\ttrain-mlogloss:0.386176\ttest-mlogloss:0.535681\n",
      "[626]\ttrain-mlogloss:0.385949\ttest-mlogloss:0.535658\n",
      "[627]\ttrain-mlogloss:0.385719\ttest-mlogloss:0.535623\n",
      "[628]\ttrain-mlogloss:0.385538\ttest-mlogloss:0.535574\n",
      "[629]\ttrain-mlogloss:0.385324\ttest-mlogloss:0.535571\n",
      "[630]\ttrain-mlogloss:0.38512\ttest-mlogloss:0.535539\n",
      "[631]\ttrain-mlogloss:0.384904\ttest-mlogloss:0.53552\n",
      "[632]\ttrain-mlogloss:0.384675\ttest-mlogloss:0.535487\n",
      "[633]\ttrain-mlogloss:0.384478\ttest-mlogloss:0.535514\n",
      "[634]\ttrain-mlogloss:0.384324\ttest-mlogloss:0.53548\n",
      "[635]\ttrain-mlogloss:0.384172\ttest-mlogloss:0.535511\n",
      "[636]\ttrain-mlogloss:0.383983\ttest-mlogloss:0.535506\n",
      "[637]\ttrain-mlogloss:0.383802\ttest-mlogloss:0.535482\n",
      "[638]\ttrain-mlogloss:0.383602\ttest-mlogloss:0.53543\n",
      "[639]\ttrain-mlogloss:0.383482\ttest-mlogloss:0.535435\n",
      "[640]\ttrain-mlogloss:0.383307\ttest-mlogloss:0.535347\n",
      "[641]\ttrain-mlogloss:0.383146\ttest-mlogloss:0.53534\n",
      "[642]\ttrain-mlogloss:0.382927\ttest-mlogloss:0.535308\n",
      "[643]\ttrain-mlogloss:0.382677\ttest-mlogloss:0.535252\n",
      "[644]\ttrain-mlogloss:0.382429\ttest-mlogloss:0.535208\n",
      "[645]\ttrain-mlogloss:0.382271\ttest-mlogloss:0.535169\n",
      "[646]\ttrain-mlogloss:0.382029\ttest-mlogloss:0.535132\n",
      "[647]\ttrain-mlogloss:0.381863\ttest-mlogloss:0.535114\n",
      "[648]\ttrain-mlogloss:0.381751\ttest-mlogloss:0.535089\n",
      "[649]\ttrain-mlogloss:0.381574\ttest-mlogloss:0.535073\n",
      "[650]\ttrain-mlogloss:0.381386\ttest-mlogloss:0.535067\n",
      "[651]\ttrain-mlogloss:0.381252\ttest-mlogloss:0.535041\n",
      "[652]\ttrain-mlogloss:0.381156\ttest-mlogloss:0.535043\n",
      "[653]\ttrain-mlogloss:0.380926\ttest-mlogloss:0.535007\n",
      "[654]\ttrain-mlogloss:0.380702\ttest-mlogloss:0.535016\n",
      "[655]\ttrain-mlogloss:0.380515\ttest-mlogloss:0.535023\n",
      "[656]\ttrain-mlogloss:0.380379\ttest-mlogloss:0.535022\n",
      "[657]\ttrain-mlogloss:0.380207\ttest-mlogloss:0.535017\n",
      "[658]\ttrain-mlogloss:0.380103\ttest-mlogloss:0.535031\n",
      "[659]\ttrain-mlogloss:0.379951\ttest-mlogloss:0.535035\n",
      "[660]\ttrain-mlogloss:0.379731\ttest-mlogloss:0.535003\n",
      "[661]\ttrain-mlogloss:0.379532\ttest-mlogloss:0.535002\n",
      "[662]\ttrain-mlogloss:0.379317\ttest-mlogloss:0.535016\n",
      "[663]\ttrain-mlogloss:0.379148\ttest-mlogloss:0.534969\n",
      "[664]\ttrain-mlogloss:0.378994\ttest-mlogloss:0.534969\n",
      "[665]\ttrain-mlogloss:0.378793\ttest-mlogloss:0.534943\n",
      "[666]\ttrain-mlogloss:0.378513\ttest-mlogloss:0.534925\n",
      "[667]\ttrain-mlogloss:0.378331\ttest-mlogloss:0.534898\n",
      "[668]\ttrain-mlogloss:0.37808\ttest-mlogloss:0.534901\n",
      "[669]\ttrain-mlogloss:0.37792\ttest-mlogloss:0.534894\n",
      "[670]\ttrain-mlogloss:0.377771\ttest-mlogloss:0.534866\n",
      "[671]\ttrain-mlogloss:0.377631\ttest-mlogloss:0.534853\n",
      "[672]\ttrain-mlogloss:0.377432\ttest-mlogloss:0.534825\n",
      "[673]\ttrain-mlogloss:0.37729\ttest-mlogloss:0.534803\n",
      "[674]\ttrain-mlogloss:0.377122\ttest-mlogloss:0.534808\n",
      "[675]\ttrain-mlogloss:0.37688\ttest-mlogloss:0.5348\n",
      "[676]\ttrain-mlogloss:0.376698\ttest-mlogloss:0.534799\n",
      "[677]\ttrain-mlogloss:0.376538\ttest-mlogloss:0.534783\n",
      "[678]\ttrain-mlogloss:0.376352\ttest-mlogloss:0.534756\n",
      "[679]\ttrain-mlogloss:0.376196\ttest-mlogloss:0.534723\n",
      "[680]\ttrain-mlogloss:0.376024\ttest-mlogloss:0.534741\n",
      "[681]\ttrain-mlogloss:0.375871\ttest-mlogloss:0.534683\n",
      "[682]\ttrain-mlogloss:0.375686\ttest-mlogloss:0.534694\n",
      "[683]\ttrain-mlogloss:0.375579\ttest-mlogloss:0.534679\n",
      "[684]\ttrain-mlogloss:0.375369\ttest-mlogloss:0.534643\n",
      "[685]\ttrain-mlogloss:0.375197\ttest-mlogloss:0.534639\n",
      "[686]\ttrain-mlogloss:0.375017\ttest-mlogloss:0.534604\n",
      "[687]\ttrain-mlogloss:0.374756\ttest-mlogloss:0.534558\n",
      "[688]\ttrain-mlogloss:0.374581\ttest-mlogloss:0.534535\n",
      "[689]\ttrain-mlogloss:0.374337\ttest-mlogloss:0.534508\n",
      "[690]\ttrain-mlogloss:0.374116\ttest-mlogloss:0.534458\n",
      "[691]\ttrain-mlogloss:0.373923\ttest-mlogloss:0.534411\n",
      "[692]\ttrain-mlogloss:0.37377\ttest-mlogloss:0.534409\n",
      "[693]\ttrain-mlogloss:0.373608\ttest-mlogloss:0.5344\n",
      "[694]\ttrain-mlogloss:0.37339\ttest-mlogloss:0.534387\n",
      "[695]\ttrain-mlogloss:0.373202\ttest-mlogloss:0.534318\n",
      "[696]\ttrain-mlogloss:0.373099\ttest-mlogloss:0.534336\n",
      "[697]\ttrain-mlogloss:0.372922\ttest-mlogloss:0.534339\n",
      "[698]\ttrain-mlogloss:0.372698\ttest-mlogloss:0.534305\n",
      "[699]\ttrain-mlogloss:0.372511\ttest-mlogloss:0.534277\n",
      "[700]\ttrain-mlogloss:0.372351\ttest-mlogloss:0.534245\n",
      "[701]\ttrain-mlogloss:0.372149\ttest-mlogloss:0.534271\n",
      "[702]\ttrain-mlogloss:0.37193\ttest-mlogloss:0.534303\n",
      "[703]\ttrain-mlogloss:0.371774\ttest-mlogloss:0.534288\n",
      "[704]\ttrain-mlogloss:0.371605\ttest-mlogloss:0.534266\n",
      "[705]\ttrain-mlogloss:0.371436\ttest-mlogloss:0.534247\n",
      "[706]\ttrain-mlogloss:0.371241\ttest-mlogloss:0.534225\n",
      "[707]\ttrain-mlogloss:0.371067\ttest-mlogloss:0.534253\n",
      "[708]\ttrain-mlogloss:0.370875\ttest-mlogloss:0.534224\n",
      "[709]\ttrain-mlogloss:0.3707\ttest-mlogloss:0.534217\n",
      "[710]\ttrain-mlogloss:0.370522\ttest-mlogloss:0.534213\n",
      "[711]\ttrain-mlogloss:0.370319\ttest-mlogloss:0.534226\n",
      "[712]\ttrain-mlogloss:0.370162\ttest-mlogloss:0.534228\n",
      "[713]\ttrain-mlogloss:0.369985\ttest-mlogloss:0.534225\n",
      "[714]\ttrain-mlogloss:0.369817\ttest-mlogloss:0.534217\n",
      "[715]\ttrain-mlogloss:0.36965\ttest-mlogloss:0.534193\n",
      "[716]\ttrain-mlogloss:0.369483\ttest-mlogloss:0.534168\n",
      "[717]\ttrain-mlogloss:0.369292\ttest-mlogloss:0.534138\n",
      "[718]\ttrain-mlogloss:0.369074\ttest-mlogloss:0.534101\n",
      "[719]\ttrain-mlogloss:0.368866\ttest-mlogloss:0.53408\n",
      "[720]\ttrain-mlogloss:0.368753\ttest-mlogloss:0.534066\n",
      "[721]\ttrain-mlogloss:0.368637\ttest-mlogloss:0.53404\n",
      "[722]\ttrain-mlogloss:0.368412\ttest-mlogloss:0.534029\n",
      "[723]\ttrain-mlogloss:0.368256\ttest-mlogloss:0.534009\n",
      "[724]\ttrain-mlogloss:0.368067\ttest-mlogloss:0.53397\n",
      "[725]\ttrain-mlogloss:0.367846\ttest-mlogloss:0.533968\n",
      "[726]\ttrain-mlogloss:0.36764\ttest-mlogloss:0.533936\n",
      "[727]\ttrain-mlogloss:0.367481\ttest-mlogloss:0.533906\n",
      "[728]\ttrain-mlogloss:0.367285\ttest-mlogloss:0.533888\n",
      "[729]\ttrain-mlogloss:0.367102\ttest-mlogloss:0.5339\n",
      "[730]\ttrain-mlogloss:0.366912\ttest-mlogloss:0.533909\n",
      "[731]\ttrain-mlogloss:0.366743\ttest-mlogloss:0.533873\n",
      "[732]\ttrain-mlogloss:0.366574\ttest-mlogloss:0.533861\n",
      "[733]\ttrain-mlogloss:0.366393\ttest-mlogloss:0.533881\n",
      "[734]\ttrain-mlogloss:0.36625\ttest-mlogloss:0.533866\n",
      "[735]\ttrain-mlogloss:0.366117\ttest-mlogloss:0.533839\n",
      "[736]\ttrain-mlogloss:0.3659\ttest-mlogloss:0.533837\n",
      "[737]\ttrain-mlogloss:0.365678\ttest-mlogloss:0.533861\n",
      "[738]\ttrain-mlogloss:0.365509\ttest-mlogloss:0.533833\n",
      "[739]\ttrain-mlogloss:0.365288\ttest-mlogloss:0.533812\n",
      "[740]\ttrain-mlogloss:0.365127\ttest-mlogloss:0.533793\n",
      "[741]\ttrain-mlogloss:0.364999\ttest-mlogloss:0.533766\n",
      "[742]\ttrain-mlogloss:0.364804\ttest-mlogloss:0.533781\n",
      "[743]\ttrain-mlogloss:0.364558\ttest-mlogloss:0.533794\n",
      "[744]\ttrain-mlogloss:0.364391\ttest-mlogloss:0.533794\n",
      "[745]\ttrain-mlogloss:0.364214\ttest-mlogloss:0.533778\n",
      "[746]\ttrain-mlogloss:0.364028\ttest-mlogloss:0.533774\n",
      "[747]\ttrain-mlogloss:0.363768\ttest-mlogloss:0.533696\n",
      "[748]\ttrain-mlogloss:0.363617\ttest-mlogloss:0.533696\n",
      "[749]\ttrain-mlogloss:0.363417\ttest-mlogloss:0.533669\n",
      "[750]\ttrain-mlogloss:0.363231\ttest-mlogloss:0.533638\n",
      "[751]\ttrain-mlogloss:0.362993\ttest-mlogloss:0.533611\n",
      "[752]\ttrain-mlogloss:0.362751\ttest-mlogloss:0.533587\n",
      "[753]\ttrain-mlogloss:0.36262\ttest-mlogloss:0.533582\n",
      "[754]\ttrain-mlogloss:0.362377\ttest-mlogloss:0.533561\n",
      "[755]\ttrain-mlogloss:0.362235\ttest-mlogloss:0.533568\n",
      "[756]\ttrain-mlogloss:0.362082\ttest-mlogloss:0.533545\n",
      "[757]\ttrain-mlogloss:0.361863\ttest-mlogloss:0.53352\n",
      "[758]\ttrain-mlogloss:0.361639\ttest-mlogloss:0.533536\n",
      "[759]\ttrain-mlogloss:0.361422\ttest-mlogloss:0.533483\n",
      "[760]\ttrain-mlogloss:0.361235\ttest-mlogloss:0.533499\n",
      "[761]\ttrain-mlogloss:0.361051\ttest-mlogloss:0.533469\n",
      "[762]\ttrain-mlogloss:0.360907\ttest-mlogloss:0.533431\n",
      "[763]\ttrain-mlogloss:0.360716\ttest-mlogloss:0.533418\n",
      "[764]\ttrain-mlogloss:0.360531\ttest-mlogloss:0.533407\n",
      "[765]\ttrain-mlogloss:0.360386\ttest-mlogloss:0.533385\n",
      "[766]\ttrain-mlogloss:0.360162\ttest-mlogloss:0.533384\n",
      "[767]\ttrain-mlogloss:0.359968\ttest-mlogloss:0.533396\n",
      "[768]\ttrain-mlogloss:0.359854\ttest-mlogloss:0.533392\n",
      "[769]\ttrain-mlogloss:0.359618\ttest-mlogloss:0.533399\n",
      "[770]\ttrain-mlogloss:0.359473\ttest-mlogloss:0.53339\n",
      "[771]\ttrain-mlogloss:0.359285\ttest-mlogloss:0.533368\n",
      "[772]\ttrain-mlogloss:0.359116\ttest-mlogloss:0.533341\n",
      "[773]\ttrain-mlogloss:0.358901\ttest-mlogloss:0.533359\n",
      "[774]\ttrain-mlogloss:0.358733\ttest-mlogloss:0.533347\n",
      "[775]\ttrain-mlogloss:0.358622\ttest-mlogloss:0.533361\n",
      "[776]\ttrain-mlogloss:0.35848\ttest-mlogloss:0.533358\n",
      "[777]\ttrain-mlogloss:0.3583\ttest-mlogloss:0.533375\n",
      "[778]\ttrain-mlogloss:0.358184\ttest-mlogloss:0.533379\n",
      "[779]\ttrain-mlogloss:0.358012\ttest-mlogloss:0.533357\n",
      "[780]\ttrain-mlogloss:0.357831\ttest-mlogloss:0.533342\n",
      "[781]\ttrain-mlogloss:0.357601\ttest-mlogloss:0.533382\n",
      "[782]\ttrain-mlogloss:0.357436\ttest-mlogloss:0.533369\n",
      "[783]\ttrain-mlogloss:0.357284\ttest-mlogloss:0.533354\n",
      "[784]\ttrain-mlogloss:0.357092\ttest-mlogloss:0.533356\n",
      "[785]\ttrain-mlogloss:0.356891\ttest-mlogloss:0.533348\n",
      "[786]\ttrain-mlogloss:0.356726\ttest-mlogloss:0.533327\n",
      "[787]\ttrain-mlogloss:0.356583\ttest-mlogloss:0.533302\n",
      "[788]\ttrain-mlogloss:0.356386\ttest-mlogloss:0.533289\n",
      "[789]\ttrain-mlogloss:0.356234\ttest-mlogloss:0.533288\n",
      "[790]\ttrain-mlogloss:0.356024\ttest-mlogloss:0.533284\n",
      "[791]\ttrain-mlogloss:0.355868\ttest-mlogloss:0.533226\n",
      "[792]\ttrain-mlogloss:0.355699\ttest-mlogloss:0.533211\n",
      "[793]\ttrain-mlogloss:0.355549\ttest-mlogloss:0.533232\n",
      "[794]\ttrain-mlogloss:0.355372\ttest-mlogloss:0.533207\n",
      "[795]\ttrain-mlogloss:0.355161\ttest-mlogloss:0.533248\n",
      "[796]\ttrain-mlogloss:0.354996\ttest-mlogloss:0.533218\n",
      "[797]\ttrain-mlogloss:0.354829\ttest-mlogloss:0.533218\n",
      "[798]\ttrain-mlogloss:0.354648\ttest-mlogloss:0.533242\n",
      "[799]\ttrain-mlogloss:0.354463\ttest-mlogloss:0.53326\n",
      "[800]\ttrain-mlogloss:0.3543\ttest-mlogloss:0.533281\n",
      "[801]\ttrain-mlogloss:0.35414\ttest-mlogloss:0.53327\n",
      "[802]\ttrain-mlogloss:0.354029\ttest-mlogloss:0.533278\n",
      "[803]\ttrain-mlogloss:0.353888\ttest-mlogloss:0.533248\n",
      "[804]\ttrain-mlogloss:0.353685\ttest-mlogloss:0.533216\n",
      "[805]\ttrain-mlogloss:0.353466\ttest-mlogloss:0.533252\n",
      "[806]\ttrain-mlogloss:0.353284\ttest-mlogloss:0.533238\n",
      "[807]\ttrain-mlogloss:0.3531\ttest-mlogloss:0.533215\n",
      "[808]\ttrain-mlogloss:0.352953\ttest-mlogloss:0.5332\n",
      "[809]\ttrain-mlogloss:0.352782\ttest-mlogloss:0.533198\n",
      "[810]\ttrain-mlogloss:0.352679\ttest-mlogloss:0.533217\n",
      "[811]\ttrain-mlogloss:0.352564\ttest-mlogloss:0.533238\n",
      "[812]\ttrain-mlogloss:0.35245\ttest-mlogloss:0.533256\n",
      "[813]\ttrain-mlogloss:0.352268\ttest-mlogloss:0.533266\n",
      "[814]\ttrain-mlogloss:0.35209\ttest-mlogloss:0.533261\n",
      "[815]\ttrain-mlogloss:0.351923\ttest-mlogloss:0.53325\n",
      "[816]\ttrain-mlogloss:0.351756\ttest-mlogloss:0.53327\n",
      "[817]\ttrain-mlogloss:0.351562\ttest-mlogloss:0.533267\n",
      "[818]\ttrain-mlogloss:0.351341\ttest-mlogloss:0.533213\n",
      "[819]\ttrain-mlogloss:0.351183\ttest-mlogloss:0.533216\n",
      "[820]\ttrain-mlogloss:0.351013\ttest-mlogloss:0.53323\n",
      "[821]\ttrain-mlogloss:0.350838\ttest-mlogloss:0.533239\n",
      "[822]\ttrain-mlogloss:0.350674\ttest-mlogloss:0.533219\n",
      "[823]\ttrain-mlogloss:0.350468\ttest-mlogloss:0.533178\n",
      "[824]\ttrain-mlogloss:0.350295\ttest-mlogloss:0.533176\n",
      "[825]\ttrain-mlogloss:0.350112\ttest-mlogloss:0.533163\n",
      "[826]\ttrain-mlogloss:0.349957\ttest-mlogloss:0.533156\n",
      "[827]\ttrain-mlogloss:0.349852\ttest-mlogloss:0.533152\n",
      "[828]\ttrain-mlogloss:0.349668\ttest-mlogloss:0.533172\n",
      "[829]\ttrain-mlogloss:0.349495\ttest-mlogloss:0.533171\n",
      "[830]\ttrain-mlogloss:0.349306\ttest-mlogloss:0.533128\n",
      "[831]\ttrain-mlogloss:0.349134\ttest-mlogloss:0.533117\n",
      "[832]\ttrain-mlogloss:0.348987\ttest-mlogloss:0.533129\n",
      "[833]\ttrain-mlogloss:0.348795\ttest-mlogloss:0.53312\n",
      "[834]\ttrain-mlogloss:0.348681\ttest-mlogloss:0.53311\n",
      "[835]\ttrain-mlogloss:0.348562\ttest-mlogloss:0.533113\n",
      "[836]\ttrain-mlogloss:0.348341\ttest-mlogloss:0.533123\n",
      "[837]\ttrain-mlogloss:0.348179\ttest-mlogloss:0.533127\n",
      "[838]\ttrain-mlogloss:0.347941\ttest-mlogloss:0.533093\n",
      "[839]\ttrain-mlogloss:0.347767\ttest-mlogloss:0.533087\n",
      "[840]\ttrain-mlogloss:0.347658\ttest-mlogloss:0.533101\n",
      "[841]\ttrain-mlogloss:0.347457\ttest-mlogloss:0.533102\n",
      "[842]\ttrain-mlogloss:0.34729\ttest-mlogloss:0.533162\n",
      "[843]\ttrain-mlogloss:0.34717\ttest-mlogloss:0.533144\n",
      "[844]\ttrain-mlogloss:0.346991\ttest-mlogloss:0.533133\n",
      "[845]\ttrain-mlogloss:0.346866\ttest-mlogloss:0.533134\n",
      "[846]\ttrain-mlogloss:0.346696\ttest-mlogloss:0.533114\n",
      "[847]\ttrain-mlogloss:0.346495\ttest-mlogloss:0.533125\n",
      "[848]\ttrain-mlogloss:0.346343\ttest-mlogloss:0.533144\n",
      "[849]\ttrain-mlogloss:0.346131\ttest-mlogloss:0.533118\n",
      "[850]\ttrain-mlogloss:0.346017\ttest-mlogloss:0.533105\n",
      "[851]\ttrain-mlogloss:0.345906\ttest-mlogloss:0.533097\n",
      "[852]\ttrain-mlogloss:0.345755\ttest-mlogloss:0.533113\n",
      "[853]\ttrain-mlogloss:0.345625\ttest-mlogloss:0.533112\n",
      "[854]\ttrain-mlogloss:0.345477\ttest-mlogloss:0.533102\n",
      "[855]\ttrain-mlogloss:0.345358\ttest-mlogloss:0.533094\n",
      "[856]\ttrain-mlogloss:0.345263\ttest-mlogloss:0.533086\n",
      "[857]\ttrain-mlogloss:0.345095\ttest-mlogloss:0.533072\n",
      "[858]\ttrain-mlogloss:0.344911\ttest-mlogloss:0.533098\n",
      "[859]\ttrain-mlogloss:0.344759\ttest-mlogloss:0.53309\n",
      "[860]\ttrain-mlogloss:0.344581\ttest-mlogloss:0.533065\n",
      "[861]\ttrain-mlogloss:0.344411\ttest-mlogloss:0.533049\n",
      "[862]\ttrain-mlogloss:0.344311\ttest-mlogloss:0.533038\n",
      "[863]\ttrain-mlogloss:0.344171\ttest-mlogloss:0.533021\n",
      "[864]\ttrain-mlogloss:0.344053\ttest-mlogloss:0.532995\n",
      "[865]\ttrain-mlogloss:0.343909\ttest-mlogloss:0.532991\n",
      "[866]\ttrain-mlogloss:0.343696\ttest-mlogloss:0.533011\n",
      "[867]\ttrain-mlogloss:0.343571\ttest-mlogloss:0.533047\n",
      "[868]\ttrain-mlogloss:0.343402\ttest-mlogloss:0.533083\n",
      "[869]\ttrain-mlogloss:0.343295\ttest-mlogloss:0.533056\n",
      "[870]\ttrain-mlogloss:0.3431\ttest-mlogloss:0.533091\n",
      "[871]\ttrain-mlogloss:0.343019\ttest-mlogloss:0.533061\n",
      "[872]\ttrain-mlogloss:0.342857\ttest-mlogloss:0.533048\n",
      "[873]\ttrain-mlogloss:0.342678\ttest-mlogloss:0.533051\n",
      "[874]\ttrain-mlogloss:0.342477\ttest-mlogloss:0.533044\n",
      "[875]\ttrain-mlogloss:0.342296\ttest-mlogloss:0.533039\n",
      "[876]\ttrain-mlogloss:0.342164\ttest-mlogloss:0.533011\n",
      "[877]\ttrain-mlogloss:0.341999\ttest-mlogloss:0.533013\n",
      "[878]\ttrain-mlogloss:0.341852\ttest-mlogloss:0.532999\n",
      "[879]\ttrain-mlogloss:0.341744\ttest-mlogloss:0.532995\n",
      "[880]\ttrain-mlogloss:0.34156\ttest-mlogloss:0.533018\n",
      "[881]\ttrain-mlogloss:0.341462\ttest-mlogloss:0.532999\n",
      "[882]\ttrain-mlogloss:0.341336\ttest-mlogloss:0.532989\n",
      "[883]\ttrain-mlogloss:0.341161\ttest-mlogloss:0.532977\n",
      "[884]\ttrain-mlogloss:0.340943\ttest-mlogloss:0.53297\n",
      "[885]\ttrain-mlogloss:0.340782\ttest-mlogloss:0.532953\n",
      "[886]\ttrain-mlogloss:0.340667\ttest-mlogloss:0.532961\n",
      "[887]\ttrain-mlogloss:0.340443\ttest-mlogloss:0.532977\n",
      "[888]\ttrain-mlogloss:0.34028\ttest-mlogloss:0.532942\n",
      "[889]\ttrain-mlogloss:0.340097\ttest-mlogloss:0.532921\n",
      "[890]\ttrain-mlogloss:0.339915\ttest-mlogloss:0.532907\n",
      "[891]\ttrain-mlogloss:0.339745\ttest-mlogloss:0.532886\n",
      "[892]\ttrain-mlogloss:0.339611\ttest-mlogloss:0.532889\n",
      "[893]\ttrain-mlogloss:0.339438\ttest-mlogloss:0.532897\n",
      "[894]\ttrain-mlogloss:0.339307\ttest-mlogloss:0.532887\n",
      "[895]\ttrain-mlogloss:0.339222\ttest-mlogloss:0.532857\n",
      "[896]\ttrain-mlogloss:0.339064\ttest-mlogloss:0.532843\n",
      "[897]\ttrain-mlogloss:0.338861\ttest-mlogloss:0.532807\n",
      "[898]\ttrain-mlogloss:0.338688\ttest-mlogloss:0.532801\n",
      "[899]\ttrain-mlogloss:0.338554\ttest-mlogloss:0.532822\n",
      "[900]\ttrain-mlogloss:0.338401\ttest-mlogloss:0.532822\n",
      "[901]\ttrain-mlogloss:0.338209\ttest-mlogloss:0.532799\n",
      "[902]\ttrain-mlogloss:0.338054\ttest-mlogloss:0.532809\n",
      "[903]\ttrain-mlogloss:0.337894\ttest-mlogloss:0.532781\n",
      "[904]\ttrain-mlogloss:0.337745\ttest-mlogloss:0.532759\n",
      "[905]\ttrain-mlogloss:0.337623\ttest-mlogloss:0.532723\n",
      "[906]\ttrain-mlogloss:0.337471\ttest-mlogloss:0.532707\n",
      "[907]\ttrain-mlogloss:0.337286\ttest-mlogloss:0.532703\n",
      "[908]\ttrain-mlogloss:0.337081\ttest-mlogloss:0.532673\n",
      "[909]\ttrain-mlogloss:0.336901\ttest-mlogloss:0.532654\n",
      "[910]\ttrain-mlogloss:0.336769\ttest-mlogloss:0.532641\n",
      "[911]\ttrain-mlogloss:0.336647\ttest-mlogloss:0.532631\n",
      "[912]\ttrain-mlogloss:0.336428\ttest-mlogloss:0.5326\n",
      "[913]\ttrain-mlogloss:0.336268\ttest-mlogloss:0.532609\n",
      "[914]\ttrain-mlogloss:0.336116\ttest-mlogloss:0.532606\n",
      "[915]\ttrain-mlogloss:0.335885\ttest-mlogloss:0.532599\n",
      "[916]\ttrain-mlogloss:0.335715\ttest-mlogloss:0.532628\n",
      "[917]\ttrain-mlogloss:0.335551\ttest-mlogloss:0.532608\n",
      "[918]\ttrain-mlogloss:0.335384\ttest-mlogloss:0.53262\n",
      "[919]\ttrain-mlogloss:0.335191\ttest-mlogloss:0.532568\n",
      "[920]\ttrain-mlogloss:0.335022\ttest-mlogloss:0.532577\n",
      "[921]\ttrain-mlogloss:0.334831\ttest-mlogloss:0.532587\n",
      "[922]\ttrain-mlogloss:0.334657\ttest-mlogloss:0.532608\n",
      "[923]\ttrain-mlogloss:0.334599\ttest-mlogloss:0.532595\n",
      "[924]\ttrain-mlogloss:0.334416\ttest-mlogloss:0.532597\n",
      "[925]\ttrain-mlogloss:0.334274\ttest-mlogloss:0.532599\n",
      "[926]\ttrain-mlogloss:0.334148\ttest-mlogloss:0.532592\n",
      "[927]\ttrain-mlogloss:0.334005\ttest-mlogloss:0.532617\n",
      "[928]\ttrain-mlogloss:0.333922\ttest-mlogloss:0.532626\n",
      "[929]\ttrain-mlogloss:0.33378\ttest-mlogloss:0.532639\n",
      "[930]\ttrain-mlogloss:0.333631\ttest-mlogloss:0.532644\n",
      "[931]\ttrain-mlogloss:0.333479\ttest-mlogloss:0.532683\n",
      "[932]\ttrain-mlogloss:0.333316\ttest-mlogloss:0.532716\n",
      "[933]\ttrain-mlogloss:0.333218\ttest-mlogloss:0.532692\n",
      "[934]\ttrain-mlogloss:0.333078\ttest-mlogloss:0.5327\n",
      "[935]\ttrain-mlogloss:0.332897\ttest-mlogloss:0.532694\n",
      "[936]\ttrain-mlogloss:0.332743\ttest-mlogloss:0.532696\n",
      "[937]\ttrain-mlogloss:0.332513\ttest-mlogloss:0.532677\n",
      "[938]\ttrain-mlogloss:0.332378\ttest-mlogloss:0.532646\n",
      "[939]\ttrain-mlogloss:0.332251\ttest-mlogloss:0.532629\n",
      "Stopping. Best iteration:\n",
      "[919]\ttrain-mlogloss:0.335191\ttest-mlogloss:0.532568\n",
      "\n",
      "[0.53262884636071184]\n",
      "CPU times: user 14min 52s, sys: 6.3 s, total: 14min 58s\n",
      "Wall time: 15min 18s\n"
     ]
    }
   ],
   "source": [
    "%%time\n",
    "cv_scores = []\n",
    "kf = KFold(n_splits=5, shuffle=True, random_state=2016)\n",
    "for dev_index, val_index in kf.split(range(train_x.shape[0])):\n",
    "        dev_X, val_X = train_x.ix[dev_index,:], train_x.ix[val_index,:]\n",
    "        dev_y, val_y = train_y.ix[dev_index], train_y.ix[val_index]\n",
    "        preds, model = runXGB(dev_X, dev_y, val_X, val_y)\n",
    "        cv_scores.append(log_loss(val_y, preds))\n",
    "        print(cv_scores)\n",
    "        break"
   ]
  },
  {
   "cell_type": "code",
   "execution_count": 358,
   "metadata": {
    "collapsed": true
   },
   "outputs": [],
   "source": [
    "### rounds = 2000, step = 0.02"
   ]
  },
  {
   "cell_type": "code",
   "execution_count": 293,
   "metadata": {
    "collapsed": false
   },
   "outputs": [
    {
     "name": "stdout",
     "output_type": "stream",
     "text": [
      "[0]\ttrain-mlogloss:1.08489\ttest-mlogloss:1.08481\n",
      "Multiple eval metrics have been passed: 'test-mlogloss' will be used for early stopping.\n",
      "\n",
      "Will train until test-mlogloss hasn't improved in 20 rounds.\n",
      "[1]\ttrain-mlogloss:1.07186\ttest-mlogloss:1.07176\n",
      "[2]\ttrain-mlogloss:1.05937\ttest-mlogloss:1.05931\n",
      "[3]\ttrain-mlogloss:1.04713\ttest-mlogloss:1.04702\n",
      "[4]\ttrain-mlogloss:1.03507\ttest-mlogloss:1.03496\n",
      "[5]\ttrain-mlogloss:1.02393\ttest-mlogloss:1.0238\n",
      "[6]\ttrain-mlogloss:1.01271\ttest-mlogloss:1.01256\n",
      "[7]\ttrain-mlogloss:1.00195\ttest-mlogloss:1.00177\n",
      "[8]\ttrain-mlogloss:0.991179\ttest-mlogloss:0.990978\n",
      "[9]\ttrain-mlogloss:0.980853\ttest-mlogloss:0.980698\n",
      "[10]\ttrain-mlogloss:0.971284\ttest-mlogloss:0.971122\n",
      "[11]\ttrain-mlogloss:0.961602\ttest-mlogloss:0.961496\n",
      "[12]\ttrain-mlogloss:0.952262\ttest-mlogloss:0.952197\n",
      "[13]\ttrain-mlogloss:0.942946\ttest-mlogloss:0.942918\n",
      "[14]\ttrain-mlogloss:0.933957\ttest-mlogloss:0.934027\n",
      "[15]\ttrain-mlogloss:0.925512\ttest-mlogloss:0.925669\n",
      "[16]\ttrain-mlogloss:0.917042\ttest-mlogloss:0.91731\n",
      "[17]\ttrain-mlogloss:0.908728\ttest-mlogloss:0.909065\n",
      "[18]\ttrain-mlogloss:0.901091\ttest-mlogloss:0.901521\n",
      "[19]\ttrain-mlogloss:0.893438\ttest-mlogloss:0.893976\n",
      "[20]\ttrain-mlogloss:0.885815\ttest-mlogloss:0.886376\n",
      "[21]\ttrain-mlogloss:0.878641\ttest-mlogloss:0.879245\n",
      "[22]\ttrain-mlogloss:0.871677\ttest-mlogloss:0.87235\n",
      "[23]\ttrain-mlogloss:0.864675\ttest-mlogloss:0.865417\n",
      "[24]\ttrain-mlogloss:0.857721\ttest-mlogloss:0.858536\n",
      "[25]\ttrain-mlogloss:0.851025\ttest-mlogloss:0.851944\n",
      "[26]\ttrain-mlogloss:0.844543\ttest-mlogloss:0.845604\n",
      "[27]\ttrain-mlogloss:0.838337\ttest-mlogloss:0.839514\n",
      "[28]\ttrain-mlogloss:0.832186\ttest-mlogloss:0.833455\n",
      "[29]\ttrain-mlogloss:0.826188\ttest-mlogloss:0.827502\n",
      "[30]\ttrain-mlogloss:0.820312\ttest-mlogloss:0.821749\n",
      "[31]\ttrain-mlogloss:0.814603\ttest-mlogloss:0.816161\n",
      "[32]\ttrain-mlogloss:0.809105\ttest-mlogloss:0.810753\n",
      "[33]\ttrain-mlogloss:0.803585\ttest-mlogloss:0.805391\n",
      "[34]\ttrain-mlogloss:0.798291\ttest-mlogloss:0.800205\n",
      "[35]\ttrain-mlogloss:0.793086\ttest-mlogloss:0.795146\n",
      "[36]\ttrain-mlogloss:0.788121\ttest-mlogloss:0.790265\n",
      "[37]\ttrain-mlogloss:0.783219\ttest-mlogloss:0.785504\n",
      "[38]\ttrain-mlogloss:0.778412\ttest-mlogloss:0.780823\n",
      "[39]\ttrain-mlogloss:0.773732\ttest-mlogloss:0.776245\n",
      "[40]\ttrain-mlogloss:0.769094\ttest-mlogloss:0.771739\n",
      "[41]\ttrain-mlogloss:0.764637\ttest-mlogloss:0.767431\n",
      "[42]\ttrain-mlogloss:0.760332\ttest-mlogloss:0.763291\n",
      "[43]\ttrain-mlogloss:0.756048\ttest-mlogloss:0.759093\n",
      "[44]\ttrain-mlogloss:0.751874\ttest-mlogloss:0.755036\n",
      "[45]\ttrain-mlogloss:0.747779\ttest-mlogloss:0.751033\n",
      "[46]\ttrain-mlogloss:0.744018\ttest-mlogloss:0.747383\n",
      "[47]\ttrain-mlogloss:0.740043\ttest-mlogloss:0.743545\n",
      "[48]\ttrain-mlogloss:0.736208\ttest-mlogloss:0.739842\n",
      "[49]\ttrain-mlogloss:0.732445\ttest-mlogloss:0.736235\n",
      "[50]\ttrain-mlogloss:0.728821\ttest-mlogloss:0.732728\n",
      "[51]\ttrain-mlogloss:0.725283\ttest-mlogloss:0.729331\n",
      "[52]\ttrain-mlogloss:0.72183\ttest-mlogloss:0.726059\n",
      "[53]\ttrain-mlogloss:0.718282\ttest-mlogloss:0.722658\n",
      "[54]\ttrain-mlogloss:0.714898\ttest-mlogloss:0.719419\n",
      "[55]\ttrain-mlogloss:0.711661\ttest-mlogloss:0.716311\n",
      "[56]\ttrain-mlogloss:0.708418\ttest-mlogloss:0.713251\n",
      "[57]\ttrain-mlogloss:0.705404\ttest-mlogloss:0.710344\n",
      "[58]\ttrain-mlogloss:0.702384\ttest-mlogloss:0.707481\n",
      "[59]\ttrain-mlogloss:0.699314\ttest-mlogloss:0.704584\n",
      "[60]\ttrain-mlogloss:0.696373\ttest-mlogloss:0.701745\n",
      "[61]\ttrain-mlogloss:0.693504\ttest-mlogloss:0.699003\n",
      "[62]\ttrain-mlogloss:0.690696\ttest-mlogloss:0.69633\n",
      "[63]\ttrain-mlogloss:0.687837\ttest-mlogloss:0.693677\n",
      "[64]\ttrain-mlogloss:0.685079\ttest-mlogloss:0.691104\n",
      "[65]\ttrain-mlogloss:0.682549\ttest-mlogloss:0.688751\n",
      "[66]\ttrain-mlogloss:0.68009\ttest-mlogloss:0.686465\n",
      "[67]\ttrain-mlogloss:0.677394\ttest-mlogloss:0.683903\n",
      "[68]\ttrain-mlogloss:0.674902\ttest-mlogloss:0.681528\n",
      "[69]\ttrain-mlogloss:0.672469\ttest-mlogloss:0.679222\n",
      "[70]\ttrain-mlogloss:0.670104\ttest-mlogloss:0.676982\n",
      "[71]\ttrain-mlogloss:0.66767\ttest-mlogloss:0.674725\n",
      "[72]\ttrain-mlogloss:0.665442\ttest-mlogloss:0.672675\n",
      "[73]\ttrain-mlogloss:0.663145\ttest-mlogloss:0.67055\n",
      "[74]\ttrain-mlogloss:0.660958\ttest-mlogloss:0.668505\n",
      "[75]\ttrain-mlogloss:0.6588\ttest-mlogloss:0.666559\n",
      "[76]\ttrain-mlogloss:0.656689\ttest-mlogloss:0.664573\n",
      "[77]\ttrain-mlogloss:0.654582\ttest-mlogloss:0.662638\n",
      "[78]\ttrain-mlogloss:0.652491\ttest-mlogloss:0.660699\n",
      "[79]\ttrain-mlogloss:0.650343\ttest-mlogloss:0.658714\n",
      "[80]\ttrain-mlogloss:0.648243\ttest-mlogloss:0.656769\n",
      "[81]\ttrain-mlogloss:0.646234\ttest-mlogloss:0.654938\n",
      "[82]\ttrain-mlogloss:0.64452\ttest-mlogloss:0.653372\n",
      "[83]\ttrain-mlogloss:0.642633\ttest-mlogloss:0.651657\n",
      "[84]\ttrain-mlogloss:0.640763\ttest-mlogloss:0.649926\n",
      "[85]\ttrain-mlogloss:0.638955\ttest-mlogloss:0.648251\n",
      "[86]\ttrain-mlogloss:0.637328\ttest-mlogloss:0.64677\n",
      "[87]\ttrain-mlogloss:0.635629\ttest-mlogloss:0.645236\n",
      "[88]\ttrain-mlogloss:0.633886\ttest-mlogloss:0.643663\n",
      "[89]\ttrain-mlogloss:0.632233\ttest-mlogloss:0.642193\n",
      "[90]\ttrain-mlogloss:0.630569\ttest-mlogloss:0.640721\n",
      "[91]\ttrain-mlogloss:0.628901\ttest-mlogloss:0.639217\n",
      "[92]\ttrain-mlogloss:0.627345\ttest-mlogloss:0.637823\n",
      "[93]\ttrain-mlogloss:0.625854\ttest-mlogloss:0.636505\n",
      "[94]\ttrain-mlogloss:0.624395\ttest-mlogloss:0.635171\n",
      "[95]\ttrain-mlogloss:0.622802\ttest-mlogloss:0.633765\n",
      "[96]\ttrain-mlogloss:0.621288\ttest-mlogloss:0.632397\n",
      "[97]\ttrain-mlogloss:0.619782\ttest-mlogloss:0.631056\n",
      "[98]\ttrain-mlogloss:0.618213\ttest-mlogloss:0.629649\n",
      "[99]\ttrain-mlogloss:0.616732\ttest-mlogloss:0.62833\n",
      "[100]\ttrain-mlogloss:0.615279\ttest-mlogloss:0.627039\n",
      "[101]\ttrain-mlogloss:0.61386\ttest-mlogloss:0.62582\n",
      "[102]\ttrain-mlogloss:0.612582\ttest-mlogloss:0.624707\n",
      "[103]\ttrain-mlogloss:0.611335\ttest-mlogloss:0.623602\n",
      "[104]\ttrain-mlogloss:0.610025\ttest-mlogloss:0.622472\n",
      "[105]\ttrain-mlogloss:0.608697\ttest-mlogloss:0.621326\n",
      "[106]\ttrain-mlogloss:0.6073\ttest-mlogloss:0.620099\n",
      "[107]\ttrain-mlogloss:0.606106\ttest-mlogloss:0.619082\n",
      "[108]\ttrain-mlogloss:0.604836\ttest-mlogloss:0.617988\n",
      "[109]\ttrain-mlogloss:0.603545\ttest-mlogloss:0.616845\n",
      "[110]\ttrain-mlogloss:0.602419\ttest-mlogloss:0.615871\n",
      "[111]\ttrain-mlogloss:0.601257\ttest-mlogloss:0.614835\n",
      "[112]\ttrain-mlogloss:0.600093\ttest-mlogloss:0.61383\n",
      "[113]\ttrain-mlogloss:0.598903\ttest-mlogloss:0.612829\n",
      "[114]\ttrain-mlogloss:0.597845\ttest-mlogloss:0.611947\n",
      "[115]\ttrain-mlogloss:0.59681\ttest-mlogloss:0.611073\n",
      "[116]\ttrain-mlogloss:0.595671\ttest-mlogloss:0.610093\n",
      "[117]\ttrain-mlogloss:0.594639\ttest-mlogloss:0.609202\n",
      "[118]\ttrain-mlogloss:0.593531\ttest-mlogloss:0.608255\n",
      "[119]\ttrain-mlogloss:0.592496\ttest-mlogloss:0.60743\n",
      "[120]\ttrain-mlogloss:0.591389\ttest-mlogloss:0.6065\n",
      "[121]\ttrain-mlogloss:0.590299\ttest-mlogloss:0.605629\n",
      "[122]\ttrain-mlogloss:0.589207\ttest-mlogloss:0.604752\n",
      "[123]\ttrain-mlogloss:0.588319\ttest-mlogloss:0.604044\n",
      "[124]\ttrain-mlogloss:0.587426\ttest-mlogloss:0.603303\n",
      "[125]\ttrain-mlogloss:0.586415\ttest-mlogloss:0.602448\n",
      "[126]\ttrain-mlogloss:0.585405\ttest-mlogloss:0.601617\n",
      "[127]\ttrain-mlogloss:0.584424\ttest-mlogloss:0.600776\n",
      "[128]\ttrain-mlogloss:0.583491\ttest-mlogloss:0.600036\n",
      "[129]\ttrain-mlogloss:0.582542\ttest-mlogloss:0.599247\n",
      "[130]\ttrain-mlogloss:0.581648\ttest-mlogloss:0.598547\n",
      "[131]\ttrain-mlogloss:0.580711\ttest-mlogloss:0.597758\n",
      "[132]\ttrain-mlogloss:0.579778\ttest-mlogloss:0.596953\n",
      "[133]\ttrain-mlogloss:0.578869\ttest-mlogloss:0.596218\n",
      "[134]\ttrain-mlogloss:0.577998\ttest-mlogloss:0.595547\n",
      "[135]\ttrain-mlogloss:0.577125\ttest-mlogloss:0.594846\n",
      "[136]\ttrain-mlogloss:0.576224\ttest-mlogloss:0.59414\n",
      "[137]\ttrain-mlogloss:0.575412\ttest-mlogloss:0.593487\n",
      "[138]\ttrain-mlogloss:0.574611\ttest-mlogloss:0.592862\n",
      "[139]\ttrain-mlogloss:0.573777\ttest-mlogloss:0.592201\n",
      "[140]\ttrain-mlogloss:0.57299\ttest-mlogloss:0.591578\n",
      "[141]\ttrain-mlogloss:0.572168\ttest-mlogloss:0.590955\n",
      "[142]\ttrain-mlogloss:0.571374\ttest-mlogloss:0.590308\n",
      "[143]\ttrain-mlogloss:0.570639\ttest-mlogloss:0.589709\n",
      "[144]\ttrain-mlogloss:0.569789\ttest-mlogloss:0.589049\n",
      "[145]\ttrain-mlogloss:0.568958\ttest-mlogloss:0.588351\n",
      "[146]\ttrain-mlogloss:0.568247\ttest-mlogloss:0.587781\n",
      "[147]\ttrain-mlogloss:0.567484\ttest-mlogloss:0.587207\n",
      "[148]\ttrain-mlogloss:0.566721\ttest-mlogloss:0.5866\n",
      "[149]\ttrain-mlogloss:0.566046\ttest-mlogloss:0.586086\n",
      "[150]\ttrain-mlogloss:0.565293\ttest-mlogloss:0.585487\n",
      "[151]\ttrain-mlogloss:0.564602\ttest-mlogloss:0.584995\n",
      "[152]\ttrain-mlogloss:0.563965\ttest-mlogloss:0.584489\n",
      "[153]\ttrain-mlogloss:0.563239\ttest-mlogloss:0.583908\n",
      "[154]\ttrain-mlogloss:0.562555\ttest-mlogloss:0.583378\n",
      "[155]\ttrain-mlogloss:0.561912\ttest-mlogloss:0.582907\n",
      "[156]\ttrain-mlogloss:0.561285\ttest-mlogloss:0.582437\n",
      "[157]\ttrain-mlogloss:0.560648\ttest-mlogloss:0.581975\n",
      "[158]\ttrain-mlogloss:0.559985\ttest-mlogloss:0.581489\n",
      "[159]\ttrain-mlogloss:0.559344\ttest-mlogloss:0.581019\n",
      "[160]\ttrain-mlogloss:0.55872\ttest-mlogloss:0.580578\n",
      "[161]\ttrain-mlogloss:0.558092\ttest-mlogloss:0.580081\n",
      "[162]\ttrain-mlogloss:0.557462\ttest-mlogloss:0.5796\n",
      "[163]\ttrain-mlogloss:0.556878\ttest-mlogloss:0.57916\n",
      "[164]\ttrain-mlogloss:0.55622\ttest-mlogloss:0.578657\n",
      "[165]\ttrain-mlogloss:0.555633\ttest-mlogloss:0.578225\n",
      "[166]\ttrain-mlogloss:0.555011\ttest-mlogloss:0.577768\n",
      "[167]\ttrain-mlogloss:0.554413\ttest-mlogloss:0.577317\n",
      "[168]\ttrain-mlogloss:0.553769\ttest-mlogloss:0.576863\n",
      "[169]\ttrain-mlogloss:0.553274\ttest-mlogloss:0.576559\n",
      "[170]\ttrain-mlogloss:0.552661\ttest-mlogloss:0.576113\n",
      "[171]\ttrain-mlogloss:0.552121\ttest-mlogloss:0.575721\n",
      "[172]\ttrain-mlogloss:0.551483\ttest-mlogloss:0.575299\n",
      "[173]\ttrain-mlogloss:0.550927\ttest-mlogloss:0.574912\n",
      "[174]\ttrain-mlogloss:0.550386\ttest-mlogloss:0.574533\n",
      "[175]\ttrain-mlogloss:0.54987\ttest-mlogloss:0.574183\n",
      "[176]\ttrain-mlogloss:0.549295\ttest-mlogloss:0.573804\n",
      "[177]\ttrain-mlogloss:0.54875\ttest-mlogloss:0.573455\n",
      "[178]\ttrain-mlogloss:0.54819\ttest-mlogloss:0.573084\n",
      "[179]\ttrain-mlogloss:0.547717\ttest-mlogloss:0.572754\n",
      "[180]\ttrain-mlogloss:0.547187\ttest-mlogloss:0.572405\n",
      "[181]\ttrain-mlogloss:0.546646\ttest-mlogloss:0.572028\n",
      "[182]\ttrain-mlogloss:0.546142\ttest-mlogloss:0.571693\n",
      "[183]\ttrain-mlogloss:0.545707\ttest-mlogloss:0.571393\n",
      "[184]\ttrain-mlogloss:0.545264\ttest-mlogloss:0.571152\n",
      "[185]\ttrain-mlogloss:0.544756\ttest-mlogloss:0.5708\n",
      "[186]\ttrain-mlogloss:0.544295\ttest-mlogloss:0.570498\n",
      "[187]\ttrain-mlogloss:0.543817\ttest-mlogloss:0.570172\n",
      "[188]\ttrain-mlogloss:0.543395\ttest-mlogloss:0.569889\n",
      "[189]\ttrain-mlogloss:0.542866\ttest-mlogloss:0.569527\n",
      "[190]\ttrain-mlogloss:0.542491\ttest-mlogloss:0.569298\n",
      "[191]\ttrain-mlogloss:0.541866\ttest-mlogloss:0.568891\n",
      "[192]\ttrain-mlogloss:0.541329\ttest-mlogloss:0.568564\n",
      "[193]\ttrain-mlogloss:0.540842\ttest-mlogloss:0.568285\n",
      "[194]\ttrain-mlogloss:0.540384\ttest-mlogloss:0.567973\n",
      "[195]\ttrain-mlogloss:0.539925\ttest-mlogloss:0.56768\n",
      "[196]\ttrain-mlogloss:0.539423\ttest-mlogloss:0.567386\n",
      "[197]\ttrain-mlogloss:0.538971\ttest-mlogloss:0.567101\n",
      "[198]\ttrain-mlogloss:0.538491\ttest-mlogloss:0.566772\n",
      "[199]\ttrain-mlogloss:0.538006\ttest-mlogloss:0.566468\n",
      "[200]\ttrain-mlogloss:0.537504\ttest-mlogloss:0.566164\n",
      "[201]\ttrain-mlogloss:0.537015\ttest-mlogloss:0.5659\n",
      "[202]\ttrain-mlogloss:0.536541\ttest-mlogloss:0.565591\n",
      "[203]\ttrain-mlogloss:0.536093\ttest-mlogloss:0.565342\n",
      "[204]\ttrain-mlogloss:0.535566\ttest-mlogloss:0.565019\n",
      "[205]\ttrain-mlogloss:0.53513\ttest-mlogloss:0.564756\n",
      "[206]\ttrain-mlogloss:0.534687\ttest-mlogloss:0.564486\n",
      "[207]\ttrain-mlogloss:0.534258\ttest-mlogloss:0.564254\n",
      "[208]\ttrain-mlogloss:0.533878\ttest-mlogloss:0.564049\n",
      "[209]\ttrain-mlogloss:0.533471\ttest-mlogloss:0.563782\n",
      "[210]\ttrain-mlogloss:0.533082\ttest-mlogloss:0.56357\n",
      "[211]\ttrain-mlogloss:0.532677\ttest-mlogloss:0.563339\n",
      "[212]\ttrain-mlogloss:0.532263\ttest-mlogloss:0.563078\n",
      "[213]\ttrain-mlogloss:0.531818\ttest-mlogloss:0.562818\n",
      "[214]\ttrain-mlogloss:0.531298\ttest-mlogloss:0.562521\n",
      "[215]\ttrain-mlogloss:0.530817\ttest-mlogloss:0.562206\n",
      "[216]\ttrain-mlogloss:0.530374\ttest-mlogloss:0.561943\n",
      "[217]\ttrain-mlogloss:0.529963\ttest-mlogloss:0.561696\n",
      "[218]\ttrain-mlogloss:0.529583\ttest-mlogloss:0.561464\n",
      "[219]\ttrain-mlogloss:0.529106\ttest-mlogloss:0.561187\n",
      "[220]\ttrain-mlogloss:0.528682\ttest-mlogloss:0.560936\n",
      "[221]\ttrain-mlogloss:0.528312\ttest-mlogloss:0.560731\n",
      "[222]\ttrain-mlogloss:0.5279\ttest-mlogloss:0.560467\n",
      "[223]\ttrain-mlogloss:0.527472\ttest-mlogloss:0.560201\n",
      "[224]\ttrain-mlogloss:0.527041\ttest-mlogloss:0.559948\n",
      "[225]\ttrain-mlogloss:0.526653\ttest-mlogloss:0.559796\n",
      "[226]\ttrain-mlogloss:0.526289\ttest-mlogloss:0.559602\n",
      "[227]\ttrain-mlogloss:0.525951\ttest-mlogloss:0.559422\n",
      "[228]\ttrain-mlogloss:0.525503\ttest-mlogloss:0.559175\n",
      "[229]\ttrain-mlogloss:0.525155\ttest-mlogloss:0.558937\n",
      "[230]\ttrain-mlogloss:0.524747\ttest-mlogloss:0.558682\n",
      "[231]\ttrain-mlogloss:0.524282\ttest-mlogloss:0.558483\n",
      "[232]\ttrain-mlogloss:0.523951\ttest-mlogloss:0.558302\n",
      "[233]\ttrain-mlogloss:0.523562\ttest-mlogloss:0.558088\n",
      "[234]\ttrain-mlogloss:0.523159\ttest-mlogloss:0.557879\n",
      "[235]\ttrain-mlogloss:0.522794\ttest-mlogloss:0.557706\n",
      "[236]\ttrain-mlogloss:0.522442\ttest-mlogloss:0.557497\n",
      "[237]\ttrain-mlogloss:0.522071\ttest-mlogloss:0.557284\n",
      "[238]\ttrain-mlogloss:0.521721\ttest-mlogloss:0.557068\n",
      "[239]\ttrain-mlogloss:0.521301\ttest-mlogloss:0.556857\n",
      "[240]\ttrain-mlogloss:0.520878\ttest-mlogloss:0.556679\n",
      "[241]\ttrain-mlogloss:0.520545\ttest-mlogloss:0.556502\n",
      "[242]\ttrain-mlogloss:0.520193\ttest-mlogloss:0.556308\n",
      "[243]\ttrain-mlogloss:0.519835\ttest-mlogloss:0.556132\n",
      "[244]\ttrain-mlogloss:0.519379\ttest-mlogloss:0.555909\n",
      "[245]\ttrain-mlogloss:0.519075\ttest-mlogloss:0.555753\n",
      "[246]\ttrain-mlogloss:0.518703\ttest-mlogloss:0.555568\n",
      "[247]\ttrain-mlogloss:0.5183\ttest-mlogloss:0.555364\n",
      "[248]\ttrain-mlogloss:0.51804\ttest-mlogloss:0.555211\n",
      "[249]\ttrain-mlogloss:0.517632\ttest-mlogloss:0.555016\n",
      "[250]\ttrain-mlogloss:0.51732\ttest-mlogloss:0.554862\n",
      "[251]\ttrain-mlogloss:0.516956\ttest-mlogloss:0.554649\n",
      "[252]\ttrain-mlogloss:0.516596\ttest-mlogloss:0.554484\n",
      "[253]\ttrain-mlogloss:0.516286\ttest-mlogloss:0.554313\n",
      "[254]\ttrain-mlogloss:0.515926\ttest-mlogloss:0.55414\n",
      "[255]\ttrain-mlogloss:0.515547\ttest-mlogloss:0.553987\n",
      "[256]\ttrain-mlogloss:0.515159\ttest-mlogloss:0.553789\n",
      "[257]\ttrain-mlogloss:0.514873\ttest-mlogloss:0.553681\n",
      "[258]\ttrain-mlogloss:0.514562\ttest-mlogloss:0.55349\n",
      "[259]\ttrain-mlogloss:0.514274\ttest-mlogloss:0.553352\n",
      "[260]\ttrain-mlogloss:0.513959\ttest-mlogloss:0.55323\n",
      "[261]\ttrain-mlogloss:0.5136\ttest-mlogloss:0.55309\n",
      "[262]\ttrain-mlogloss:0.513228\ttest-mlogloss:0.552915\n",
      "[263]\ttrain-mlogloss:0.512895\ttest-mlogloss:0.552757\n",
      "[264]\ttrain-mlogloss:0.512584\ttest-mlogloss:0.552613\n",
      "[265]\ttrain-mlogloss:0.512225\ttest-mlogloss:0.552449\n",
      "[266]\ttrain-mlogloss:0.511966\ttest-mlogloss:0.552307\n",
      "[267]\ttrain-mlogloss:0.511665\ttest-mlogloss:0.552174\n",
      "[268]\ttrain-mlogloss:0.511375\ttest-mlogloss:0.552039\n",
      "[269]\ttrain-mlogloss:0.511033\ttest-mlogloss:0.551873\n",
      "[270]\ttrain-mlogloss:0.510676\ttest-mlogloss:0.551712\n",
      "[271]\ttrain-mlogloss:0.510379\ttest-mlogloss:0.551548\n",
      "[272]\ttrain-mlogloss:0.510067\ttest-mlogloss:0.551408\n",
      "[273]\ttrain-mlogloss:0.509824\ttest-mlogloss:0.55131\n",
      "[274]\ttrain-mlogloss:0.509496\ttest-mlogloss:0.551133\n",
      "[275]\ttrain-mlogloss:0.509173\ttest-mlogloss:0.551027\n",
      "[276]\ttrain-mlogloss:0.508853\ttest-mlogloss:0.550915\n",
      "[277]\ttrain-mlogloss:0.508472\ttest-mlogloss:0.550734\n",
      "[278]\ttrain-mlogloss:0.508208\ttest-mlogloss:0.550611\n",
      "[279]\ttrain-mlogloss:0.507927\ttest-mlogloss:0.550476\n",
      "[280]\ttrain-mlogloss:0.507641\ttest-mlogloss:0.550391\n",
      "[281]\ttrain-mlogloss:0.507318\ttest-mlogloss:0.550246\n",
      "[282]\ttrain-mlogloss:0.507015\ttest-mlogloss:0.550138\n",
      "[283]\ttrain-mlogloss:0.506705\ttest-mlogloss:0.550026\n",
      "[284]\ttrain-mlogloss:0.506303\ttest-mlogloss:0.54984\n",
      "[285]\ttrain-mlogloss:0.506001\ttest-mlogloss:0.54968\n",
      "[286]\ttrain-mlogloss:0.505744\ttest-mlogloss:0.549578\n",
      "[287]\ttrain-mlogloss:0.50541\ttest-mlogloss:0.549436\n",
      "[288]\ttrain-mlogloss:0.505112\ttest-mlogloss:0.549303\n",
      "[289]\ttrain-mlogloss:0.504788\ttest-mlogloss:0.549165\n",
      "[290]\ttrain-mlogloss:0.504489\ttest-mlogloss:0.549047\n",
      "[291]\ttrain-mlogloss:0.50421\ttest-mlogloss:0.54895\n",
      "[292]\ttrain-mlogloss:0.503928\ttest-mlogloss:0.548832\n",
      "[293]\ttrain-mlogloss:0.503628\ttest-mlogloss:0.5487\n",
      "[294]\ttrain-mlogloss:0.50332\ttest-mlogloss:0.548576\n",
      "[295]\ttrain-mlogloss:0.503022\ttest-mlogloss:0.548484\n",
      "[296]\ttrain-mlogloss:0.502697\ttest-mlogloss:0.548385\n",
      "[297]\ttrain-mlogloss:0.502405\ttest-mlogloss:0.548277\n",
      "[298]\ttrain-mlogloss:0.502113\ttest-mlogloss:0.548182\n",
      "[299]\ttrain-mlogloss:0.501767\ttest-mlogloss:0.548046\n",
      "[300]\ttrain-mlogloss:0.50142\ttest-mlogloss:0.547916\n",
      "[301]\ttrain-mlogloss:0.501116\ttest-mlogloss:0.547801\n",
      "[302]\ttrain-mlogloss:0.500904\ttest-mlogloss:0.547668\n",
      "[303]\ttrain-mlogloss:0.500679\ttest-mlogloss:0.547561\n",
      "[304]\ttrain-mlogloss:0.500363\ttest-mlogloss:0.54744\n",
      "[305]\ttrain-mlogloss:0.500036\ttest-mlogloss:0.547307\n",
      "[306]\ttrain-mlogloss:0.4998\ttest-mlogloss:0.547154\n",
      "[307]\ttrain-mlogloss:0.499544\ttest-mlogloss:0.547053\n",
      "[308]\ttrain-mlogloss:0.49931\ttest-mlogloss:0.546936\n",
      "[309]\ttrain-mlogloss:0.499095\ttest-mlogloss:0.546854\n",
      "[310]\ttrain-mlogloss:0.498876\ttest-mlogloss:0.546807\n",
      "[311]\ttrain-mlogloss:0.498632\ttest-mlogloss:0.5467\n",
      "[312]\ttrain-mlogloss:0.498273\ttest-mlogloss:0.546525\n",
      "[313]\ttrain-mlogloss:0.498012\ttest-mlogloss:0.546429\n",
      "[314]\ttrain-mlogloss:0.49774\ttest-mlogloss:0.546316\n",
      "[315]\ttrain-mlogloss:0.497434\ttest-mlogloss:0.546222\n",
      "[316]\ttrain-mlogloss:0.497161\ttest-mlogloss:0.546136\n",
      "[317]\ttrain-mlogloss:0.496849\ttest-mlogloss:0.546012\n",
      "[318]\ttrain-mlogloss:0.496526\ttest-mlogloss:0.545885\n",
      "[319]\ttrain-mlogloss:0.49623\ttest-mlogloss:0.545783\n",
      "[320]\ttrain-mlogloss:0.495956\ttest-mlogloss:0.545694\n",
      "[321]\ttrain-mlogloss:0.495633\ttest-mlogloss:0.545537\n",
      "[322]\ttrain-mlogloss:0.495382\ttest-mlogloss:0.545428\n",
      "[323]\ttrain-mlogloss:0.495081\ttest-mlogloss:0.545318\n",
      "[324]\ttrain-mlogloss:0.49484\ttest-mlogloss:0.545205\n",
      "[325]\ttrain-mlogloss:0.494616\ttest-mlogloss:0.545133\n",
      "[326]\ttrain-mlogloss:0.494231\ttest-mlogloss:0.544971\n",
      "[327]\ttrain-mlogloss:0.494015\ttest-mlogloss:0.544888\n",
      "[328]\ttrain-mlogloss:0.493719\ttest-mlogloss:0.544772\n",
      "[329]\ttrain-mlogloss:0.493403\ttest-mlogloss:0.544659\n",
      "[330]\ttrain-mlogloss:0.493093\ttest-mlogloss:0.544562\n",
      "[331]\ttrain-mlogloss:0.492761\ttest-mlogloss:0.544461\n",
      "[332]\ttrain-mlogloss:0.492516\ttest-mlogloss:0.544324\n",
      "[333]\ttrain-mlogloss:0.492327\ttest-mlogloss:0.544265\n",
      "[334]\ttrain-mlogloss:0.49204\ttest-mlogloss:0.544166\n",
      "[335]\ttrain-mlogloss:0.491794\ttest-mlogloss:0.544059\n",
      "[336]\ttrain-mlogloss:0.491524\ttest-mlogloss:0.544\n",
      "[337]\ttrain-mlogloss:0.491265\ttest-mlogloss:0.543893\n",
      "[338]\ttrain-mlogloss:0.491078\ttest-mlogloss:0.543823\n",
      "[339]\ttrain-mlogloss:0.490812\ttest-mlogloss:0.543717\n",
      "[340]\ttrain-mlogloss:0.490593\ttest-mlogloss:0.543621\n",
      "[341]\ttrain-mlogloss:0.490373\ttest-mlogloss:0.543559\n",
      "[342]\ttrain-mlogloss:0.490138\ttest-mlogloss:0.543508\n",
      "[343]\ttrain-mlogloss:0.489838\ttest-mlogloss:0.543375\n",
      "[344]\ttrain-mlogloss:0.489579\ttest-mlogloss:0.543294\n",
      "[345]\ttrain-mlogloss:0.489307\ttest-mlogloss:0.543208\n",
      "[346]\ttrain-mlogloss:0.489055\ttest-mlogloss:0.543112\n",
      "[347]\ttrain-mlogloss:0.488805\ttest-mlogloss:0.543012\n",
      "[348]\ttrain-mlogloss:0.488533\ttest-mlogloss:0.542891\n",
      "[349]\ttrain-mlogloss:0.488361\ttest-mlogloss:0.54283\n",
      "[350]\ttrain-mlogloss:0.488094\ttest-mlogloss:0.542749\n",
      "[351]\ttrain-mlogloss:0.487918\ttest-mlogloss:0.542665\n",
      "[352]\ttrain-mlogloss:0.487654\ttest-mlogloss:0.542534\n",
      "[353]\ttrain-mlogloss:0.487407\ttest-mlogloss:0.542449\n",
      "[354]\ttrain-mlogloss:0.487149\ttest-mlogloss:0.542374\n",
      "[355]\ttrain-mlogloss:0.486968\ttest-mlogloss:0.542289\n",
      "[356]\ttrain-mlogloss:0.486705\ttest-mlogloss:0.542233\n",
      "[357]\ttrain-mlogloss:0.486473\ttest-mlogloss:0.542161\n",
      "[358]\ttrain-mlogloss:0.48625\ttest-mlogloss:0.542068\n",
      "[359]\ttrain-mlogloss:0.486044\ttest-mlogloss:0.541985\n",
      "[360]\ttrain-mlogloss:0.485743\ttest-mlogloss:0.541847\n",
      "[361]\ttrain-mlogloss:0.485432\ttest-mlogloss:0.541739\n",
      "[362]\ttrain-mlogloss:0.485218\ttest-mlogloss:0.541655\n",
      "[363]\ttrain-mlogloss:0.484906\ttest-mlogloss:0.541573\n",
      "[364]\ttrain-mlogloss:0.484621\ttest-mlogloss:0.541473\n",
      "[365]\ttrain-mlogloss:0.484364\ttest-mlogloss:0.541389\n",
      "[366]\ttrain-mlogloss:0.484147\ttest-mlogloss:0.541322\n",
      "[367]\ttrain-mlogloss:0.483931\ttest-mlogloss:0.541275\n",
      "[368]\ttrain-mlogloss:0.483626\ttest-mlogloss:0.541205\n",
      "[369]\ttrain-mlogloss:0.483416\ttest-mlogloss:0.541114\n",
      "[370]\ttrain-mlogloss:0.483182\ttest-mlogloss:0.541044\n",
      "[371]\ttrain-mlogloss:0.482908\ttest-mlogloss:0.540964\n",
      "[372]\ttrain-mlogloss:0.482721\ttest-mlogloss:0.540904\n",
      "[373]\ttrain-mlogloss:0.482523\ttest-mlogloss:0.540809\n",
      "[374]\ttrain-mlogloss:0.482288\ttest-mlogloss:0.540753\n",
      "[375]\ttrain-mlogloss:0.482008\ttest-mlogloss:0.540691\n",
      "[376]\ttrain-mlogloss:0.481726\ttest-mlogloss:0.540601\n",
      "[377]\ttrain-mlogloss:0.481503\ttest-mlogloss:0.540518\n",
      "[378]\ttrain-mlogloss:0.481267\ttest-mlogloss:0.54042\n",
      "[379]\ttrain-mlogloss:0.481026\ttest-mlogloss:0.540357\n",
      "[380]\ttrain-mlogloss:0.480771\ttest-mlogloss:0.5403\n",
      "[381]\ttrain-mlogloss:0.480599\ttest-mlogloss:0.540228\n",
      "[382]\ttrain-mlogloss:0.480356\ttest-mlogloss:0.540158\n",
      "[383]\ttrain-mlogloss:0.480115\ttest-mlogloss:0.540074\n",
      "[384]\ttrain-mlogloss:0.479882\ttest-mlogloss:0.539974\n",
      "[385]\ttrain-mlogloss:0.479673\ttest-mlogloss:0.539912\n",
      "[386]\ttrain-mlogloss:0.47949\ttest-mlogloss:0.53986\n",
      "[387]\ttrain-mlogloss:0.479243\ttest-mlogloss:0.539801\n",
      "[388]\ttrain-mlogloss:0.47898\ttest-mlogloss:0.539702\n",
      "[389]\ttrain-mlogloss:0.478776\ttest-mlogloss:0.539596\n",
      "[390]\ttrain-mlogloss:0.478543\ttest-mlogloss:0.539523\n",
      "[391]\ttrain-mlogloss:0.478252\ttest-mlogloss:0.53944\n",
      "[392]\ttrain-mlogloss:0.478044\ttest-mlogloss:0.539349\n",
      "[393]\ttrain-mlogloss:0.477812\ttest-mlogloss:0.539293\n",
      "[394]\ttrain-mlogloss:0.47752\ttest-mlogloss:0.539212\n",
      "[395]\ttrain-mlogloss:0.477341\ttest-mlogloss:0.539159\n",
      "[396]\ttrain-mlogloss:0.477107\ttest-mlogloss:0.539056\n",
      "[397]\ttrain-mlogloss:0.476855\ttest-mlogloss:0.539023\n",
      "[398]\ttrain-mlogloss:0.476681\ttest-mlogloss:0.538958\n",
      "[399]\ttrain-mlogloss:0.476449\ttest-mlogloss:0.538921\n",
      "[400]\ttrain-mlogloss:0.476211\ttest-mlogloss:0.538852\n",
      "[401]\ttrain-mlogloss:0.475974\ttest-mlogloss:0.538772\n",
      "[402]\ttrain-mlogloss:0.475729\ttest-mlogloss:0.538717\n",
      "[403]\ttrain-mlogloss:0.475552\ttest-mlogloss:0.538643\n",
      "[404]\ttrain-mlogloss:0.475324\ttest-mlogloss:0.538587\n",
      "[405]\ttrain-mlogloss:0.47507\ttest-mlogloss:0.538549\n",
      "[406]\ttrain-mlogloss:0.474832\ttest-mlogloss:0.538466\n",
      "[407]\ttrain-mlogloss:0.474601\ttest-mlogloss:0.538419\n",
      "[408]\ttrain-mlogloss:0.474336\ttest-mlogloss:0.538365\n",
      "[409]\ttrain-mlogloss:0.474105\ttest-mlogloss:0.538316\n",
      "[410]\ttrain-mlogloss:0.473829\ttest-mlogloss:0.538224\n",
      "[411]\ttrain-mlogloss:0.473641\ttest-mlogloss:0.538159\n",
      "[412]\ttrain-mlogloss:0.473405\ttest-mlogloss:0.538057\n",
      "[413]\ttrain-mlogloss:0.473204\ttest-mlogloss:0.537949\n",
      "[414]\ttrain-mlogloss:0.472976\ttest-mlogloss:0.537896\n",
      "[415]\ttrain-mlogloss:0.472743\ttest-mlogloss:0.53782\n",
      "[416]\ttrain-mlogloss:0.472541\ttest-mlogloss:0.53776\n",
      "[417]\ttrain-mlogloss:0.472273\ttest-mlogloss:0.537705\n",
      "[418]\ttrain-mlogloss:0.472075\ttest-mlogloss:0.53762\n",
      "[419]\ttrain-mlogloss:0.47189\ttest-mlogloss:0.537589\n",
      "[420]\ttrain-mlogloss:0.471669\ttest-mlogloss:0.537498\n",
      "[421]\ttrain-mlogloss:0.4715\ttest-mlogloss:0.537444\n",
      "[422]\ttrain-mlogloss:0.471265\ttest-mlogloss:0.537357\n",
      "[423]\ttrain-mlogloss:0.471046\ttest-mlogloss:0.537281\n",
      "[424]\ttrain-mlogloss:0.47075\ttest-mlogloss:0.537223\n",
      "[425]\ttrain-mlogloss:0.470516\ttest-mlogloss:0.537138\n",
      "[426]\ttrain-mlogloss:0.470268\ttest-mlogloss:0.537066\n",
      "[427]\ttrain-mlogloss:0.470041\ttest-mlogloss:0.537027\n",
      "[428]\ttrain-mlogloss:0.469852\ttest-mlogloss:0.536957\n",
      "[429]\ttrain-mlogloss:0.46965\ttest-mlogloss:0.536895\n",
      "[430]\ttrain-mlogloss:0.469459\ttest-mlogloss:0.536838\n",
      "[431]\ttrain-mlogloss:0.469217\ttest-mlogloss:0.536789\n",
      "[432]\ttrain-mlogloss:0.469063\ttest-mlogloss:0.536722\n",
      "[433]\ttrain-mlogloss:0.46884\ttest-mlogloss:0.536624\n",
      "[434]\ttrain-mlogloss:0.468662\ttest-mlogloss:0.536584\n",
      "[435]\ttrain-mlogloss:0.468493\ttest-mlogloss:0.536537\n",
      "[436]\ttrain-mlogloss:0.468307\ttest-mlogloss:0.536513\n",
      "[437]\ttrain-mlogloss:0.468143\ttest-mlogloss:0.536475\n",
      "[438]\ttrain-mlogloss:0.468041\ttest-mlogloss:0.536441\n",
      "[439]\ttrain-mlogloss:0.467813\ttest-mlogloss:0.53637\n",
      "[440]\ttrain-mlogloss:0.467537\ttest-mlogloss:0.536318\n",
      "[441]\ttrain-mlogloss:0.467386\ttest-mlogloss:0.536251\n",
      "[442]\ttrain-mlogloss:0.467196\ttest-mlogloss:0.536196\n",
      "[443]\ttrain-mlogloss:0.466965\ttest-mlogloss:0.53614\n",
      "[444]\ttrain-mlogloss:0.466839\ttest-mlogloss:0.536088\n",
      "[445]\ttrain-mlogloss:0.466659\ttest-mlogloss:0.536048\n",
      "[446]\ttrain-mlogloss:0.466448\ttest-mlogloss:0.536004\n",
      "[447]\ttrain-mlogloss:0.466204\ttest-mlogloss:0.535959\n",
      "[448]\ttrain-mlogloss:0.466028\ttest-mlogloss:0.535927\n",
      "[449]\ttrain-mlogloss:0.465831\ttest-mlogloss:0.535893\n",
      "[450]\ttrain-mlogloss:0.465629\ttest-mlogloss:0.535816\n",
      "[451]\ttrain-mlogloss:0.465424\ttest-mlogloss:0.535775\n",
      "[452]\ttrain-mlogloss:0.465191\ttest-mlogloss:0.535756\n",
      "[453]\ttrain-mlogloss:0.464949\ttest-mlogloss:0.535697\n",
      "[454]\ttrain-mlogloss:0.464795\ttest-mlogloss:0.535644\n",
      "[455]\ttrain-mlogloss:0.464587\ttest-mlogloss:0.535569\n",
      "[456]\ttrain-mlogloss:0.464406\ttest-mlogloss:0.535516\n",
      "[457]\ttrain-mlogloss:0.464198\ttest-mlogloss:0.535475\n",
      "[458]\ttrain-mlogloss:0.46401\ttest-mlogloss:0.5354\n",
      "[459]\ttrain-mlogloss:0.463771\ttest-mlogloss:0.535336\n",
      "[460]\ttrain-mlogloss:0.463565\ttest-mlogloss:0.535306\n",
      "[461]\ttrain-mlogloss:0.463378\ttest-mlogloss:0.535247\n",
      "[462]\ttrain-mlogloss:0.463137\ttest-mlogloss:0.535217\n",
      "[463]\ttrain-mlogloss:0.46292\ttest-mlogloss:0.535175\n",
      "[464]\ttrain-mlogloss:0.46275\ttest-mlogloss:0.535131\n",
      "[465]\ttrain-mlogloss:0.462583\ttest-mlogloss:0.535049\n",
      "[466]\ttrain-mlogloss:0.462402\ttest-mlogloss:0.535\n",
      "[467]\ttrain-mlogloss:0.462203\ttest-mlogloss:0.534945\n",
      "[468]\ttrain-mlogloss:0.46201\ttest-mlogloss:0.534888\n",
      "[469]\ttrain-mlogloss:0.461819\ttest-mlogloss:0.534848\n",
      "[470]\ttrain-mlogloss:0.461579\ttest-mlogloss:0.534761\n",
      "[471]\ttrain-mlogloss:0.461356\ttest-mlogloss:0.534656\n",
      "[472]\ttrain-mlogloss:0.461129\ttest-mlogloss:0.534598\n",
      "[473]\ttrain-mlogloss:0.460944\ttest-mlogloss:0.534545\n",
      "[474]\ttrain-mlogloss:0.46079\ttest-mlogloss:0.534492\n",
      "[475]\ttrain-mlogloss:0.460553\ttest-mlogloss:0.534431\n",
      "[476]\ttrain-mlogloss:0.460357\ttest-mlogloss:0.534364\n",
      "[477]\ttrain-mlogloss:0.460147\ttest-mlogloss:0.534319\n",
      "[478]\ttrain-mlogloss:0.459992\ttest-mlogloss:0.534312\n",
      "[479]\ttrain-mlogloss:0.459802\ttest-mlogloss:0.534253\n",
      "[480]\ttrain-mlogloss:0.459562\ttest-mlogloss:0.534198\n",
      "[481]\ttrain-mlogloss:0.459333\ttest-mlogloss:0.534118\n",
      "[482]\ttrain-mlogloss:0.459154\ttest-mlogloss:0.534053\n",
      "[483]\ttrain-mlogloss:0.459022\ttest-mlogloss:0.534033\n",
      "[484]\ttrain-mlogloss:0.458851\ttest-mlogloss:0.53397\n",
      "[485]\ttrain-mlogloss:0.458645\ttest-mlogloss:0.533948\n",
      "[486]\ttrain-mlogloss:0.458444\ttest-mlogloss:0.533881\n",
      "[487]\ttrain-mlogloss:0.458314\ttest-mlogloss:0.533845\n",
      "[488]\ttrain-mlogloss:0.458109\ttest-mlogloss:0.53377\n",
      "[489]\ttrain-mlogloss:0.457893\ttest-mlogloss:0.533764\n",
      "[490]\ttrain-mlogloss:0.457746\ttest-mlogloss:0.533723\n",
      "[491]\ttrain-mlogloss:0.457585\ttest-mlogloss:0.533695\n",
      "[492]\ttrain-mlogloss:0.457381\ttest-mlogloss:0.533665\n",
      "[493]\ttrain-mlogloss:0.457169\ttest-mlogloss:0.533603\n",
      "[494]\ttrain-mlogloss:0.457032\ttest-mlogloss:0.533574\n",
      "[495]\ttrain-mlogloss:0.4568\ttest-mlogloss:0.53353\n",
      "[496]\ttrain-mlogloss:0.45654\ttest-mlogloss:0.533445\n",
      "[497]\ttrain-mlogloss:0.456389\ttest-mlogloss:0.533392\n",
      "[498]\ttrain-mlogloss:0.456171\ttest-mlogloss:0.533347\n",
      "[499]\ttrain-mlogloss:0.455968\ttest-mlogloss:0.533316\n",
      "[500]\ttrain-mlogloss:0.455821\ttest-mlogloss:0.533245\n",
      "[501]\ttrain-mlogloss:0.455664\ttest-mlogloss:0.533173\n",
      "[502]\ttrain-mlogloss:0.455541\ttest-mlogloss:0.533139\n",
      "[503]\ttrain-mlogloss:0.455344\ttest-mlogloss:0.533109\n",
      "[504]\ttrain-mlogloss:0.455182\ttest-mlogloss:0.533093\n",
      "[505]\ttrain-mlogloss:0.455011\ttest-mlogloss:0.533042\n",
      "[506]\ttrain-mlogloss:0.454811\ttest-mlogloss:0.532982\n",
      "[507]\ttrain-mlogloss:0.454671\ttest-mlogloss:0.532947\n",
      "[508]\ttrain-mlogloss:0.454493\ttest-mlogloss:0.532869\n",
      "[509]\ttrain-mlogloss:0.454282\ttest-mlogloss:0.532796\n",
      "[510]\ttrain-mlogloss:0.454099\ttest-mlogloss:0.532722\n",
      "[511]\ttrain-mlogloss:0.45395\ttest-mlogloss:0.532677\n",
      "[512]\ttrain-mlogloss:0.453758\ttest-mlogloss:0.53264\n",
      "[513]\ttrain-mlogloss:0.453569\ttest-mlogloss:0.532586\n",
      "[514]\ttrain-mlogloss:0.453419\ttest-mlogloss:0.532547\n",
      "[515]\ttrain-mlogloss:0.453188\ttest-mlogloss:0.532484\n",
      "[516]\ttrain-mlogloss:0.45303\ttest-mlogloss:0.532459\n",
      "[517]\ttrain-mlogloss:0.452839\ttest-mlogloss:0.532408\n",
      "[518]\ttrain-mlogloss:0.452683\ttest-mlogloss:0.532383\n",
      "[519]\ttrain-mlogloss:0.452536\ttest-mlogloss:0.532327\n",
      "[520]\ttrain-mlogloss:0.452353\ttest-mlogloss:0.532308\n",
      "[521]\ttrain-mlogloss:0.452172\ttest-mlogloss:0.532266\n",
      "[522]\ttrain-mlogloss:0.452028\ttest-mlogloss:0.532228\n",
      "[523]\ttrain-mlogloss:0.45189\ttest-mlogloss:0.532192\n",
      "[524]\ttrain-mlogloss:0.451737\ttest-mlogloss:0.532139\n",
      "[525]\ttrain-mlogloss:0.451575\ttest-mlogloss:0.532097\n",
      "[526]\ttrain-mlogloss:0.451371\ttest-mlogloss:0.532063\n",
      "[527]\ttrain-mlogloss:0.451239\ttest-mlogloss:0.532029\n",
      "[528]\ttrain-mlogloss:0.451073\ttest-mlogloss:0.531999\n",
      "[529]\ttrain-mlogloss:0.450869\ttest-mlogloss:0.531956\n",
      "[530]\ttrain-mlogloss:0.450635\ttest-mlogloss:0.531925\n",
      "[531]\ttrain-mlogloss:0.45045\ttest-mlogloss:0.53188\n",
      "[532]\ttrain-mlogloss:0.450229\ttest-mlogloss:0.531859\n",
      "[533]\ttrain-mlogloss:0.450031\ttest-mlogloss:0.531793\n",
      "[534]\ttrain-mlogloss:0.449889\ttest-mlogloss:0.531777\n",
      "[535]\ttrain-mlogloss:0.449749\ttest-mlogloss:0.531772\n",
      "[536]\ttrain-mlogloss:0.449571\ttest-mlogloss:0.53172\n",
      "[537]\ttrain-mlogloss:0.449373\ttest-mlogloss:0.531677\n",
      "[538]\ttrain-mlogloss:0.44924\ttest-mlogloss:0.531662\n",
      "[539]\ttrain-mlogloss:0.449014\ttest-mlogloss:0.531611\n",
      "[540]\ttrain-mlogloss:0.44882\ttest-mlogloss:0.531552\n",
      "[541]\ttrain-mlogloss:0.448664\ttest-mlogloss:0.531535\n",
      "[542]\ttrain-mlogloss:0.448471\ttest-mlogloss:0.531502\n",
      "[543]\ttrain-mlogloss:0.448304\ttest-mlogloss:0.531466\n",
      "[544]\ttrain-mlogloss:0.448131\ttest-mlogloss:0.531416\n",
      "[545]\ttrain-mlogloss:0.448002\ttest-mlogloss:0.53139\n",
      "[546]\ttrain-mlogloss:0.447862\ttest-mlogloss:0.531366\n",
      "[547]\ttrain-mlogloss:0.447653\ttest-mlogloss:0.53132\n",
      "[548]\ttrain-mlogloss:0.44742\ttest-mlogloss:0.531271\n",
      "[549]\ttrain-mlogloss:0.447237\ttest-mlogloss:0.531244\n",
      "[550]\ttrain-mlogloss:0.447066\ttest-mlogloss:0.531208\n",
      "[551]\ttrain-mlogloss:0.446915\ttest-mlogloss:0.531177\n",
      "[552]\ttrain-mlogloss:0.446747\ttest-mlogloss:0.531137\n",
      "[553]\ttrain-mlogloss:0.44655\ttest-mlogloss:0.531089\n",
      "[554]\ttrain-mlogloss:0.446419\ttest-mlogloss:0.531056\n",
      "[555]\ttrain-mlogloss:0.446243\ttest-mlogloss:0.53102\n",
      "[556]\ttrain-mlogloss:0.446088\ttest-mlogloss:0.530998\n",
      "[557]\ttrain-mlogloss:0.445921\ttest-mlogloss:0.530977\n",
      "[558]\ttrain-mlogloss:0.445719\ttest-mlogloss:0.530952\n",
      "[559]\ttrain-mlogloss:0.445536\ttest-mlogloss:0.530916\n",
      "[560]\ttrain-mlogloss:0.445336\ttest-mlogloss:0.530877\n",
      "[561]\ttrain-mlogloss:0.445222\ttest-mlogloss:0.530853\n",
      "[562]\ttrain-mlogloss:0.445014\ttest-mlogloss:0.53086\n",
      "[563]\ttrain-mlogloss:0.444768\ttest-mlogloss:0.530828\n",
      "[564]\ttrain-mlogloss:0.444611\ttest-mlogloss:0.53079\n",
      "[565]\ttrain-mlogloss:0.444409\ttest-mlogloss:0.530721\n",
      "[566]\ttrain-mlogloss:0.444295\ttest-mlogloss:0.530687\n",
      "[567]\ttrain-mlogloss:0.444091\ttest-mlogloss:0.530629\n",
      "[568]\ttrain-mlogloss:0.443909\ttest-mlogloss:0.530605\n",
      "[569]\ttrain-mlogloss:0.443743\ttest-mlogloss:0.530581\n",
      "[570]\ttrain-mlogloss:0.443557\ttest-mlogloss:0.530549\n",
      "[571]\ttrain-mlogloss:0.44339\ttest-mlogloss:0.530526\n",
      "[572]\ttrain-mlogloss:0.443172\ttest-mlogloss:0.53049\n",
      "[573]\ttrain-mlogloss:0.443024\ttest-mlogloss:0.530444\n",
      "[574]\ttrain-mlogloss:0.442797\ttest-mlogloss:0.530388\n",
      "[575]\ttrain-mlogloss:0.442662\ttest-mlogloss:0.530366\n",
      "[576]\ttrain-mlogloss:0.442463\ttest-mlogloss:0.530312\n",
      "[577]\ttrain-mlogloss:0.442277\ttest-mlogloss:0.530272\n",
      "[578]\ttrain-mlogloss:0.442073\ttest-mlogloss:0.530212\n",
      "[579]\ttrain-mlogloss:0.441894\ttest-mlogloss:0.530181\n",
      "[580]\ttrain-mlogloss:0.44171\ttest-mlogloss:0.530122\n",
      "[581]\ttrain-mlogloss:0.441583\ttest-mlogloss:0.53011\n",
      "[582]\ttrain-mlogloss:0.44145\ttest-mlogloss:0.530094\n",
      "[583]\ttrain-mlogloss:0.441253\ttest-mlogloss:0.530055\n",
      "[584]\ttrain-mlogloss:0.44108\ttest-mlogloss:0.530006\n",
      "[585]\ttrain-mlogloss:0.440858\ttest-mlogloss:0.529997\n",
      "[586]\ttrain-mlogloss:0.440737\ttest-mlogloss:0.529983\n",
      "[587]\ttrain-mlogloss:0.440566\ttest-mlogloss:0.529942\n",
      "[588]\ttrain-mlogloss:0.440447\ttest-mlogloss:0.529923\n",
      "[589]\ttrain-mlogloss:0.44025\ttest-mlogloss:0.529865\n",
      "[590]\ttrain-mlogloss:0.440082\ttest-mlogloss:0.529826\n",
      "[591]\ttrain-mlogloss:0.439925\ttest-mlogloss:0.529824\n",
      "[592]\ttrain-mlogloss:0.439756\ttest-mlogloss:0.529813\n",
      "[593]\ttrain-mlogloss:0.439648\ttest-mlogloss:0.529778\n",
      "[594]\ttrain-mlogloss:0.43952\ttest-mlogloss:0.529742\n",
      "[595]\ttrain-mlogloss:0.439348\ttest-mlogloss:0.529711\n",
      "[596]\ttrain-mlogloss:0.439241\ttest-mlogloss:0.529688\n",
      "[597]\ttrain-mlogloss:0.439015\ttest-mlogloss:0.529636\n",
      "[598]\ttrain-mlogloss:0.438864\ttest-mlogloss:0.52961\n",
      "[599]\ttrain-mlogloss:0.438634\ttest-mlogloss:0.529574\n",
      "[600]\ttrain-mlogloss:0.438456\ttest-mlogloss:0.52954\n",
      "[601]\ttrain-mlogloss:0.43836\ttest-mlogloss:0.529522\n",
      "[602]\ttrain-mlogloss:0.438221\ttest-mlogloss:0.529486\n",
      "[603]\ttrain-mlogloss:0.438068\ttest-mlogloss:0.529448\n",
      "[604]\ttrain-mlogloss:0.437922\ttest-mlogloss:0.529407\n",
      "[605]\ttrain-mlogloss:0.437771\ttest-mlogloss:0.529385\n",
      "[606]\ttrain-mlogloss:0.437568\ttest-mlogloss:0.529325\n",
      "[607]\ttrain-mlogloss:0.437455\ttest-mlogloss:0.529308\n",
      "[608]\ttrain-mlogloss:0.437309\ttest-mlogloss:0.529296\n",
      "[609]\ttrain-mlogloss:0.437141\ttest-mlogloss:0.529281\n",
      "[610]\ttrain-mlogloss:0.437037\ttest-mlogloss:0.52926\n",
      "[611]\ttrain-mlogloss:0.436864\ttest-mlogloss:0.529227\n",
      "[612]\ttrain-mlogloss:0.436724\ttest-mlogloss:0.529195\n",
      "[613]\ttrain-mlogloss:0.436572\ttest-mlogloss:0.529164\n",
      "[614]\ttrain-mlogloss:0.436453\ttest-mlogloss:0.529148\n",
      "[615]\ttrain-mlogloss:0.436294\ttest-mlogloss:0.529127\n",
      "[616]\ttrain-mlogloss:0.436128\ttest-mlogloss:0.529103\n",
      "[617]\ttrain-mlogloss:0.435949\ttest-mlogloss:0.529085\n",
      "[618]\ttrain-mlogloss:0.435826\ttest-mlogloss:0.529046\n",
      "[619]\ttrain-mlogloss:0.435659\ttest-mlogloss:0.52902\n",
      "[620]\ttrain-mlogloss:0.435548\ttest-mlogloss:0.528991\n",
      "[621]\ttrain-mlogloss:0.435386\ttest-mlogloss:0.528971\n",
      "[622]\ttrain-mlogloss:0.43523\ttest-mlogloss:0.528936\n",
      "[623]\ttrain-mlogloss:0.435039\ttest-mlogloss:0.528906\n",
      "[624]\ttrain-mlogloss:0.434867\ttest-mlogloss:0.528895\n",
      "[625]\ttrain-mlogloss:0.434708\ttest-mlogloss:0.528871\n",
      "[626]\ttrain-mlogloss:0.434507\ttest-mlogloss:0.528823\n",
      "[627]\ttrain-mlogloss:0.434348\ttest-mlogloss:0.528771\n",
      "[628]\ttrain-mlogloss:0.434186\ttest-mlogloss:0.528764\n",
      "[629]\ttrain-mlogloss:0.434009\ttest-mlogloss:0.52875\n",
      "[630]\ttrain-mlogloss:0.433871\ttest-mlogloss:0.528728\n",
      "[631]\ttrain-mlogloss:0.433686\ttest-mlogloss:0.528689\n",
      "[632]\ttrain-mlogloss:0.433538\ttest-mlogloss:0.528669\n",
      "[633]\ttrain-mlogloss:0.433381\ttest-mlogloss:0.52865\n",
      "[634]\ttrain-mlogloss:0.433241\ttest-mlogloss:0.528662\n",
      "[635]\ttrain-mlogloss:0.433113\ttest-mlogloss:0.528621\n",
      "[636]\ttrain-mlogloss:0.432946\ttest-mlogloss:0.528581\n",
      "[637]\ttrain-mlogloss:0.432763\ttest-mlogloss:0.528552\n",
      "[638]\ttrain-mlogloss:0.432671\ttest-mlogloss:0.528542\n",
      "[639]\ttrain-mlogloss:0.432475\ttest-mlogloss:0.528462\n",
      "[640]\ttrain-mlogloss:0.432386\ttest-mlogloss:0.528436\n",
      "[641]\ttrain-mlogloss:0.432258\ttest-mlogloss:0.52842\n",
      "[642]\ttrain-mlogloss:0.432133\ttest-mlogloss:0.528394\n",
      "[643]\ttrain-mlogloss:0.431982\ttest-mlogloss:0.528363\n",
      "[644]\ttrain-mlogloss:0.431828\ttest-mlogloss:0.528324\n",
      "[645]\ttrain-mlogloss:0.431681\ttest-mlogloss:0.528284\n",
      "[646]\ttrain-mlogloss:0.431562\ttest-mlogloss:0.52824\n",
      "[647]\ttrain-mlogloss:0.431408\ttest-mlogloss:0.528205\n",
      "[648]\ttrain-mlogloss:0.431225\ttest-mlogloss:0.528147\n",
      "[649]\ttrain-mlogloss:0.431059\ttest-mlogloss:0.528118\n",
      "[650]\ttrain-mlogloss:0.4309\ttest-mlogloss:0.528097\n",
      "[651]\ttrain-mlogloss:0.430755\ttest-mlogloss:0.52805\n",
      "[652]\ttrain-mlogloss:0.430608\ttest-mlogloss:0.528014\n",
      "[653]\ttrain-mlogloss:0.430439\ttest-mlogloss:0.527985\n",
      "[654]\ttrain-mlogloss:0.430229\ttest-mlogloss:0.527941\n",
      "[655]\ttrain-mlogloss:0.430102\ttest-mlogloss:0.527914\n",
      "[656]\ttrain-mlogloss:0.429974\ttest-mlogloss:0.527866\n",
      "[657]\ttrain-mlogloss:0.429844\ttest-mlogloss:0.527843\n",
      "[658]\ttrain-mlogloss:0.4297\ttest-mlogloss:0.527812\n",
      "[659]\ttrain-mlogloss:0.429577\ttest-mlogloss:0.527791\n",
      "[660]\ttrain-mlogloss:0.429394\ttest-mlogloss:0.527717\n",
      "[661]\ttrain-mlogloss:0.429223\ttest-mlogloss:0.527673\n",
      "[662]\ttrain-mlogloss:0.429102\ttest-mlogloss:0.527674\n",
      "[663]\ttrain-mlogloss:0.428985\ttest-mlogloss:0.527653\n",
      "[664]\ttrain-mlogloss:0.428853\ttest-mlogloss:0.527653\n",
      "[665]\ttrain-mlogloss:0.428693\ttest-mlogloss:0.527621\n",
      "[666]\ttrain-mlogloss:0.428548\ttest-mlogloss:0.527595\n",
      "[667]\ttrain-mlogloss:0.42841\ttest-mlogloss:0.52755\n",
      "[668]\ttrain-mlogloss:0.428259\ttest-mlogloss:0.52753\n",
      "[669]\ttrain-mlogloss:0.428035\ttest-mlogloss:0.527475\n",
      "[670]\ttrain-mlogloss:0.427892\ttest-mlogloss:0.527437\n",
      "[671]\ttrain-mlogloss:0.42773\ttest-mlogloss:0.527453\n",
      "[672]\ttrain-mlogloss:0.427634\ttest-mlogloss:0.527427\n",
      "[673]\ttrain-mlogloss:0.427483\ttest-mlogloss:0.527372\n",
      "[674]\ttrain-mlogloss:0.427358\ttest-mlogloss:0.527341\n",
      "[675]\ttrain-mlogloss:0.427157\ttest-mlogloss:0.527314\n",
      "[676]\ttrain-mlogloss:0.426918\ttest-mlogloss:0.527281\n",
      "[677]\ttrain-mlogloss:0.426735\ttest-mlogloss:0.527255\n",
      "[678]\ttrain-mlogloss:0.42655\ttest-mlogloss:0.527242\n",
      "[679]\ttrain-mlogloss:0.426441\ttest-mlogloss:0.527236\n",
      "[680]\ttrain-mlogloss:0.4263\ttest-mlogloss:0.527189\n",
      "[681]\ttrain-mlogloss:0.426122\ttest-mlogloss:0.527105\n",
      "[682]\ttrain-mlogloss:0.426007\ttest-mlogloss:0.527082\n",
      "[683]\ttrain-mlogloss:0.425843\ttest-mlogloss:0.527073\n",
      "[684]\ttrain-mlogloss:0.425701\ttest-mlogloss:0.527031\n",
      "[685]\ttrain-mlogloss:0.42555\ttest-mlogloss:0.526992\n",
      "[686]\ttrain-mlogloss:0.425378\ttest-mlogloss:0.526962\n",
      "[687]\ttrain-mlogloss:0.42524\ttest-mlogloss:0.52696\n",
      "[688]\ttrain-mlogloss:0.425103\ttest-mlogloss:0.526965\n",
      "[689]\ttrain-mlogloss:0.42494\ttest-mlogloss:0.526955\n",
      "[690]\ttrain-mlogloss:0.424751\ttest-mlogloss:0.526912\n",
      "[691]\ttrain-mlogloss:0.424584\ttest-mlogloss:0.526897\n",
      "[692]\ttrain-mlogloss:0.424408\ttest-mlogloss:0.526868\n",
      "[693]\ttrain-mlogloss:0.424312\ttest-mlogloss:0.526834\n",
      "[694]\ttrain-mlogloss:0.424165\ttest-mlogloss:0.526824\n",
      "[695]\ttrain-mlogloss:0.424005\ttest-mlogloss:0.52679\n",
      "[696]\ttrain-mlogloss:0.423923\ttest-mlogloss:0.526767\n",
      "[697]\ttrain-mlogloss:0.423717\ttest-mlogloss:0.52671\n",
      "[698]\ttrain-mlogloss:0.423597\ttest-mlogloss:0.526693\n",
      "[699]\ttrain-mlogloss:0.423455\ttest-mlogloss:0.526657\n",
      "[700]\ttrain-mlogloss:0.423343\ttest-mlogloss:0.526659\n",
      "[701]\ttrain-mlogloss:0.423212\ttest-mlogloss:0.526661\n",
      "[702]\ttrain-mlogloss:0.42307\ttest-mlogloss:0.526626\n",
      "[703]\ttrain-mlogloss:0.42294\ttest-mlogloss:0.526598\n",
      "[704]\ttrain-mlogloss:0.422808\ttest-mlogloss:0.526568\n",
      "[705]\ttrain-mlogloss:0.422645\ttest-mlogloss:0.526521\n",
      "[706]\ttrain-mlogloss:0.422493\ttest-mlogloss:0.52649\n",
      "[707]\ttrain-mlogloss:0.422291\ttest-mlogloss:0.526466\n",
      "[708]\ttrain-mlogloss:0.422139\ttest-mlogloss:0.526416\n",
      "[709]\ttrain-mlogloss:0.421987\ttest-mlogloss:0.526412\n",
      "[710]\ttrain-mlogloss:0.421817\ttest-mlogloss:0.52639\n",
      "[711]\ttrain-mlogloss:0.421678\ttest-mlogloss:0.526367\n",
      "[712]\ttrain-mlogloss:0.421551\ttest-mlogloss:0.526341\n",
      "[713]\ttrain-mlogloss:0.4214\ttest-mlogloss:0.526312\n",
      "[714]\ttrain-mlogloss:0.42127\ttest-mlogloss:0.526293\n",
      "[715]\ttrain-mlogloss:0.42113\ttest-mlogloss:0.526253\n",
      "[716]\ttrain-mlogloss:0.420964\ttest-mlogloss:0.526236\n",
      "[717]\ttrain-mlogloss:0.42084\ttest-mlogloss:0.526204\n",
      "[718]\ttrain-mlogloss:0.420658\ttest-mlogloss:0.526177\n",
      "[719]\ttrain-mlogloss:0.420457\ttest-mlogloss:0.526153\n",
      "[720]\ttrain-mlogloss:0.420296\ttest-mlogloss:0.52613\n",
      "[721]\ttrain-mlogloss:0.420129\ttest-mlogloss:0.526111\n",
      "[722]\ttrain-mlogloss:0.419946\ttest-mlogloss:0.526095\n",
      "[723]\ttrain-mlogloss:0.419797\ttest-mlogloss:0.526052\n",
      "[724]\ttrain-mlogloss:0.419667\ttest-mlogloss:0.526043\n",
      "[725]\ttrain-mlogloss:0.419501\ttest-mlogloss:0.526018\n",
      "[726]\ttrain-mlogloss:0.419355\ttest-mlogloss:0.526014\n",
      "[727]\ttrain-mlogloss:0.419212\ttest-mlogloss:0.525975\n",
      "[728]\ttrain-mlogloss:0.419077\ttest-mlogloss:0.525928\n",
      "[729]\ttrain-mlogloss:0.418939\ttest-mlogloss:0.525907\n",
      "[730]\ttrain-mlogloss:0.418801\ttest-mlogloss:0.52589\n",
      "[731]\ttrain-mlogloss:0.418617\ttest-mlogloss:0.525853\n",
      "[732]\ttrain-mlogloss:0.418509\ttest-mlogloss:0.525837\n",
      "[733]\ttrain-mlogloss:0.418353\ttest-mlogloss:0.525798\n",
      "[734]\ttrain-mlogloss:0.418165\ttest-mlogloss:0.52577\n",
      "[735]\ttrain-mlogloss:0.418015\ttest-mlogloss:0.525724\n",
      "[736]\ttrain-mlogloss:0.417824\ttest-mlogloss:0.525711\n",
      "[737]\ttrain-mlogloss:0.417684\ttest-mlogloss:0.525699\n",
      "[738]\ttrain-mlogloss:0.417513\ttest-mlogloss:0.525678\n",
      "[739]\ttrain-mlogloss:0.417408\ttest-mlogloss:0.525679\n",
      "[740]\ttrain-mlogloss:0.417294\ttest-mlogloss:0.525648\n",
      "[741]\ttrain-mlogloss:0.417148\ttest-mlogloss:0.525621\n",
      "[742]\ttrain-mlogloss:0.417007\ttest-mlogloss:0.52561\n",
      "[743]\ttrain-mlogloss:0.416846\ttest-mlogloss:0.525554\n",
      "[744]\ttrain-mlogloss:0.416671\ttest-mlogloss:0.525554\n",
      "[745]\ttrain-mlogloss:0.416515\ttest-mlogloss:0.525527\n",
      "[746]\ttrain-mlogloss:0.416355\ttest-mlogloss:0.525446\n",
      "[747]\ttrain-mlogloss:0.416207\ttest-mlogloss:0.525414\n",
      "[748]\ttrain-mlogloss:0.416054\ttest-mlogloss:0.525408\n",
      "[749]\ttrain-mlogloss:0.415899\ttest-mlogloss:0.525377\n",
      "[750]\ttrain-mlogloss:0.41572\ttest-mlogloss:0.525356\n",
      "[751]\ttrain-mlogloss:0.415605\ttest-mlogloss:0.525342\n",
      "[752]\ttrain-mlogloss:0.415451\ttest-mlogloss:0.52534\n",
      "[753]\ttrain-mlogloss:0.415305\ttest-mlogloss:0.52533\n",
      "[754]\ttrain-mlogloss:0.415178\ttest-mlogloss:0.525308\n",
      "[755]\ttrain-mlogloss:0.41507\ttest-mlogloss:0.525286\n",
      "[756]\ttrain-mlogloss:0.414906\ttest-mlogloss:0.525268\n",
      "[757]\ttrain-mlogloss:0.414762\ttest-mlogloss:0.525249\n",
      "[758]\ttrain-mlogloss:0.41463\ttest-mlogloss:0.525212\n",
      "[759]\ttrain-mlogloss:0.414476\ttest-mlogloss:0.525181\n",
      "[760]\ttrain-mlogloss:0.414349\ttest-mlogloss:0.525186\n",
      "[761]\ttrain-mlogloss:0.414205\ttest-mlogloss:0.525131\n",
      "[762]\ttrain-mlogloss:0.414038\ttest-mlogloss:0.525113\n",
      "[763]\ttrain-mlogloss:0.413931\ttest-mlogloss:0.525074\n",
      "[764]\ttrain-mlogloss:0.413795\ttest-mlogloss:0.525046\n",
      "[765]\ttrain-mlogloss:0.413676\ttest-mlogloss:0.525009\n",
      "[766]\ttrain-mlogloss:0.413508\ttest-mlogloss:0.52499\n",
      "[767]\ttrain-mlogloss:0.413335\ttest-mlogloss:0.524984\n",
      "[768]\ttrain-mlogloss:0.413162\ttest-mlogloss:0.524923\n",
      "[769]\ttrain-mlogloss:0.413023\ttest-mlogloss:0.524891\n",
      "[770]\ttrain-mlogloss:0.412901\ttest-mlogloss:0.524877\n",
      "[771]\ttrain-mlogloss:0.412776\ttest-mlogloss:0.524856\n",
      "[772]\ttrain-mlogloss:0.412647\ttest-mlogloss:0.524817\n",
      "[773]\ttrain-mlogloss:0.412433\ttest-mlogloss:0.524799\n",
      "[774]\ttrain-mlogloss:0.412308\ttest-mlogloss:0.5248\n",
      "[775]\ttrain-mlogloss:0.412146\ttest-mlogloss:0.524787\n",
      "[776]\ttrain-mlogloss:0.411984\ttest-mlogloss:0.524787\n",
      "[777]\ttrain-mlogloss:0.411825\ttest-mlogloss:0.524753\n",
      "[778]\ttrain-mlogloss:0.411682\ttest-mlogloss:0.524733\n",
      "[779]\ttrain-mlogloss:0.411557\ttest-mlogloss:0.524697\n",
      "[780]\ttrain-mlogloss:0.411453\ttest-mlogloss:0.524692\n",
      "[781]\ttrain-mlogloss:0.411356\ttest-mlogloss:0.524673\n",
      "[782]\ttrain-mlogloss:0.411188\ttest-mlogloss:0.524668\n",
      "[783]\ttrain-mlogloss:0.411031\ttest-mlogloss:0.524658\n",
      "[784]\ttrain-mlogloss:0.410883\ttest-mlogloss:0.524656\n",
      "[785]\ttrain-mlogloss:0.410717\ttest-mlogloss:0.524636\n",
      "[786]\ttrain-mlogloss:0.410591\ttest-mlogloss:0.524614\n",
      "[787]\ttrain-mlogloss:0.410445\ttest-mlogloss:0.52458\n",
      "[788]\ttrain-mlogloss:0.410346\ttest-mlogloss:0.524582\n",
      "[789]\ttrain-mlogloss:0.410182\ttest-mlogloss:0.524586\n",
      "[790]\ttrain-mlogloss:0.410027\ttest-mlogloss:0.524574\n",
      "[791]\ttrain-mlogloss:0.409846\ttest-mlogloss:0.524515\n",
      "[792]\ttrain-mlogloss:0.409717\ttest-mlogloss:0.524482\n",
      "[793]\ttrain-mlogloss:0.409576\ttest-mlogloss:0.524453\n",
      "[794]\ttrain-mlogloss:0.409404\ttest-mlogloss:0.524412\n",
      "[795]\ttrain-mlogloss:0.409283\ttest-mlogloss:0.524387\n",
      "[796]\ttrain-mlogloss:0.409095\ttest-mlogloss:0.524378\n",
      "[797]\ttrain-mlogloss:0.408957\ttest-mlogloss:0.524368\n",
      "[798]\ttrain-mlogloss:0.408821\ttest-mlogloss:0.524344\n",
      "[799]\ttrain-mlogloss:0.408647\ttest-mlogloss:0.524307\n",
      "[800]\ttrain-mlogloss:0.408516\ttest-mlogloss:0.524297\n",
      "[801]\ttrain-mlogloss:0.408322\ttest-mlogloss:0.524272\n",
      "[802]\ttrain-mlogloss:0.40818\ttest-mlogloss:0.52423\n",
      "[803]\ttrain-mlogloss:0.408046\ttest-mlogloss:0.524203\n",
      "[804]\ttrain-mlogloss:0.407923\ttest-mlogloss:0.524192\n",
      "[805]\ttrain-mlogloss:0.407782\ttest-mlogloss:0.524176\n",
      "[806]\ttrain-mlogloss:0.40764\ttest-mlogloss:0.524174\n",
      "[807]\ttrain-mlogloss:0.407504\ttest-mlogloss:0.524146\n",
      "[808]\ttrain-mlogloss:0.407315\ttest-mlogloss:0.524128\n",
      "[809]\ttrain-mlogloss:0.407214\ttest-mlogloss:0.524137\n",
      "[810]\ttrain-mlogloss:0.407036\ttest-mlogloss:0.524135\n",
      "[811]\ttrain-mlogloss:0.406923\ttest-mlogloss:0.524124\n",
      "[812]\ttrain-mlogloss:0.406823\ttest-mlogloss:0.524125\n",
      "[813]\ttrain-mlogloss:0.406693\ttest-mlogloss:0.524116\n",
      "[814]\ttrain-mlogloss:0.406543\ttest-mlogloss:0.524103\n",
      "[815]\ttrain-mlogloss:0.406386\ttest-mlogloss:0.524089\n",
      "[816]\ttrain-mlogloss:0.406215\ttest-mlogloss:0.524081\n",
      "[817]\ttrain-mlogloss:0.406044\ttest-mlogloss:0.524069\n",
      "[818]\ttrain-mlogloss:0.405963\ttest-mlogloss:0.524056\n",
      "[819]\ttrain-mlogloss:0.405834\ttest-mlogloss:0.524063\n",
      "[820]\ttrain-mlogloss:0.405699\ttest-mlogloss:0.524042\n",
      "[821]\ttrain-mlogloss:0.405531\ttest-mlogloss:0.524024\n",
      "[822]\ttrain-mlogloss:0.405349\ttest-mlogloss:0.523996\n",
      "[823]\ttrain-mlogloss:0.40525\ttest-mlogloss:0.523991\n",
      "[824]\ttrain-mlogloss:0.405119\ttest-mlogloss:0.523974\n",
      "[825]\ttrain-mlogloss:0.405\ttest-mlogloss:0.52398\n",
      "[826]\ttrain-mlogloss:0.404844\ttest-mlogloss:0.523973\n",
      "[827]\ttrain-mlogloss:0.404714\ttest-mlogloss:0.52399\n",
      "[828]\ttrain-mlogloss:0.404548\ttest-mlogloss:0.523961\n",
      "[829]\ttrain-mlogloss:0.404392\ttest-mlogloss:0.523922\n",
      "[830]\ttrain-mlogloss:0.404226\ttest-mlogloss:0.523903\n",
      "[831]\ttrain-mlogloss:0.404134\ttest-mlogloss:0.52387\n",
      "[832]\ttrain-mlogloss:0.40401\ttest-mlogloss:0.523852\n",
      "[833]\ttrain-mlogloss:0.403839\ttest-mlogloss:0.523859\n",
      "[834]\ttrain-mlogloss:0.403726\ttest-mlogloss:0.523847\n",
      "[835]\ttrain-mlogloss:0.403574\ttest-mlogloss:0.523815\n",
      "[836]\ttrain-mlogloss:0.403454\ttest-mlogloss:0.523805\n",
      "[837]\ttrain-mlogloss:0.403304\ttest-mlogloss:0.523766\n",
      "[838]\ttrain-mlogloss:0.403159\ttest-mlogloss:0.523723\n",
      "[839]\ttrain-mlogloss:0.403049\ttest-mlogloss:0.523683\n",
      "[840]\ttrain-mlogloss:0.40293\ttest-mlogloss:0.52368\n",
      "[841]\ttrain-mlogloss:0.402825\ttest-mlogloss:0.523681\n",
      "[842]\ttrain-mlogloss:0.402696\ttest-mlogloss:0.523675\n",
      "[843]\ttrain-mlogloss:0.40261\ttest-mlogloss:0.523656\n",
      "[844]\ttrain-mlogloss:0.402491\ttest-mlogloss:0.523647\n",
      "[845]\ttrain-mlogloss:0.402373\ttest-mlogloss:0.523638\n",
      "[846]\ttrain-mlogloss:0.402258\ttest-mlogloss:0.523614\n",
      "[847]\ttrain-mlogloss:0.402131\ttest-mlogloss:0.523612\n",
      "[848]\ttrain-mlogloss:0.401973\ttest-mlogloss:0.523581\n",
      "[849]\ttrain-mlogloss:0.401893\ttest-mlogloss:0.523585\n",
      "[850]\ttrain-mlogloss:0.401768\ttest-mlogloss:0.523552\n",
      "[851]\ttrain-mlogloss:0.401617\ttest-mlogloss:0.523545\n",
      "[852]\ttrain-mlogloss:0.40148\ttest-mlogloss:0.523542\n",
      "[853]\ttrain-mlogloss:0.401347\ttest-mlogloss:0.523535\n",
      "[854]\ttrain-mlogloss:0.401223\ttest-mlogloss:0.523514\n",
      "[855]\ttrain-mlogloss:0.401083\ttest-mlogloss:0.523481\n",
      "[856]\ttrain-mlogloss:0.400985\ttest-mlogloss:0.523457\n",
      "[857]\ttrain-mlogloss:0.400825\ttest-mlogloss:0.523432\n",
      "[858]\ttrain-mlogloss:0.400675\ttest-mlogloss:0.52341\n",
      "[859]\ttrain-mlogloss:0.40058\ttest-mlogloss:0.523391\n",
      "[860]\ttrain-mlogloss:0.400428\ttest-mlogloss:0.523351\n",
      "[861]\ttrain-mlogloss:0.400289\ttest-mlogloss:0.523336\n",
      "[862]\ttrain-mlogloss:0.400151\ttest-mlogloss:0.523322\n",
      "[863]\ttrain-mlogloss:0.400011\ttest-mlogloss:0.523257\n",
      "[864]\ttrain-mlogloss:0.399911\ttest-mlogloss:0.52325\n",
      "[865]\ttrain-mlogloss:0.399791\ttest-mlogloss:0.523192\n",
      "[866]\ttrain-mlogloss:0.399707\ttest-mlogloss:0.523175\n",
      "[867]\ttrain-mlogloss:0.39956\ttest-mlogloss:0.523166\n",
      "[868]\ttrain-mlogloss:0.399448\ttest-mlogloss:0.523185\n",
      "[869]\ttrain-mlogloss:0.399319\ttest-mlogloss:0.523183\n",
      "[870]\ttrain-mlogloss:0.399206\ttest-mlogloss:0.523156\n",
      "[871]\ttrain-mlogloss:0.399042\ttest-mlogloss:0.523147\n",
      "[872]\ttrain-mlogloss:0.398909\ttest-mlogloss:0.523141\n",
      "[873]\ttrain-mlogloss:0.398753\ttest-mlogloss:0.523085\n",
      "[874]\ttrain-mlogloss:0.398605\ttest-mlogloss:0.523079\n",
      "[875]\ttrain-mlogloss:0.398465\ttest-mlogloss:0.523063\n",
      "[876]\ttrain-mlogloss:0.398331\ttest-mlogloss:0.523039\n",
      "[877]\ttrain-mlogloss:0.398167\ttest-mlogloss:0.523023\n",
      "[878]\ttrain-mlogloss:0.398007\ttest-mlogloss:0.523014\n",
      "[879]\ttrain-mlogloss:0.397933\ttest-mlogloss:0.523005\n",
      "[880]\ttrain-mlogloss:0.39776\ttest-mlogloss:0.522989\n",
      "[881]\ttrain-mlogloss:0.397617\ttest-mlogloss:0.522964\n",
      "[882]\ttrain-mlogloss:0.397503\ttest-mlogloss:0.522951\n",
      "[883]\ttrain-mlogloss:0.397392\ttest-mlogloss:0.522944\n",
      "[884]\ttrain-mlogloss:0.397256\ttest-mlogloss:0.522891\n",
      "[885]\ttrain-mlogloss:0.397115\ttest-mlogloss:0.522887\n",
      "[886]\ttrain-mlogloss:0.396997\ttest-mlogloss:0.522865\n",
      "[887]\ttrain-mlogloss:0.396821\ttest-mlogloss:0.522838\n",
      "[888]\ttrain-mlogloss:0.39668\ttest-mlogloss:0.522814\n",
      "[889]\ttrain-mlogloss:0.396561\ttest-mlogloss:0.522763\n",
      "[890]\ttrain-mlogloss:0.39643\ttest-mlogloss:0.522747\n",
      "[891]\ttrain-mlogloss:0.396308\ttest-mlogloss:0.522736\n",
      "[892]\ttrain-mlogloss:0.396185\ttest-mlogloss:0.522726\n",
      "[893]\ttrain-mlogloss:0.396071\ttest-mlogloss:0.522711\n",
      "[894]\ttrain-mlogloss:0.395939\ttest-mlogloss:0.522692\n",
      "[895]\ttrain-mlogloss:0.395809\ttest-mlogloss:0.522662\n",
      "[896]\ttrain-mlogloss:0.39566\ttest-mlogloss:0.522641\n",
      "[897]\ttrain-mlogloss:0.395481\ttest-mlogloss:0.522644\n",
      "[898]\ttrain-mlogloss:0.395406\ttest-mlogloss:0.522625\n",
      "[899]\ttrain-mlogloss:0.395333\ttest-mlogloss:0.522606\n",
      "[900]\ttrain-mlogloss:0.39521\ttest-mlogloss:0.522593\n",
      "[901]\ttrain-mlogloss:0.395087\ttest-mlogloss:0.522586\n",
      "[902]\ttrain-mlogloss:0.394987\ttest-mlogloss:0.522573\n",
      "[903]\ttrain-mlogloss:0.394838\ttest-mlogloss:0.522565\n",
      "[904]\ttrain-mlogloss:0.394744\ttest-mlogloss:0.522563\n",
      "[905]\ttrain-mlogloss:0.39462\ttest-mlogloss:0.522547\n",
      "[906]\ttrain-mlogloss:0.394504\ttest-mlogloss:0.522534\n",
      "[907]\ttrain-mlogloss:0.394405\ttest-mlogloss:0.522525\n",
      "[908]\ttrain-mlogloss:0.394255\ttest-mlogloss:0.522517\n",
      "[909]\ttrain-mlogloss:0.394091\ttest-mlogloss:0.522494\n",
      "[910]\ttrain-mlogloss:0.393981\ttest-mlogloss:0.522492\n",
      "[911]\ttrain-mlogloss:0.393913\ttest-mlogloss:0.522498\n",
      "[912]\ttrain-mlogloss:0.393781\ttest-mlogloss:0.522483\n",
      "[913]\ttrain-mlogloss:0.393716\ttest-mlogloss:0.52248\n",
      "[914]\ttrain-mlogloss:0.393588\ttest-mlogloss:0.522461\n",
      "[915]\ttrain-mlogloss:0.393437\ttest-mlogloss:0.522455\n",
      "[916]\ttrain-mlogloss:0.393286\ttest-mlogloss:0.522442\n",
      "[917]\ttrain-mlogloss:0.393184\ttest-mlogloss:0.522414\n",
      "[918]\ttrain-mlogloss:0.393101\ttest-mlogloss:0.522402\n",
      "[919]\ttrain-mlogloss:0.392965\ttest-mlogloss:0.522379\n",
      "[920]\ttrain-mlogloss:0.392813\ttest-mlogloss:0.522351\n",
      "[921]\ttrain-mlogloss:0.392728\ttest-mlogloss:0.522352\n",
      "[922]\ttrain-mlogloss:0.392646\ttest-mlogloss:0.522337\n",
      "[923]\ttrain-mlogloss:0.392544\ttest-mlogloss:0.522308\n",
      "[924]\ttrain-mlogloss:0.392414\ttest-mlogloss:0.522294\n",
      "[925]\ttrain-mlogloss:0.39225\ttest-mlogloss:0.522268\n",
      "[926]\ttrain-mlogloss:0.392123\ttest-mlogloss:0.522244\n",
      "[927]\ttrain-mlogloss:0.391993\ttest-mlogloss:0.522248\n",
      "[928]\ttrain-mlogloss:0.391904\ttest-mlogloss:0.522252\n",
      "[929]\ttrain-mlogloss:0.391785\ttest-mlogloss:0.522258\n",
      "[930]\ttrain-mlogloss:0.391675\ttest-mlogloss:0.52226\n",
      "[931]\ttrain-mlogloss:0.391514\ttest-mlogloss:0.522244\n",
      "[932]\ttrain-mlogloss:0.391363\ttest-mlogloss:0.522205\n",
      "[933]\ttrain-mlogloss:0.391264\ttest-mlogloss:0.522184\n",
      "[934]\ttrain-mlogloss:0.391086\ttest-mlogloss:0.522179\n",
      "[935]\ttrain-mlogloss:0.390997\ttest-mlogloss:0.522147\n",
      "[936]\ttrain-mlogloss:0.39087\ttest-mlogloss:0.522176\n",
      "[937]\ttrain-mlogloss:0.390729\ttest-mlogloss:0.522156\n",
      "[938]\ttrain-mlogloss:0.390593\ttest-mlogloss:0.522139\n",
      "[939]\ttrain-mlogloss:0.390453\ttest-mlogloss:0.522123\n",
      "[940]\ttrain-mlogloss:0.390322\ttest-mlogloss:0.522134\n",
      "[941]\ttrain-mlogloss:0.390196\ttest-mlogloss:0.5221\n",
      "[942]\ttrain-mlogloss:0.390067\ttest-mlogloss:0.522102\n",
      "[943]\ttrain-mlogloss:0.389981\ttest-mlogloss:0.522087\n",
      "[944]\ttrain-mlogloss:0.389835\ttest-mlogloss:0.522079\n",
      "[945]\ttrain-mlogloss:0.389664\ttest-mlogloss:0.522038\n",
      "[946]\ttrain-mlogloss:0.389572\ttest-mlogloss:0.522028\n",
      "[947]\ttrain-mlogloss:0.389439\ttest-mlogloss:0.522014\n",
      "[948]\ttrain-mlogloss:0.389307\ttest-mlogloss:0.521996\n",
      "[949]\ttrain-mlogloss:0.389189\ttest-mlogloss:0.521981\n",
      "[950]\ttrain-mlogloss:0.389045\ttest-mlogloss:0.521998\n",
      "[951]\ttrain-mlogloss:0.388911\ttest-mlogloss:0.52197\n",
      "[952]\ttrain-mlogloss:0.388769\ttest-mlogloss:0.521943\n",
      "[953]\ttrain-mlogloss:0.388637\ttest-mlogloss:0.521912\n",
      "[954]\ttrain-mlogloss:0.388519\ttest-mlogloss:0.521903\n",
      "[955]\ttrain-mlogloss:0.388399\ttest-mlogloss:0.521911\n",
      "[956]\ttrain-mlogloss:0.388225\ttest-mlogloss:0.521888\n",
      "[957]\ttrain-mlogloss:0.388123\ttest-mlogloss:0.521891\n",
      "[958]\ttrain-mlogloss:0.387995\ttest-mlogloss:0.521861\n",
      "[959]\ttrain-mlogloss:0.387833\ttest-mlogloss:0.521824\n",
      "[960]\ttrain-mlogloss:0.387705\ttest-mlogloss:0.521801\n",
      "[961]\ttrain-mlogloss:0.387559\ttest-mlogloss:0.521771\n",
      "[962]\ttrain-mlogloss:0.387443\ttest-mlogloss:0.521757\n",
      "[963]\ttrain-mlogloss:0.387297\ttest-mlogloss:0.521762\n",
      "[964]\ttrain-mlogloss:0.387131\ttest-mlogloss:0.521749\n",
      "[965]\ttrain-mlogloss:0.387006\ttest-mlogloss:0.521725\n",
      "[966]\ttrain-mlogloss:0.386852\ttest-mlogloss:0.521681\n",
      "[967]\ttrain-mlogloss:0.386743\ttest-mlogloss:0.52166\n",
      "[968]\ttrain-mlogloss:0.386616\ttest-mlogloss:0.521658\n",
      "[969]\ttrain-mlogloss:0.386516\ttest-mlogloss:0.521653\n",
      "[970]\ttrain-mlogloss:0.386388\ttest-mlogloss:0.521642\n",
      "[971]\ttrain-mlogloss:0.386257\ttest-mlogloss:0.521649\n",
      "[972]\ttrain-mlogloss:0.386169\ttest-mlogloss:0.52164\n",
      "[973]\ttrain-mlogloss:0.386049\ttest-mlogloss:0.52162\n",
      "[974]\ttrain-mlogloss:0.385939\ttest-mlogloss:0.521604\n",
      "[975]\ttrain-mlogloss:0.385817\ttest-mlogloss:0.521579\n",
      "[976]\ttrain-mlogloss:0.385722\ttest-mlogloss:0.521575\n",
      "[977]\ttrain-mlogloss:0.385568\ttest-mlogloss:0.521544\n",
      "[978]\ttrain-mlogloss:0.385444\ttest-mlogloss:0.52151\n",
      "[979]\ttrain-mlogloss:0.385352\ttest-mlogloss:0.52149\n",
      "[980]\ttrain-mlogloss:0.385238\ttest-mlogloss:0.521463\n",
      "[981]\ttrain-mlogloss:0.385108\ttest-mlogloss:0.521468\n",
      "[982]\ttrain-mlogloss:0.384928\ttest-mlogloss:0.521451\n",
      "[983]\ttrain-mlogloss:0.384809\ttest-mlogloss:0.521456\n",
      "[984]\ttrain-mlogloss:0.384671\ttest-mlogloss:0.521435\n",
      "[985]\ttrain-mlogloss:0.384534\ttest-mlogloss:0.521419\n",
      "[986]\ttrain-mlogloss:0.384432\ttest-mlogloss:0.521421\n",
      "[987]\ttrain-mlogloss:0.384299\ttest-mlogloss:0.521397\n",
      "[988]\ttrain-mlogloss:0.384225\ttest-mlogloss:0.521383\n",
      "[989]\ttrain-mlogloss:0.384089\ttest-mlogloss:0.521405\n",
      "[990]\ttrain-mlogloss:0.38394\ttest-mlogloss:0.521369\n",
      "[991]\ttrain-mlogloss:0.383778\ttest-mlogloss:0.521328\n",
      "[992]\ttrain-mlogloss:0.383656\ttest-mlogloss:0.521327\n",
      "[993]\ttrain-mlogloss:0.383573\ttest-mlogloss:0.521329\n",
      "[994]\ttrain-mlogloss:0.383449\ttest-mlogloss:0.521313\n",
      "[995]\ttrain-mlogloss:0.383305\ttest-mlogloss:0.521281\n",
      "[996]\ttrain-mlogloss:0.383189\ttest-mlogloss:0.521282\n",
      "[997]\ttrain-mlogloss:0.383095\ttest-mlogloss:0.521284\n",
      "[998]\ttrain-mlogloss:0.382955\ttest-mlogloss:0.521253\n",
      "[999]\ttrain-mlogloss:0.382801\ttest-mlogloss:0.521241\n",
      "[1000]\ttrain-mlogloss:0.382649\ttest-mlogloss:0.521235\n",
      "[1001]\ttrain-mlogloss:0.382571\ttest-mlogloss:0.521219\n",
      "[1002]\ttrain-mlogloss:0.382421\ttest-mlogloss:0.521228\n",
      "[1003]\ttrain-mlogloss:0.382316\ttest-mlogloss:0.521211\n",
      "[1004]\ttrain-mlogloss:0.382218\ttest-mlogloss:0.521188\n",
      "[1005]\ttrain-mlogloss:0.382084\ttest-mlogloss:0.521159\n",
      "[1006]\ttrain-mlogloss:0.381956\ttest-mlogloss:0.52114\n",
      "[1007]\ttrain-mlogloss:0.381849\ttest-mlogloss:0.521137\n",
      "[1008]\ttrain-mlogloss:0.381688\ttest-mlogloss:0.521121\n",
      "[1009]\ttrain-mlogloss:0.381548\ttest-mlogloss:0.521102\n",
      "[1010]\ttrain-mlogloss:0.381439\ttest-mlogloss:0.521079\n",
      "[1011]\ttrain-mlogloss:0.381295\ttest-mlogloss:0.521046\n",
      "[1012]\ttrain-mlogloss:0.381162\ttest-mlogloss:0.521047\n",
      "[1013]\ttrain-mlogloss:0.38103\ttest-mlogloss:0.521022\n",
      "[1014]\ttrain-mlogloss:0.38092\ttest-mlogloss:0.520992\n",
      "[1015]\ttrain-mlogloss:0.380767\ttest-mlogloss:0.520988\n",
      "[1016]\ttrain-mlogloss:0.380645\ttest-mlogloss:0.520989\n",
      "[1017]\ttrain-mlogloss:0.380535\ttest-mlogloss:0.520982\n",
      "[1018]\ttrain-mlogloss:0.380421\ttest-mlogloss:0.520972\n",
      "[1019]\ttrain-mlogloss:0.380322\ttest-mlogloss:0.520956\n",
      "[1020]\ttrain-mlogloss:0.380211\ttest-mlogloss:0.520948\n",
      "[1021]\ttrain-mlogloss:0.380126\ttest-mlogloss:0.520968\n",
      "[1022]\ttrain-mlogloss:0.37997\ttest-mlogloss:0.520943\n",
      "[1023]\ttrain-mlogloss:0.379821\ttest-mlogloss:0.520931\n",
      "[1024]\ttrain-mlogloss:0.379713\ttest-mlogloss:0.520924\n",
      "[1025]\ttrain-mlogloss:0.379616\ttest-mlogloss:0.520917\n",
      "[1026]\ttrain-mlogloss:0.379464\ttest-mlogloss:0.520922\n",
      "[1027]\ttrain-mlogloss:0.37936\ttest-mlogloss:0.520892\n",
      "[1028]\ttrain-mlogloss:0.379225\ttest-mlogloss:0.520887\n",
      "[1029]\ttrain-mlogloss:0.379087\ttest-mlogloss:0.520875\n",
      "[1030]\ttrain-mlogloss:0.378965\ttest-mlogloss:0.520866\n",
      "[1031]\ttrain-mlogloss:0.378821\ttest-mlogloss:0.520856\n",
      "[1032]\ttrain-mlogloss:0.378673\ttest-mlogloss:0.520856\n",
      "[1033]\ttrain-mlogloss:0.378583\ttest-mlogloss:0.520858\n",
      "[1034]\ttrain-mlogloss:0.378461\ttest-mlogloss:0.520826\n",
      "[1035]\ttrain-mlogloss:0.378296\ttest-mlogloss:0.520805\n",
      "[1036]\ttrain-mlogloss:0.378185\ttest-mlogloss:0.520792\n",
      "[1037]\ttrain-mlogloss:0.378052\ttest-mlogloss:0.520769\n",
      "[1038]\ttrain-mlogloss:0.377948\ttest-mlogloss:0.52075\n",
      "[1039]\ttrain-mlogloss:0.377792\ttest-mlogloss:0.52074\n",
      "[1040]\ttrain-mlogloss:0.377662\ttest-mlogloss:0.520732\n",
      "[1041]\ttrain-mlogloss:0.377508\ttest-mlogloss:0.520721\n",
      "[1042]\ttrain-mlogloss:0.377411\ttest-mlogloss:0.52072\n",
      "[1043]\ttrain-mlogloss:0.377292\ttest-mlogloss:0.520669\n",
      "[1044]\ttrain-mlogloss:0.377153\ttest-mlogloss:0.520649\n",
      "[1045]\ttrain-mlogloss:0.377046\ttest-mlogloss:0.520629\n",
      "[1046]\ttrain-mlogloss:0.376921\ttest-mlogloss:0.520611\n",
      "[1047]\ttrain-mlogloss:0.376811\ttest-mlogloss:0.520612\n",
      "[1048]\ttrain-mlogloss:0.376647\ttest-mlogloss:0.520576\n",
      "[1049]\ttrain-mlogloss:0.376543\ttest-mlogloss:0.520547\n",
      "[1050]\ttrain-mlogloss:0.376433\ttest-mlogloss:0.520543\n",
      "[1051]\ttrain-mlogloss:0.376331\ttest-mlogloss:0.520528\n",
      "[1052]\ttrain-mlogloss:0.37623\ttest-mlogloss:0.520509\n",
      "[1053]\ttrain-mlogloss:0.376132\ttest-mlogloss:0.520495\n",
      "[1054]\ttrain-mlogloss:0.376041\ttest-mlogloss:0.520482\n",
      "[1055]\ttrain-mlogloss:0.375946\ttest-mlogloss:0.520504\n",
      "[1056]\ttrain-mlogloss:0.37582\ttest-mlogloss:0.520497\n",
      "[1057]\ttrain-mlogloss:0.375666\ttest-mlogloss:0.520509\n",
      "[1058]\ttrain-mlogloss:0.3755\ttest-mlogloss:0.52049\n",
      "[1059]\ttrain-mlogloss:0.375356\ttest-mlogloss:0.520463\n",
      "[1060]\ttrain-mlogloss:0.375252\ttest-mlogloss:0.52046\n",
      "[1061]\ttrain-mlogloss:0.375153\ttest-mlogloss:0.520445\n",
      "[1062]\ttrain-mlogloss:0.375023\ttest-mlogloss:0.520431\n",
      "[1063]\ttrain-mlogloss:0.374891\ttest-mlogloss:0.520412\n",
      "[1064]\ttrain-mlogloss:0.374745\ttest-mlogloss:0.520396\n",
      "[1065]\ttrain-mlogloss:0.374579\ttest-mlogloss:0.520352\n",
      "[1066]\ttrain-mlogloss:0.374451\ttest-mlogloss:0.520346\n",
      "[1067]\ttrain-mlogloss:0.374344\ttest-mlogloss:0.52031\n",
      "[1068]\ttrain-mlogloss:0.374265\ttest-mlogloss:0.520294\n",
      "[1069]\ttrain-mlogloss:0.37413\ttest-mlogloss:0.520276\n",
      "[1070]\ttrain-mlogloss:0.374025\ttest-mlogloss:0.520252\n",
      "[1071]\ttrain-mlogloss:0.373898\ttest-mlogloss:0.520218\n",
      "[1072]\ttrain-mlogloss:0.373799\ttest-mlogloss:0.520234\n",
      "[1073]\ttrain-mlogloss:0.373665\ttest-mlogloss:0.520233\n",
      "[1074]\ttrain-mlogloss:0.37353\ttest-mlogloss:0.520212\n",
      "[1075]\ttrain-mlogloss:0.373375\ttest-mlogloss:0.520174\n",
      "[1076]\ttrain-mlogloss:0.373245\ttest-mlogloss:0.520177\n",
      "[1077]\ttrain-mlogloss:0.373145\ttest-mlogloss:0.520155\n",
      "[1078]\ttrain-mlogloss:0.373026\ttest-mlogloss:0.520145\n",
      "[1079]\ttrain-mlogloss:0.372848\ttest-mlogloss:0.520102\n",
      "[1080]\ttrain-mlogloss:0.372717\ttest-mlogloss:0.520072\n",
      "[1081]\ttrain-mlogloss:0.372613\ttest-mlogloss:0.520063\n",
      "[1082]\ttrain-mlogloss:0.372486\ttest-mlogloss:0.52006\n",
      "[1083]\ttrain-mlogloss:0.372426\ttest-mlogloss:0.520071\n",
      "[1084]\ttrain-mlogloss:0.372309\ttest-mlogloss:0.520042\n",
      "[1085]\ttrain-mlogloss:0.372174\ttest-mlogloss:0.520043\n",
      "[1086]\ttrain-mlogloss:0.372045\ttest-mlogloss:0.52001\n",
      "[1087]\ttrain-mlogloss:0.371956\ttest-mlogloss:0.520002\n",
      "[1088]\ttrain-mlogloss:0.371838\ttest-mlogloss:0.519973\n",
      "[1089]\ttrain-mlogloss:0.371713\ttest-mlogloss:0.519969\n",
      "[1090]\ttrain-mlogloss:0.371589\ttest-mlogloss:0.519957\n",
      "[1091]\ttrain-mlogloss:0.371469\ttest-mlogloss:0.519928\n",
      "[1092]\ttrain-mlogloss:0.371364\ttest-mlogloss:0.519914\n",
      "[1093]\ttrain-mlogloss:0.371249\ttest-mlogloss:0.519912\n",
      "[1094]\ttrain-mlogloss:0.371097\ttest-mlogloss:0.519881\n",
      "[1095]\ttrain-mlogloss:0.370963\ttest-mlogloss:0.519887\n",
      "[1096]\ttrain-mlogloss:0.370865\ttest-mlogloss:0.519884\n",
      "[1097]\ttrain-mlogloss:0.370738\ttest-mlogloss:0.519846\n",
      "[1098]\ttrain-mlogloss:0.370615\ttest-mlogloss:0.519862\n",
      "[1099]\ttrain-mlogloss:0.370483\ttest-mlogloss:0.519864\n",
      "[1100]\ttrain-mlogloss:0.370335\ttest-mlogloss:0.519871\n",
      "[1101]\ttrain-mlogloss:0.370241\ttest-mlogloss:0.519876\n",
      "[1102]\ttrain-mlogloss:0.370161\ttest-mlogloss:0.519856\n",
      "[1103]\ttrain-mlogloss:0.370075\ttest-mlogloss:0.519844\n",
      "[1104]\ttrain-mlogloss:0.369961\ttest-mlogloss:0.519848\n",
      "[1105]\ttrain-mlogloss:0.369856\ttest-mlogloss:0.51985\n",
      "[1106]\ttrain-mlogloss:0.369746\ttest-mlogloss:0.519858\n",
      "[1107]\ttrain-mlogloss:0.369605\ttest-mlogloss:0.519862\n",
      "[1108]\ttrain-mlogloss:0.369467\ttest-mlogloss:0.519829\n",
      "[1109]\ttrain-mlogloss:0.369357\ttest-mlogloss:0.519824\n",
      "[1110]\ttrain-mlogloss:0.369229\ttest-mlogloss:0.5198\n",
      "[1111]\ttrain-mlogloss:0.369147\ttest-mlogloss:0.519802\n",
      "[1112]\ttrain-mlogloss:0.369044\ttest-mlogloss:0.519798\n",
      "[1113]\ttrain-mlogloss:0.368961\ttest-mlogloss:0.519775\n",
      "[1114]\ttrain-mlogloss:0.368853\ttest-mlogloss:0.519765\n",
      "[1115]\ttrain-mlogloss:0.368712\ttest-mlogloss:0.519735\n",
      "[1116]\ttrain-mlogloss:0.36863\ttest-mlogloss:0.519728\n",
      "[1117]\ttrain-mlogloss:0.368516\ttest-mlogloss:0.51971\n",
      "[1118]\ttrain-mlogloss:0.368444\ttest-mlogloss:0.519684\n",
      "[1119]\ttrain-mlogloss:0.368302\ttest-mlogloss:0.51967\n",
      "[1120]\ttrain-mlogloss:0.368166\ttest-mlogloss:0.519685\n",
      "[1121]\ttrain-mlogloss:0.368052\ttest-mlogloss:0.519669\n",
      "[1122]\ttrain-mlogloss:0.367966\ttest-mlogloss:0.51967\n",
      "[1123]\ttrain-mlogloss:0.367839\ttest-mlogloss:0.519656\n",
      "[1124]\ttrain-mlogloss:0.367771\ttest-mlogloss:0.519628\n",
      "[1125]\ttrain-mlogloss:0.367657\ttest-mlogloss:0.51962\n",
      "[1126]\ttrain-mlogloss:0.367547\ttest-mlogloss:0.519594\n",
      "[1127]\ttrain-mlogloss:0.367397\ttest-mlogloss:0.519579\n",
      "[1128]\ttrain-mlogloss:0.367281\ttest-mlogloss:0.519569\n",
      "[1129]\ttrain-mlogloss:0.367125\ttest-mlogloss:0.519532\n",
      "[1130]\ttrain-mlogloss:0.367014\ttest-mlogloss:0.51954\n",
      "[1131]\ttrain-mlogloss:0.366907\ttest-mlogloss:0.519516\n",
      "[1132]\ttrain-mlogloss:0.366803\ttest-mlogloss:0.519527\n",
      "[1133]\ttrain-mlogloss:0.36671\ttest-mlogloss:0.519518\n",
      "[1134]\ttrain-mlogloss:0.36659\ttest-mlogloss:0.519505\n",
      "[1135]\ttrain-mlogloss:0.366476\ttest-mlogloss:0.519488\n",
      "[1136]\ttrain-mlogloss:0.366353\ttest-mlogloss:0.519472\n",
      "[1137]\ttrain-mlogloss:0.366221\ttest-mlogloss:0.519461\n",
      "[1138]\ttrain-mlogloss:0.366085\ttest-mlogloss:0.519474\n",
      "[1139]\ttrain-mlogloss:0.365955\ttest-mlogloss:0.519465\n",
      "[1140]\ttrain-mlogloss:0.365858\ttest-mlogloss:0.519452\n",
      "[1141]\ttrain-mlogloss:0.365783\ttest-mlogloss:0.519449\n",
      "[1142]\ttrain-mlogloss:0.365715\ttest-mlogloss:0.519446\n",
      "[1143]\ttrain-mlogloss:0.365608\ttest-mlogloss:0.519434\n",
      "[1144]\ttrain-mlogloss:0.365485\ttest-mlogloss:0.519416\n",
      "[1145]\ttrain-mlogloss:0.365414\ttest-mlogloss:0.519415\n",
      "[1146]\ttrain-mlogloss:0.365302\ttest-mlogloss:0.519405\n",
      "[1147]\ttrain-mlogloss:0.36521\ttest-mlogloss:0.519398\n",
      "[1148]\ttrain-mlogloss:0.365096\ttest-mlogloss:0.519406\n",
      "[1149]\ttrain-mlogloss:0.364994\ttest-mlogloss:0.519416\n",
      "[1150]\ttrain-mlogloss:0.364886\ttest-mlogloss:0.519417\n",
      "[1151]\ttrain-mlogloss:0.364766\ttest-mlogloss:0.519421\n",
      "[1152]\ttrain-mlogloss:0.364621\ttest-mlogloss:0.51941\n",
      "[1153]\ttrain-mlogloss:0.364488\ttest-mlogloss:0.519418\n",
      "[1154]\ttrain-mlogloss:0.364368\ttest-mlogloss:0.5194\n",
      "[1155]\ttrain-mlogloss:0.364238\ttest-mlogloss:0.519409\n",
      "[1156]\ttrain-mlogloss:0.36414\ttest-mlogloss:0.519403\n",
      "[1157]\ttrain-mlogloss:0.364095\ttest-mlogloss:0.519397\n",
      "[1158]\ttrain-mlogloss:0.363995\ttest-mlogloss:0.51939\n",
      "[1159]\ttrain-mlogloss:0.363873\ttest-mlogloss:0.519367\n",
      "[1160]\ttrain-mlogloss:0.363738\ttest-mlogloss:0.519356\n",
      "[1161]\ttrain-mlogloss:0.363605\ttest-mlogloss:0.519317\n",
      "[1162]\ttrain-mlogloss:0.363527\ttest-mlogloss:0.519298\n",
      "[1163]\ttrain-mlogloss:0.363392\ttest-mlogloss:0.519284\n",
      "[1164]\ttrain-mlogloss:0.363261\ttest-mlogloss:0.519285\n",
      "[1165]\ttrain-mlogloss:0.363178\ttest-mlogloss:0.519309\n",
      "[1166]\ttrain-mlogloss:0.363084\ttest-mlogloss:0.519283\n",
      "[1167]\ttrain-mlogloss:0.362949\ttest-mlogloss:0.51925\n",
      "[1168]\ttrain-mlogloss:0.362836\ttest-mlogloss:0.519256\n",
      "[1169]\ttrain-mlogloss:0.362786\ttest-mlogloss:0.519255\n",
      "[1170]\ttrain-mlogloss:0.362665\ttest-mlogloss:0.519252\n",
      "[1171]\ttrain-mlogloss:0.36254\ttest-mlogloss:0.519252\n",
      "[1172]\ttrain-mlogloss:0.362424\ttest-mlogloss:0.519212\n",
      "[1173]\ttrain-mlogloss:0.36233\ttest-mlogloss:0.519196\n",
      "[1174]\ttrain-mlogloss:0.362177\ttest-mlogloss:0.519202\n",
      "[1175]\ttrain-mlogloss:0.362032\ttest-mlogloss:0.519209\n",
      "[1176]\ttrain-mlogloss:0.361929\ttest-mlogloss:0.519191\n",
      "[1177]\ttrain-mlogloss:0.361811\ttest-mlogloss:0.519193\n",
      "[1178]\ttrain-mlogloss:0.361742\ttest-mlogloss:0.519179\n",
      "[1179]\ttrain-mlogloss:0.361646\ttest-mlogloss:0.519175\n",
      "[1180]\ttrain-mlogloss:0.361518\ttest-mlogloss:0.519154\n",
      "[1181]\ttrain-mlogloss:0.361399\ttest-mlogloss:0.519157\n",
      "[1182]\ttrain-mlogloss:0.361306\ttest-mlogloss:0.519138\n",
      "[1183]\ttrain-mlogloss:0.361241\ttest-mlogloss:0.51913\n",
      "[1184]\ttrain-mlogloss:0.361105\ttest-mlogloss:0.519078\n",
      "[1185]\ttrain-mlogloss:0.360973\ttest-mlogloss:0.519076\n",
      "[1186]\ttrain-mlogloss:0.360873\ttest-mlogloss:0.519074\n",
      "[1187]\ttrain-mlogloss:0.360715\ttest-mlogloss:0.519098\n",
      "[1188]\ttrain-mlogloss:0.360591\ttest-mlogloss:0.519071\n",
      "[1189]\ttrain-mlogloss:0.360515\ttest-mlogloss:0.519057\n",
      "[1190]\ttrain-mlogloss:0.360388\ttest-mlogloss:0.519035\n",
      "[1191]\ttrain-mlogloss:0.360264\ttest-mlogloss:0.519029\n",
      "[1192]\ttrain-mlogloss:0.360139\ttest-mlogloss:0.519016\n",
      "[1193]\ttrain-mlogloss:0.360035\ttest-mlogloss:0.519019\n",
      "[1194]\ttrain-mlogloss:0.359921\ttest-mlogloss:0.519017\n",
      "[1195]\ttrain-mlogloss:0.359807\ttest-mlogloss:0.519011\n",
      "[1196]\ttrain-mlogloss:0.359688\ttest-mlogloss:0.518999\n",
      "[1197]\ttrain-mlogloss:0.359574\ttest-mlogloss:0.518961\n",
      "[1198]\ttrain-mlogloss:0.359424\ttest-mlogloss:0.518939\n",
      "[1199]\ttrain-mlogloss:0.35928\ttest-mlogloss:0.51893\n",
      "[1200]\ttrain-mlogloss:0.359162\ttest-mlogloss:0.518929\n",
      "[1201]\ttrain-mlogloss:0.359057\ttest-mlogloss:0.518917\n",
      "[1202]\ttrain-mlogloss:0.358986\ttest-mlogloss:0.51891\n",
      "[1203]\ttrain-mlogloss:0.358904\ttest-mlogloss:0.518906\n",
      "[1204]\ttrain-mlogloss:0.358768\ttest-mlogloss:0.51888\n",
      "[1205]\ttrain-mlogloss:0.358662\ttest-mlogloss:0.518884\n",
      "[1206]\ttrain-mlogloss:0.358534\ttest-mlogloss:0.518882\n",
      "[1207]\ttrain-mlogloss:0.358413\ttest-mlogloss:0.518858\n",
      "[1208]\ttrain-mlogloss:0.35832\ttest-mlogloss:0.518825\n",
      "[1209]\ttrain-mlogloss:0.358186\ttest-mlogloss:0.518792\n",
      "[1210]\ttrain-mlogloss:0.358075\ttest-mlogloss:0.518771\n",
      "[1211]\ttrain-mlogloss:0.358008\ttest-mlogloss:0.518778\n",
      "[1212]\ttrain-mlogloss:0.357918\ttest-mlogloss:0.518753\n",
      "[1213]\ttrain-mlogloss:0.357814\ttest-mlogloss:0.518762\n",
      "[1214]\ttrain-mlogloss:0.357723\ttest-mlogloss:0.518746\n",
      "[1215]\ttrain-mlogloss:0.357586\ttest-mlogloss:0.518732\n",
      "[1216]\ttrain-mlogloss:0.357453\ttest-mlogloss:0.518726\n",
      "[1217]\ttrain-mlogloss:0.357359\ttest-mlogloss:0.518706\n",
      "[1218]\ttrain-mlogloss:0.357245\ttest-mlogloss:0.518714\n",
      "[1219]\ttrain-mlogloss:0.357124\ttest-mlogloss:0.518716\n",
      "[1220]\ttrain-mlogloss:0.35703\ttest-mlogloss:0.518713\n",
      "[1221]\ttrain-mlogloss:0.356892\ttest-mlogloss:0.518732\n",
      "[1222]\ttrain-mlogloss:0.356786\ttest-mlogloss:0.518725\n",
      "[1223]\ttrain-mlogloss:0.356682\ttest-mlogloss:0.518707\n",
      "[1224]\ttrain-mlogloss:0.356579\ttest-mlogloss:0.518694\n",
      "[1225]\ttrain-mlogloss:0.356441\ttest-mlogloss:0.518708\n",
      "[1226]\ttrain-mlogloss:0.356351\ttest-mlogloss:0.518698\n",
      "[1227]\ttrain-mlogloss:0.35629\ttest-mlogloss:0.518688\n",
      "[1228]\ttrain-mlogloss:0.356166\ttest-mlogloss:0.518666\n",
      "[1229]\ttrain-mlogloss:0.356049\ttest-mlogloss:0.518663\n",
      "[1230]\ttrain-mlogloss:0.355931\ttest-mlogloss:0.518643\n",
      "[1231]\ttrain-mlogloss:0.355832\ttest-mlogloss:0.518636\n",
      "[1232]\ttrain-mlogloss:0.355688\ttest-mlogloss:0.518626\n",
      "[1233]\ttrain-mlogloss:0.355604\ttest-mlogloss:0.518613\n",
      "[1234]\ttrain-mlogloss:0.355492\ttest-mlogloss:0.518609\n",
      "[1235]\ttrain-mlogloss:0.355378\ttest-mlogloss:0.518619\n",
      "[1236]\ttrain-mlogloss:0.355325\ttest-mlogloss:0.518608\n",
      "[1237]\ttrain-mlogloss:0.355206\ttest-mlogloss:0.518589\n",
      "[1238]\ttrain-mlogloss:0.355086\ttest-mlogloss:0.518567\n",
      "[1239]\ttrain-mlogloss:0.355017\ttest-mlogloss:0.518556\n",
      "[1240]\ttrain-mlogloss:0.354895\ttest-mlogloss:0.518559\n",
      "[1241]\ttrain-mlogloss:0.354771\ttest-mlogloss:0.518538\n",
      "[1242]\ttrain-mlogloss:0.354649\ttest-mlogloss:0.518524\n",
      "[1243]\ttrain-mlogloss:0.354555\ttest-mlogloss:0.518528\n",
      "[1244]\ttrain-mlogloss:0.354463\ttest-mlogloss:0.518532\n",
      "[1245]\ttrain-mlogloss:0.354361\ttest-mlogloss:0.518519\n",
      "[1246]\ttrain-mlogloss:0.354272\ttest-mlogloss:0.51853\n",
      "[1247]\ttrain-mlogloss:0.354179\ttest-mlogloss:0.518523\n",
      "[1248]\ttrain-mlogloss:0.354056\ttest-mlogloss:0.518505\n",
      "[1249]\ttrain-mlogloss:0.353949\ttest-mlogloss:0.518507\n",
      "[1250]\ttrain-mlogloss:0.353837\ttest-mlogloss:0.518489\n",
      "[1251]\ttrain-mlogloss:0.353728\ttest-mlogloss:0.518465\n",
      "[1252]\ttrain-mlogloss:0.353653\ttest-mlogloss:0.518451\n",
      "[1253]\ttrain-mlogloss:0.353557\ttest-mlogloss:0.518432\n",
      "[1254]\ttrain-mlogloss:0.35344\ttest-mlogloss:0.51842\n",
      "[1255]\ttrain-mlogloss:0.3533\ttest-mlogloss:0.518427\n",
      "[1256]\ttrain-mlogloss:0.353195\ttest-mlogloss:0.518402\n",
      "[1257]\ttrain-mlogloss:0.353074\ttest-mlogloss:0.518405\n",
      "[1258]\ttrain-mlogloss:0.352951\ttest-mlogloss:0.518417\n",
      "[1259]\ttrain-mlogloss:0.352809\ttest-mlogloss:0.518408\n",
      "[1260]\ttrain-mlogloss:0.352671\ttest-mlogloss:0.51838\n",
      "[1261]\ttrain-mlogloss:0.352578\ttest-mlogloss:0.518385\n",
      "[1262]\ttrain-mlogloss:0.352478\ttest-mlogloss:0.518362\n",
      "[1263]\ttrain-mlogloss:0.352376\ttest-mlogloss:0.518347\n",
      "[1264]\ttrain-mlogloss:0.352265\ttest-mlogloss:0.518353\n",
      "[1265]\ttrain-mlogloss:0.352138\ttest-mlogloss:0.518335\n",
      "[1266]\ttrain-mlogloss:0.352046\ttest-mlogloss:0.518313\n",
      "[1267]\ttrain-mlogloss:0.351938\ttest-mlogloss:0.518317\n",
      "[1268]\ttrain-mlogloss:0.351791\ttest-mlogloss:0.518295\n",
      "[1269]\ttrain-mlogloss:0.35166\ttest-mlogloss:0.518297\n",
      "[1270]\ttrain-mlogloss:0.351528\ttest-mlogloss:0.51828\n",
      "[1271]\ttrain-mlogloss:0.351442\ttest-mlogloss:0.518274\n",
      "[1272]\ttrain-mlogloss:0.351316\ttest-mlogloss:0.518247\n",
      "[1273]\ttrain-mlogloss:0.351215\ttest-mlogloss:0.518247\n",
      "[1274]\ttrain-mlogloss:0.351121\ttest-mlogloss:0.518245\n",
      "[1275]\ttrain-mlogloss:0.35103\ttest-mlogloss:0.518235\n",
      "[1276]\ttrain-mlogloss:0.350907\ttest-mlogloss:0.518248\n",
      "[1277]\ttrain-mlogloss:0.350785\ttest-mlogloss:0.518238\n",
      "[1278]\ttrain-mlogloss:0.350644\ttest-mlogloss:0.518233\n",
      "[1279]\ttrain-mlogloss:0.350517\ttest-mlogloss:0.518215\n",
      "[1280]\ttrain-mlogloss:0.350421\ttest-mlogloss:0.518185\n",
      "[1281]\ttrain-mlogloss:0.35032\ttest-mlogloss:0.518173\n",
      "[1282]\ttrain-mlogloss:0.350199\ttest-mlogloss:0.518155\n",
      "[1283]\ttrain-mlogloss:0.350091\ttest-mlogloss:0.518139\n",
      "[1284]\ttrain-mlogloss:0.34997\ttest-mlogloss:0.518118\n",
      "[1285]\ttrain-mlogloss:0.349877\ttest-mlogloss:0.51811\n",
      "[1286]\ttrain-mlogloss:0.349764\ttest-mlogloss:0.518087\n",
      "[1287]\ttrain-mlogloss:0.349664\ttest-mlogloss:0.518087\n",
      "[1288]\ttrain-mlogloss:0.349538\ttest-mlogloss:0.518063\n",
      "[1289]\ttrain-mlogloss:0.349401\ttest-mlogloss:0.518043\n",
      "[1290]\ttrain-mlogloss:0.349281\ttest-mlogloss:0.518061\n",
      "[1291]\ttrain-mlogloss:0.349174\ttest-mlogloss:0.518067\n",
      "[1292]\ttrain-mlogloss:0.349084\ttest-mlogloss:0.518044\n",
      "[1293]\ttrain-mlogloss:0.348992\ttest-mlogloss:0.517997\n",
      "[1294]\ttrain-mlogloss:0.348912\ttest-mlogloss:0.518\n",
      "[1295]\ttrain-mlogloss:0.348787\ttest-mlogloss:0.517967\n",
      "[1296]\ttrain-mlogloss:0.348664\ttest-mlogloss:0.517964\n",
      "[1297]\ttrain-mlogloss:0.348552\ttest-mlogloss:0.517975\n",
      "[1298]\ttrain-mlogloss:0.348423\ttest-mlogloss:0.517987\n",
      "[1299]\ttrain-mlogloss:0.34827\ttest-mlogloss:0.517984\n",
      "[1300]\ttrain-mlogloss:0.348146\ttest-mlogloss:0.517967\n",
      "[1301]\ttrain-mlogloss:0.348073\ttest-mlogloss:0.517965\n",
      "[1302]\ttrain-mlogloss:0.347959\ttest-mlogloss:0.517946\n",
      "[1303]\ttrain-mlogloss:0.347911\ttest-mlogloss:0.517962\n",
      "[1304]\ttrain-mlogloss:0.347777\ttest-mlogloss:0.517944\n",
      "[1305]\ttrain-mlogloss:0.347672\ttest-mlogloss:0.517936\n",
      "[1306]\ttrain-mlogloss:0.347568\ttest-mlogloss:0.517928\n",
      "[1307]\ttrain-mlogloss:0.347447\ttest-mlogloss:0.517922\n",
      "[1308]\ttrain-mlogloss:0.347367\ttest-mlogloss:0.517911\n",
      "[1309]\ttrain-mlogloss:0.347267\ttest-mlogloss:0.517915\n",
      "[1310]\ttrain-mlogloss:0.347135\ttest-mlogloss:0.517906\n",
      "[1311]\ttrain-mlogloss:0.347033\ttest-mlogloss:0.517896\n",
      "[1312]\ttrain-mlogloss:0.346888\ttest-mlogloss:0.517878\n",
      "[1313]\ttrain-mlogloss:0.346747\ttest-mlogloss:0.517851\n",
      "[1314]\ttrain-mlogloss:0.346631\ttest-mlogloss:0.517842\n",
      "[1315]\ttrain-mlogloss:0.346535\ttest-mlogloss:0.517848\n",
      "[1316]\ttrain-mlogloss:0.346448\ttest-mlogloss:0.517845\n",
      "[1317]\ttrain-mlogloss:0.346337\ttest-mlogloss:0.517849\n",
      "[1318]\ttrain-mlogloss:0.346274\ttest-mlogloss:0.517834\n",
      "[1319]\ttrain-mlogloss:0.346184\ttest-mlogloss:0.51781\n",
      "[1320]\ttrain-mlogloss:0.34613\ttest-mlogloss:0.517813\n",
      "[1321]\ttrain-mlogloss:0.346006\ttest-mlogloss:0.517794\n",
      "[1322]\ttrain-mlogloss:0.345905\ttest-mlogloss:0.51778\n",
      "[1323]\ttrain-mlogloss:0.345817\ttest-mlogloss:0.517778\n",
      "[1324]\ttrain-mlogloss:0.345695\ttest-mlogloss:0.517778\n",
      "[1325]\ttrain-mlogloss:0.345572\ttest-mlogloss:0.517745\n",
      "[1326]\ttrain-mlogloss:0.345483\ttest-mlogloss:0.517759\n",
      "[1327]\ttrain-mlogloss:0.345362\ttest-mlogloss:0.517746\n",
      "[1328]\ttrain-mlogloss:0.345268\ttest-mlogloss:0.517743\n",
      "[1329]\ttrain-mlogloss:0.345197\ttest-mlogloss:0.517735\n",
      "[1330]\ttrain-mlogloss:0.345048\ttest-mlogloss:0.517717\n",
      "[1331]\ttrain-mlogloss:0.344973\ttest-mlogloss:0.517711\n",
      "[1332]\ttrain-mlogloss:0.34491\ttest-mlogloss:0.51771\n",
      "[1333]\ttrain-mlogloss:0.344796\ttest-mlogloss:0.517697\n",
      "[1334]\ttrain-mlogloss:0.344665\ttest-mlogloss:0.517692\n",
      "[1335]\ttrain-mlogloss:0.344546\ttest-mlogloss:0.517677\n",
      "[1336]\ttrain-mlogloss:0.344455\ttest-mlogloss:0.517676\n",
      "[1337]\ttrain-mlogloss:0.344345\ttest-mlogloss:0.517666\n",
      "[1338]\ttrain-mlogloss:0.344244\ttest-mlogloss:0.517677\n",
      "[1339]\ttrain-mlogloss:0.34411\ttest-mlogloss:0.51765\n",
      "[1340]\ttrain-mlogloss:0.344036\ttest-mlogloss:0.517641\n",
      "[1341]\ttrain-mlogloss:0.343911\ttest-mlogloss:0.517612\n",
      "[1342]\ttrain-mlogloss:0.343797\ttest-mlogloss:0.517616\n",
      "[1343]\ttrain-mlogloss:0.343653\ttest-mlogloss:0.517623\n",
      "[1344]\ttrain-mlogloss:0.34351\ttest-mlogloss:0.51761\n",
      "[1345]\ttrain-mlogloss:0.34337\ttest-mlogloss:0.517604\n",
      "[1346]\ttrain-mlogloss:0.34326\ttest-mlogloss:0.517599\n",
      "[1347]\ttrain-mlogloss:0.34313\ttest-mlogloss:0.517585\n",
      "[1348]\ttrain-mlogloss:0.343044\ttest-mlogloss:0.517582\n",
      "[1349]\ttrain-mlogloss:0.342951\ttest-mlogloss:0.517594\n",
      "[1350]\ttrain-mlogloss:0.34283\ttest-mlogloss:0.517572\n",
      "[1351]\ttrain-mlogloss:0.342734\ttest-mlogloss:0.517572\n",
      "[1352]\ttrain-mlogloss:0.342643\ttest-mlogloss:0.517555\n",
      "[1353]\ttrain-mlogloss:0.34258\ttest-mlogloss:0.517544\n",
      "[1354]\ttrain-mlogloss:0.342493\ttest-mlogloss:0.517545\n",
      "[1355]\ttrain-mlogloss:0.342376\ttest-mlogloss:0.517528\n",
      "[1356]\ttrain-mlogloss:0.342281\ttest-mlogloss:0.517502\n",
      "[1357]\ttrain-mlogloss:0.342167\ttest-mlogloss:0.517507\n",
      "[1358]\ttrain-mlogloss:0.342046\ttest-mlogloss:0.517502\n",
      "[1359]\ttrain-mlogloss:0.341964\ttest-mlogloss:0.517513\n",
      "[1360]\ttrain-mlogloss:0.34186\ttest-mlogloss:0.51748\n",
      "[1361]\ttrain-mlogloss:0.341761\ttest-mlogloss:0.517463\n",
      "[1362]\ttrain-mlogloss:0.341639\ttest-mlogloss:0.517473\n",
      "[1363]\ttrain-mlogloss:0.341529\ttest-mlogloss:0.51747\n",
      "[1364]\ttrain-mlogloss:0.341429\ttest-mlogloss:0.517475\n",
      "[1365]\ttrain-mlogloss:0.341334\ttest-mlogloss:0.517457\n",
      "[1366]\ttrain-mlogloss:0.341223\ttest-mlogloss:0.51744\n",
      "[1367]\ttrain-mlogloss:0.341084\ttest-mlogloss:0.517416\n",
      "[1368]\ttrain-mlogloss:0.340994\ttest-mlogloss:0.517415\n",
      "[1369]\ttrain-mlogloss:0.340878\ttest-mlogloss:0.517415\n",
      "[1370]\ttrain-mlogloss:0.340772\ttest-mlogloss:0.517412\n",
      "[1371]\ttrain-mlogloss:0.340715\ttest-mlogloss:0.517412\n",
      "[1372]\ttrain-mlogloss:0.3406\ttest-mlogloss:0.517401\n",
      "[1373]\ttrain-mlogloss:0.340482\ttest-mlogloss:0.51739\n",
      "[1374]\ttrain-mlogloss:0.340408\ttest-mlogloss:0.517396\n",
      "[1375]\ttrain-mlogloss:0.340297\ttest-mlogloss:0.51739\n",
      "[1376]\ttrain-mlogloss:0.340151\ttest-mlogloss:0.51739\n",
      "[1377]\ttrain-mlogloss:0.340057\ttest-mlogloss:0.517366\n",
      "[1378]\ttrain-mlogloss:0.339949\ttest-mlogloss:0.517343\n",
      "[1379]\ttrain-mlogloss:0.339846\ttest-mlogloss:0.517332\n",
      "[1380]\ttrain-mlogloss:0.339733\ttest-mlogloss:0.517323\n",
      "[1381]\ttrain-mlogloss:0.339611\ttest-mlogloss:0.517301\n",
      "[1382]\ttrain-mlogloss:0.339496\ttest-mlogloss:0.517308\n",
      "[1383]\ttrain-mlogloss:0.339377\ttest-mlogloss:0.517321\n",
      "[1384]\ttrain-mlogloss:0.339271\ttest-mlogloss:0.517329\n",
      "[1385]\ttrain-mlogloss:0.339132\ttest-mlogloss:0.517276\n",
      "[1386]\ttrain-mlogloss:0.339038\ttest-mlogloss:0.517253\n",
      "[1387]\ttrain-mlogloss:0.338942\ttest-mlogloss:0.517249\n",
      "[1388]\ttrain-mlogloss:0.338837\ttest-mlogloss:0.517244\n",
      "[1389]\ttrain-mlogloss:0.338754\ttest-mlogloss:0.517265\n",
      "[1390]\ttrain-mlogloss:0.338669\ttest-mlogloss:0.517263\n",
      "[1391]\ttrain-mlogloss:0.338555\ttest-mlogloss:0.517262\n",
      "[1392]\ttrain-mlogloss:0.338451\ttest-mlogloss:0.517249\n",
      "[1393]\ttrain-mlogloss:0.338345\ttest-mlogloss:0.517253\n",
      "[1394]\ttrain-mlogloss:0.338214\ttest-mlogloss:0.517239\n",
      "[1395]\ttrain-mlogloss:0.338111\ttest-mlogloss:0.517231\n",
      "[1396]\ttrain-mlogloss:0.337995\ttest-mlogloss:0.517239\n",
      "[1397]\ttrain-mlogloss:0.337893\ttest-mlogloss:0.517236\n",
      "[1398]\ttrain-mlogloss:0.337798\ttest-mlogloss:0.517244\n",
      "[1399]\ttrain-mlogloss:0.337675\ttest-mlogloss:0.517256\n",
      "[1400]\ttrain-mlogloss:0.337612\ttest-mlogloss:0.517241\n",
      "[1401]\ttrain-mlogloss:0.337524\ttest-mlogloss:0.517247\n",
      "[1402]\ttrain-mlogloss:0.337408\ttest-mlogloss:0.517264\n",
      "[1403]\ttrain-mlogloss:0.337308\ttest-mlogloss:0.517264\n",
      "[1404]\ttrain-mlogloss:0.337196\ttest-mlogloss:0.517252\n",
      "[1405]\ttrain-mlogloss:0.337084\ttest-mlogloss:0.517252\n",
      "[1406]\ttrain-mlogloss:0.336994\ttest-mlogloss:0.51724\n",
      "[1407]\ttrain-mlogloss:0.336893\ttest-mlogloss:0.517212\n",
      "[1408]\ttrain-mlogloss:0.336774\ttest-mlogloss:0.51721\n",
      "[1409]\ttrain-mlogloss:0.336679\ttest-mlogloss:0.517194\n",
      "[1410]\ttrain-mlogloss:0.336556\ttest-mlogloss:0.517187\n",
      "[1411]\ttrain-mlogloss:0.336449\ttest-mlogloss:0.517195\n",
      "[1412]\ttrain-mlogloss:0.33634\ttest-mlogloss:0.51719\n",
      "[1413]\ttrain-mlogloss:0.336224\ttest-mlogloss:0.517159\n",
      "[1414]\ttrain-mlogloss:0.336163\ttest-mlogloss:0.517164\n",
      "[1415]\ttrain-mlogloss:0.336068\ttest-mlogloss:0.517157\n",
      "[1416]\ttrain-mlogloss:0.335953\ttest-mlogloss:0.51716\n",
      "[1417]\ttrain-mlogloss:0.335833\ttest-mlogloss:0.517157\n",
      "[1418]\ttrain-mlogloss:0.335712\ttest-mlogloss:0.517181\n",
      "[1419]\ttrain-mlogloss:0.335599\ttest-mlogloss:0.517184\n",
      "[1420]\ttrain-mlogloss:0.335487\ttest-mlogloss:0.517191\n",
      "[1421]\ttrain-mlogloss:0.335388\ttest-mlogloss:0.517188\n",
      "[1422]\ttrain-mlogloss:0.335297\ttest-mlogloss:0.517188\n",
      "[1423]\ttrain-mlogloss:0.335181\ttest-mlogloss:0.51717\n",
      "[1424]\ttrain-mlogloss:0.33508\ttest-mlogloss:0.517149\n",
      "[1425]\ttrain-mlogloss:0.334947\ttest-mlogloss:0.517139\n",
      "[1426]\ttrain-mlogloss:0.334859\ttest-mlogloss:0.51714\n",
      "[1427]\ttrain-mlogloss:0.334737\ttest-mlogloss:0.517148\n",
      "[1428]\ttrain-mlogloss:0.334663\ttest-mlogloss:0.517145\n",
      "[1429]\ttrain-mlogloss:0.334587\ttest-mlogloss:0.517141\n",
      "[1430]\ttrain-mlogloss:0.334493\ttest-mlogloss:0.51712\n",
      "[1431]\ttrain-mlogloss:0.33441\ttest-mlogloss:0.517123\n",
      "[1432]\ttrain-mlogloss:0.334304\ttest-mlogloss:0.517127\n",
      "[1433]\ttrain-mlogloss:0.334213\ttest-mlogloss:0.517115\n",
      "[1434]\ttrain-mlogloss:0.334089\ttest-mlogloss:0.51713\n",
      "[1435]\ttrain-mlogloss:0.333982\ttest-mlogloss:0.517114\n",
      "[1436]\ttrain-mlogloss:0.333869\ttest-mlogloss:0.517128\n",
      "[1437]\ttrain-mlogloss:0.333765\ttest-mlogloss:0.517123\n",
      "[1438]\ttrain-mlogloss:0.333679\ttest-mlogloss:0.517131\n",
      "[1439]\ttrain-mlogloss:0.333586\ttest-mlogloss:0.51713\n",
      "[1440]\ttrain-mlogloss:0.333452\ttest-mlogloss:0.517095\n",
      "[1441]\ttrain-mlogloss:0.333393\ttest-mlogloss:0.517094\n",
      "[1442]\ttrain-mlogloss:0.333295\ttest-mlogloss:0.517077\n",
      "[1443]\ttrain-mlogloss:0.3332\ttest-mlogloss:0.517108\n",
      "[1444]\ttrain-mlogloss:0.333102\ttest-mlogloss:0.517097\n",
      "[1445]\ttrain-mlogloss:0.332992\ttest-mlogloss:0.517099\n",
      "[1446]\ttrain-mlogloss:0.332847\ttest-mlogloss:0.517097\n",
      "[1447]\ttrain-mlogloss:0.332764\ttest-mlogloss:0.517094\n",
      "[1448]\ttrain-mlogloss:0.332684\ttest-mlogloss:0.517075\n",
      "[1449]\ttrain-mlogloss:0.33255\ttest-mlogloss:0.51708\n",
      "[1450]\ttrain-mlogloss:0.332449\ttest-mlogloss:0.517092\n",
      "[1451]\ttrain-mlogloss:0.332325\ttest-mlogloss:0.517078\n",
      "[1452]\ttrain-mlogloss:0.332229\ttest-mlogloss:0.51707\n",
      "[1453]\ttrain-mlogloss:0.332113\ttest-mlogloss:0.517068\n",
      "[1454]\ttrain-mlogloss:0.332029\ttest-mlogloss:0.517057\n",
      "[1455]\ttrain-mlogloss:0.331882\ttest-mlogloss:0.517042\n",
      "[1456]\ttrain-mlogloss:0.331806\ttest-mlogloss:0.517034\n",
      "[1457]\ttrain-mlogloss:0.331697\ttest-mlogloss:0.517014\n",
      "[1458]\ttrain-mlogloss:0.331577\ttest-mlogloss:0.517005\n",
      "[1459]\ttrain-mlogloss:0.331473\ttest-mlogloss:0.516999\n",
      "[1460]\ttrain-mlogloss:0.331367\ttest-mlogloss:0.516999\n",
      "[1461]\ttrain-mlogloss:0.331239\ttest-mlogloss:0.516984\n",
      "[1462]\ttrain-mlogloss:0.331122\ttest-mlogloss:0.516975\n",
      "[1463]\ttrain-mlogloss:0.330997\ttest-mlogloss:0.516998\n",
      "[1464]\ttrain-mlogloss:0.3309\ttest-mlogloss:0.51698\n",
      "[1465]\ttrain-mlogloss:0.330803\ttest-mlogloss:0.516983\n",
      "[1466]\ttrain-mlogloss:0.330685\ttest-mlogloss:0.516993\n",
      "[1467]\ttrain-mlogloss:0.330554\ttest-mlogloss:0.517002\n",
      "[1468]\ttrain-mlogloss:0.330452\ttest-mlogloss:0.517009\n",
      "[1469]\ttrain-mlogloss:0.330356\ttest-mlogloss:0.517007\n",
      "[1470]\ttrain-mlogloss:0.330255\ttest-mlogloss:0.517001\n",
      "[1471]\ttrain-mlogloss:0.330139\ttest-mlogloss:0.517005\n",
      "[1472]\ttrain-mlogloss:0.330047\ttest-mlogloss:0.517012\n",
      "[1473]\ttrain-mlogloss:0.329937\ttest-mlogloss:0.51703\n",
      "[1474]\ttrain-mlogloss:0.329865\ttest-mlogloss:0.517042\n",
      "[1475]\ttrain-mlogloss:0.329755\ttest-mlogloss:0.517039\n",
      "[1476]\ttrain-mlogloss:0.329652\ttest-mlogloss:0.517054\n",
      "[1477]\ttrain-mlogloss:0.329561\ttest-mlogloss:0.517037\n",
      "[1478]\ttrain-mlogloss:0.329453\ttest-mlogloss:0.517024\n",
      "[1479]\ttrain-mlogloss:0.329339\ttest-mlogloss:0.517038\n",
      "[1480]\ttrain-mlogloss:0.329244\ttest-mlogloss:0.517055\n",
      "[1481]\ttrain-mlogloss:0.329132\ttest-mlogloss:0.517031\n",
      "[1482]\ttrain-mlogloss:0.329033\ttest-mlogloss:0.517027\n",
      "Stopping. Best iteration:\n",
      "[1462]\ttrain-mlogloss:0.331122\ttest-mlogloss:0.516975\n",
      "\n",
      "[0.51702716448013686]\n",
      "CPU times: user 23min 25s, sys: 14.4 s, total: 23min 40s\n",
      "Wall time: 24min 58s\n"
     ]
    }
   ],
   "source": [
    "%%time\n",
    "cv_scores = []\n",
    "kf = KFold(n_splits=5, shuffle=True, random_state=2016)\n",
    "for dev_index, val_index in kf.split(range(train_x.shape[0])):\n",
    "        dev_X, val_X = train_x.ix[dev_index,:], train_x.ix[val_index,:]\n",
    "        dev_y, val_y = train_y.ix[dev_index], train_y.ix[val_index]\n",
    "        preds, model = runXGB(dev_X, dev_y, val_X, val_y)\n",
    "        cv_scores.append(log_loss(val_y, preds))\n",
    "        print(cv_scores)\n",
    "        break"
   ]
  },
  {
   "cell_type": "markdown",
   "metadata": {},
   "source": [
    "## Store result 1"
   ]
  },
  {
   "cell_type": "code",
   "execution_count": 352,
   "metadata": {
    "collapsed": false
   },
   "outputs": [
    {
     "name": "stdout",
     "output_type": "stream",
     "text": [
      "Stored 'p' (ndarray)\n"
     ]
    }
   ],
   "source": [
    "%store p"
   ]
  },
  {
   "cell_type": "code",
   "execution_count": 354,
   "metadata": {
    "collapsed": false
   },
   "outputs": [
    {
     "name": "stdout",
     "output_type": "stream",
     "text": [
      "Stored 'train_x' (DataFrame)\n"
     ]
    }
   ],
   "source": [
    "%store train_x"
   ]
  },
  {
   "cell_type": "code",
   "execution_count": 355,
   "metadata": {
    "collapsed": false
   },
   "outputs": [
    {
     "name": "stdout",
     "output_type": "stream",
     "text": [
      "Stored 'test_x' (DataFrame)\n"
     ]
    }
   ],
   "source": [
    "%store test_x"
   ]
  },
  {
   "cell_type": "markdown",
   "metadata": {},
   "source": [
    "# Stacking"
   ]
  },
  {
   "cell_type": "code",
   "execution_count": 275,
   "metadata": {
    "collapsed": true
   },
   "outputs": [],
   "source": [
    "## https://www.kaggle.com/mmueller/allstate-claims-severity/stacking-starter/run/390867"
   ]
  },
  {
   "cell_type": "code",
   "execution_count": 476,
   "metadata": {
    "collapsed": true
   },
   "outputs": [],
   "source": [
    "from sklearn.ensemble import ExtraTreesClassifier\n",
    "from sklearn.ensemble import RandomForestClassifier\n",
    "from sklearn.svm import SVC\n",
    "from sklearn.neighbors import KNeighborsClassifier\n",
    "from sklearn.neural_network import MLPClassifier"
   ]
  },
  {
   "cell_type": "code",
   "execution_count": 477,
   "metadata": {
    "collapsed": true
   },
   "outputs": [],
   "source": [
    "train_st = train_x.copy()\n",
    "test_st = test_x.copy()"
   ]
  },
  {
   "cell_type": "code",
   "execution_count": 478,
   "metadata": {
    "collapsed": false
   },
   "outputs": [
    {
     "data": {
      "text/plain": [
       "(49352, 234)"
      ]
     },
     "execution_count": 478,
     "metadata": {},
     "output_type": "execute_result"
    }
   ],
   "source": [
    "train_st.shape"
   ]
  },
  {
   "cell_type": "code",
   "execution_count": 479,
   "metadata": {
    "collapsed": false
   },
   "outputs": [
    {
     "data": {
      "text/plain": [
       "(74659, 234)"
      ]
     },
     "execution_count": 479,
     "metadata": {},
     "output_type": "execute_result"
    }
   ],
   "source": [
    "test_st.shape"
   ]
  },
  {
   "cell_type": "code",
   "execution_count": 480,
   "metadata": {
    "collapsed": true
   },
   "outputs": [],
   "source": [
    "ntrain = train_st.shape[0]\n",
    "ntest = test_st.shape[0]"
   ]
  },
  {
   "cell_type": "code",
   "execution_count": 481,
   "metadata": {
    "collapsed": true
   },
   "outputs": [],
   "source": [
    "train_test = pd.concat((train_st, test_st)).reset_index(drop=True)"
   ]
  },
  {
   "cell_type": "code",
   "execution_count": 482,
   "metadata": {
    "collapsed": false
   },
   "outputs": [],
   "source": [
    "x_train = np.array(train_test.iloc[:ntrain,:])\n",
    "x_test = np.array(train_test.iloc[ntrain:,:])\n",
    "y_train = train_y"
   ]
  },
  {
   "cell_type": "code",
   "execution_count": 483,
   "metadata": {
    "collapsed": false
   },
   "outputs": [],
   "source": [
    "NFOLDS = 5\n",
    "SEED = 0\n",
    "kf = KFold(n_splits=NFOLDS, shuffle=True, random_state=SEED)"
   ]
  },
  {
   "cell_type": "code",
   "execution_count": 484,
   "metadata": {
    "collapsed": true
   },
   "outputs": [],
   "source": [
    "class SklearnWrapper(object):\n",
    "    def __init__(self, clf, seed=0, params=None):\n",
    "        params['random_state'] = seed\n",
    "        self.clf = clf(**params)\n",
    "\n",
    "    def fit2(self, x_train, y_train):\n",
    "        self.clf.fit(x_train, y_train)\n",
    "\n",
    "    def predict2(self, x):\n",
    "        return self.clf.predict_proba(x)\n"
   ]
  },
  {
   "cell_type": "code",
   "execution_count": 485,
   "metadata": {
    "collapsed": true
   },
   "outputs": [],
   "source": [
    "class XgbWrapper(object):\n",
    "    def __init__(self, seed=0, params=None):\n",
    "        self.param = params\n",
    "        self.param['seed'] = seed\n",
    "        self.nrounds = params['nrounds']\n",
    "\n",
    "    def fit2(self, x_train, y_train):\n",
    "        dtrain = xgb.DMatrix(x_train, label=y_train)\n",
    "        self.gbdt = xgb.train(self.param, dtrain, self.nrounds)\n",
    "\n",
    "    def predict2(self, x):\n",
    "        return self.gbdt.predict(xgb.DMatrix(x))"
   ]
  },
  {
   "cell_type": "code",
   "execution_count": 486,
   "metadata": {
    "collapsed": true
   },
   "outputs": [],
   "source": [
    "def get_oof(clf, xtrain, ytrain, xtest):\n",
    "    oof_train = np.zeros((ntrain,3))\n",
    "    oof_test = np.zeros((ntest,3))\n",
    "    oof_test_temp =  np.zeros((ntest,3))\n",
    "    for i, (train_index, test_index) in enumerate(kf.split(xtrain)):\n",
    "        x_tr = xtrain.iloc[train_index]\n",
    "        x_te = xtrain.iloc[test_index]\n",
    "        y_tr = ytrain.iloc[train_index]\n",
    "        \n",
    "        clf.fit2(x_tr, y_tr)\n",
    "        oof_train[test_index] = clf.predict2(x_te)\n",
    "        oof_test_temp = clf.predict2(xtest)\n",
    "        oof_test = oof_test + oof_test_temp\n",
    "    oof_test = oof_test / NFOLDS\n",
    "    return oof_train, oof_test"
   ]
  },
  {
   "cell_type": "code",
   "execution_count": 487,
   "metadata": {
    "collapsed": true
   },
   "outputs": [],
   "source": [
    "## http://scikit-learn.org/stable/modules/generated/sklearn.ensemble.ExtraTreesClassifier.html#sklearn.ensemble.ExtraTreesClassifier\n",
    "et_params = {\n",
    "    'n_jobs': -1,\n",
    "    'n_estimators': 1000,\n",
    "    'max_features': 0.5,\n",
    "    'max_depth': 10,\n",
    "    'min_samples_leaf': 2,\n",
    "}"
   ]
  },
  {
   "cell_type": "code",
   "execution_count": 488,
   "metadata": {
    "collapsed": false
   },
   "outputs": [
    {
     "name": "stdout",
     "output_type": "stream",
     "text": [
      "CPU times: user 4.54 s, sys: 1.15 s, total: 5.69 s\n",
      "Wall time: 4.35 s\n"
     ]
    }
   ],
   "source": [
    "%%time\n",
    "et_oof_train, et_oof_test = get_oof(et, train_st_sklearn, y_train, test_st_sklearn)"
   ]
  },
  {
   "cell_type": "code",
   "execution_count": 489,
   "metadata": {
    "collapsed": false
   },
   "outputs": [
    {
     "data": {
      "text/plain": [
       "(49352, 3)"
      ]
     },
     "execution_count": 489,
     "metadata": {},
     "output_type": "execute_result"
    }
   ],
   "source": [
    "et_oof_train.shape"
   ]
  },
  {
   "cell_type": "code",
   "execution_count": 490,
   "metadata": {
    "collapsed": false
   },
   "outputs": [
    {
     "data": {
      "text/plain": [
       "array([[ 0.07815705,  0.22718247,  0.69466048],\n",
       "       [ 0.08014748,  0.23340559,  0.68644693],\n",
       "       [ 0.07775808,  0.22472896,  0.69751296],\n",
       "       [ 0.07767902,  0.22819671,  0.69412428],\n",
       "       [ 0.07729347,  0.22888381,  0.69382272]])"
      ]
     },
     "execution_count": 490,
     "metadata": {},
     "output_type": "execute_result"
    }
   ],
   "source": [
    "et_oof_train[:5]"
   ]
  },
  {
   "cell_type": "code",
   "execution_count": 491,
   "metadata": {
    "collapsed": true
   },
   "outputs": [],
   "source": [
    "## http://scikit-learn.org/stable/modules/generated/sklearn.ensemble.RandomForestClassifier.html\n",
    "rf_params = {\n",
    "    'n_jobs': 16,\n",
    "    'n_estimators': 1000,\n",
    "    'max_features': 0.5,\n",
    "    'max_depth': 10,\n",
    "    'min_samples_leaf': 2,\n",
    "}"
   ]
  },
  {
   "cell_type": "code",
   "execution_count": 492,
   "metadata": {
    "collapsed": false
   },
   "outputs": [
    {
     "name": "stdout",
     "output_type": "stream",
     "text": [
      "CPU times: user 5.22 s, sys: 1.2 s, total: 6.42 s\n",
      "Wall time: 5.08 s\n"
     ]
    }
   ],
   "source": [
    "%%time\n",
    "rf_oof_train, rf_oof_test = get_oof(rf, train_st_sklearn, y_train, test_st_sklearn)"
   ]
  },
  {
   "cell_type": "code",
   "execution_count": 493,
   "metadata": {
    "collapsed": false
   },
   "outputs": [
    {
     "data": {
      "text/plain": [
       "(49352, 3)"
      ]
     },
     "execution_count": 493,
     "metadata": {},
     "output_type": "execute_result"
    }
   ],
   "source": [
    "rf_oof_train.shape"
   ]
  },
  {
   "cell_type": "code",
   "execution_count": 494,
   "metadata": {
    "collapsed": false
   },
   "outputs": [
    {
     "data": {
      "text/plain": [
       "array([[ 0.07742713,  0.23507993,  0.68749294],\n",
       "       [ 0.08596793,  0.23777304,  0.67625902],\n",
       "       [ 0.07946921,  0.23062626,  0.68990453],\n",
       "       [ 0.07691489,  0.22776303,  0.69532208],\n",
       "       [ 0.07675497,  0.23102401,  0.69222102]])"
      ]
     },
     "execution_count": 494,
     "metadata": {},
     "output_type": "execute_result"
    }
   ],
   "source": [
    "rf_oof_train[:5]"
   ]
  },
  {
   "cell_type": "code",
   "execution_count": 310,
   "metadata": {
    "collapsed": true
   },
   "outputs": [],
   "source": [
    "## \n",
    "knn_params = {}\n",
    "knn_params"
   ]
  },
  {
   "cell_type": "code",
   "execution_count": 315,
   "metadata": {
    "collapsed": true
   },
   "outputs": [],
   "source": [
    "## http://scikit-learn.org/stable/modules/generated/sklearn.svm.SVC.html\n",
    "svm_params = {}\n",
    "svm_params['C'] = 1.0\n",
    "svm_params['Probability'] = False"
   ]
  },
  {
   "cell_type": "code",
   "execution_count": 313,
   "metadata": {
    "collapsed": false
   },
   "outputs": [],
   "source": [
    "svm = SklearnWrapper(clf=SVC, seed=SEED, params=svm_params)"
   ]
  },
  {
   "cell_type": "code",
   "execution_count": null,
   "metadata": {
    "collapsed": false
   },
   "outputs": [],
   "source": [
    "%%time\n",
    "svm_oof_train, svm_oof_test = get_oof(svm, train_st_sklearn, y_train, test_st_sklearn)"
   ]
  },
  {
   "cell_type": "code",
   "execution_count": null,
   "metadata": {
    "collapsed": true
   },
   "outputs": [],
   "source": [
    "svm_oof_train"
   ]
  },
  {
   "cell_type": "code",
   "execution_count": 306,
   "metadata": {
    "collapsed": true
   },
   "outputs": [],
   "source": [
    "## http://scikit-learn.org/stable/modules/generated/sklearn.neural_network.MLPClassifier.html#sklearn.neural_network.MLPClassifier\n",
    "nn_params = {}\n",
    "nn_params['hidden_layer_sizes'] = 100\n",
    "nn_params['activation'] = 'relu'\n",
    "nn_params['alpha'] = 0.001\n",
    "nn_params['max_iter'] = 5000\n",
    "nn_params['random_state'] = SEED\n",
    "nn_params['learning_rate_init'] = 0.001\n",
    "nn_params['early_stopping'] = False\n"
   ]
  },
  {
   "cell_type": "code",
   "execution_count": 307,
   "metadata": {
    "collapsed": false
   },
   "outputs": [],
   "source": [
    "nn = SklearnWrapper(clf=MLPClassifier, seed=SEED, params=nn_params)"
   ]
  },
  {
   "cell_type": "code",
   "execution_count": 308,
   "metadata": {
    "collapsed": false
   },
   "outputs": [
    {
     "name": "stdout",
     "output_type": "stream",
     "text": [
      "CPU times: user 32 s, sys: 4.23 s, total: 36.2 s\n",
      "Wall time: 30.2 s\n"
     ]
    }
   ],
   "source": [
    "%%time\n",
    "nn_oof_train, nn_oof_test = get_oof(nn, train_st_sklearn, y_train, test_st_sklearn)"
   ]
  },
  {
   "cell_type": "code",
   "execution_count": 309,
   "metadata": {
    "collapsed": false
   },
   "outputs": [
    {
     "data": {
      "text/plain": [
       "array([[ 0.,  0.,  1.],\n",
       "       [ 0.,  0.,  1.],\n",
       "       [ 0.,  0.,  1.],\n",
       "       ..., \n",
       "       [ 0.,  0.,  1.],\n",
       "       [ 0.,  0.,  1.],\n",
       "       [ 0.,  0.,  1.]])"
      ]
     },
     "execution_count": 309,
     "metadata": {},
     "output_type": "execute_result"
    }
   ],
   "source": [
    "nn_oof_train"
   ]
  },
  {
   "cell_type": "code",
   "execution_count": 496,
   "metadata": {
    "collapsed": false
   },
   "outputs": [],
   "source": [
    "xgb_params = {}\n",
    "xgb_params['objective']='multi:softprob'\n",
    "xgb_params['eta']=0.03\n",
    "xgb_params['max_depth']=6\n",
    "xgb_params['silent']=1\n",
    "xgb_params['num_class']=3\n",
    "xgb_params['eval_metric']=\"mlogloss\"\n",
    "xgb_params['min_child_weight']=1\n",
    "xgb_params['subsample']=0.7\n",
    "xgb_params['colsample_bytree']=0.7\n",
    "xgb_params['seed']=0\n",
    "xgb_params['nrounds']=1000\n"
   ]
  },
  {
   "cell_type": "code",
   "execution_count": 497,
   "metadata": {
    "collapsed": false
   },
   "outputs": [],
   "source": [
    "xg = XgbWrapper(seed=SEED, params=xgb_params)\n",
    "et = SklearnWrapper(clf=ExtraTreesClassifier, seed=SEED, params=et_params)\n",
    "rf = SklearnWrapper(clf=RandomForestClassifier, seed=SEED, params=rf_params)"
   ]
  },
  {
   "cell_type": "code",
   "execution_count": 225,
   "metadata": {
    "collapsed": true
   },
   "outputs": [],
   "source": [
    "train_st_sklearn = train_st.copy()\n",
    "test_st_sklearn = test_st.copy()"
   ]
  },
  {
   "cell_type": "code",
   "execution_count": 228,
   "metadata": {
    "collapsed": false
   },
   "outputs": [],
   "source": [
    "test_st_sklearn = test_st_sklearn.replace(np.inf, np.nan)\n",
    "train_st_sklearn = train_st_sklearn.replace(np.inf, np.nan)"
   ]
  },
  {
   "cell_type": "code",
   "execution_count": 230,
   "metadata": {
    "collapsed": true
   },
   "outputs": [],
   "source": [
    "train_st_sklearn = train_st_sklearn.fillna(train_st_sklearn.median())\n",
    "\n",
    "test_st_sklearn = test_st_sklearn.fillna(test_st_sklearn.median())"
   ]
  },
  {
   "cell_type": "code",
   "execution_count": 499,
   "metadata": {
    "collapsed": false
   },
   "outputs": [
    {
     "name": "stdout",
     "output_type": "stream",
     "text": [
      "CPU times: user 1h 30min 10s, sys: 1min 11s, total: 1h 31min 22s\n",
      "Wall time: 1h 59min 44s\n"
     ]
    }
   ],
   "source": [
    "%%time\n",
    "xg_oof_train, xg_oof_test = get_oof(xg, train_x, train_y, test_x)"
   ]
  },
  {
   "cell_type": "code",
   "execution_count": 177,
   "metadata": {
    "collapsed": false
   },
   "outputs": [
    {
     "data": {
      "text/plain": [
       "(49352, 3)"
      ]
     },
     "execution_count": 177,
     "metadata": {},
     "output_type": "execute_result"
    }
   ],
   "source": [
    "xg_oof_train.shape"
   ]
  },
  {
   "cell_type": "code",
   "execution_count": 178,
   "metadata": {
    "collapsed": false
   },
   "outputs": [
    {
     "data": {
      "text/plain": [
       "(74659, 3)"
      ]
     },
     "execution_count": 178,
     "metadata": {},
     "output_type": "execute_result"
    }
   ],
   "source": [
    "xg_oof_test.shape"
   ]
  },
  {
   "cell_type": "code",
   "execution_count": 500,
   "metadata": {
    "collapsed": true
   },
   "outputs": [],
   "source": [
    "x_train_after_stack = np.concatenate((xg_oof_train, et_oof_train, rf_oof_train), axis=1)\n",
    "x_test_after_stack = np.concatenate((xg_oof_test, et_oof_test, rf_oof_test), axis=1)"
   ]
  },
  {
   "cell_type": "code",
   "execution_count": 503,
   "metadata": {
    "collapsed": false
   },
   "outputs": [
    {
     "name": "stdout",
     "output_type": "stream",
     "text": [
      "CPU times: user 2min 8s, sys: 219 ms, total: 2min 8s\n",
      "Wall time: 2min 9s\n"
     ]
    }
   ],
   "source": [
    "%%time\n",
    "p, model = runXGB(x_train_after_stack, train_y, x_test_after_stack, num_rounds=1000)\n",
    "out_df = pd.DataFrame(p)\n",
    "out_df.columns = [\"high\", \"medium\", \"low\"]\n",
    "out_df[\"listing_id\"] = test.listing_id.values\n",
    "out_df.to_csv(\"xgb_4.csv\", index=False)"
   ]
  },
  {
   "cell_type": "code",
   "execution_count": null,
   "metadata": {
    "collapsed": true
   },
   "outputs": [],
   "source": []
  }
 ],
 "metadata": {
  "anaconda-cloud": {},
  "kernelspec": {
   "display_name": "Python [Root]",
   "language": "python",
   "name": "Python [Root]"
  },
  "language_info": {
   "codemirror_mode": {
    "name": "ipython",
    "version": 3
   },
   "file_extension": ".py",
   "mimetype": "text/x-python",
   "name": "python",
   "nbconvert_exporter": "python",
   "pygments_lexer": "ipython3",
   "version": "3.5.2"
  }
 },
 "nbformat": 4,
 "nbformat_minor": 0
}
