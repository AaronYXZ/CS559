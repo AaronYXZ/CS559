{
 "cells": [
  {
   "cell_type": "code",
   "execution_count": 1,
   "metadata": {
    "collapsed": true
   },
   "outputs": [],
   "source": [
    "import pandas as pd \n",
    "import numpy as np\n",
    "import seaborn as sns; sns.set(font_scale=1.7) \n",
    "import matplotlib.pyplot as plt\n",
    "import sklearn\n",
    "import statsmodels.api as sm\n",
    "import math\n",
    "import json\n",
    "from sklearn.model_selection import train_test_split\n",
    "from sklearn.ensemble import BaggingClassifier, RandomForestClassifier, GradientBoostingClassifier \n",
    "import xgboost as xgb\n",
    "import re\n",
    "from sklearn.metrics import log_loss\n",
    "%matplotlib inline"
   ]
  },
  {
   "cell_type": "markdown",
   "metadata": {},
   "source": [
    "# Data Cleaning & Feature Engineering"
   ]
  },
  {
   "cell_type": "markdown",
   "metadata": {},
   "source": [
    "### Read in JSON data, combine into one dataframe total"
   ]
  },
  {
   "cell_type": "code",
   "execution_count": 2,
   "metadata": {
    "collapsed": false
   },
   "outputs": [
    {
     "data": {
      "text/plain": [
       "dict_keys(['display_address', 'building_id', 'latitude', 'interest_level', 'created', 'longitude', 'manager_id', 'bathrooms', 'photos', 'listing_id', 'bedrooms', 'price', 'description', 'features', 'street_address'])"
      ]
     },
     "execution_count": 2,
     "metadata": {},
     "output_type": "execute_result"
    }
   ],
   "source": [
    "json_obj = json.load(open('../Data/train.json'))\n",
    "json_obj.keys()"
   ]
  },
  {
   "cell_type": "code",
   "execution_count": 3,
   "metadata": {
    "collapsed": true
   },
   "outputs": [],
   "source": [
    "train =pd.DataFrame()\n",
    "for key in json_obj.keys():\n",
    "    train[key] = pd.Series(json_obj[key])"
   ]
  },
  {
   "cell_type": "code",
   "execution_count": 4,
   "metadata": {
    "collapsed": true
   },
   "outputs": [],
   "source": [
    "json_obj2 = json.load(open('../Data/test.json'))\n",
    "test = pd.DataFrame()\n",
    "for key in json_obj2.keys():\n",
    "    test[key] = pd.Series(json_obj2[key])"
   ]
  },
  {
   "cell_type": "code",
   "execution_count": 5,
   "metadata": {
    "collapsed": true
   },
   "outputs": [],
   "source": [
    "train_ori_index = train.index\n",
    "test_ori_index = test.index"
   ]
  },
  {
   "cell_type": "code",
   "execution_count": 6,
   "metadata": {
    "collapsed": true
   },
   "outputs": [],
   "source": [
    "train['label'] = 'Train'\n",
    "test['label'] = 'Test'\n",
    "total = pd.concat([train, test], axis = 0)"
   ]
  },
  {
   "cell_type": "code",
   "execution_count": 7,
   "metadata": {
    "collapsed": false
   },
   "outputs": [],
   "source": [
    "listing_image = pd.read_csv('listing_image_time.csv')"
   ]
  },
  {
   "cell_type": "code",
   "execution_count": 8,
   "metadata": {
    "collapsed": false
   },
   "outputs": [
    {
     "data": {
      "text/html": [
       "<div>\n",
       "<table border=\"1\" class=\"dataframe\">\n",
       "  <thead>\n",
       "    <tr style=\"text-align: right;\">\n",
       "      <th></th>\n",
       "      <th>Listing_Id</th>\n",
       "      <th>time_stamp</th>\n",
       "    </tr>\n",
       "  </thead>\n",
       "  <tbody>\n",
       "    <tr>\n",
       "      <th>0</th>\n",
       "      <td>6811957</td>\n",
       "      <td>1479785186</td>\n",
       "    </tr>\n",
       "    <tr>\n",
       "      <th>1</th>\n",
       "      <td>6811958</td>\n",
       "      <td>1479786880</td>\n",
       "    </tr>\n",
       "    <tr>\n",
       "      <th>2</th>\n",
       "      <td>6811960</td>\n",
       "      <td>1479780964</td>\n",
       "    </tr>\n",
       "    <tr>\n",
       "      <th>3</th>\n",
       "      <td>6811964</td>\n",
       "      <td>1479783510</td>\n",
       "    </tr>\n",
       "    <tr>\n",
       "      <th>4</th>\n",
       "      <td>6811965</td>\n",
       "      <td>1479786168</td>\n",
       "    </tr>\n",
       "  </tbody>\n",
       "</table>\n",
       "</div>"
      ],
      "text/plain": [
       "   Listing_Id  time_stamp\n",
       "0     6811957  1479785186\n",
       "1     6811958  1479786880\n",
       "2     6811960  1479780964\n",
       "3     6811964  1479783510\n",
       "4     6811965  1479786168"
      ]
     },
     "execution_count": 8,
     "metadata": {},
     "output_type": "execute_result"
    }
   ],
   "source": [
    "listing_image.head()"
   ]
  },
  {
   "cell_type": "code",
   "execution_count": 9,
   "metadata": {
    "collapsed": true
   },
   "outputs": [],
   "source": [
    "total = pd.merge(total, listing_image, left_on = 'listing_id', right_on = 'Listing_Id', how = 'left')"
   ]
  },
  {
   "cell_type": "code",
   "execution_count": 10,
   "metadata": {
    "collapsed": true
   },
   "outputs": [],
   "source": [
    "total = total.drop('Listing_Id', axis = 1)"
   ]
  },
  {
   "cell_type": "markdown",
   "metadata": {},
   "source": [
    "### Covert 'Created' to 'Date' datetime format"
   ]
  },
  {
   "cell_type": "code",
   "execution_count": 11,
   "metadata": {
    "collapsed": true
   },
   "outputs": [],
   "source": [
    "import datetime as dt\n",
    "def get_datetime(strings):\n",
    "    try:\n",
    "        date = dt.datetime.strptime(strings, '%Y-%m-%d %H:%M:%S')\n",
    "        return date\n",
    "    except:\n",
    "        return None"
   ]
  },
  {
   "cell_type": "code",
   "execution_count": 12,
   "metadata": {
    "collapsed": true
   },
   "outputs": [],
   "source": [
    "total['date'] = total['created'].apply(get_datetime)"
   ]
  },
  {
   "cell_type": "code",
   "execution_count": 13,
   "metadata": {
    "collapsed": true
   },
   "outputs": [],
   "source": [
    "def get_month(dt):\n",
    "    try:\n",
    "        return dt.month\n",
    "    except:\n",
    "        return None"
   ]
  },
  {
   "cell_type": "code",
   "execution_count": 14,
   "metadata": {
    "collapsed": false
   },
   "outputs": [],
   "source": [
    "total['month'] = total['date'].apply(get_month)"
   ]
  },
  {
   "cell_type": "code",
   "execution_count": 15,
   "metadata": {
    "collapsed": true
   },
   "outputs": [],
   "source": [
    "day_min = total['date'].min()"
   ]
  },
  {
   "cell_type": "code",
   "execution_count": 16,
   "metadata": {
    "collapsed": true
   },
   "outputs": [],
   "source": [
    "def get_timediff(date):\n",
    "    return (date - day_min).days"
   ]
  },
  {
   "cell_type": "code",
   "execution_count": 17,
   "metadata": {
    "collapsed": true
   },
   "outputs": [],
   "source": [
    "total['day_diff'] = total['date'].apply(get_timediff)"
   ]
  },
  {
   "cell_type": "markdown",
   "metadata": {},
   "source": [
    "### Deal with 'photos', 'descriptions'"
   ]
  },
  {
   "cell_type": "code",
   "execution_count": 18,
   "metadata": {
    "collapsed": true
   },
   "outputs": [],
   "source": [
    "total['photos_counts'] = total['photos'].apply(len)"
   ]
  },
  {
   "cell_type": "code",
   "execution_count": 19,
   "metadata": {
    "collapsed": false
   },
   "outputs": [],
   "source": [
    "total['description_word_count'] = total['description'].apply(lambda x:len(x.split(\" \")))"
   ]
  },
  {
   "cell_type": "markdown",
   "metadata": {},
   "source": [
    "### Deal with Categorical Features: "
   ]
  },
  {
   "cell_type": "code",
   "execution_count": 20,
   "metadata": {
    "collapsed": true
   },
   "outputs": [],
   "source": [
    "from sklearn import preprocessing"
   ]
  },
  {
   "cell_type": "code",
   "execution_count": 21,
   "metadata": {
    "collapsed": false
   },
   "outputs": [],
   "source": [
    "categorical = [\"display_address\", \"manager_id\", \"building_id\", \"street_address\"]\n",
    "for f in categorical:\n",
    "        if total[f].dtype=='object':\n",
    "            #print(f)\n",
    "            lbl = preprocessing.LabelEncoder()\n",
    "            total[f] = lbl.fit_transform(total[f])"
   ]
  },
  {
   "cell_type": "markdown",
   "metadata": {},
   "source": [
    "### Deal with features"
   ]
  },
  {
   "cell_type": "code",
   "execution_count": 22,
   "metadata": {
    "collapsed": true
   },
   "outputs": [],
   "source": [
    "from sklearn.feature_extraction.text import TfidfVectorizer\n",
    "from sklearn.feature_extraction.text import CountVectorizer"
   ]
  },
  {
   "cell_type": "code",
   "execution_count": 23,
   "metadata": {
    "collapsed": false
   },
   "outputs": [
    {
     "data": {
      "text/plain": [
       "['Swimming Pool',\n",
       " 'Roof Deck',\n",
       " 'Doorman',\n",
       " 'Elevator',\n",
       " 'Fitness Center',\n",
       " 'Laundry in Building',\n",
       " 'High Speed Internet',\n",
       " 'Dishwasher',\n",
       " 'Hardwood Floors',\n",
       " 'No Fee',\n",
       " 'Dogs Allowed',\n",
       " 'Cats Allowed']"
      ]
     },
     "execution_count": 23,
     "metadata": {},
     "output_type": "execute_result"
    }
   ],
   "source": [
    "total.ix[1000,'features']"
   ]
  },
  {
   "cell_type": "code",
   "execution_count": 24,
   "metadata": {
    "collapsed": true
   },
   "outputs": [],
   "source": [
    "total['features2'] = total['features'].apply(lambda x:' '.join(['_'.join(i.split(\" \")) for i in x]))"
   ]
  },
  {
   "cell_type": "code",
   "execution_count": 25,
   "metadata": {
    "collapsed": false
   },
   "outputs": [],
   "source": [
    "cv = CountVectorizer(stop_words='english', max_features=200)"
   ]
  },
  {
   "cell_type": "code",
   "execution_count": 26,
   "metadata": {
    "collapsed": false
   },
   "outputs": [],
   "source": [
    "total_cvfeatures = pd.DataFrame(cv.fit_transform(total['features2']).toarray())\n",
    "total_cvfeatures.index = total.index"
   ]
  },
  {
   "cell_type": "code",
   "execution_count": 27,
   "metadata": {
    "collapsed": false
   },
   "outputs": [],
   "source": [
    "total = pd.concat([total, total_cvfeatures], axis = 1)"
   ]
  },
  {
   "cell_type": "code",
   "execution_count": 28,
   "metadata": {
    "collapsed": false
   },
   "outputs": [],
   "source": [
    "#  def clean(text):\n",
    "#     clean1 = re.sub('[^a-zA-Z0-9]',' ',text)\n",
    "#     clean2 = re.sub(' +', ' ', clean1)\n",
    "#     clean3 = clean2.lower()\n",
    "#     return clean3\n"
   ]
  },
  {
   "cell_type": "code",
   "execution_count": 29,
   "metadata": {
    "collapsed": false
   },
   "outputs": [],
   "source": [
    "## tfidf = TfidfVectorizer(max_features= 500, stop_words= 'english')\n",
    "\n",
    "#  total['features2'] = total['features'].apply(' '.join)\n",
    "\n",
    "# # total_features = tfidf.fit_transform(total['features2'])\n",
    "\n",
    "# total_features = pd.DataFrame(total_features.toarray())\n",
    "# total_features.index = total.index\n",
    "\n",
    "# total = pd.concat([total, total_features], axis = 1)\n",
    "\n"
   ]
  },
  {
   "cell_type": "markdown",
   "metadata": {},
   "source": [
    "### Deal with price"
   ]
  },
  {
   "cell_type": "code",
   "execution_count": 30,
   "metadata": {
    "collapsed": true
   },
   "outputs": [],
   "source": [
    "total['total_room'] = total['bedrooms'] + total['bathrooms']"
   ]
  },
  {
   "cell_type": "code",
   "execution_count": 31,
   "metadata": {
    "collapsed": true
   },
   "outputs": [],
   "source": [
    "total['price_per_room'] = total['price'] / total['total_room']"
   ]
  },
  {
   "cell_type": "markdown",
   "metadata": {},
   "source": [
    "### Deal with manager_id"
   ]
  },
  {
   "cell_type": "code",
   "execution_count": 32,
   "metadata": {
    "collapsed": false
   },
   "outputs": [],
   "source": [
    "for month in [4,5,6]:\n",
    "    month_count = total.ix[total['month'] == month, ['manager_id','listing_id']].groupby('manager_id').count()\n",
    "    month_count.columns = month_count.columns.str.replace('listing_id', 'listings_by_month_'+str(month))\n",
    "    total = pd.merge(total, month_count, left_on = 'manager_id', right_index = True, how = 'left')"
   ]
  },
  {
   "cell_type": "code",
   "execution_count": 33,
   "metadata": {
    "collapsed": true
   },
   "outputs": [],
   "source": [
    "total['manager_listings'] = total.groupby('manager_id')['listing_id'].transform('count')"
   ]
  },
  {
   "cell_type": "code",
   "execution_count": 34,
   "metadata": {
    "collapsed": false
   },
   "outputs": [
    {
     "data": {
      "text/plain": [
       "(124011, 229)"
      ]
     },
     "execution_count": 34,
     "metadata": {},
     "output_type": "execute_result"
    }
   ],
   "source": [
    "total.shape"
   ]
  },
  {
   "cell_type": "code",
   "execution_count": 35,
   "metadata": {
    "collapsed": false
   },
   "outputs": [],
   "source": [
    "total['listings_by_month_4_perc'] = total['listings_by_month_4'] / total['manager_listings']\n",
    "total['listings_by_month_5_perc'] = total['listings_by_month_5'] / total['manager_listings']\n",
    "total['listings_by_month_6_perc'] = total['listings_by_month_6'] / total['manager_listings']"
   ]
  },
  {
   "cell_type": "code",
   "execution_count": 36,
   "metadata": {
    "collapsed": true
   },
   "outputs": [],
   "source": [
    "total_2 = total.copy()"
   ]
  },
  {
   "cell_type": "code",
   "execution_count": 37,
   "metadata": {
    "collapsed": false
   },
   "outputs": [
    {
     "data": {
      "text/plain": [
       "(124011, 232)"
      ]
     },
     "execution_count": 37,
     "metadata": {},
     "output_type": "execute_result"
    }
   ],
   "source": [
    "total_2.shape"
   ]
  },
  {
   "cell_type": "code",
   "execution_count": 38,
   "metadata": {
    "collapsed": true
   },
   "outputs": [],
   "source": [
    "total = total_2"
   ]
  },
  {
   "cell_type": "code",
   "execution_count": 39,
   "metadata": {
    "collapsed": false
   },
   "outputs": [
    {
     "data": {
      "text/plain": [
       "(124011, 232)"
      ]
     },
     "execution_count": 39,
     "metadata": {},
     "output_type": "execute_result"
    }
   ],
   "source": [
    "total.shape"
   ]
  },
  {
   "cell_type": "code",
   "execution_count": 40,
   "metadata": {
    "collapsed": true
   },
   "outputs": [],
   "source": [
    "total['average_price_by_manager'] = total.groupby('manager_id')['price'].transform('mean')"
   ]
  },
  {
   "cell_type": "code",
   "execution_count": 41,
   "metadata": {
    "collapsed": true
   },
   "outputs": [],
   "source": [
    "for month in [4,5,6]:\n",
    "    month_price = total.ix[total['month'] == month, ['manager_id','price']].groupby('manager_id').mean()\n",
    "    month_price.columns = month_price.columns.str.replace('price', 'price_by_month_'+str(month))\n",
    "    total = pd.merge(total, month_price, left_on = 'manager_id', right_index = True, how = 'left')"
   ]
  },
  {
   "cell_type": "code",
   "execution_count": 42,
   "metadata": {
    "collapsed": false
   },
   "outputs": [
    {
     "data": {
      "text/plain": [
       "(124011, 236)"
      ]
     },
     "execution_count": 42,
     "metadata": {},
     "output_type": "execute_result"
    }
   ],
   "source": [
    "total.shape"
   ]
  },
  {
   "cell_type": "markdown",
   "metadata": {},
   "source": [
    "### Add listings count by interest level"
   ]
  },
  {
   "cell_type": "code",
   "execution_count": 43,
   "metadata": {
    "collapsed": true
   },
   "outputs": [],
   "source": [
    "from sklearn.model_selection import KFold"
   ]
  },
  {
   "cell_type": "code",
   "execution_count": 44,
   "metadata": {
    "collapsed": true
   },
   "outputs": [],
   "source": [
    "kfold = KFold(n_splits=5, shuffle=True)"
   ]
  },
  {
   "cell_type": "code",
   "execution_count": 45,
   "metadata": {
    "collapsed": true
   },
   "outputs": [],
   "source": [
    "train = total[total['label'] == 'Train']\n",
    "test = total[total['label'] == 'Test']"
   ]
  },
  {
   "cell_type": "code",
   "execution_count": 46,
   "metadata": {
    "collapsed": false
   },
   "outputs": [],
   "source": [
    "for count, (tr_index, te_index) in enumerate(kfold.split(train)):\n",
    "    train_tr = train.iloc[tr_index]\n",
    "    train_val = train.iloc[te_index]\n",
    "    for level in train['interest_level'].unique():\n",
    "        listing_count = train_tr.ix[train_tr['interest_level'] == level, ['manager_id','listing_id']].groupby('manager_id').count()\n",
    "        listing_count.columns = listing_count.columns.str.replace('listing_id', 'listing_count_'+ str(level))\n",
    "        train_val= pd.merge(train_val,  listing_count, left_on = 'manager_id', right_index = True, how = 'left')\n",
    "    listing_count_alllevel = train_tr.ix[:,['manager_id','listing_id']].groupby('manager_id').count()\n",
    "    listing_count_alllevel.columns = listing_count_alllevel.columns.str.replace('listing_id', 'listing_count')\n",
    "    train_val= pd.merge(train_val,  listing_count_alllevel, left_on = 'manager_id', right_index = True, how = 'left')\n",
    "    if count == 0:\n",
    "        train_new = train_val\n",
    "    else:\n",
    "        train_new = pd.concat((train_new, train_val), axis = 0)\n"
   ]
  },
  {
   "cell_type": "code",
   "execution_count": 47,
   "metadata": {
    "collapsed": false
   },
   "outputs": [
    {
     "data": {
      "text/plain": [
       "(49352, 240)"
      ]
     },
     "execution_count": 47,
     "metadata": {},
     "output_type": "execute_result"
    }
   ],
   "source": [
    "train_new.shape"
   ]
  },
  {
   "cell_type": "code",
   "execution_count": 48,
   "metadata": {
    "collapsed": false
   },
   "outputs": [],
   "source": [
    "for level in train['interest_level'].unique():\n",
    "        listing_count = train.ix[train['interest_level'] == level, ['manager_id','listing_id']].groupby('manager_id').count()\n",
    "        listing_count.columns = listing_count.columns.str.replace('listing_id', 'listing_count_'+ str(level))\n",
    "        test= pd.merge(test,  listing_count, left_on = 'manager_id', right_index = True, how = 'left')\n",
    "listing_count_alllevel = train.ix[:, ['manager_id','listing_id']].groupby('manager_id').count()\n",
    "listing_count_alllevel.columns = listing_count_alllevel.columns.str.replace('listing_id', 'listing_count')\n",
    "test = pd.merge(test,  listing_count_alllevel, left_on = 'manager_id', right_index = True, how = 'left')"
   ]
  },
  {
   "cell_type": "code",
   "execution_count": 49,
   "metadata": {
    "collapsed": false
   },
   "outputs": [
    {
     "data": {
      "text/plain": [
       "(74659, 240)"
      ]
     },
     "execution_count": 49,
     "metadata": {},
     "output_type": "execute_result"
    }
   ],
   "source": [
    "test.shape"
   ]
  },
  {
   "cell_type": "code",
   "execution_count": 50,
   "metadata": {
    "collapsed": false
   },
   "outputs": [],
   "source": [
    "train_new['listing_count_high_perc'] = train_new['listing_count_high'] / train_new['listing_count']\n",
    "train_new['listing_count_medium_perc'] = train_new['listing_count_medium'] / train_new['listing_count']\n",
    "train_new['listing_count_low_perc'] = train_new['listing_count_low'] / train_new['listing_count']\n"
   ]
  },
  {
   "cell_type": "code",
   "execution_count": 51,
   "metadata": {
    "collapsed": false
   },
   "outputs": [],
   "source": [
    "test['listing_count_high_perc'] = test['listing_count_high'] / test['listing_count']\n",
    "test['listing_count_medium_perc'] = test['listing_count_medium'] / test['listing_count']\n",
    "test['listing_count_low_perc'] = test['listing_count_low'] / test['listing_count']\n"
   ]
  },
  {
   "cell_type": "code",
   "execution_count": 52,
   "metadata": {
    "collapsed": true
   },
   "outputs": [],
   "source": [
    "total = pd.concat([train_new, test], axis = 0)"
   ]
  },
  {
   "cell_type": "code",
   "execution_count": 53,
   "metadata": {
    "collapsed": false
   },
   "outputs": [
    {
     "data": {
      "text/plain": [
       "(124011, 243)"
      ]
     },
     "execution_count": 53,
     "metadata": {},
     "output_type": "execute_result"
    }
   ],
   "source": [
    "total.shape"
   ]
  },
  {
   "cell_type": "code",
   "execution_count": 54,
   "metadata": {
    "collapsed": true
   },
   "outputs": [],
   "source": [
    "train = total[total['label'] == 'Train']\n",
    "test = total[total['label'] == 'Test']\n",
    "\n",
    "for count, (tr_index, te_index) in enumerate(kfold.split(total[total['label'] == 'Train'])):\n",
    "    train_tr = train.iloc[tr_index]\n",
    "    train_val = train.iloc[te_index]\n",
    "    for level in train['interest_level'].unique():\n",
    "        price = train_tr.ix[train_tr['interest_level'] == level, ['manager_id','price']].groupby('manager_id').mean()\n",
    "        price.columns = price.columns.str.replace('price', 'price_average_'+ str(level))\n",
    "        train_val= pd.merge(train_val,  price, left_on = 'manager_id', right_index = True, how = 'left')  \n",
    "    if count == 0:\n",
    "        train_new = train_val\n",
    "    else:\n",
    "        train_new = pd.concat((train_new, train_val), axis = 0)\n"
   ]
  },
  {
   "cell_type": "code",
   "execution_count": 55,
   "metadata": {
    "collapsed": true
   },
   "outputs": [],
   "source": [
    "for level in train['interest_level'].unique():\n",
    "        price = train.ix[train['interest_level'] == level, ['manager_id','price']].groupby('manager_id').mean()\n",
    "        price.columns = price.columns.str.replace('price', 'price_average_'+ str(level))\n",
    "        test= pd.merge(test,  price, left_on = 'manager_id', right_index = True, how = 'left')"
   ]
  },
  {
   "cell_type": "code",
   "execution_count": 56,
   "metadata": {
    "collapsed": false
   },
   "outputs": [],
   "source": [
    "total = pd.concat([train_new, test], axis = 0)"
   ]
  },
  {
   "cell_type": "code",
   "execution_count": 57,
   "metadata": {
    "collapsed": true
   },
   "outputs": [],
   "source": [
    "train = total[total['label'] == 'Train']\n",
    "test = total[total['label'] == 'Test']\n",
    "\n",
    "for count, (tr_index, te_index) in enumerate(kfold.split(total[total['label'] == 'Train'])):\n",
    "    train_tr = train.iloc[tr_index]\n",
    "    train_val = train.iloc[te_index]\n",
    "    for level in train['interest_level'].unique():\n",
    "        price = train_tr.ix[train_tr['interest_level'] == level, ['manager_id','price']].groupby('manager_id').median()\n",
    "        price.columns = price.columns.str.replace('price', 'price_median_'+ str(level))\n",
    "        train_val= pd.merge(train_val,  price, left_on = 'manager_id', right_index = True, how = 'left')  \n",
    "    if count == 0:\n",
    "        train_new = train_val\n",
    "    else:\n",
    "        train_new = pd.concat((train_new, train_val), axis = 0)\n"
   ]
  },
  {
   "cell_type": "code",
   "execution_count": 58,
   "metadata": {
    "collapsed": true
   },
   "outputs": [],
   "source": [
    "for level in train['interest_level'].unique():\n",
    "        price = train.ix[train['interest_level'] == level, ['manager_id','price']].groupby('manager_id').median()\n",
    "        price.columns = price.columns.str.replace('price', 'price_median_'+ str(level))\n",
    "        test= pd.merge(test,  price, left_on = 'manager_id', right_index = True, how = 'left')"
   ]
  },
  {
   "cell_type": "code",
   "execution_count": 59,
   "metadata": {
    "collapsed": true
   },
   "outputs": [],
   "source": [
    "total = pd.concat([train_new, test], axis = 0)"
   ]
  },
  {
   "cell_type": "code",
   "execution_count": 60,
   "metadata": {
    "collapsed": false
   },
   "outputs": [
    {
     "data": {
      "text/plain": [
       "['bathrooms',\n",
       " 'bedrooms',\n",
       " 'building_id',\n",
       " 'created',\n",
       " 'description',\n",
       " 'display_address',\n",
       " 'features',\n",
       " 'interest_level',\n",
       " 'label',\n",
       " 'latitude',\n",
       " 'listing_id',\n",
       " 'longitude',\n",
       " 'manager_id',\n",
       " 'photos',\n",
       " 'price',\n",
       " 'street_address',\n",
       " 'time_stamp',\n",
       " 'date',\n",
       " 'month',\n",
       " 'day_diff',\n",
       " 'photos_counts',\n",
       " 'description_word_count',\n",
       " 'features2',\n",
       " 0,\n",
       " 1,\n",
       " 2,\n",
       " 3,\n",
       " 4,\n",
       " 5,\n",
       " 6,\n",
       " 7,\n",
       " 8,\n",
       " 9,\n",
       " 10,\n",
       " 11,\n",
       " 12,\n",
       " 13,\n",
       " 14,\n",
       " 15,\n",
       " 16,\n",
       " 17,\n",
       " 18,\n",
       " 19,\n",
       " 20,\n",
       " 21,\n",
       " 22,\n",
       " 23,\n",
       " 24,\n",
       " 25,\n",
       " 26,\n",
       " 27,\n",
       " 28,\n",
       " 29,\n",
       " 30,\n",
       " 31,\n",
       " 32,\n",
       " 33,\n",
       " 34,\n",
       " 35,\n",
       " 36,\n",
       " 37,\n",
       " 38,\n",
       " 39,\n",
       " 40,\n",
       " 41,\n",
       " 42,\n",
       " 43,\n",
       " 44,\n",
       " 45,\n",
       " 46,\n",
       " 47,\n",
       " 48,\n",
       " 49,\n",
       " 50,\n",
       " 51,\n",
       " 52,\n",
       " 53,\n",
       " 54,\n",
       " 55,\n",
       " 56,\n",
       " 57,\n",
       " 58,\n",
       " 59,\n",
       " 60,\n",
       " 61,\n",
       " 62,\n",
       " 63,\n",
       " 64,\n",
       " 65,\n",
       " 66,\n",
       " 67,\n",
       " 68,\n",
       " 69,\n",
       " 70,\n",
       " 71,\n",
       " 72,\n",
       " 73,\n",
       " 74,\n",
       " 75,\n",
       " 76,\n",
       " 77,\n",
       " 78,\n",
       " 79,\n",
       " 80,\n",
       " 81,\n",
       " 82,\n",
       " 83,\n",
       " 84,\n",
       " 85,\n",
       " 86,\n",
       " 87,\n",
       " 88,\n",
       " 89,\n",
       " 90,\n",
       " 91,\n",
       " 92,\n",
       " 93,\n",
       " 94,\n",
       " 95,\n",
       " 96,\n",
       " 97,\n",
       " 98,\n",
       " 99,\n",
       " 100,\n",
       " 101,\n",
       " 102,\n",
       " 103,\n",
       " 104,\n",
       " 105,\n",
       " 106,\n",
       " 107,\n",
       " 108,\n",
       " 109,\n",
       " 110,\n",
       " 111,\n",
       " 112,\n",
       " 113,\n",
       " 114,\n",
       " 115,\n",
       " 116,\n",
       " 117,\n",
       " 118,\n",
       " 119,\n",
       " 120,\n",
       " 121,\n",
       " 122,\n",
       " 123,\n",
       " 124,\n",
       " 125,\n",
       " 126,\n",
       " 127,\n",
       " 128,\n",
       " 129,\n",
       " 130,\n",
       " 131,\n",
       " 132,\n",
       " 133,\n",
       " 134,\n",
       " 135,\n",
       " 136,\n",
       " 137,\n",
       " 138,\n",
       " 139,\n",
       " 140,\n",
       " 141,\n",
       " 142,\n",
       " 143,\n",
       " 144,\n",
       " 145,\n",
       " 146,\n",
       " 147,\n",
       " 148,\n",
       " 149,\n",
       " 150,\n",
       " 151,\n",
       " 152,\n",
       " 153,\n",
       " 154,\n",
       " 155,\n",
       " 156,\n",
       " 157,\n",
       " 158,\n",
       " 159,\n",
       " 160,\n",
       " 161,\n",
       " 162,\n",
       " 163,\n",
       " 164,\n",
       " 165,\n",
       " 166,\n",
       " 167,\n",
       " 168,\n",
       " 169,\n",
       " 170,\n",
       " 171,\n",
       " 172,\n",
       " 173,\n",
       " 174,\n",
       " 175,\n",
       " 176,\n",
       " 177,\n",
       " 178,\n",
       " 179,\n",
       " 180,\n",
       " 181,\n",
       " 182,\n",
       " 183,\n",
       " 184,\n",
       " 185,\n",
       " 186,\n",
       " 187,\n",
       " 188,\n",
       " 189,\n",
       " 190,\n",
       " 191,\n",
       " 192,\n",
       " 193,\n",
       " 194,\n",
       " 195,\n",
       " 196,\n",
       " 197,\n",
       " 198,\n",
       " 199,\n",
       " 'total_room',\n",
       " 'price_per_room',\n",
       " 'listings_by_month_4',\n",
       " 'listings_by_month_5',\n",
       " 'listings_by_month_6',\n",
       " 'manager_listings',\n",
       " 'listings_by_month_4_perc',\n",
       " 'listings_by_month_5_perc',\n",
       " 'listings_by_month_6_perc',\n",
       " 'average_price_by_manager',\n",
       " 'price_by_month_4',\n",
       " 'price_by_month_5',\n",
       " 'price_by_month_6',\n",
       " 'listing_count_medium',\n",
       " 'listing_count_low',\n",
       " 'listing_count_high',\n",
       " 'listing_count',\n",
       " 'listing_count_high_perc',\n",
       " 'listing_count_medium_perc',\n",
       " 'listing_count_low_perc',\n",
       " 'price_average_medium',\n",
       " 'price_average_low',\n",
       " 'price_average_high',\n",
       " 'price_median_medium',\n",
       " 'price_median_low',\n",
       " 'price_median_high']"
      ]
     },
     "execution_count": 60,
     "metadata": {},
     "output_type": "execute_result"
    }
   ],
   "source": [
    "total.columns.tolist()"
   ]
  },
  {
   "cell_type": "code",
   "execution_count": 61,
   "metadata": {
    "collapsed": false
   },
   "outputs": [
    {
     "data": {
      "text/plain": [
       "(124011, 249)"
      ]
     },
     "execution_count": 61,
     "metadata": {},
     "output_type": "execute_result"
    }
   ],
   "source": [
    "total.shape"
   ]
  },
  {
   "cell_type": "code",
   "execution_count": 62,
   "metadata": {
    "collapsed": true
   },
   "outputs": [],
   "source": [
    "## make a copy of the total df after data cleaning\n",
    "total_copy = total.copy()"
   ]
  },
  {
   "cell_type": "markdown",
   "metadata": {},
   "source": [
    "### Deal with street_address, display_address, building_id"
   ]
  },
  {
   "cell_type": "markdown",
   "metadata": {},
   "source": [
    "##  Insights on manager_id"
   ]
  },
  {
   "cell_type": "code",
   "execution_count": 77,
   "metadata": {
    "collapsed": false
   },
   "outputs": [],
   "source": [
    "temp1 = train.groupby('manager_id').count().iloc[:,-1]\n",
    "temp2 = test.groupby('manager_id').count().iloc[:,-1]\n",
    "df_managers = pd.concat([temp1,temp2], axis = 1, join = 'outer')\n",
    "df_managers.columns = ['train_count','test_count']"
   ]
  },
  {
   "cell_type": "code",
   "execution_count": 86,
   "metadata": {
    "collapsed": false
   },
   "outputs": [
    {
     "data": {
      "image/png": "[encoded data removed]",
      "text/plain": [
       "<matplotlib.figure.Figure at 0x118b3f550>"
      ]
     },
     "metadata": {},
     "output_type": "display_data"
    }
   ],
   "source": [
    "fig, axes = plt.subplots(1,2, figsize = (12,5))\n",
    "temp = df_managers['train_count'].dropna().sort_values(ascending = False).reset_index(drop = True)\n",
    "axes[0].plot(temp.index+1, temp.cumsum()/temp.sum())\n",
    "axes[0].set_title('cumulative train_count')\n",
    "\n",
    "temp = df_managers['test_count'].dropna().sort_values(ascending = False).reset_index(drop = True)\n",
    "axes[1].plot(temp.index+1, temp.cumsum()/temp.sum())\n",
    "axes[1].set_title('cumulative test_count')\n",
    "plt.savefig('cs559_2.jpg')"
   ]
  },
  {
   "cell_type": "code",
   "execution_count": 79,
   "metadata": {
    "collapsed": true
   },
   "outputs": [],
   "source": [
    "man_list = df_managers['train_count'].sort_values(ascending = False).head(50).index\n",
    "ixes = train.manager_id.isin(man_list)\n",
    "df100 = train[ixes][['manager_id','interest_level']]\n",
    "interest_dummies = pd.get_dummies(df100.interest_level)\n",
    "df100 = pd.concat([df100,interest_dummies[['low','medium','high']]], axis = 1).drop('interest_level', axis = 1)"
   ]
  },
  {
   "cell_type": "code",
   "execution_count": 80,
   "metadata": {
    "collapsed": false
   },
   "outputs": [
    {
     "data": {
      "text/html": [
       "<div>\n",
       "<table border=\"1\" class=\"dataframe\">\n",
       "  <thead>\n",
       "    <tr style=\"text-align: right;\">\n",
       "      <th></th>\n",
       "      <th>low</th>\n",
       "      <th>medium</th>\n",
       "      <th>high</th>\n",
       "      <th>count</th>\n",
       "    </tr>\n",
       "    <tr>\n",
       "      <th>manager_id</th>\n",
       "      <th></th>\n",
       "      <th></th>\n",
       "      <th></th>\n",
       "      <th></th>\n",
       "    </tr>\n",
       "  </thead>\n",
       "  <tbody>\n",
       "    <tr>\n",
       "      <th>3959</th>\n",
       "      <td>0.686538</td>\n",
       "      <td>0.245559</td>\n",
       "      <td>0.067904</td>\n",
       "      <td>2533</td>\n",
       "    </tr>\n",
       "    <tr>\n",
       "      <th>1883</th>\n",
       "      <td>0.905767</td>\n",
       "      <td>0.088608</td>\n",
       "      <td>0.005626</td>\n",
       "      <td>711</td>\n",
       "    </tr>\n",
       "    <tr>\n",
       "      <th>2452</th>\n",
       "      <td>0.987805</td>\n",
       "      <td>0.009756</td>\n",
       "      <td>0.002439</td>\n",
       "      <td>410</td>\n",
       "    </tr>\n",
       "    <tr>\n",
       "      <th>3510</th>\n",
       "      <td>0.361930</td>\n",
       "      <td>0.490617</td>\n",
       "      <td>0.147453</td>\n",
       "      <td>373</td>\n",
       "    </tr>\n",
       "    <tr>\n",
       "      <th>2714</th>\n",
       "      <td>0.827273</td>\n",
       "      <td>0.130303</td>\n",
       "      <td>0.042424</td>\n",
       "      <td>330</td>\n",
       "    </tr>\n",
       "    <tr>\n",
       "      <th>760</th>\n",
       "      <td>0.515823</td>\n",
       "      <td>0.363924</td>\n",
       "      <td>0.120253</td>\n",
       "      <td>316</td>\n",
       "    </tr>\n",
       "    <tr>\n",
       "      <th>2991</th>\n",
       "      <td>0.918033</td>\n",
       "      <td>0.078689</td>\n",
       "      <td>0.003279</td>\n",
       "      <td>305</td>\n",
       "    </tr>\n",
       "    <tr>\n",
       "      <th>565</th>\n",
       "      <td>0.349481</td>\n",
       "      <td>0.415225</td>\n",
       "      <td>0.235294</td>\n",
       "      <td>289</td>\n",
       "    </tr>\n",
       "    <tr>\n",
       "      <th>3632</th>\n",
       "      <td>0.804348</td>\n",
       "      <td>0.192029</td>\n",
       "      <td>0.003623</td>\n",
       "      <td>276</td>\n",
       "    </tr>\n",
       "    <tr>\n",
       "      <th>1463</th>\n",
       "      <td>0.816406</td>\n",
       "      <td>0.171875</td>\n",
       "      <td>0.011719</td>\n",
       "      <td>256</td>\n",
       "    </tr>\n",
       "  </tbody>\n",
       "</table>\n",
       "</div>"
      ],
      "text/plain": [
       "                 low    medium      high  count\n",
       "manager_id                                     \n",
       "3959        0.686538  0.245559  0.067904   2533\n",
       "1883        0.905767  0.088608  0.005626    711\n",
       "2452        0.987805  0.009756  0.002439    410\n",
       "3510        0.361930  0.490617  0.147453    373\n",
       "2714        0.827273  0.130303  0.042424    330\n",
       "760         0.515823  0.363924  0.120253    316\n",
       "2991        0.918033  0.078689  0.003279    305\n",
       "565         0.349481  0.415225  0.235294    289\n",
       "3632        0.804348  0.192029  0.003623    276\n",
       "1463        0.816406  0.171875  0.011719    256"
      ]
     },
     "execution_count": 80,
     "metadata": {},
     "output_type": "execute_result"
    }
   ],
   "source": [
    "gby = pd.concat([df100.groupby('manager_id').mean(),df100.groupby('manager_id').count()], axis = 1).iloc[:,:-2]\n",
    "gby.columns = ['low','medium','high','count']\n",
    "gby.sort_values(by = 'count', ascending = False).head(10)"
   ]
  },
  {
   "cell_type": "code",
   "execution_count": 84,
   "metadata": {
    "collapsed": false
   },
   "outputs": [
    {
     "data": {
      "image/png": "[encoded data removed]",
      "text/plain": [
       "<matplotlib.figure.Figure at 0x11a23cb00>"
      ]
     },
     "metadata": {},
     "output_type": "display_data"
    }
   ],
   "source": [
    "gby.sort_values(by = 'count', ascending = False).drop('count', axis = 1).plot(kind = 'bar', stacked = True, figsize = (15,5))\n",
    "plt.title('Interest level distribution - top 50 managers')\n",
    "plt.savefig('cs559_1.jpg')"
   ]
  },
  {
   "cell_type": "markdown",
   "metadata": {},
   "source": [
    "# Modeling"
   ]
  },
  {
   "cell_type": "code",
   "execution_count": 63,
   "metadata": {
    "collapsed": true
   },
   "outputs": [],
   "source": [
    "fe =  ['bathrooms', 'bedrooms', 'latitude', 'longitude', 'price', 'day_diff', 'photos_counts', 'description_word_count'\n",
    "      , \"display_address\", \"manager_id\", \"building_id\", \"street_address\", 'listing_id', 'time_stamp']"
   ]
  },
  {
   "cell_type": "code",
   "execution_count": 64,
   "metadata": {
    "collapsed": false
   },
   "outputs": [],
   "source": [
    "fe2 = list(range(200))"
   ]
  },
  {
   "cell_type": "code",
   "execution_count": 65,
   "metadata": {
    "collapsed": true
   },
   "outputs": [],
   "source": [
    "fe3 = ['total_room','price_per_room', 'manager_listings','listings_by_month_4_perc',\n",
    "       'listings_by_month_5_perc','listings_by_month_6_perc','average_price_by_manager',\n",
    "       'price_by_month_4','price_by_month_5','price_by_month_6', 'listing_count_high_perc',\n",
    "      'listing_count_medium_perc','listing_count_low_perc', 'listing_count',\n",
    "       'price_average_low','price_average_medium','price_average_high','price_median_low',\n",
    "       'price_median_medium','price_median_high']"
   ]
  },
  {
   "cell_type": "code",
   "execution_count": 66,
   "metadata": {
    "collapsed": false
   },
   "outputs": [],
   "source": [
    "col = fe + fe2 + fe3"
   ]
  },
  {
   "cell_type": "code",
   "execution_count": 67,
   "metadata": {
    "collapsed": false
   },
   "outputs": [],
   "source": [
    "col.append('interest_level')"
   ]
  },
  {
   "cell_type": "code",
   "execution_count": 68,
   "metadata": {
    "collapsed": false
   },
   "outputs": [],
   "source": [
    "train_x = train_new[col]\n",
    "test_x = test[col]"
   ]
  },
  {
   "cell_type": "code",
   "execution_count": 69,
   "metadata": {
    "collapsed": false
   },
   "outputs": [],
   "source": [
    "train_x = train_x.drop([ 'interest_level'], axis = 1)\n",
    "test_x = test_x.drop([ 'interest_level'], axis = 1)\n"
   ]
  },
  {
   "cell_type": "code",
   "execution_count": 70,
   "metadata": {
    "collapsed": true
   },
   "outputs": [],
   "source": [
    "train_y = train_new['interest_level'].map({'low':2, 'medium':1, 'high':0})"
   ]
  },
  {
   "cell_type": "code",
   "execution_count": 71,
   "metadata": {
    "collapsed": false
   },
   "outputs": [
    {
     "name": "stdout",
     "output_type": "stream",
     "text": [
      "Stored 'total' (DataFrame)\n"
     ]
    }
   ],
   "source": [
    "%store total"
   ]
  },
  {
   "cell_type": "code",
   "execution_count": 72,
   "metadata": {
    "collapsed": false
   },
   "outputs": [],
   "source": [
    "total.to_csv('total.csv')"
   ]
  },
  {
   "cell_type": "markdown",
   "metadata": {},
   "source": [
    "## XGBoost"
   ]
  },
  {
   "cell_type": "code",
   "execution_count": 73,
   "metadata": {
    "collapsed": false
   },
   "outputs": [],
   "source": [
    "def runXGB(train_X, train_y, test_X, test_y=None, feature_names=None, seed_val=0, num_rounds=1000):\n",
    "    param = {}\n",
    "    param['objective'] = 'multi:softprob'\n",
    "    param['eta'] = 0.03\n",
    "    param['max_depth'] = 6\n",
    "    param['silent'] = 1\n",
    "    param['num_class'] = 3\n",
    "    param['eval_metric'] = \"mlogloss\"\n",
    "    param['min_child_weight'] = 1\n",
    "    param['subsample'] = 0.7\n",
    "    param['colsample_bytree'] = 0.7\n",
    "    param['seed'] = seed_val\n",
    "    num_rounds = num_rounds\n",
    "\n",
    "    plst = list(param.items())\n",
    "    xgtrain = xgb.DMatrix(train_X, label=train_y)\n",
    "\n",
    "    if test_y is not None:\n",
    "        xgtest = xgb.DMatrix(test_X, label=test_y)\n",
    "        watchlist = [ (xgtrain,'train'), (xgtest, 'test') ]\n",
    "        model = xgb.train(plst, xgtrain, num_rounds, watchlist, early_stopping_rounds=20)\n",
    "    else:\n",
    "        xgtest = xgb.DMatrix(test_X)\n",
    "        model = xgb.train(plst, xgtrain, num_rounds)\n",
    "\n",
    "    pred_test_y = model.predict(xgtest)\n",
    "    return pred_test_y, model\n"
   ]
  },
  {
   "cell_type": "code",
   "execution_count": 74,
   "metadata": {
    "collapsed": false
   },
   "outputs": [
    {
     "ename": "ValueError",
     "evalue": "list.remove(x): x not in list",
     "output_type": "error",
     "traceback": [
      "\u001b[0;31m---------------------------------------------------------------------------\u001b[0m",
      "\u001b[0;31mValueError\u001b[0m                                Traceback (most recent call last)",
      "\u001b[0;32m<ipython-input-74-c99614f3784a>\u001b[0m in \u001b[0;36m<module>\u001b[0;34m()\u001b[0m\n\u001b[1;32m     14\u001b[0m  \u001b[0;34m'price_median_high'\u001b[0m\u001b[0;34m,\u001b[0m\u001b[0;34m\u001b[0m\u001b[0m\n\u001b[1;32m     15\u001b[0m  'interest_level']:\n\u001b[0;32m---> 16\u001b[0;31m     \u001b[0mcol\u001b[0m\u001b[0;34m.\u001b[0m\u001b[0mremove\u001b[0m\u001b[0;34m(\u001b[0m\u001b[0mx\u001b[0m\u001b[0;34m)\u001b[0m\u001b[0;34m\u001b[0m\u001b[0m\n\u001b[0m",
      "\u001b[0;31mValueError\u001b[0m: list.remove(x): x not in list"
     ]
    }
   ],
   "source": [
    "for x in ['manager_listings',\n",
    " 'listings_by_month_4_perc',\n",
    " 'listings_by_month_5_perc',\n",
    " 'listings_by_month_6_perc',\n",
    " 'average_price_by_manager',\n",
    " 'price_by_month_4',\n",
    " 'price_by_month_5',\n",
    " 'price_by_month_6','listing_count_alllevel',\n",
    " 'price_average_low',\n",
    " 'price_average_medium',\n",
    " 'price_average_high',\n",
    " 'price_median_low',\n",
    " 'price_median_medium',\n",
    " 'price_median_high',\n",
    " 'interest_level']:\n",
    "    col.remove(x)\n"
   ]
  },
  {
   "cell_type": "code",
   "execution_count": null,
   "metadata": {
    "collapsed": false
   },
   "outputs": [],
   "source": [
    "%%time\n",
    "##Round 3\n",
    "p, model = runXGB(train_x, train_y, test_x, num_rounds=2000)\n",
    "out_df = pd.DataFrame(p)\n",
    "out_df.columns = [\"high\", \"medium\", \"low\"]\n",
    "out_df[\"listing_id\"] = test.listing_id.values\n",
    "out_df.to_csv(\"xgb_3.csv\", index=False)"
   ]
  },
  {
   "cell_type": "code",
   "execution_count": null,
   "metadata": {
    "collapsed": false
   },
   "outputs": [],
   "source": [
    "%%time\n",
    "p, model = runXGB(train_x, train_y, test_x, num_rounds=2000)"
   ]
  },
  {
   "cell_type": "code",
   "execution_count": null,
   "metadata": {
    "collapsed": true
   },
   "outputs": [],
   "source": [
    "out_df = pd.DataFrame(p)\n",
    "out_df.columns = [\"high\", \"medium\", \"low\"]\n",
    "out_df[\"listing_id\"] = test.listing_id.values\n",
    "out_df.to_csv(\"xgb_1.csv\", index=False)"
   ]
  },
  {
   "cell_type": "code",
   "execution_count": null,
   "metadata": {
    "collapsed": true
   },
   "outputs": [],
   "source": [
    "## rounds = 1000, step = 0.03"
   ]
  },
  {
   "cell_type": "code",
   "execution_count": null,
   "metadata": {
    "collapsed": false
   },
   "outputs": [],
   "source": [
    "%%time\n",
    "p, model = runXGB(train_x, train_y, test_x, num_rounds=1000)"
   ]
  },
  {
   "cell_type": "code",
   "execution_count": null,
   "metadata": {
    "collapsed": false
   },
   "outputs": [],
   "source": [
    "out_df = pd.DataFrame(p)\n",
    "out_df.columns = [\"high\", \"medium\", \"low\"]\n",
    "out_df[\"listing_id\"] = test.listing_id.values\n",
    "out_df.to_csv(\"xgb_2.csv\", index=False)"
   ]
  },
  {
   "cell_type": "code",
   "execution_count": null,
   "metadata": {
    "collapsed": true
   },
   "outputs": [],
   "source": [
    "### rounds = 1000, step = 0.03"
   ]
  },
  {
   "cell_type": "code",
   "execution_count": null,
   "metadata": {
    "collapsed": false
   },
   "outputs": [],
   "source": [
    "%%time\n",
    "cv_scores = []\n",
    "kf = KFold(n_splits=5, shuffle=True, random_state=2016)\n",
    "for dev_index, val_index in kf.split(range(train_x.shape[0])):\n",
    "        dev_X, val_X = train_x.ix[dev_index,:], train_x.ix[val_index,:]\n",
    "        dev_y, val_y = train_y.ix[dev_index], train_y.ix[val_index]\n",
    "        preds, model = runXGB(dev_X, dev_y, val_X, val_y)\n",
    "        cv_scores.append(log_loss(val_y, preds))\n",
    "        print(cv_scores)\n",
    "        break"
   ]
  },
  {
   "cell_type": "code",
   "execution_count": null,
   "metadata": {
    "collapsed": true
   },
   "outputs": [],
   "source": [
    "### rounds = 2000, step = 0.02"
   ]
  },
  {
   "cell_type": "code",
   "execution_count": null,
   "metadata": {
    "collapsed": false
   },
   "outputs": [],
   "source": [
    "%%time\n",
    "cv_scores = []\n",
    "kf = KFold(n_splits=5, shuffle=True, random_state=2016)\n",
    "for dev_index, val_index in kf.split(range(train_x.shape[0])):\n",
    "        dev_X, val_X = train_x.ix[dev_index,:], train_x.ix[val_index,:]\n",
    "        dev_y, val_y = train_y.ix[dev_index], train_y.ix[val_index]\n",
    "        preds, model = runXGB(dev_X, dev_y, val_X, val_y)\n",
    "        cv_scores.append(log_loss(val_y, preds))\n",
    "        print(cv_scores)\n",
    "        break"
   ]
  },
  {
   "cell_type": "markdown",
   "metadata": {},
   "source": [
    "## Store result 1"
   ]
  },
  {
   "cell_type": "code",
   "execution_count": null,
   "metadata": {
    "collapsed": false
   },
   "outputs": [],
   "source": [
    "%store p"
   ]
  },
  {
   "cell_type": "code",
   "execution_count": null,
   "metadata": {
    "collapsed": false
   },
   "outputs": [],
   "source": [
    "%store train_x"
   ]
  },
  {
   "cell_type": "code",
   "execution_count": null,
   "metadata": {
    "collapsed": false
   },
   "outputs": [],
   "source": [
    "%store test_x"
   ]
  },
  {
   "cell_type": "markdown",
   "metadata": {},
   "source": [
    "# Stacking"
   ]
  },
  {
   "cell_type": "code",
   "execution_count": null,
   "metadata": {
    "collapsed": true
   },
   "outputs": [],
   "source": [
    "## https://www.kaggle.com/mmueller/allstate-claims-severity/stacking-starter/run/390867"
   ]
  },
  {
   "cell_type": "code",
   "execution_count": null,
   "metadata": {
    "collapsed": true
   },
   "outputs": [],
   "source": [
    "from sklearn.ensemble import ExtraTreesClassifier\n",
    "from sklearn.ensemble import RandomForestClassifier\n",
    "from sklearn.svm import SVC\n",
    "from sklearn.neighbors import KNeighborsClassifier\n",
    "from sklearn.neural_network import MLPClassifier"
   ]
  },
  {
   "cell_type": "code",
   "execution_count": null,
   "metadata": {
    "collapsed": true
   },
   "outputs": [],
   "source": [
    "train_st = train_x.copy()\n",
    "test_st = test_x.copy()"
   ]
  },
  {
   "cell_type": "code",
   "execution_count": null,
   "metadata": {
    "collapsed": false
   },
   "outputs": [],
   "source": [
    "train_st.shape"
   ]
  },
  {
   "cell_type": "code",
   "execution_count": null,
   "metadata": {
    "collapsed": false
   },
   "outputs": [],
   "source": [
    "test_st.shape"
   ]
  },
  {
   "cell_type": "code",
   "execution_count": null,
   "metadata": {
    "collapsed": true
   },
   "outputs": [],
   "source": [
    "ntrain = train_st.shape[0]\n",
    "ntest = test_st.shape[0]"
   ]
  },
  {
   "cell_type": "code",
   "execution_count": null,
   "metadata": {
    "collapsed": true
   },
   "outputs": [],
   "source": [
    "train_test = pd.concat((train_st, test_st)).reset_index(drop=True)"
   ]
  },
  {
   "cell_type": "code",
   "execution_count": null,
   "metadata": {
    "collapsed": false
   },
   "outputs": [],
   "source": [
    "x_train = np.array(train_test.iloc[:ntrain,:])\n",
    "x_test = np.array(train_test.iloc[ntrain:,:])\n",
    "y_train = train_y"
   ]
  },
  {
   "cell_type": "code",
   "execution_count": null,
   "metadata": {
    "collapsed": false
   },
   "outputs": [],
   "source": [
    "NFOLDS = 5\n",
    "SEED = 0\n",
    "kf = KFold(n_splits=NFOLDS, shuffle=True, random_state=SEED)"
   ]
  },
  {
   "cell_type": "code",
   "execution_count": null,
   "metadata": {
    "collapsed": true
   },
   "outputs": [],
   "source": [
    "class SklearnWrapper(object):\n",
    "    def __init__(self, clf, seed=0, params=None):\n",
    "        params['random_state'] = seed\n",
    "        self.clf = clf(**params)\n",
    "\n",
    "    def fit2(self, x_train, y_train):\n",
    "        self.clf.fit(x_train, y_train)\n",
    "\n",
    "    def predict2(self, x):\n",
    "        return self.clf.predict_proba(x)\n"
   ]
  },
  {
   "cell_type": "code",
   "execution_count": null,
   "metadata": {
    "collapsed": true
   },
   "outputs": [],
   "source": [
    "class XgbWrapper(object):\n",
    "    def __init__(self, seed=0, params=None):\n",
    "        self.param = params\n",
    "        self.param['seed'] = seed\n",
    "        self.nrounds = params['nrounds']\n",
    "\n",
    "    def fit2(self, x_train, y_train):\n",
    "        dtrain = xgb.DMatrix(x_train, label=y_train)\n",
    "        self.gbdt = xgb.train(self.param, dtrain, self.nrounds)\n",
    "\n",
    "    def predict2(self, x):\n",
    "        return self.gbdt.predict(xgb.DMatrix(x))"
   ]
  },
  {
   "cell_type": "code",
   "execution_count": null,
   "metadata": {
    "collapsed": true
   },
   "outputs": [],
   "source": [
    "def get_oof(clf, xtrain, ytrain, xtest):\n",
    "    oof_train = np.zeros((ntrain,3))\n",
    "    oof_test = np.zeros((ntest,3))\n",
    "    oof_test_temp =  np.zeros((ntest,3))\n",
    "    for i, (train_index, test_index) in enumerate(kf.split(xtrain)):\n",
    "        x_tr = xtrain.iloc[train_index]\n",
    "        x_te = xtrain.iloc[test_index]\n",
    "        y_tr = ytrain.iloc[train_index]\n",
    "        \n",
    "        clf.fit2(x_tr, y_tr)\n",
    "        oof_train[test_index] = clf.predict2(x_te)\n",
    "        oof_test_temp = clf.predict2(xtest)\n",
    "        oof_test = oof_test + oof_test_temp\n",
    "    oof_test = oof_test / NFOLDS\n",
    "    return oof_train, oof_test"
   ]
  },
  {
   "cell_type": "code",
   "execution_count": null,
   "metadata": {
    "collapsed": true
   },
   "outputs": [],
   "source": [
    "## http://scikit-learn.org/stable/modules/generated/sklearn.ensemble.ExtraTreesClassifier.html#sklearn.ensemble.ExtraTreesClassifier\n",
    "et_params = {\n",
    "    'n_jobs': -1,\n",
    "    'n_estimators': 1000,\n",
    "    'max_features': 0.5,\n",
    "    'max_depth': 10,\n",
    "    'min_samples_leaf': 2,\n",
    "}"
   ]
  },
  {
   "cell_type": "code",
   "execution_count": null,
   "metadata": {
    "collapsed": false
   },
   "outputs": [],
   "source": [
    "%%time\n",
    "et_oof_train, et_oof_test = get_oof(et, train_st_sklearn, y_train, test_st_sklearn)"
   ]
  },
  {
   "cell_type": "code",
   "execution_count": null,
   "metadata": {
    "collapsed": false
   },
   "outputs": [],
   "source": [
    "et_oof_train.shape"
   ]
  },
  {
   "cell_type": "code",
   "execution_count": null,
   "metadata": {
    "collapsed": false
   },
   "outputs": [],
   "source": [
    "et_oof_train[:5]"
   ]
  },
  {
   "cell_type": "code",
   "execution_count": null,
   "metadata": {
    "collapsed": true
   },
   "outputs": [],
   "source": [
    "## http://scikit-learn.org/stable/modules/generated/sklearn.ensemble.RandomForestClassifier.html\n",
    "rf_params = {\n",
    "    'n_jobs': 16,\n",
    "    'n_estimators': 1000,\n",
    "    'max_features': 0.5,\n",
    "    'max_depth': 10,\n",
    "    'min_samples_leaf': 2,\n",
    "}"
   ]
  },
  {
   "cell_type": "code",
   "execution_count": null,
   "metadata": {
    "collapsed": false
   },
   "outputs": [],
   "source": [
    "%%time\n",
    "rf_oof_train, rf_oof_test = get_oof(rf, train_st_sklearn, y_train, test_st_sklearn)"
   ]
  },
  {
   "cell_type": "code",
   "execution_count": null,
   "metadata": {
    "collapsed": false
   },
   "outputs": [],
   "source": [
    "rf_oof_train.shape"
   ]
  },
  {
   "cell_type": "code",
   "execution_count": null,
   "metadata": {
    "collapsed": false
   },
   "outputs": [],
   "source": [
    "rf_oof_train[:5]"
   ]
  },
  {
   "cell_type": "code",
   "execution_count": null,
   "metadata": {
    "collapsed": true
   },
   "outputs": [],
   "source": [
    "## http://scikit-learn.org/stable/modules/generated/sklearn.neighbors.KNeighborsClassifier.html#sklearn.neighbors.KNeighborsClassifier\n",
    "knn_params = {}\n",
    "knn_params['n_neighbors'] = 5\n",
    "# knn_params['']\n",
    "# knn_params\n",
    "# knn_params\n",
    "# knn_params\n",
    "# knn_params"
   ]
  },
  {
   "cell_type": "code",
   "execution_count": null,
   "metadata": {
    "collapsed": true
   },
   "outputs": [],
   "source": [
    "class KNN(object):\n",
    "    def __init__(self, clf, seed=0, params=None):\n",
    "        \n",
    "        self.clf = clf(**params)\n",
    "\n",
    "    def fit2(self, x_train, y_train):\n",
    "        self.clf.fit(x_train, y_train)\n",
    "\n",
    "    def predict2(self, x):\n",
    "        return self.clf.predict_proba(x)\n"
   ]
  },
  {
   "cell_type": "code",
   "execution_count": null,
   "metadata": {
    "collapsed": false
   },
   "outputs": [],
   "source": [
    "knn = KNN(clf=KNeighborsClassifier, seed=SEED, params=knn_params)"
   ]
  },
  {
   "cell_type": "code",
   "execution_count": null,
   "metadata": {
    "collapsed": false
   },
   "outputs": [],
   "source": [
    "%%time\n",
    "knn_oof_train, knn_oof_test = get_oof(knn, train_st_sklearn, y_train, test_st_sklearn)"
   ]
  },
  {
   "cell_type": "code",
   "execution_count": null,
   "metadata": {
    "collapsed": true
   },
   "outputs": [],
   "source": []
  },
  {
   "cell_type": "code",
   "execution_count": null,
   "metadata": {
    "collapsed": true
   },
   "outputs": [],
   "source": [
    "## http://scikit-learn.org/stable/modules/generated/sklearn.svm.SVC.html\n",
    "svm_params = {}\n",
    "svm_params['C'] = 1.0\n",
    "svm_params['probability'] = True"
   ]
  },
  {
   "cell_type": "code",
   "execution_count": null,
   "metadata": {
    "collapsed": false
   },
   "outputs": [],
   "source": [
    "svm = SklearnWrapper(clf=SVC, seed=SEED, params=svm_params)"
   ]
  },
  {
   "cell_type": "code",
   "execution_count": null,
   "metadata": {
    "collapsed": true
   },
   "outputs": [],
   "source": [
    "## http://scikit-learn.org/stable/modules/generated/sklearn.neural_network.MLPClassifier.html#sklearn.neural_network.MLPClassifier\n",
    "nn_params = {}\n",
    "nn_params['hidden_layer_sizes'] = 100\n",
    "nn_params['activation'] = 'relu'\n",
    "nn_params['alpha'] = 0.001\n",
    "nn_params['max_iter'] = 5000\n",
    "nn_params['random_state'] = SEED\n",
    "nn_params['learning_rate_init'] = 0.01\n",
    "nn_params['early_stopping'] = False\n"
   ]
  },
  {
   "cell_type": "code",
   "execution_count": null,
   "metadata": {
    "collapsed": false
   },
   "outputs": [],
   "source": [
    "nn = SklearnWrapper(clf=MLPClassifier, seed=SEED, params=nn_params)"
   ]
  },
  {
   "cell_type": "code",
   "execution_count": null,
   "metadata": {
    "collapsed": false
   },
   "outputs": [],
   "source": [
    "%%time\n",
    "nn_oof_train, nn_oof_test = get_oof(nn, train_st_sklearn, y_train, test_st_sklearn)"
   ]
  },
  {
   "cell_type": "code",
   "execution_count": null,
   "metadata": {
    "collapsed": false
   },
   "outputs": [],
   "source": [
    "nn_oof_train"
   ]
  },
  {
   "cell_type": "code",
   "execution_count": null,
   "metadata": {
    "collapsed": false
   },
   "outputs": [],
   "source": [
    "xgb_params = {}\n",
    "xgb_params['objective']='multi:softprob'\n",
    "xgb_params['eta']=0.03\n",
    "xgb_params['max_depth']=6\n",
    "xgb_params['silent']=1\n",
    "xgb_params['num_class']=3\n",
    "xgb_params['eval_metric']=\"mlogloss\"\n",
    "xgb_params['min_child_weight']=1\n",
    "xgb_params['subsample']=0.7\n",
    "xgb_params['colsample_bytree']=0.7\n",
    "xgb_params['seed']=0\n",
    "xgb_params['nrounds']=1000\n"
   ]
  },
  {
   "cell_type": "code",
   "execution_count": null,
   "metadata": {
    "collapsed": false
   },
   "outputs": [],
   "source": [
    "xg = XgbWrapper(seed=SEED, params=xgb_params)\n",
    "et = SklearnWrapper(clf=ExtraTreesClassifier, seed=SEED, params=et_params)\n",
    "rf = SklearnWrapper(clf=RandomForestClassifier, seed=SEED, params=rf_params)"
   ]
  },
  {
   "cell_type": "code",
   "execution_count": null,
   "metadata": {
    "collapsed": true
   },
   "outputs": [],
   "source": [
    "train_st_sklearn = train_st.copy()\n",
    "test_st_sklearn = test_st.copy()"
   ]
  },
  {
   "cell_type": "code",
   "execution_count": null,
   "metadata": {
    "collapsed": false
   },
   "outputs": [],
   "source": [
    "test_st_sklearn = test_st_sklearn.replace(np.inf, np.nan)\n",
    "train_st_sklearn = train_st_sklearn.replace(np.inf, np.nan)"
   ]
  },
  {
   "cell_type": "code",
   "execution_count": null,
   "metadata": {
    "collapsed": true
   },
   "outputs": [],
   "source": [
    "train_st_sklearn = train_st_sklearn.fillna(train_st_sklearn.median())\n",
    "\n",
    "test_st_sklearn = test_st_sklearn.fillna(test_st_sklearn.median())"
   ]
  },
  {
   "cell_type": "code",
   "execution_count": null,
   "metadata": {
    "collapsed": false
   },
   "outputs": [],
   "source": [
    "%%time\n",
    "xg_oof_train, xg_oof_test = get_oof(xg, train_x, train_y, test_x)"
   ]
  },
  {
   "cell_type": "code",
   "execution_count": null,
   "metadata": {
    "collapsed": false
   },
   "outputs": [],
   "source": [
    "xg_oof_train.shape"
   ]
  },
  {
   "cell_type": "code",
   "execution_count": null,
   "metadata": {
    "collapsed": true
   },
   "outputs": [],
   "source": [
    "xg_oof_test.shape"
   ]
  },
  {
   "cell_type": "code",
   "execution_count": null,
   "metadata": {
    "collapsed": true
   },
   "outputs": [],
   "source": [
    "x_train_after_stack = np.concatenate((xg_oof_train, et_oof_train, rf_oof_train), axis=1)\n",
    "x_test_after_stack = np.concatenate((xg_oof_test, et_oof_test, rf_oof_test), axis=1)"
   ]
  },
  {
   "cell_type": "code",
   "execution_count": null,
   "metadata": {
    "collapsed": false
   },
   "outputs": [],
   "source": [
    "%%time\n",
    "p, model = runXGB(x_train_after_stack, train_y, x_test_after_stack, num_rounds=1000)\n",
    "out_df = pd.DataFrame(p)\n",
    "out_df.columns = [\"high\", \"medium\", \"low\"]\n",
    "out_df[\"listing_id\"] = test.listing_id.values\n",
    "out_df.to_csv(\"xgb_4.csv\", index=False)"
   ]
  },
  {
   "cell_type": "markdown",
   "metadata": {
    "collapsed": true
   },
   "source": [
    "## Add more models for stack 1"
   ]
  },
  {
   "cell_type": "code",
   "execution_count": null,
   "metadata": {
    "collapsed": true
   },
   "outputs": [],
   "source": [
    "%store "
   ]
  }
 ],
 "metadata": {
  "anaconda-cloud": {},
  "kernelspec": {
   "display_name": "Python [Root]",
   "language": "python",
   "name": "Python [Root]"
  },
  "language_info": {
   "codemirror_mode": {
    "name": "ipython",
    "version": 3
   },
   "file_extension": ".py",
   "mimetype": "text/x-python",
   "name": "python",
   "nbconvert_exporter": "python",
   "pygments_lexer": "ipython3",
   "version": "3.5.2"
  }
 },
 "nbformat": 4,
 "nbformat_minor": 0
}
