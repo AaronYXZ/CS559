{
 "cells": [
  {
   "cell_type": "code",
   "execution_count": 1,
   "metadata": {
    "collapsed": false
   },
   "outputs": [
    {
     "name": "stderr",
     "output_type": "stream",
     "text": [
      "/Users/Aaron/anaconda/lib/python3.5/site-packages/sklearn/cross_validation.py:44: DeprecationWarning: This module was deprecated in version 0.18 in favor of the model_selection module into which all the refactored classes and functions are moved. Also note that the interface of the new CV iterators are different from that of this module. This module will be removed in 0.20.\n",
      "  \"This module will be removed in 0.20.\", DeprecationWarning)\n"
     ]
    }
   ],
   "source": [
    "import numpy as np\n",
    "from sklearn.preprocessing import StandardScaler\n",
    "import pandas as pd\n",
    "from collections import defaultdict\n",
    "from scipy import sparse\n",
    "from sklearn.feature_extraction.text import TfidfVectorizer, CountVectorizer\n",
    "import xgboost as xgb\n",
    "from sklearn.cross_validation import StratifiedKFold\n",
    "from sklearn.metrics import log_loss\n",
    "from scipy.sparse import csr_matrix\n",
    "\n",
    "import sys"
   ]
  },
  {
   "cell_type": "code",
   "execution_count": 2,
   "metadata": {
    "collapsed": true
   },
   "outputs": [],
   "source": [
    "def load_data_sparse(data_path=\"\"):\n",
    "  \n",
    "    \n",
    "    train_file = data_path + \"train.json\"\n",
    "    test_file = data_path + \"test.json\"\n",
    "    train_df = pd.read_json(train_file)\n",
    "    test_df = pd.read_json(test_file)\n",
    "    print(train_df.shape)\n",
    "    print(test_df.shape)\n",
    "    features_to_use  = [\"bathrooms\", \"bedrooms\", \"latitude\", \"longitude\", \"price\"]\n",
    "    \n",
    "    # count of photos #\n",
    "    train_df[\"num_photos\"] = train_df[\"photos\"].apply(len)\n",
    "    test_df[\"num_photos\"] = test_df[\"photos\"].apply(len)\n",
    "    \n",
    "    # count of \"features\" #\n",
    "    train_df[\"num_features\"] = train_df[\"features\"].apply(len)\n",
    "    test_df[\"num_features\"] = test_df[\"features\"].apply(len)\n",
    "\n",
    "    train_df[\"listing_id\"] = train_df[\"listing_id\"] - 68119576.0\n",
    "    test_df[\"listing_id\"] =  test_df[\"listing_id\"] - 68119576.0\n",
    "    \n",
    "    # count of words present in description column #\n",
    "    train_df[\"num_description_words\"] = train_df[\"description\"].apply(lambda x: len(x.split(\" \")))\n",
    "    test_df[\"num_description_words\"] = test_df[\"description\"].apply(lambda x: len(x.split(\" \")))\n",
    " \n",
    "    train_df[\"num_price_by_furniture\"] = (train_df[\"price\"])/ (train_df[\"bathrooms\"] + train_df[\"bedrooms\"] + 1.0)\n",
    "    test_df[\"num_price_by_furniture\"] =  (test_df[\"price\"])/ (test_df[\"bathrooms\"] + test_df[\"bedrooms\"] +  1.0)\n",
    "    \n",
    "    train_df[\"price_latitue\"] = (train_df[\"price\"])/ (train_df[\"latitude\"]+1.0)\n",
    "    test_df[\"price_latitue\"] =  (test_df[\"price\"])/ (test_df[\"latitude\"]+1.0)\n",
    "    \n",
    "    train_df[\"price_longtitude\"] = (train_df[\"price\"])/ (train_df[\"longitude\"]-1.0)\n",
    "    test_df[\"price_longtitude\"] =  (test_df[\"price\"])/ (test_df[\"longitude\"]-1.0)  \n",
    "\n",
    "    train_df[\"num_furniture\"] =  train_df[\"bathrooms\"] + train_df[\"bedrooms\"] \n",
    "    test_df[\"num_furniture\"] =   test_df[\"bathrooms\"] + test_df[\"bedrooms\"] \n",
    "    \n",
    "    train_df[\"num_furniture\"] = train_df[\"num_furniture\"].apply(lambda x:  str(x) if float(x)<9.5 else '10')\n",
    "    test_df[\"num_furniture\"] = test_df[\"num_furniture\"].apply(lambda x:  str(x) if float(x)<9.5 else '10')\n",
    "            \n",
    "    # convert the created column to datetime object so as to extract more features \n",
    "    train_df[\"created\"] = pd.to_datetime(train_df[\"created\"])\n",
    "    test_df[\"created\"] = pd.to_datetime(test_df[\"created\"])\n",
    "    \n",
    "    # Let us extract some features like year, month, day, hour from date columns #\n",
    "    train_df[\"created_month\"] = train_df[\"created\"].dt.month\n",
    "    test_df[\"created_month\"] = test_df[\"created\"].dt.month\n",
    "    train_df[\"created_day\"] = train_df[\"created\"].dt.day\n",
    "    test_df[\"created_day\"] = test_df[\"created\"].dt.day\n",
    "           \n",
    "    train_df[\"created_hour\"] = train_df[\"created\"].dt.hour\n",
    "    test_df[\"created_hour\"] = test_df[\"created\"].dt.hour\n",
    "    train_df[\"total_days\"] =   (train_df[\"created_month\"] -4.0)*30 + train_df[\"created_day\"] +  train_df[\"created_hour\"] /25.0\n",
    "    test_df[\"total_days\"] =(test_df[\"created_month\"] -4.0)*30 + test_df[\"created_day\"] +  test_df[\"created_hour\"] /25.0        \n",
    "    train_df[\"diff_rank\"]= train_df[\"total_days\"]/train_df[\"listing_id\"]\n",
    "    test_df[\"diff_rank\"]= test_df[\"total_days\"]/test_df[\"listing_id\"]\n",
    "     \n",
    "    categorical = [ \"display_address\", \"manager_id\", \"building_id\",\"street_address\",\"num_furniture\"]#,\"num_furniture\",\"latitude_binned\"]#\"\", \"\",\"street_address\"\n",
    "    lencat=len(categorical)\n",
    "\n",
    "    for f in range (0,lencat):\n",
    "        for s in range (f+1,lencat): \n",
    "            train_df[categorical[f] + \"_\" +categorical[s]] =train_df[categorical[f]]+\"_\" + train_df[categorical[s]]\n",
    "            test_df[categorical[f] + \"_\" +categorical[s]] =test_df[categorical[f]]+\"_\" + test_df[categorical[s]]            \n",
    "            categorical.append(categorical[f] + \"_\" +categorical[s])\n",
    "       \n",
    "    # adding all these new features to use list #\n",
    "    features_to_use.extend([\"num_photos\", \"num_features\", \"num_description_words\", \"created_month\", \"created_day\", \"listing_id\", \"created_hour\",\"total_days\",\"diff_rank\",#\"listing_rank\",\"total_days_rank\",\n",
    "    \"num_price_by_furniture\",\"price_latitue\",\"price_longtitude\"])#,\"price_latitue_longtitude\"]) \"created_year\", #,\"num_description_length\"\n",
    "    result = pd.concat([train_df,test_df])\n",
    "\n",
    "    for f in categorical:\n",
    "            if train_df[f].dtype=='object':\n",
    "\n",
    "                cases=defaultdict(int)\n",
    "                temp=np.array(result[f]).tolist()\n",
    "                for k in temp:\n",
    "                    cases[k]+=1\n",
    "                print (f, len(cases)) \n",
    "                \n",
    "                train_df[f]=train_df[f].apply(lambda x: cases[x])\n",
    "                test_df[f]=test_df[f].apply(lambda x: cases[x])               \n",
    "                \n",
    "                features_to_use.append(f)  \n",
    "\n",
    "    train_df['features'] =  train_df['features'].apply(lambda x: \" \".join([\"_\".join(i.split(\" \")) for i in x]))\n",
    "    test_df['features'] =test_df['features'].apply(lambda x: \" \".join([\"_\".join(i.split(\" \")) for i in x]))  \n",
    "\n",
    "    train_df['description'] =  train_df['description'].apply(lambda x: str(x).encode('utf-8') if len(x)>2 else \"nulldesc\") \n",
    "    test_df['description'] =test_df['description'].apply(lambda x: str(x).encode('utf-8') if len(x)>2 else \"nulldesc\") \n",
    "    \n",
    "    tfidfdesc=TfidfVectorizer(min_df=20, max_features=50, strip_accents='unicode',lowercase =True,\n",
    "                        analyzer='word', token_pattern=r'\\w{16,}', ngram_range=(1, 2), use_idf=False,smooth_idf=False, \n",
    "    sublinear_tf=True, stop_words = 'english')  \n",
    "    \n",
    "    print(train_df[\"features\"].head())\n",
    "       \n",
    "    tfidf = CountVectorizer(stop_words='english', max_features=200)\n",
    "    \n",
    "    te_sparse = tfidf.fit_transform (test_df[\"features\"])  \n",
    "    tr_sparse = tfidf.transform(train_df[\"features\"])   \n",
    "\n",
    "    te_sparsed = tfidfdesc. fit_transform (test_df[\"description\"])  \n",
    "    tr_sparsed = tfidfdesc.transform(train_df[\"description\"])\n",
    "    print(features_to_use)\n",
    "    \n",
    "\n",
    "    train_X = sparse.hstack([train_df[features_to_use], tr_sparse,tr_sparsed]).tocsr()#\n",
    "    test_X = sparse.hstack([test_df[features_to_use], te_sparse,te_sparsed]).tocsr()#\n",
    "    \n",
    "    target_num_map = {'high':0, 'medium':1, 'low':2}\n",
    "    train_y = np.array(train_df['interest_level'].apply(lambda x: target_num_map[x]))\n",
    "    ids= test_df.listing_id.values\n",
    "    ids_train= train_df.listing_id.values\n",
    "    print(train_X.shape, test_X.shape)    \n",
    "    return train_X,test_X,train_y,ids,ids_train\n"
   ]
  },
  {
   "cell_type": "code",
   "execution_count": 3,
   "metadata": {
    "collapsed": true
   },
   "outputs": [],
   "source": [
    "#create average value of the target variabe given a categorical feature        \n",
    "def convert_dataset_to_avg(xc,yc,xt, rounding=2,cols=None):\n",
    "    xc=xc.tolist()\n",
    "    xt=xt.tolist()\n",
    "    yc=yc.tolist()\n",
    "    if cols==None:\n",
    "        cols=[k for k in range(0,len(xc[0]))]\n",
    "    woe=[ [0.0 for k in range(0,len(cols))] for g in range(0,len(xt))]\n",
    "    good=[]\n",
    "    bads=[]\n",
    "    for col in cols:\n",
    "        dictsgoouds=defaultdict(int)        \n",
    "        dictsbads=defaultdict(int)\n",
    "        good.append(dictsgoouds)\n",
    "        bads.append(dictsbads)        \n",
    "    total_count=0.0\n",
    "    total_sum =0.0\n",
    "\n",
    "    for a in range (0,len(xc)):\n",
    "        target=yc[a]\n",
    "        total_sum+=target\n",
    "        total_count+=1.0\n",
    "        for j in range(0,len(cols)):\n",
    "            col=cols[j]\n",
    "            good[j][round(xc[a][col],rounding)]+=target\n",
    "            bads[j][round(xc[a][col],rounding)]+=1.0  \n",
    "    #print(total_goods,total_bads)            \n",
    "    \n",
    "    for a in range (0,len(xt)):    \n",
    "        for j in range(0,len(cols)):\n",
    "            col=cols[j]\n",
    "            if round(xt[a][col],rounding) in good[j]:\n",
    "                 woe[a][j]=float(good[j][round(xt[a][col],rounding)])/float(bads[j][round(xt[a][col],rounding)])  \n",
    "            else :\n",
    "                 woe[a][j]=round(total_sum/total_count)\n",
    "    return woe            \n",
    "    "
   ]
  },
  {
   "cell_type": "code",
   "execution_count": 4,
   "metadata": {
    "collapsed": true
   },
   "outputs": [],
   "source": [
    "#converts the select categorical features to numerical via creating averages based on the target variable within kfold. \n",
    "\n",
    "def convert_to_avg(X,y, Xt, seed=1, cvals=5, roundings=2, columns=None):\n",
    "    \n",
    "    if columns==None:\n",
    "        columns=[k for k in range(0,(X.shape[1]))]    \n",
    "    #print(\"it is not!!\")        \n",
    "    X=X.tolist()\n",
    "    Xt=Xt.tolist() \n",
    "    woetrain=[ [0.0 for k in range(0,len(X[0]))] for g in range(0,len(X))]\n",
    "    woetest=[ [0.0 for k in range(0,len(X[0]))] for g in range(0,len(Xt))]    \n",
    "    \n",
    "    kfolder=StratifiedKFold(y, n_folds=cvals,shuffle=True, random_state=seed)\n",
    "    for train_index, test_index in kfolder:\n",
    "        # creaning and validation sets\n",
    "        X_train, X_cv = np.array(X)[train_index], np.array(X)[test_index]\n",
    "        y_train = np.array(y)[train_index]\n",
    "\n",
    "        woecv=convert_dataset_to_avg(X_train,y_train,X_cv, rounding=roundings,cols=columns)\n",
    "        X_cv=X_cv.tolist()\n",
    "        no=0\n",
    "        for real_index in test_index:\n",
    "            for j in range(0,len(X_cv[0])):\n",
    "                woetrain[real_index][j]=X_cv[no][j]\n",
    "            no+=1\n",
    "        no=0\n",
    "        for real_index in test_index:\n",
    "            for j in range(0,len(columns)):\n",
    "                col=columns[j]\n",
    "                woetrain[real_index][col]=woecv[no][j]\n",
    "            no+=1      \n",
    "    woefinal=convert_dataset_to_avg(np.array(X),np.array(y),np.array(Xt), rounding=roundings,cols=columns) \n",
    "\n",
    "    for real_index in range(0,len(Xt)):\n",
    "        for j in range(0,len(Xt[0])):           \n",
    "            woetest[real_index][j]=Xt[real_index][j]\n",
    "            \n",
    "    for real_index in range(0,len(Xt)):\n",
    "        for j in range(0,len(columns)):\n",
    "            col=columns[j]\n",
    "            woetest[real_index][col]=woefinal[real_index][j]\n",
    "            \n",
    "    return np.array(woetrain), np.array(woetest)\n",
    "\n",
    "        X,X_test,y,ids,ids_tr=load_data_sparse (data_path=\"\")"
   ]
  },
  {
   "cell_type": "code",
   "execution_count": 5,
   "metadata": {
    "collapsed": true
   },
   "outputs": [],
   "source": [
    "train_file=\"train_stacknet.csv\"\n",
    "test_file=\"test_stacknet.csv\""
   ]
  },
  {
   "cell_type": "code",
   "execution_count": 13,
   "metadata": {
    "collapsed": false
   },
   "outputs": [
    {
     "name": "stdout",
     "output_type": "stream",
     "text": [
      "(49352, 15)\n",
      "(74659, 14)\n",
      "display_address 16068\n",
      "manager_id 4399\n",
      "building_id 11635\n",
      "street_address 25766\n",
      "num_furniture 19\n",
      "display_address_manager_id 62997\n",
      "display_address_building_id 28492\n",
      "display_address_street_address 29336\n",
      "display_address_num_furniture 25625\n",
      "manager_id_building_id 58550\n",
      "manager_id_street_address 73650\n",
      "manager_id_num_furniture 15233\n",
      "building_id_street_address 29348\n",
      "building_id_num_furniture 19148\n",
      "street_address_num_furniture 37085\n",
      "10                                                         \n",
      "10000     Doorman Elevator Fitness_Center Cats_Allowed D...\n",
      "100004    Laundry_In_Building Dishwasher Hardwood_Floors...\n",
      "100007                               Hardwood_Floors No_Fee\n",
      "100013                                              Pre-War\n",
      "Name: features, dtype: object\n",
      "['bathrooms', 'bedrooms', 'latitude', 'longitude', 'price', 'num_photos', 'num_features', 'num_description_words', 'created_month', 'created_day', 'listing_id', 'created_hour', 'total_days', 'diff_rank', 'num_price_by_furniture', 'price_latitue', 'price_longtitude', 'display_address', 'manager_id', 'building_id', 'street_address', 'num_furniture', 'display_address_manager_id', 'display_address_building_id', 'display_address_street_address', 'display_address_num_furniture', 'manager_id_building_id', 'manager_id_street_address', 'manager_id_num_furniture', 'building_id_street_address', 'building_id_num_furniture', 'street_address_num_furniture']\n",
      "(49352, 282) (74659, 282)\n"
     ]
    }
   ],
   "source": [
    "X,X_test,y,ids,ids_tr=load_data_sparse(data_path=\"\")"
   ]
  },
  {
   "cell_type": "code",
   "execution_count": 14,
   "metadata": {
    "collapsed": false
   },
   "outputs": [
    {
     "data": {
      "text/plain": [
       "(49352, 282)"
      ]
     },
     "execution_count": 14,
     "metadata": {},
     "output_type": "execute_result"
    }
   ],
   "source": [
    "X.shape"
   ]
  },
  {
   "cell_type": "code",
   "execution_count": 15,
   "metadata": {
    "collapsed": false
   },
   "outputs": [
    {
     "data": {
      "text/plain": [
       "(74659, 282)"
      ]
     },
     "execution_count": 15,
     "metadata": {},
     "output_type": "execute_result"
    }
   ],
   "source": [
    "X_test.shape"
   ]
  },
  {
   "cell_type": "code",
   "execution_count": 42,
   "metadata": {
    "collapsed": false
   },
   "outputs": [
    {
     "data": {
      "text/plain": [
       "(49352,)"
      ]
     },
     "execution_count": 42,
     "metadata": {},
     "output_type": "execute_result"
    }
   ],
   "source": [
    "y.shape"
   ]
  },
  {
   "cell_type": "code",
   "execution_count": 44,
   "metadata": {
    "collapsed": false
   },
   "outputs": [
    {
     "data": {
      "text/plain": [
       "array([1, 2, 0, 2, 2, 1, 2, 2, 1, 2])"
      ]
     },
     "execution_count": 44,
     "metadata": {},
     "output_type": "execute_result"
    }
   ],
   "source": [
    "y[:10]"
   ]
  },
  {
   "cell_type": "code",
   "execution_count": 16,
   "metadata": {
    "collapsed": false
   },
   "outputs": [
    {
     "data": {
      "text/plain": [
       "(74659,)"
      ]
     },
     "execution_count": 16,
     "metadata": {},
     "output_type": "execute_result"
    }
   ],
   "source": [
    "ids.shape"
   ]
  },
  {
   "cell_type": "code",
   "execution_count": null,
   "metadata": {
    "collapsed": true
   },
   "outputs": [],
   "source": []
  },
  {
   "cell_type": "code",
   "execution_count": 17,
   "metadata": {
    "collapsed": false
   },
   "outputs": [
    {
     "data": {
      "text/plain": [
       "(49352,)"
      ]
     },
     "execution_count": 17,
     "metadata": {},
     "output_type": "execute_result"
    }
   ],
   "source": [
    "ids_tr.shape"
   ]
  },
  {
   "cell_type": "code",
   "execution_count": 18,
   "metadata": {
    "collapsed": false
   },
   "outputs": [
    {
     "data": {
      "text/plain": [
       "array([-60976958., -60909536., -61015686., -60976134., -61258975.,\n",
       "       -61279495., -61197239., -61205960., -61181756., -61225643.])"
      ]
     },
     "execution_count": 18,
     "metadata": {},
     "output_type": "execute_result"
    }
   ],
   "source": [
    "ids[:10]"
   ]
  },
  {
   "cell_type": "code",
   "execution_count": 19,
   "metadata": {
    "collapsed": false
   },
   "outputs": [
    {
     "data": {
      "text/plain": [
       "(74659,)"
      ]
     },
     "execution_count": 19,
     "metadata": {},
     "output_type": "execute_result"
    }
   ],
   "source": [
    "ids= np.array([int(k)+68119576 for k in ids ])\n",
    "ids.shape"
   ]
  },
  {
   "cell_type": "code",
   "execution_count": 20,
   "metadata": {
    "collapsed": false
   },
   "outputs": [
    {
     "data": {
      "text/plain": [
       "array([7142618, 7210040, 7103890, 7143442, 6860601, 6840081, 6922337,\n",
       "       6913616, 6937820, 6893933])"
      ]
     },
     "execution_count": 20,
     "metadata": {},
     "output_type": "execute_result"
    }
   ],
   "source": [
    "ids[:10]"
   ]
  },
  {
   "cell_type": "code",
   "execution_count": 21,
   "metadata": {
    "collapsed": true
   },
   "outputs": [],
   "source": [
    "ids_tr= np.array([int(k)+68119576 for k in ids_tr ])"
   ]
  },
  {
   "cell_type": "code",
   "execution_count": 22,
   "metadata": {
    "collapsed": true
   },
   "outputs": [],
   "source": [
    "np.savetxt(\"train_ids.csv\", ids_tr, delimiter=\",\", fmt='%d')"
   ]
  },
  {
   "cell_type": "code",
   "execution_count": 23,
   "metadata": {
    "collapsed": true
   },
   "outputs": [],
   "source": [
    "X=X.toarray()\n",
    "X_test=X_test.toarray() "
   ]
  },
  {
   "cell_type": "code",
   "execution_count": 24,
   "metadata": {
    "collapsed": true
   },
   "outputs": [],
   "source": [
    "stda=StandardScaler()  \n",
    "X_test=stda.fit_transform (X_test)          \n",
    "X=stda.transform(X)"
   ]
  },
  {
   "cell_type": "code",
   "execution_count": 62,
   "metadata": {
    "collapsed": false
   },
   "outputs": [],
   "source": [
    "CO=[0,14,21] # columns to create averages on\n",
    "        \n",
    "#Create Arrays for meta\n",
    "train_stacker=[ [0.0 for s in range(3)]  for k in range (0,(X.shape[0])) ]\n",
    "test_stacker=[[0.0 for s in range(3)]   for k in range (0,(X_test.shape[0]))]"
   ]
  },
  {
   "cell_type": "code",
   "execution_count": 29,
   "metadata": {
    "collapsed": false
   },
   "outputs": [
    {
     "data": {
      "text/plain": [
       "49352"
      ]
     },
     "execution_count": 29,
     "metadata": {},
     "output_type": "execute_result"
    }
   ],
   "source": [
    "len(train_stacker)"
   ]
  },
  {
   "cell_type": "code",
   "execution_count": 30,
   "metadata": {
    "collapsed": false
   },
   "outputs": [
    {
     "data": {
      "text/plain": [
       "74659"
      ]
     },
     "execution_count": 30,
     "metadata": {},
     "output_type": "execute_result"
    }
   ],
   "source": [
    "len(test_stacker)"
   ]
  },
  {
   "cell_type": "code",
   "execution_count": 63,
   "metadata": {
    "collapsed": true
   },
   "outputs": [],
   "source": [
    "number_of_folds=5"
   ]
  },
  {
   "cell_type": "code",
   "execution_count": 64,
   "metadata": {
    "collapsed": false
   },
   "outputs": [],
   "source": [
    "mean_logloss = 0.0\n",
    "kfolder=StratifiedKFold(y, n_folds=number_of_folds,shuffle=True, random_state=15) "
   ]
  },
  {
   "cell_type": "code",
   "execution_count": 65,
   "metadata": {
    "collapsed": false
   },
   "outputs": [],
   "source": [
    "#xgboost_params\n",
    "param={}\n",
    "param['booster']='gbtree'\n",
    "param['objective']='multi:softprob'\n",
    "param['bst:eta']=0.04\n",
    "param['seed']=1\n",
    "param['bst:max_depth']=6\n",
    "param['bst:min_child_weight']=1.\n",
    "param['silent']=1\n",
    "param['nthread']=12#putmoreifyouhave\n",
    "param['bst:subsample']=0.7\n",
    "param['gamma']=1.0\n",
    "param['colsample_bytree']=1.0\n",
    "param['num_parallel_tree']=3\n",
    "param['colsample_bylevel']=0.7\n",
    "param['lambda']=5\n",
    "param['num_class']=3"
   ]
  },
  {
   "cell_type": "code",
   "execution_count": 37,
   "metadata": {
    "collapsed": true
   },
   "outputs": [],
   "source": [
    "i=0 # iterator counter"
   ]
  },
  {
   "cell_type": "code",
   "execution_count": 39,
   "metadata": {
    "collapsed": true
   },
   "outputs": [],
   "source": [
    "for train_index, test_index in kfolder:\n",
    "    tr = train_index\n",
    "    te = test_index\n",
    "    break"
   ]
  },
  {
   "cell_type": "code",
   "execution_count": 41,
   "metadata": {
    "collapsed": false
   },
   "outputs": [],
   "source": [
    "X_train, X_cv = X[train_index], X[test_index]\n",
    "y_train, y_cv = np.array(y)[train_index], np.array(y)[test_index]"
   ]
  },
  {
   "cell_type": "code",
   "execution_count": 45,
   "metadata": {
    "collapsed": true
   },
   "outputs": [],
   "source": [
    "W_train,W_cv=convert_to_avg(X_train,y_train, X_cv, seed=1, cvals=5, roundings=2, columns=CO)\n",
    "W_train=np.column_stack((X_train,W_train[:,CO]))\n",
    "W_cv=np.column_stack((X_cv,W_cv[:,CO])) "
   ]
  },
  {
   "cell_type": "code",
   "execution_count": 46,
   "metadata": {
    "collapsed": false
   },
   "outputs": [
    {
     "data": {
      "text/plain": [
       "(39481, 285)"
      ]
     },
     "execution_count": 46,
     "metadata": {},
     "output_type": "execute_result"
    }
   ],
   "source": [
    "W_train.shape"
   ]
  },
  {
   "cell_type": "code",
   "execution_count": 47,
   "metadata": {
    "collapsed": false
   },
   "outputs": [
    {
     "data": {
      "text/plain": [
       "(9871, 285)"
      ]
     },
     "execution_count": 47,
     "metadata": {},
     "output_type": "execute_result"
    }
   ],
   "source": [
    "W_cv.shape"
   ]
  },
  {
   "cell_type": "code",
   "execution_count": 49,
   "metadata": {
    "collapsed": false
   },
   "outputs": [
    {
     "data": {
      "text/plain": [
       "array([[-0.32765419, -0.49201447,  0.00463638, ...,  1.58776289,\n",
       "         1.64937388,  1.6740831 ],\n",
       "       [-0.32765419, -0.49201447,  0.02335505, ...,  1.58966228,\n",
       "         1.70163619,  1.67754728],\n",
       "       [-0.32765419,  2.21799746,  0.11037827, ...,  1.58714869,\n",
       "         1.40609137,  1.5799294 ],\n",
       "       [ 1.21124454,  2.21799746,  0.00971893, ...,  1.67564809,\n",
       "         1.71676301,  1.59345794],\n",
       "       [-0.32765419,  0.41132284,  0.08199035, ...,  1.58815596,\n",
       "         1.59929287,  1.50721766]])"
      ]
     },
     "execution_count": 49,
     "metadata": {},
     "output_type": "execute_result"
    }
   ],
   "source": [
    "W_train[:5]"
   ]
  },
  {
   "cell_type": "code",
   "execution_count": 56,
   "metadata": {
    "collapsed": false
   },
   "outputs": [],
   "source": [
    "logs = log_loss(y_cv,preds)"
   ]
  },
  {
   "cell_type": "code",
   "execution_count": 57,
   "metadata": {
    "collapsed": false
   },
   "outputs": [
    {
     "data": {
      "text/plain": [
       "0.54401297674714122"
      ]
     },
     "execution_count": 57,
     "metadata": {},
     "output_type": "execute_result"
    }
   ],
   "source": [
    "logs"
   ]
  },
  {
   "cell_type": "code",
   "execution_count": 58,
   "metadata": {
    "collapsed": false
   },
   "outputs": [
    {
     "name": "stdout",
     "output_type": "stream",
     "text": [
      "size train: 39481 size cv: 9871 loglikelihood (fold 1/5): 0.544013\n"
     ]
    }
   ],
   "source": [
    "print (\"size train: %d size cv: %d loglikelihood (fold %d/%d): %f\" % ((W_train.shape[0]), (W_cv.shape[0]), i + 1, number_of_folds, logs))"
   ]
  },
  {
   "cell_type": "code",
   "execution_count": 59,
   "metadata": {
    "collapsed": true
   },
   "outputs": [],
   "source": [
    "mean_logloss += logs"
   ]
  },
  {
   "cell_type": "code",
   "execution_count": 60,
   "metadata": {
    "collapsed": true
   },
   "outputs": [],
   "source": [
    "no=0\n",
    "for real_index in test_index:\n",
    "    for d in range (0,3):\n",
    "        train_stacker[real_index][d]=(preds[no][d])\n",
    "    no+=1\n",
    "i+=1"
   ]
  },
  {
   "cell_type": "code",
   "execution_count": 61,
   "metadata": {
    "collapsed": false
   },
   "outputs": [
    {
     "data": {
      "text/plain": [
       "[[0.0026977547, 0.11758988, 0.87971234],\n",
       " [0.00065328309, 0.0084995879, 0.99084711],\n",
       " [0.0, 0.0, 0.0],\n",
       " [0.0, 0.0, 0.0],\n",
       " [0.0, 0.0, 0.0],\n",
       " [0.0, 0.0, 0.0],\n",
       " [0.0, 0.0, 0.0],\n",
       " [0.0, 0.0, 0.0],\n",
       " [0.0, 0.0, 0.0],\n",
       " [0.0, 0.0, 0.0],\n",
       " [0.0, 0.0, 0.0],\n",
       " [0.0026101295, 0.0061752307, 0.99121463],\n",
       " [0.0, 0.0, 0.0],\n",
       " [0.00042486773, 0.016932966, 0.98264217],\n",
       " [0.002747315, 0.018073607, 0.97917914],\n",
       " [0.0, 0.0, 0.0],\n",
       " [0.0, 0.0, 0.0],\n",
       " [0.0, 0.0, 0.0],\n",
       " [0.0, 0.0, 0.0],\n",
       " [0.0, 0.0, 0.0],\n",
       " [0.05584516, 0.42349088, 0.52066398],\n",
       " [0.0, 0.0, 0.0],\n",
       " [0.0, 0.0, 0.0],\n",
       " [0.0, 0.0, 0.0],\n",
       " [0.0, 0.0, 0.0],\n",
       " [0.0, 0.0, 0.0],\n",
       " [0.0, 0.0, 0.0],\n",
       " [0.03473413, 0.28574759, 0.67951828],\n",
       " [0.44673365, 0.46995655, 0.083309814],\n",
       " [0.00065307063, 0.041907102, 0.95743984],\n",
       " [0.0, 0.0, 0.0],\n",
       " [0.0, 0.0, 0.0],\n",
       " [0.0, 0.0, 0.0],\n",
       " [0.0, 0.0, 0.0],\n",
       " [0.0, 0.0, 0.0],\n",
       " [0.0, 0.0, 0.0],\n",
       " [0.016404193, 0.0093390848, 0.97425675],\n",
       " [0.08632911, 0.49154958, 0.42212129],\n",
       " [0.0, 0.0, 0.0],\n",
       " [0.0, 0.0, 0.0],\n",
       " [0.0, 0.0, 0.0],\n",
       " [0.0, 0.0, 0.0],\n",
       " [0.0, 0.0, 0.0],\n",
       " [0.0, 0.0, 0.0],\n",
       " [0.009713253, 0.056721766, 0.93356502],\n",
       " [0.0, 0.0, 0.0],\n",
       " [0.0, 0.0, 0.0],\n",
       " [0.0, 0.0, 0.0],\n",
       " [0.0, 0.0, 0.0],\n",
       " [0.0, 0.0, 0.0],\n",
       " [0.12001656, 0.62299687, 0.25698656],\n",
       " [0.0, 0.0, 0.0],\n",
       " [0.0050476934, 0.053834438, 0.94111788],\n",
       " [0.0, 0.0, 0.0],\n",
       " [0.0, 0.0, 0.0],\n",
       " [0.0, 0.0, 0.0],\n",
       " [0.0, 0.0, 0.0],\n",
       " [0.0, 0.0, 0.0],\n",
       " [0.15594698, 0.70219666, 0.14185636],\n",
       " [0.0, 0.0, 0.0],\n",
       " [0.0, 0.0, 0.0],\n",
       " [0.0, 0.0, 0.0],\n",
       " [0.16943811, 0.46054626, 0.37001562],\n",
       " [0.0, 0.0, 0.0],\n",
       " [0.0, 0.0, 0.0],\n",
       " [0.0, 0.0, 0.0],\n",
       " [0.0, 0.0, 0.0],\n",
       " [0.0, 0.0, 0.0],\n",
       " [0.0, 0.0, 0.0],\n",
       " [0.10737397, 0.54003102, 0.35259503],\n",
       " [0.0, 0.0, 0.0],\n",
       " [0.0032972146, 0.13184784, 0.86485499],\n",
       " [0.0, 0.0, 0.0],\n",
       " [0.0, 0.0, 0.0],\n",
       " [0.0, 0.0, 0.0],\n",
       " [0.0, 0.0, 0.0],\n",
       " [0.0, 0.0, 0.0],\n",
       " [0.0, 0.0, 0.0],\n",
       " [0.2478922, 0.552046, 0.2000618],\n",
       " [0.0, 0.0, 0.0],\n",
       " [0.0, 0.0, 0.0],\n",
       " [0.053937208, 0.3080163, 0.63804644],\n",
       " [0.0, 0.0, 0.0],\n",
       " [0.15022065, 0.52666944, 0.32310992],\n",
       " [0.0, 0.0, 0.0],\n",
       " [0.0, 0.0, 0.0],\n",
       " [0.0, 0.0, 0.0],\n",
       " [0.025062202, 0.24026431, 0.73467344],\n",
       " [0.0, 0.0, 0.0],\n",
       " [0.0038061035, 0.11098614, 0.88520771],\n",
       " [0.0, 0.0, 0.0],\n",
       " [0.0, 0.0, 0.0],\n",
       " [0.0, 0.0, 0.0],\n",
       " [0.016836517, 0.33998182, 0.64318168],\n",
       " [0.0, 0.0, 0.0],\n",
       " [0.0, 0.0, 0.0],\n",
       " [0.076873578, 0.32569641, 0.59742999],\n",
       " [0.0, 0.0, 0.0],\n",
       " [0.0, 0.0, 0.0],\n",
       " [0.0064639295, 0.11267214, 0.8808639],\n",
       " [0.10261586, 0.52727574, 0.3701084],\n",
       " [0.0013868943, 0.0050410251, 0.99357212],\n",
       " [0.0, 0.0, 0.0],\n",
       " [0.0, 0.0, 0.0],\n",
       " [0.0036379748, 0.016463269, 0.97989881],\n",
       " [0.01078378, 0.32356, 0.66565627],\n",
       " [0.0, 0.0, 0.0],\n",
       " [0.0, 0.0, 0.0],\n",
       " [0.0, 0.0, 0.0],\n",
       " [0.0, 0.0, 0.0],\n",
       " [0.0, 0.0, 0.0],\n",
       " [0.0, 0.0, 0.0],\n",
       " [0.0, 0.0, 0.0],\n",
       " [0.0, 0.0, 0.0],\n",
       " [0.0, 0.0, 0.0],\n",
       " [0.0, 0.0, 0.0],\n",
       " [0.75081354, 0.22881226, 0.020374145],\n",
       " [0.0, 0.0, 0.0],\n",
       " [0.0, 0.0, 0.0],\n",
       " [0.0, 0.0, 0.0],\n",
       " [0.0, 0.0, 0.0],\n",
       " [0.0, 0.0, 0.0],\n",
       " [0.0, 0.0, 0.0],\n",
       " [0.0, 0.0, 0.0],\n",
       " [0.0, 0.0, 0.0],\n",
       " [0.013016344, 0.19320677, 0.79377687],\n",
       " [0.0, 0.0, 0.0],\n",
       " [0.0, 0.0, 0.0],\n",
       " [0.0, 0.0, 0.0],\n",
       " [0.0, 0.0, 0.0],\n",
       " [0.0, 0.0, 0.0],\n",
       " [0.0, 0.0, 0.0],\n",
       " [0.0, 0.0, 0.0],\n",
       " [0.0028333387, 0.039943032, 0.95722359],\n",
       " [0.0, 0.0, 0.0],\n",
       " [0.0, 0.0, 0.0],\n",
       " [0.048904121, 0.28440276, 0.66669315],\n",
       " [0.0, 0.0, 0.0],\n",
       " [0.0, 0.0, 0.0],\n",
       " [0.0, 0.0, 0.0],\n",
       " [0.0, 0.0, 0.0],\n",
       " [0.0, 0.0, 0.0],\n",
       " [0.0, 0.0, 0.0],\n",
       " [0.02103289, 0.21173251, 0.76723462],\n",
       " [0.0, 0.0, 0.0],\n",
       " [0.0, 0.0, 0.0],\n",
       " [0.0, 0.0, 0.0],\n",
       " [0.0, 0.0, 0.0],\n",
       " [0.0, 0.0, 0.0],\n",
       " [0.0, 0.0, 0.0],\n",
       " [0.0, 0.0, 0.0],\n",
       " [0.0, 0.0, 0.0],\n",
       " [0.0, 0.0, 0.0],\n",
       " [0.0, 0.0, 0.0],\n",
       " [0.0, 0.0, 0.0],\n",
       " [0.052754842, 0.29215869, 0.65508646],\n",
       " [0.0, 0.0, 0.0],\n",
       " [0.0, 0.0, 0.0],\n",
       " [0.0, 0.0, 0.0],\n",
       " [0.0, 0.0, 0.0],\n",
       " [0.0, 0.0, 0.0],\n",
       " [0.0, 0.0, 0.0],\n",
       " [0.0, 0.0, 0.0],\n",
       " [0.0, 0.0, 0.0],\n",
       " [0.00094454805, 0.03644298, 0.96261245],\n",
       " [0.0, 0.0, 0.0],\n",
       " [0.00064830825, 0.049186569, 0.95016515],\n",
       " [0.013290302, 0.24925958, 0.73745012],\n",
       " [0.0, 0.0, 0.0],\n",
       " [0.0, 0.0, 0.0],\n",
       " [0.0, 0.0, 0.0],\n",
       " [0.0, 0.0, 0.0],\n",
       " [0.0017974694, 0.021206411, 0.97699612],\n",
       " [0.0, 0.0, 0.0],\n",
       " [0.0042555542, 0.021640588, 0.97410381],\n",
       " [0.0, 0.0, 0.0],\n",
       " [0.0, 0.0, 0.0],\n",
       " [0.0, 0.0, 0.0],\n",
       " [0.0, 0.0, 0.0],\n",
       " [0.00099006272, 0.056122016, 0.9428879],\n",
       " [0.0, 0.0, 0.0],\n",
       " [0.0, 0.0, 0.0],\n",
       " [0.075150713, 0.45498496, 0.46986431],\n",
       " [0.0, 0.0, 0.0],\n",
       " [0.0, 0.0, 0.0],\n",
       " [0.0, 0.0, 0.0],\n",
       " [0.0, 0.0, 0.0],\n",
       " [0.0, 0.0, 0.0],\n",
       " [0.0, 0.0, 0.0],\n",
       " [0.0, 0.0, 0.0],\n",
       " [0.0, 0.0, 0.0],\n",
       " [0.0, 0.0, 0.0],\n",
       " [0.0, 0.0, 0.0],\n",
       " [0.0, 0.0, 0.0],\n",
       " [0.0, 0.0, 0.0],\n",
       " [0.0, 0.0, 0.0],\n",
       " [0.0, 0.0, 0.0],\n",
       " [0.0, 0.0, 0.0],\n",
       " [0.0, 0.0, 0.0],\n",
       " [0.0, 0.0, 0.0],\n",
       " [0.0, 0.0, 0.0],\n",
       " [0.0, 0.0, 0.0],\n",
       " [0.0, 0.0, 0.0],\n",
       " [0.007373285, 0.10105243, 0.89157432],\n",
       " [0.0058716689, 0.45778012, 0.53634816],\n",
       " [0.0, 0.0, 0.0],\n",
       " [0.039172094, 0.41464281, 0.54618514],\n",
       " [0.0, 0.0, 0.0],\n",
       " [0.023446228, 0.43558908, 0.54096472],\n",
       " [0.0, 0.0, 0.0],\n",
       " [0.0, 0.0, 0.0],\n",
       " [0.0, 0.0, 0.0],\n",
       " [0.0, 0.0, 0.0],\n",
       " [0.0, 0.0, 0.0],\n",
       " [0.0, 0.0, 0.0],\n",
       " [0.0, 0.0, 0.0],\n",
       " [0.0, 0.0, 0.0],\n",
       " [0.0, 0.0, 0.0],\n",
       " [0.0, 0.0, 0.0],\n",
       " [0.0, 0.0, 0.0],\n",
       " [0.0, 0.0, 0.0],\n",
       " [0.0, 0.0, 0.0],\n",
       " [0.033424247, 0.21583934, 0.75073642],\n",
       " [0.0, 0.0, 0.0],\n",
       " [0.0, 0.0, 0.0],\n",
       " [0.12997003, 0.63053346, 0.23949651],\n",
       " [0.0, 0.0, 0.0],\n",
       " [0.0, 0.0, 0.0],\n",
       " [0.084010631, 0.36610967, 0.54987967],\n",
       " [0.0, 0.0, 0.0],\n",
       " [0.0, 0.0, 0.0],\n",
       " [0.0, 0.0, 0.0],\n",
       " [0.0, 0.0, 0.0],\n",
       " [0.0, 0.0, 0.0],\n",
       " [0.0, 0.0, 0.0],\n",
       " [0.0, 0.0, 0.0],\n",
       " [0.0, 0.0, 0.0],\n",
       " [0.0, 0.0, 0.0],\n",
       " [0.0, 0.0, 0.0],\n",
       " [0.0, 0.0, 0.0],\n",
       " [0.0, 0.0, 0.0],\n",
       " [0.31806153, 0.54302049, 0.13891798],\n",
       " [0.0, 0.0, 0.0],\n",
       " [0.0, 0.0, 0.0],\n",
       " [0.0, 0.0, 0.0],\n",
       " [0.062835701, 0.16338071, 0.77378356],\n",
       " [0.0, 0.0, 0.0],\n",
       " [0.010838876, 0.11410022, 0.87506092],\n",
       " [0.0, 0.0, 0.0],\n",
       " [0.0, 0.0, 0.0],\n",
       " [0.0069942628, 0.1095138, 0.88349187],\n",
       " [0.0, 0.0, 0.0],\n",
       " [0.0, 0.0, 0.0],\n",
       " [0.0, 0.0, 0.0],\n",
       " [0.0, 0.0, 0.0],\n",
       " [0.0, 0.0, 0.0],\n",
       " [0.0, 0.0, 0.0],\n",
       " [0.058443349, 0.46739483, 0.47416186],\n",
       " [0.0, 0.0, 0.0],\n",
       " [0.0, 0.0, 0.0],\n",
       " [0.0, 0.0, 0.0],\n",
       " [0.0, 0.0, 0.0],\n",
       " [0.0, 0.0, 0.0],\n",
       " [0.0, 0.0, 0.0],\n",
       " [0.022569304, 0.11766111, 0.85976952],\n",
       " [0.0, 0.0, 0.0],\n",
       " [0.0, 0.0, 0.0],\n",
       " [0.0, 0.0, 0.0],\n",
       " [0.0, 0.0, 0.0],\n",
       " [0.0, 0.0, 0.0],\n",
       " [0.037509475, 0.5298202, 0.4326703],\n",
       " [0.0, 0.0, 0.0],\n",
       " [0.0, 0.0, 0.0],\n",
       " [0.0, 0.0, 0.0],\n",
       " [0.0, 0.0, 0.0],\n",
       " [0.0, 0.0, 0.0],\n",
       " [0.0, 0.0, 0.0],\n",
       " [0.0, 0.0, 0.0],\n",
       " [0.0061527803, 0.026082462, 0.96776474],\n",
       " [0.0, 0.0, 0.0],\n",
       " [0.0, 0.0, 0.0],\n",
       " [0.0, 0.0, 0.0],\n",
       " [0.0, 0.0, 0.0],\n",
       " [0.072931349, 0.2057822, 0.72128642],\n",
       " [0.0, 0.0, 0.0],\n",
       " [0.0046057086, 0.035685323, 0.95970899],\n",
       " [0.0, 0.0, 0.0],\n",
       " [0.0, 0.0, 0.0],\n",
       " [0.0, 0.0, 0.0],\n",
       " [0.44606134, 0.4785521, 0.075386569],\n",
       " [0.0, 0.0, 0.0],\n",
       " [0.0, 0.0, 0.0],\n",
       " [0.0, 0.0, 0.0],\n",
       " [0.0, 0.0, 0.0],\n",
       " [0.0, 0.0, 0.0],\n",
       " [0.0, 0.0, 0.0],\n",
       " [0.0, 0.0, 0.0],\n",
       " [0.0, 0.0, 0.0],\n",
       " [0.045781884, 0.1880956, 0.76612252],\n",
       " [0.0058550271, 0.011989968, 0.98215497],\n",
       " [0.0, 0.0, 0.0],\n",
       " [0.0, 0.0, 0.0],\n",
       " [0.0, 0.0, 0.0],\n",
       " [0.0, 0.0, 0.0],\n",
       " [0.0, 0.0, 0.0],\n",
       " [0.079842113, 0.57805395, 0.34210393],\n",
       " [0.0, 0.0, 0.0],\n",
       " [0.0, 0.0, 0.0],\n",
       " [0.00038526498, 0.010462935, 0.98915184],\n",
       " [0.0067697708, 0.080762342, 0.91246784],\n",
       " [0.008822877, 0.28799778, 0.7031793],\n",
       " [0.0, 0.0, 0.0],\n",
       " [0.0, 0.0, 0.0],\n",
       " [0.0, 0.0, 0.0],\n",
       " [0.0, 0.0, 0.0],\n",
       " [0.0, 0.0, 0.0],\n",
       " [0.0, 0.0, 0.0],\n",
       " [0.0, 0.0, 0.0],\n",
       " [0.67604983, 0.27144617, 0.05250397],\n",
       " [0.0, 0.0, 0.0],\n",
       " [0.0, 0.0, 0.0],\n",
       " [0.050882772, 0.40424341, 0.54487383],\n",
       " [0.014060983, 0.15223935, 0.83369964],\n",
       " [0.0, 0.0, 0.0],\n",
       " [0.0, 0.0, 0.0],\n",
       " [2.6325068e-05, 0.0010892359, 0.9988845],\n",
       " [0.30314454, 0.28292933, 0.41392609],\n",
       " [0.10903263, 0.5538727, 0.3370946],\n",
       " [0.0, 0.0, 0.0],\n",
       " [0.0, 0.0, 0.0],\n",
       " [0.0, 0.0, 0.0],\n",
       " [0.014967487, 0.32075909, 0.66427338],\n",
       " [0.0, 0.0, 0.0],\n",
       " [0.0, 0.0, 0.0],\n",
       " [0.0, 0.0, 0.0],\n",
       " [0.048888959, 0.2930766, 0.65803444],\n",
       " [0.0, 0.0, 0.0],\n",
       " [0.00020118921, 0.0099322712, 0.9898665],\n",
       " [0.0, 0.0, 0.0],\n",
       " [0.0, 0.0, 0.0],\n",
       " [0.00062924944, 0.012074954, 0.98729581],\n",
       " [0.43160698, 0.40675449, 0.16163853],\n",
       " [0.0, 0.0, 0.0],\n",
       " [0.0, 0.0, 0.0],\n",
       " [0.0, 0.0, 0.0],\n",
       " [0.0, 0.0, 0.0],\n",
       " [0.0, 0.0, 0.0],\n",
       " [0.0, 0.0, 0.0],\n",
       " [0.00034221646, 0.0055207214, 0.99413705],\n",
       " [0.0, 0.0, 0.0],\n",
       " [0.0032307324, 0.016941659, 0.97982764],\n",
       " [0.004999727, 0.13491361, 0.86008662],\n",
       " [0.0, 0.0, 0.0],\n",
       " [0.0, 0.0, 0.0],\n",
       " [0.0, 0.0, 0.0],\n",
       " [0.010922141, 0.26584247, 0.72323537],\n",
       " [0.0, 0.0, 0.0],\n",
       " [0.0, 0.0, 0.0],\n",
       " [0.0, 0.0, 0.0],\n",
       " [0.33742508, 0.53835464, 0.1242203],\n",
       " [0.0, 0.0, 0.0],\n",
       " [0.0, 0.0, 0.0],\n",
       " [0.0, 0.0, 0.0],\n",
       " [0.0, 0.0, 0.0],\n",
       " [0.0, 0.0, 0.0],\n",
       " [0.0, 0.0, 0.0],\n",
       " [0.017037472, 0.016768452, 0.96619409],\n",
       " [0.0, 0.0, 0.0],\n",
       " [0.0, 0.0, 0.0],\n",
       " [0.0, 0.0, 0.0],\n",
       " [0.0, 0.0, 0.0],\n",
       " [0.0, 0.0, 0.0],\n",
       " [0.0, 0.0, 0.0],\n",
       " [0.0, 0.0, 0.0],\n",
       " [0.012987922, 0.21125031, 0.77576172],\n",
       " [0.0, 0.0, 0.0],\n",
       " [0.0, 0.0, 0.0],\n",
       " [0.046918914, 0.31243297, 0.64064813],\n",
       " [0.0, 0.0, 0.0],\n",
       " [0.0, 0.0, 0.0],\n",
       " [0.0, 0.0, 0.0],\n",
       " [0.0, 0.0, 0.0],\n",
       " [0.0, 0.0, 0.0],\n",
       " [0.0031772288, 0.026774112, 0.97004861],\n",
       " [0.063988164, 0.31023195, 0.62577993],\n",
       " [0.0, 0.0, 0.0],\n",
       " [0.0, 0.0, 0.0],\n",
       " [0.0, 0.0, 0.0],\n",
       " [0.0, 0.0, 0.0],\n",
       " [0.0, 0.0, 0.0],\n",
       " [0.0, 0.0, 0.0],\n",
       " [0.0, 0.0, 0.0],\n",
       " [0.0, 0.0, 0.0],\n",
       " [0.0, 0.0, 0.0],\n",
       " [0.0, 0.0, 0.0],\n",
       " [0.0, 0.0, 0.0],\n",
       " [0.0, 0.0, 0.0],\n",
       " [0.0, 0.0, 0.0],\n",
       " [0.0, 0.0, 0.0],\n",
       " [0.0, 0.0, 0.0],\n",
       " [0.0001655478, 0.0014880799, 0.99834633],\n",
       " [0.92435038, 0.065683261, 0.0099663315],\n",
       " [0.0, 0.0, 0.0],\n",
       " [0.0, 0.0, 0.0],\n",
       " [0.0, 0.0, 0.0],\n",
       " [0.0, 0.0, 0.0],\n",
       " [0.047485396, 0.30940518, 0.64310944],\n",
       " [0.0, 0.0, 0.0],\n",
       " [0.0, 0.0, 0.0],\n",
       " [0.0, 0.0, 0.0],\n",
       " [0.0, 0.0, 0.0],\n",
       " [0.0, 0.0, 0.0],\n",
       " [0.0, 0.0, 0.0],\n",
       " [0.0, 0.0, 0.0],\n",
       " [0.0, 0.0, 0.0],\n",
       " [0.0, 0.0, 0.0],\n",
       " [0.014561697, 0.10328774, 0.88215059],\n",
       " [0.0, 0.0, 0.0],\n",
       " [0.0, 0.0, 0.0],\n",
       " [0.0, 0.0, 0.0],\n",
       " [0.0043535908, 0.014239321, 0.98140717],\n",
       " [0.0, 0.0, 0.0],\n",
       " [0.0, 0.0, 0.0],\n",
       " [0.0018960141, 0.050122119, 0.94798183],\n",
       " [0.15259467, 0.38383964, 0.46356565],\n",
       " [0.0, 0.0, 0.0],\n",
       " [0.0, 0.0, 0.0],\n",
       " [0.0, 0.0, 0.0],\n",
       " [0.0, 0.0, 0.0],\n",
       " [0.0, 0.0, 0.0],\n",
       " [0.076084368, 0.28781861, 0.63609701],\n",
       " [0.13386154, 0.64071941, 0.22541903],\n",
       " [0.0, 0.0, 0.0],\n",
       " [0.0, 0.0, 0.0],\n",
       " [0.0, 0.0, 0.0],\n",
       " [0.0, 0.0, 0.0],\n",
       " [0.0, 0.0, 0.0],\n",
       " [0.0, 0.0, 0.0],\n",
       " [0.0, 0.0, 0.0],\n",
       " [0.0, 0.0, 0.0],\n",
       " [0.0, 0.0, 0.0],\n",
       " [0.55132401, 0.33849889, 0.11017709],\n",
       " [0.014881371, 0.11535624, 0.86976242],\n",
       " [0.32373112, 0.37440729, 0.30186158],\n",
       " [0.0, 0.0, 0.0],\n",
       " [0.0, 0.0, 0.0],\n",
       " [0.27569047, 0.48826253, 0.236047],\n",
       " [0.0, 0.0, 0.0],\n",
       " [0.12409137, 0.43820596, 0.43770266],\n",
       " [0.0, 0.0, 0.0],\n",
       " [0.0, 0.0, 0.0],\n",
       " [0.0, 0.0, 0.0],\n",
       " [0.0, 0.0, 0.0],\n",
       " [0.0, 0.0, 0.0],\n",
       " [0.0, 0.0, 0.0],\n",
       " [0.0, 0.0, 0.0],\n",
       " [0.0, 0.0, 0.0],\n",
       " [0.0, 0.0, 0.0],\n",
       " [0.0, 0.0, 0.0],\n",
       " [0.0, 0.0, 0.0],\n",
       " [0.0, 0.0, 0.0],\n",
       " [0.0, 0.0, 0.0],\n",
       " [0.0, 0.0, 0.0],\n",
       " [0.0, 0.0, 0.0],\n",
       " [0.0, 0.0, 0.0],\n",
       " [0.0, 0.0, 0.0],\n",
       " [0.0, 0.0, 0.0],\n",
       " [0.0, 0.0, 0.0],\n",
       " [0.0, 0.0, 0.0],\n",
       " [0.0, 0.0, 0.0],\n",
       " [0.0, 0.0, 0.0],\n",
       " [0.0, 0.0, 0.0],\n",
       " [0.0, 0.0, 0.0],\n",
       " [0.0004499396, 0.006995766, 0.99255425],\n",
       " [0.0, 0.0, 0.0],\n",
       " [0.0, 0.0, 0.0],\n",
       " [0.0, 0.0, 0.0],\n",
       " [0.0, 0.0, 0.0],\n",
       " [0.0, 0.0, 0.0],\n",
       " [0.0, 0.0, 0.0],\n",
       " [0.0, 0.0, 0.0],\n",
       " [0.0, 0.0, 0.0],\n",
       " [0.0, 0.0, 0.0],\n",
       " [0.0032310078, 0.13295043, 0.86381859],\n",
       " [0.0, 0.0, 0.0],\n",
       " [0.0, 0.0, 0.0],\n",
       " [0.0, 0.0, 0.0],\n",
       " [0.0, 0.0, 0.0],\n",
       " [0.10887379, 0.58599293, 0.30513334],\n",
       " [0.0, 0.0, 0.0],\n",
       " [0.0, 0.0, 0.0],\n",
       " [0.0, 0.0, 0.0],\n",
       " [0.0, 0.0, 0.0],\n",
       " [0.0, 0.0, 0.0],\n",
       " [0.0, 0.0, 0.0],\n",
       " [0.0, 0.0, 0.0],\n",
       " [0.0, 0.0, 0.0],\n",
       " [0.0, 0.0, 0.0],\n",
       " [0.033453114, 0.26471666, 0.70183021],\n",
       " [0.0, 0.0, 0.0],\n",
       " [0.0, 0.0, 0.0],\n",
       " [0.013795756, 0.15816474, 0.82803947],\n",
       " [0.0, 0.0, 0.0],\n",
       " [0.0, 0.0, 0.0],\n",
       " [0.0, 0.0, 0.0],\n",
       " [0.0, 0.0, 0.0],\n",
       " [0.0, 0.0, 0.0],\n",
       " [0.0, 0.0, 0.0],\n",
       " [0.0, 0.0, 0.0],\n",
       " [0.42846054, 0.42822543, 0.14331399],\n",
       " [0.0, 0.0, 0.0],\n",
       " [0.0, 0.0, 0.0],\n",
       " [0.0, 0.0, 0.0],\n",
       " [0.0, 0.0, 0.0],\n",
       " [0.0, 0.0, 0.0],\n",
       " [0.0, 0.0, 0.0],\n",
       " [0.033490762, 0.27037814, 0.69613111],\n",
       " [0.0, 0.0, 0.0],\n",
       " [0.0, 0.0, 0.0],\n",
       " [0.00032386588, 0.0035234974, 0.99615258],\n",
       " [0.0, 0.0, 0.0],\n",
       " [0.0, 0.0, 0.0],\n",
       " [0.0, 0.0, 0.0],\n",
       " [0.00068908976, 0.012785424, 0.98652554],\n",
       " [0.0, 0.0, 0.0],\n",
       " [0.0, 0.0, 0.0],\n",
       " [0.0, 0.0, 0.0],\n",
       " [0.0, 0.0, 0.0],\n",
       " [0.0, 0.0, 0.0],\n",
       " [0.0, 0.0, 0.0],\n",
       " [0.0, 0.0, 0.0],\n",
       " [0.0, 0.0, 0.0],\n",
       " [0.0, 0.0, 0.0],\n",
       " [0.0, 0.0, 0.0],\n",
       " [0.0, 0.0, 0.0],\n",
       " [0.0, 0.0, 0.0],\n",
       " [0.0, 0.0, 0.0],\n",
       " [0.0, 0.0, 0.0],\n",
       " [0.0, 0.0, 0.0],\n",
       " [0.0, 0.0, 0.0],\n",
       " [0.34683555, 0.25325978, 0.3999047],\n",
       " [0.36997813, 0.52765822, 0.10236368],\n",
       " [0.0, 0.0, 0.0],\n",
       " [0.0, 0.0, 0.0],\n",
       " [0.0, 0.0, 0.0],\n",
       " [0.0, 0.0, 0.0],\n",
       " [0.0, 0.0, 0.0],\n",
       " [0.0024325408, 0.014970509, 0.98259693],\n",
       " [0.0024435595, 0.060038146, 0.9375183],\n",
       " [0.0, 0.0, 0.0],\n",
       " [0.0, 0.0, 0.0],\n",
       " [0.0, 0.0, 0.0],\n",
       " [0.012190685, 0.1883128, 0.79949647],\n",
       " [0.0, 0.0, 0.0],\n",
       " [0.0, 0.0, 0.0],\n",
       " [0.15951006, 0.57186711, 0.26862279],\n",
       " [0.0, 0.0, 0.0],\n",
       " [0.0, 0.0, 0.0],\n",
       " [0.0, 0.0, 0.0],\n",
       " [0.00084051752, 0.028157718, 0.9710018],\n",
       " [0.0, 0.0, 0.0],\n",
       " [0.0, 0.0, 0.0],\n",
       " [0.0, 0.0, 0.0],\n",
       " [0.0, 0.0, 0.0],\n",
       " [0.0, 0.0, 0.0],\n",
       " [0.037118308, 0.39983895, 0.56304276],\n",
       " [0.0, 0.0, 0.0],\n",
       " [0.0, 0.0, 0.0],\n",
       " [0.0, 0.0, 0.0],\n",
       " [0.12359058, 0.57918566, 0.29722372],\n",
       " [0.0, 0.0, 0.0],\n",
       " [0.0, 0.0, 0.0],\n",
       " [0.0, 0.0, 0.0],\n",
       " [0.42610714, 0.44669986, 0.12719302],\n",
       " [0.6664561, 0.27767423, 0.055869672],\n",
       " [0.0, 0.0, 0.0],\n",
       " [0.0, 0.0, 0.0],\n",
       " [0.0, 0.0, 0.0],\n",
       " [0.35346922, 0.14853396, 0.49799675],\n",
       " [0.20238002, 0.57745612, 0.22016388],\n",
       " [0.0, 0.0, 0.0],\n",
       " [0.0, 0.0, 0.0],\n",
       " [0.0, 0.0, 0.0],\n",
       " [0.00094904186, 0.027257165, 0.97179383],\n",
       " [0.0, 0.0, 0.0],\n",
       " [0.0, 0.0, 0.0],\n",
       " [0.0, 0.0, 0.0],\n",
       " [0.0, 0.0, 0.0],\n",
       " [0.0054976973, 0.034395754, 0.96010649],\n",
       " [0.0, 0.0, 0.0],\n",
       " [0.0, 0.0, 0.0],\n",
       " [0.0076377196, 0.086134799, 0.90622747],\n",
       " [0.0, 0.0, 0.0],\n",
       " [0.0, 0.0, 0.0],\n",
       " [0.0, 0.0, 0.0],\n",
       " [0.0, 0.0, 0.0],\n",
       " [0.0, 0.0, 0.0],\n",
       " [0.0, 0.0, 0.0],\n",
       " [0.057757702, 0.55143279, 0.39080954],\n",
       " [0.0, 0.0, 0.0],\n",
       " [0.0, 0.0, 0.0],\n",
       " [0.0, 0.0, 0.0],\n",
       " [0.0, 0.0, 0.0],\n",
       " [0.0, 0.0, 0.0],\n",
       " [0.0, 0.0, 0.0],\n",
       " [0.0, 0.0, 0.0],\n",
       " [0.0, 0.0, 0.0],\n",
       " [0.16507584, 0.62935209, 0.20557205],\n",
       " [0.0, 0.0, 0.0],\n",
       " [0.0, 0.0, 0.0],\n",
       " [0.0004473631, 0.0062357951, 0.99331677],\n",
       " [0.037358012, 0.50830424, 0.45433778],\n",
       " [0.0, 0.0, 0.0],\n",
       " [0.032331958, 0.23723108, 0.73043698],\n",
       " [0.0, 0.0, 0.0],\n",
       " [0.0, 0.0, 0.0],\n",
       " [0.0, 0.0, 0.0],\n",
       " [0.30143702, 0.56352472, 0.13503827],\n",
       " [0.0, 0.0, 0.0],\n",
       " [0.0, 0.0, 0.0],\n",
       " [0.0, 0.0, 0.0],\n",
       " [0.0, 0.0, 0.0],\n",
       " [0.0, 0.0, 0.0],\n",
       " [0.0, 0.0, 0.0],\n",
       " [0.0, 0.0, 0.0],\n",
       " [0.033928886, 0.18369311, 0.78237802],\n",
       " [0.0068984982, 0.16221452, 0.83088702],\n",
       " [0.0072492529, 0.090157427, 0.90259337],\n",
       " [0.59284151, 0.31891194, 0.088246502],\n",
       " [0.0, 0.0, 0.0],\n",
       " [0.0, 0.0, 0.0],\n",
       " [0.0, 0.0, 0.0],\n",
       " [0.0, 0.0, 0.0],\n",
       " [0.39184928, 0.49786469, 0.11028603],\n",
       " [0.0, 0.0, 0.0],\n",
       " [0.0, 0.0, 0.0],\n",
       " [0.0, 0.0, 0.0],\n",
       " [0.0, 0.0, 0.0],\n",
       " [0.015539629, 0.25061378, 0.7338466],\n",
       " [0.0, 0.0, 0.0],\n",
       " [0.0, 0.0, 0.0],\n",
       " [0.00081524916, 0.027959384, 0.97122532],\n",
       " [0.0, 0.0, 0.0],\n",
       " [0.022450192, 0.25902271, 0.71852708],\n",
       " [0.0, 0.0, 0.0],\n",
       " [0.0, 0.0, 0.0],\n",
       " [0.0, 0.0, 0.0],\n",
       " [0.0, 0.0, 0.0],\n",
       " [0.031561639, 0.21548778, 0.75295055],\n",
       " [0.0, 0.0, 0.0],\n",
       " [0.0, 0.0, 0.0],\n",
       " [0.0, 0.0, 0.0],\n",
       " [0.37331834, 0.49000269, 0.13667898],\n",
       " [0.0, 0.0, 0.0],\n",
       " [0.0018328467, 0.046588443, 0.95157874],\n",
       " [0.054484781, 0.63843405, 0.30708113],\n",
       " [0.0, 0.0, 0.0],\n",
       " [0.0, 0.0, 0.0],\n",
       " [0.0, 0.0, 0.0],\n",
       " [0.012711304, 0.097246759, 0.89004195],\n",
       " [0.0, 0.0, 0.0],\n",
       " [0.0, 0.0, 0.0],\n",
       " [0.0019243613, 0.035085186, 0.96299046],\n",
       " [0.0, 0.0, 0.0],\n",
       " [0.0049820631, 0.077281348, 0.91773659],\n",
       " [0.0, 0.0, 0.0],\n",
       " [0.0, 0.0, 0.0],\n",
       " [0.0, 0.0, 0.0],\n",
       " [0.0, 0.0, 0.0],\n",
       " [0.0089478809, 0.13888948, 0.85216266],\n",
       " [0.068341553, 0.49049345, 0.44116506],\n",
       " [0.029818472, 0.19149235, 0.77868915],\n",
       " [0.0, 0.0, 0.0],\n",
       " [0.0, 0.0, 0.0],\n",
       " [0.0, 0.0, 0.0],\n",
       " [0.0, 0.0, 0.0],\n",
       " [0.0, 0.0, 0.0],\n",
       " [0.0, 0.0, 0.0],\n",
       " [0.0, 0.0, 0.0],\n",
       " [0.0, 0.0, 0.0],\n",
       " [0.011088259, 0.10823113, 0.88068062],\n",
       " [0.0, 0.0, 0.0],\n",
       " [0.0059241178, 0.16580015, 0.82827568],\n",
       " [0.0051684747, 0.045934334, 0.94889718],\n",
       " [0.0, 0.0, 0.0],\n",
       " [0.0, 0.0, 0.0],\n",
       " [0.0, 0.0, 0.0],\n",
       " [0.0, 0.0, 0.0],\n",
       " [0.0, 0.0, 0.0],\n",
       " [0.0, 0.0, 0.0],\n",
       " [0.0, 0.0, 0.0],\n",
       " [0.0, 0.0, 0.0],\n",
       " [0.0, 0.0, 0.0],\n",
       " [0.00089443941, 0.035602435, 0.96350312],\n",
       " [0.0, 0.0, 0.0],\n",
       " [0.37643141, 0.38098654, 0.24258204],\n",
       " [0.0, 0.0, 0.0],\n",
       " [0.0, 0.0, 0.0],\n",
       " [0.0, 0.0, 0.0],\n",
       " [0.0, 0.0, 0.0],\n",
       " [0.0, 0.0, 0.0],\n",
       " [0.0, 0.0, 0.0],\n",
       " [0.0, 0.0, 0.0],\n",
       " [0.0, 0.0, 0.0],\n",
       " [0.0, 0.0, 0.0],\n",
       " [0.0, 0.0, 0.0],\n",
       " [0.039038654, 0.20550331, 0.755458],\n",
       " [0.0, 0.0, 0.0],\n",
       " [0.0, 0.0, 0.0],\n",
       " [0.0, 0.0, 0.0],\n",
       " [0.0, 0.0, 0.0],\n",
       " [0.0, 0.0, 0.0],\n",
       " [0.0, 0.0, 0.0],\n",
       " [0.0, 0.0, 0.0],\n",
       " [0.0, 0.0, 0.0],\n",
       " [0.0, 0.0, 0.0],\n",
       " [0.0, 0.0, 0.0],\n",
       " [0.081633314, 0.53469032, 0.38367638],\n",
       " [0.0, 0.0, 0.0],\n",
       " [0.0, 0.0, 0.0],\n",
       " [0.0, 0.0, 0.0],\n",
       " [0.0, 0.0, 0.0],\n",
       " [0.0, 0.0, 0.0],\n",
       " [0.0, 0.0, 0.0],\n",
       " [0.0, 0.0, 0.0],\n",
       " [0.0, 0.0, 0.0],\n",
       " [0.0, 0.0, 0.0],\n",
       " [0.0, 0.0, 0.0],\n",
       " [0.0, 0.0, 0.0],\n",
       " [0.0, 0.0, 0.0],\n",
       " [0.0, 0.0, 0.0],\n",
       " [0.0, 0.0, 0.0],\n",
       " [0.0016394673, 0.014729787, 0.98363078],\n",
       " [0.0, 0.0, 0.0],\n",
       " [0.0, 0.0, 0.0],\n",
       " [0.0, 0.0, 0.0],\n",
       " [0.0, 0.0, 0.0],\n",
       " [0.0, 0.0, 0.0],\n",
       " [0.0, 0.0, 0.0],\n",
       " [0.0, 0.0, 0.0],\n",
       " [0.0, 0.0, 0.0],\n",
       " [0.0, 0.0, 0.0],\n",
       " [0.0, 0.0, 0.0],\n",
       " [0.0, 0.0, 0.0],\n",
       " [0.0, 0.0, 0.0],\n",
       " [0.0, 0.0, 0.0],\n",
       " [0.0, 0.0, 0.0],\n",
       " [0.0, 0.0, 0.0],\n",
       " [0.0, 0.0, 0.0],\n",
       " [0.0, 0.0, 0.0],\n",
       " [0.0, 0.0, 0.0],\n",
       " [0.0, 0.0, 0.0],\n",
       " [0.0, 0.0, 0.0],\n",
       " [0.0, 0.0, 0.0],\n",
       " [0.0, 0.0, 0.0],\n",
       " [0.0, 0.0, 0.0],\n",
       " [0.0013743675, 0.047174916, 0.95145071],\n",
       " [0.0, 0.0, 0.0],\n",
       " [0.0, 0.0, 0.0],\n",
       " [0.0, 0.0, 0.0],\n",
       " [0.0, 0.0, 0.0],\n",
       " [0.0, 0.0, 0.0],\n",
       " [0.0, 0.0, 0.0],\n",
       " [0.0, 0.0, 0.0],\n",
       " [0.0, 0.0, 0.0],\n",
       " [0.0, 0.0, 0.0],\n",
       " [0.0, 0.0, 0.0],\n",
       " [0.0, 0.0, 0.0],\n",
       " [0.0, 0.0, 0.0],\n",
       " [0.0, 0.0, 0.0],\n",
       " [0.18863593, 0.48629522, 0.32506889],\n",
       " [0.0, 0.0, 0.0],\n",
       " [0.0, 0.0, 0.0],\n",
       " [0.0, 0.0, 0.0],\n",
       " [0.0, 0.0, 0.0],\n",
       " [0.0, 0.0, 0.0],\n",
       " [0.0, 0.0, 0.0],\n",
       " [0.0035302409, 0.019274378, 0.97719544],\n",
       " [0.0, 0.0, 0.0],\n",
       " [0.00066903234, 0.036434155, 0.96289682],\n",
       " [0.0, 0.0, 0.0],\n",
       " [0.0, 0.0, 0.0],\n",
       " [0.18437319, 0.39046168, 0.42516512],\n",
       " [0.0, 0.0, 0.0],\n",
       " [0.0, 0.0, 0.0],\n",
       " [0.0, 0.0, 0.0],\n",
       " [0.0, 0.0, 0.0],\n",
       " [0.0, 0.0, 0.0],\n",
       " [0.0, 0.0, 0.0],\n",
       " [0.0, 0.0, 0.0],\n",
       " [0.0, 0.0, 0.0],\n",
       " [0.0, 0.0, 0.0],\n",
       " [0.0, 0.0, 0.0],\n",
       " [0.0, 0.0, 0.0],\n",
       " [0.0, 0.0, 0.0],\n",
       " [0.0, 0.0, 0.0],\n",
       " [0.0, 0.0, 0.0],\n",
       " [0.0, 0.0, 0.0],\n",
       " [0.0, 0.0, 0.0],\n",
       " [0.0, 0.0, 0.0],\n",
       " [0.061718196, 0.48460335, 0.45367843],\n",
       " [0.0, 0.0, 0.0],\n",
       " [0.0, 0.0, 0.0],\n",
       " [0.0, 0.0, 0.0],\n",
       " [0.0, 0.0, 0.0],\n",
       " [0.012208706, 0.052403159, 0.93538821],\n",
       " [0.0, 0.0, 0.0],\n",
       " [0.0, 0.0, 0.0],\n",
       " [0.0, 0.0, 0.0],\n",
       " [0.00029288087, 0.013718133, 0.98598897],\n",
       " [0.0, 0.0, 0.0],\n",
       " [0.0, 0.0, 0.0],\n",
       " [0.0, 0.0, 0.0],\n",
       " [0.0, 0.0, 0.0],\n",
       " [0.0, 0.0, 0.0],\n",
       " [0.045474734, 0.41003683, 0.54448843],\n",
       " [0.0, 0.0, 0.0],\n",
       " [0.0, 0.0, 0.0],\n",
       " [0.0, 0.0, 0.0],\n",
       " [0.0, 0.0, 0.0],\n",
       " [0.0013639274, 0.027547363, 0.97108871],\n",
       " [0.0, 0.0, 0.0],\n",
       " [0.0, 0.0, 0.0],\n",
       " [0.0, 0.0, 0.0],\n",
       " [0.0, 0.0, 0.0],\n",
       " [0.0, 0.0, 0.0],\n",
       " [0.0, 0.0, 0.0],\n",
       " [0.0, 0.0, 0.0],\n",
       " [0.0063613416, 0.16945048, 0.82418817],\n",
       " [0.84547067, 0.12547103, 0.029058315],\n",
       " [0.085981183, 0.58999705, 0.32402182],\n",
       " [0.0, 0.0, 0.0],\n",
       " [0.0, 0.0, 0.0],\n",
       " [0.0, 0.0, 0.0],\n",
       " [0.0, 0.0, 0.0],\n",
       " [0.027111249, 0.35012561, 0.6227631],\n",
       " [0.036215644, 0.32954115, 0.63424319],\n",
       " [0.0, 0.0, 0.0],\n",
       " [0.0, 0.0, 0.0],\n",
       " [0.0, 0.0, 0.0],\n",
       " [0.0, 0.0, 0.0],\n",
       " [0.0, 0.0, 0.0],\n",
       " [0.0, 0.0, 0.0],\n",
       " [0.0, 0.0, 0.0],\n",
       " [0.0, 0.0, 0.0],\n",
       " [0.0, 0.0, 0.0],\n",
       " [0.0, 0.0, 0.0],\n",
       " [0.0, 0.0, 0.0],\n",
       " [0.0, 0.0, 0.0],\n",
       " [0.010090888, 0.14744055, 0.84246856],\n",
       " [0.0, 0.0, 0.0],\n",
       " [0.0, 0.0, 0.0],\n",
       " [0.0, 0.0, 0.0],\n",
       " [0.0, 0.0, 0.0],\n",
       " [0.061497211, 0.36303753, 0.57546526],\n",
       " [0.03083715, 0.24170186, 0.72746098],\n",
       " [0.0, 0.0, 0.0],\n",
       " [0.1701297, 0.5221464, 0.30772391],\n",
       " [0.0, 0.0, 0.0],\n",
       " [0.0027550273, 0.033501305, 0.96374369],\n",
       " [0.16252667, 0.62130547, 0.21616788],\n",
       " [0.0, 0.0, 0.0],\n",
       " [0.0, 0.0, 0.0],\n",
       " [0.0, 0.0, 0.0],\n",
       " [0.0, 0.0, 0.0],\n",
       " [0.0, 0.0, 0.0],\n",
       " [0.0, 0.0, 0.0],\n",
       " [0.0, 0.0, 0.0],\n",
       " [0.0, 0.0, 0.0],\n",
       " [0.0, 0.0, 0.0],\n",
       " [0.0022776956, 0.042617593, 0.95510471],\n",
       " [0.0, 0.0, 0.0],\n",
       " [0.0, 0.0, 0.0],\n",
       " [0.089968175, 0.35935414, 0.55067766],\n",
       " [0.0, 0.0, 0.0],\n",
       " [0.0, 0.0, 0.0],\n",
       " [0.0, 0.0, 0.0],\n",
       " [0.098371781, 0.50721133, 0.39441687],\n",
       " [0.0, 0.0, 0.0],\n",
       " [0.0, 0.0, 0.0],\n",
       " [0.0, 0.0, 0.0],\n",
       " [0.046753231, 0.3871524, 0.5660944],\n",
       " [0.0, 0.0, 0.0],\n",
       " [0.10532087, 0.30361089, 0.59106821],\n",
       " [0.089117073, 0.42769361, 0.48318931],\n",
       " [0.0, 0.0, 0.0],\n",
       " [0.0, 0.0, 0.0],\n",
       " [0.0, 0.0, 0.0],\n",
       " [0.0, 0.0, 0.0],\n",
       " [0.00092880608, 0.041112747, 0.9579584],\n",
       " [0.0, 0.0, 0.0],\n",
       " [0.0031270392, 0.050692178, 0.94618076],\n",
       " [0.0, 0.0, 0.0],\n",
       " [0.0, 0.0, 0.0],\n",
       " [0.00030358171, 0.018015055, 0.98168141],\n",
       " [0.011249339, 0.1303933, 0.85835737],\n",
       " [0.0, 0.0, 0.0],\n",
       " [0.0, 0.0, 0.0],\n",
       " [0.0, 0.0, 0.0],\n",
       " [0.0, 0.0, 0.0],\n",
       " [0.00053085899, 0.0090544987, 0.99041462],\n",
       " [0.0, 0.0, 0.0],\n",
       " [0.0, 0.0, 0.0],\n",
       " [0.0, 0.0, 0.0],\n",
       " [0.0, 0.0, 0.0],\n",
       " [0.054297172, 0.15171538, 0.79398739],\n",
       " [0.0, 0.0, 0.0],\n",
       " [0.0044986084, 0.15858713, 0.8369143],\n",
       " [0.0, 0.0, 0.0],\n",
       " [0.0, 0.0, 0.0],\n",
       " [0.0, 0.0, 0.0],\n",
       " [0.0, 0.0, 0.0],\n",
       " [0.0, 0.0, 0.0],\n",
       " [0.0050986125, 0.25165403, 0.74324739],\n",
       " [0.039183907, 0.099686824, 0.86112928],\n",
       " [0.0, 0.0, 0.0],\n",
       " [0.0, 0.0, 0.0],\n",
       " [0.0, 0.0, 0.0],\n",
       " [0.0, 0.0, 0.0],\n",
       " [0.0, 0.0, 0.0],\n",
       " [0.0, 0.0, 0.0],\n",
       " [0.0, 0.0, 0.0],\n",
       " [0.0, 0.0, 0.0],\n",
       " [0.0, 0.0, 0.0],\n",
       " [8.8933506e-05, 0.0015310564, 0.99837995],\n",
       " [0.0, 0.0, 0.0],\n",
       " [0.0, 0.0, 0.0],\n",
       " [0.0, 0.0, 0.0],\n",
       " [0.0, 0.0, 0.0],\n",
       " [0.0, 0.0, 0.0],\n",
       " [0.0, 0.0, 0.0],\n",
       " [0.017904265, 0.22452199, 0.75757372],\n",
       " [0.0, 0.0, 0.0],\n",
       " [0.0, 0.0, 0.0],\n",
       " [0.0, 0.0, 0.0],\n",
       " [0.0, 0.0, 0.0],\n",
       " [0.0, 0.0, 0.0],\n",
       " [0.0, 0.0, 0.0],\n",
       " [0.00058262504, 0.0092064925, 0.99021089],\n",
       " [0.0, 0.0, 0.0],\n",
       " [0.0, 0.0, 0.0],\n",
       " [0.0, 0.0, 0.0],\n",
       " [0.0, 0.0, 0.0],\n",
       " [0.020250114, 0.037680607, 0.94206929],\n",
       " [0.0, 0.0, 0.0],\n",
       " [0.0, 0.0, 0.0],\n",
       " [0.083686277, 0.53168547, 0.38462827],\n",
       " [0.0, 0.0, 0.0],\n",
       " [0.0, 0.0, 0.0],\n",
       " [0.0, 0.0, 0.0],\n",
       " [0.0, 0.0, 0.0],\n",
       " [0.0, 0.0, 0.0],\n",
       " [0.0, 0.0, 0.0],\n",
       " [0.0, 0.0, 0.0],\n",
       " [0.0, 0.0, 0.0],\n",
       " [0.60935891, 0.27124697, 0.11939416],\n",
       " [0.0, 0.0, 0.0],\n",
       " [0.0, 0.0, 0.0],\n",
       " [0.0, 0.0, 0.0],\n",
       " [0.0, 0.0, 0.0],\n",
       " [0.0, 0.0, 0.0],\n",
       " [0.0, 0.0, 0.0],\n",
       " [0.0, 0.0, 0.0],\n",
       " [0.0, 0.0, 0.0],\n",
       " [0.0, 0.0, 0.0],\n",
       " [0.0, 0.0, 0.0],\n",
       " [0.0, 0.0, 0.0],\n",
       " [0.0, 0.0, 0.0],\n",
       " [0.0, 0.0, 0.0],\n",
       " [0.0, 0.0, 0.0],\n",
       " [0.0, 0.0, 0.0],\n",
       " [0.0, 0.0, 0.0],\n",
       " [0.0, 0.0, 0.0],\n",
       " [0.0, 0.0, 0.0],\n",
       " [0.0045587472, 0.097962864, 0.89747846],\n",
       " [0.0008738836, 0.0019901546, 0.997136],\n",
       " [0.03739699, 0.33986172, 0.62274128],\n",
       " [0.0, 0.0, 0.0],\n",
       " [0.0052145785, 0.078528635, 0.91625684],\n",
       " [0.03024672, 0.536488, 0.43326533],\n",
       " [0.003292464, 0.043464363, 0.9532432],\n",
       " [0.0, 0.0, 0.0],\n",
       " [0.0, 0.0, 0.0],\n",
       " [0.0, 0.0, 0.0],\n",
       " [0.0, 0.0, 0.0],\n",
       " [0.0, 0.0, 0.0],\n",
       " [0.0, 0.0, 0.0],\n",
       " [0.0, 0.0, 0.0],\n",
       " [0.0, 0.0, 0.0],\n",
       " [0.0, 0.0, 0.0],\n",
       " [0.0031589281, 0.083457604, 0.91338348],\n",
       " [0.0, 0.0, 0.0],\n",
       " [0.0066391486, 0.18600342, 0.80735737],\n",
       " [0.0, 0.0, 0.0],\n",
       " [0.0, 0.0, 0.0],\n",
       " [0.0, 0.0, 0.0],\n",
       " [0.0, 0.0, 0.0],\n",
       " [0.0, 0.0, 0.0],\n",
       " [0.0, 0.0, 0.0],\n",
       " [0.0, 0.0, 0.0],\n",
       " ...]"
      ]
     },
     "execution_count": 61,
     "metadata": {},
     "output_type": "execute_result"
    }
   ],
   "source": [
    "train_stacker"
   ]
  },
  {
   "cell_type": "code",
   "execution_count": 50,
   "metadata": {
    "collapsed": false
   },
   "outputs": [
    {
     "name": "stdout",
     "output_type": "stream",
     "text": [
      "CPU times: user 3min 56s, sys: 2.01 s, total: 3min 58s\n",
      "Wall time: 4min 1s\n"
     ]
    }
   ],
   "source": [
    "%%time\n",
    "X1=xgb.DMatrix(csr_matrix(W_train), label=np.array(y_train),missing =-999.0)\n",
    "X1cv=xgb.DMatrix(csr_matrix(W_cv), missing =-999.0)\n",
    "bst = xgb.train(param.items(), X1, 100) "
   ]
  },
  {
   "cell_type": "code",
   "execution_count": 52,
   "metadata": {
    "collapsed": false
   },
   "outputs": [
    {
     "name": "stdout",
     "output_type": "stream",
     "text": [
      "CPU times: user 919 ms, sys: 7.11 ms, total: 926 ms\n",
      "Wall time: 951 ms\n"
     ]
    }
   ],
   "source": [
    "%%time\n",
    "#predictions\n",
    "predictions = bst.predict(X1cv)     \n",
    "preds=predictions.reshape( W_cv.shape[0], 3)"
   ]
  },
  {
   "cell_type": "code",
   "execution_count": 53,
   "metadata": {
    "collapsed": false
   },
   "outputs": [
    {
     "data": {
      "text/plain": [
       "(9871, 3)"
      ]
     },
     "execution_count": 53,
     "metadata": {},
     "output_type": "execute_result"
    }
   ],
   "source": [
    "predictions.shape"
   ]
  },
  {
   "cell_type": "code",
   "execution_count": 54,
   "metadata": {
    "collapsed": false
   },
   "outputs": [
    {
     "data": {
      "text/plain": [
       "(9871, 3)"
      ]
     },
     "execution_count": 54,
     "metadata": {},
     "output_type": "execute_result"
    }
   ],
   "source": [
    "preds.shape"
   ]
  },
  {
   "cell_type": "code",
   "execution_count": 69,
   "metadata": {
    "collapsed": false
   },
   "outputs": [
    {
     "name": "stdout",
     "output_type": "stream",
     "text": [
      "starting cross validation with 5 kfolds \n",
      " train size: 39481. test size: 9871, cols: 285 \n",
      "size train: 39481 size cv: 9871 loglikelihood (fold 1/5): 0.614401\n",
      " train size: 39481. test size: 9871, cols: 285 \n",
      "size train: 39481 size cv: 9871 loglikelihood (fold 2/5): 0.614754\n",
      " train size: 39481. test size: 9871, cols: 285 \n",
      "size train: 39481 size cv: 9871 loglikelihood (fold 3/5): 0.613846\n",
      " train size: 39481. test size: 9871, cols: 285 \n",
      "size train: 39481 size cv: 9871 loglikelihood (fold 4/5): 0.607873\n",
      " train size: 39484. test size: 9868, cols: 285 \n",
      "size train: 39484 size cv: 9868 loglikelihood (fold 5/5): 0.610990\n",
      " Average Lolikelihood: 0.612373\n",
      "CPU times: user 3min 57s, sys: 19.3 s, total: 4min 16s\n",
      "Wall time: 4min 20s\n"
     ]
    }
   ],
   "source": [
    "%%time\n",
    "i=0 # iterator counter\n",
    "print (\"starting cross validation with %d kfolds \" % (number_of_folds))\n",
    "for train_index, test_index in kfolder:\n",
    "    # creaning and validation sets\n",
    "    X_train, X_cv = X[train_index], X[test_index]\n",
    "    y_train, y_cv = np.array(y)[train_index], np.array(y)[test_index]\n",
    "    #create past averages for some fetaures\n",
    "    W_train,W_cv=convert_to_avg(X_train,y_train, X_cv, seed=1, cvals=5, roundings=2, columns=CO)\n",
    "    W_train=np.column_stack((X_train,W_train[:,CO]))\n",
    "    W_cv=np.column_stack((X_cv,W_cv[:,CO])) \n",
    "    print (\" train size: %d. test size: %d, cols: %d \" % ((W_train.shape[0]) ,(W_cv.shape[0]) ,(W_train.shape[1]) ))\n",
    "    #training\n",
    "    X1=xgb.DMatrix(csr_matrix(W_train), label=np.array(y_train),missing =-999.0)\n",
    "    X1cv=xgb.DMatrix(csr_matrix(W_cv), missing =-999.0)\n",
    "    bst = xgb.train(param.items(), X1, 10) \n",
    "    #predictions\n",
    "    predictions = bst.predict(X1cv)     \n",
    "    preds=predictions.reshape( W_cv.shape[0], 3)\n",
    "\n",
    "    #scalepreds(preds)     \n",
    "    logs = log_loss(y_cv,preds)\n",
    "    print (\"size train: %d size cv: %d loglikelihood (fold %d/%d): %f\" % ((W_train.shape[0]), (W_cv.shape[0]), i + 1, number_of_folds, logs))\n",
    "             \n",
    "    mean_logloss += logs\n",
    "                #save the results\n",
    "    no=0\n",
    "    for real_index in test_index:\n",
    "        for d in range (0,3):\n",
    "            train_stacker[real_index][d]=(preds[no][d])\n",
    "        no+=1\n",
    "    i+=1\n",
    "mean_logloss/=number_of_folds\n",
    "print (\" Average Lolikelihood: %f\" % (mean_logloss) )"
   ]
  },
  {
   "cell_type": "code",
   "execution_count": 70,
   "metadata": {
    "collapsed": false
   },
   "outputs": [
    {
     "data": {
      "text/plain": [
       "0.61237282650992964"
      ]
     },
     "execution_count": 70,
     "metadata": {},
     "output_type": "execute_result"
    }
   ],
   "source": [
    "mean_logloss"
   ]
  },
  {
   "cell_type": "code",
   "execution_count": 74,
   "metadata": {
    "collapsed": false
   },
   "outputs": [
    {
     "data": {
      "text/plain": [
       "49352"
      ]
     },
     "execution_count": 74,
     "metadata": {},
     "output_type": "execute_result"
    }
   ],
   "source": [
    "len(train_stacker)"
   ]
  },
  {
   "cell_type": "code",
   "execution_count": 76,
   "metadata": {
    "collapsed": false
   },
   "outputs": [
    {
     "name": "stdout",
     "output_type": "stream",
     "text": [
      " making test predictions \n"
     ]
    }
   ],
   "source": [
    "#calculating averages for the train data\n",
    "W,W_test=convert_to_avg(X,y, X_test, seed=1, cvals=5, roundings=2, columns=CO)\n",
    "W=np.column_stack((X,W[:,CO]))\n",
    "W_test=np.column_stack((X_test,W_test[:,CO]))          \n",
    "#X_test=np.column_stack((X_test,woe_cv))      \n",
    "print (\" making test predictions \")"
   ]
  },
  {
   "cell_type": "code",
   "execution_count": 77,
   "metadata": {
    "collapsed": false
   },
   "outputs": [
    {
     "data": {
      "text/plain": [
       "(74659, 285)"
      ]
     },
     "execution_count": 77,
     "metadata": {},
     "output_type": "execute_result"
    }
   ],
   "source": [
    "W_test.shape"
   ]
  },
  {
   "cell_type": "code",
   "execution_count": 78,
   "metadata": {
    "collapsed": false
   },
   "outputs": [
    {
     "data": {
      "text/plain": [
       "(49352, 285)"
      ]
     },
     "execution_count": 78,
     "metadata": {},
     "output_type": "execute_result"
    }
   ],
   "source": [
    "W.shape"
   ]
  },
  {
   "cell_type": "code",
   "execution_count": 79,
   "metadata": {
    "collapsed": false
   },
   "outputs": [
    {
     "data": {
      "text/plain": [
       "74659"
      ]
     },
     "execution_count": 79,
     "metadata": {},
     "output_type": "execute_result"
    }
   ],
   "source": [
    "len(test_stacker)"
   ]
  },
  {
   "cell_type": "code",
   "execution_count": 80,
   "metadata": {
    "collapsed": false
   },
   "outputs": [
    {
     "data": {
      "text/plain": [
       "[[0.0, 0.0, 0.0],\n",
       " [0.0, 0.0, 0.0],\n",
       " [0.0, 0.0, 0.0],\n",
       " [0.0, 0.0, 0.0],\n",
       " [0.0, 0.0, 0.0]]"
      ]
     },
     "execution_count": 80,
     "metadata": {},
     "output_type": "execute_result"
    }
   ],
   "source": [
    "test_stacker[:5]"
   ]
  },
  {
   "cell_type": "code",
   "execution_count": 82,
   "metadata": {
    "collapsed": false
   },
   "outputs": [
    {
     "name": "stdout",
     "output_type": "stream",
     "text": [
      "CPU times: user 53 s, sys: 2.39 s, total: 55.4 s\n",
      "Wall time: 55.9 s\n"
     ]
    }
   ],
   "source": [
    "%%time\n",
    "X1=xgb.DMatrix(csr_matrix(W), label=np.array(y) , missing =-999.0)\n",
    "X1cv=xgb.DMatrix(csr_matrix(W_test), missing =-999.0)\n",
    "bst = xgb.train(param.items(), X1, 10) \n",
    "predictions = bst.predict(X1cv)     \n",
    "preds=predictions.reshape( W_test.shape[0], 3) "
   ]
  },
  {
   "cell_type": "code",
   "execution_count": 83,
   "metadata": {
    "collapsed": true
   },
   "outputs": [],
   "source": [
    "for pr in range (0,len(preds)):  \n",
    "    for d in range (0,3):            \n",
    "        test_stacker[pr][d]=(preds[pr][d]) "
   ]
  },
  {
   "cell_type": "code",
   "execution_count": 84,
   "metadata": {
    "collapsed": false
   },
   "outputs": [
    {
     "data": {
      "text/plain": [
       "74659"
      ]
     },
     "execution_count": 84,
     "metadata": {},
     "output_type": "execute_result"
    }
   ],
   "source": [
    "len(test_stacker)"
   ]
  },
  {
   "cell_type": "code",
   "execution_count": 85,
   "metadata": {
    "collapsed": false
   },
   "outputs": [
    {
     "name": "stdout",
     "output_type": "stream",
     "text": [
      "merging columns\n",
      "exporting files\n"
     ]
    }
   ],
   "source": [
    "print (\"merging columns\") \n",
    "#stack xgboost predictions\n",
    "X=np.column_stack((X,train_stacker))\n",
    "# stack id to test\n",
    "X_test=np.column_stack((X_test,test_stacker))\n",
    "\n",
    "# stack target to train\n",
    "X=np.column_stack((y,X))\n",
    "# stack id to test\n",
    "X_test=np.column_stack((ids,X_test))\n",
    "\n",
    "#export to txt files (, del.)\n",
    "print (\"exporting files\")\n",
    "np.savetxt(train_file, X, delimiter=\",\", fmt='%.5f')\n",
    "np.savetxt(test_file, X_test, delimiter=\",\", fmt='%.5f')    "
   ]
  },
  {
   "cell_type": "code",
   "execution_count": null,
   "metadata": {
    "collapsed": true
   },
   "outputs": [],
   "source": []
  }
 ],
 "metadata": {
  "anaconda-cloud": {},
  "kernelspec": {
   "display_name": "Python [Root]",
   "language": "python",
   "name": "Python [Root]"
  },
  "language_info": {
   "codemirror_mode": {
    "name": "ipython",
    "version": 3
   },
   "file_extension": ".py",
   "mimetype": "text/x-python",
   "name": "python",
   "nbconvert_exporter": "python",
   "pygments_lexer": "ipython3",
   "version": "3.5.2"
  }
 },
 "nbformat": 4,
 "nbformat_minor": 0
}
